{
  "cells": [
    {
      "cell_type": "markdown",
      "metadata": {
        "id": "BMOKoMJjEqkM"
      },
      "source": [
        "# Final Project - Stage 3\n",
        "## Modelling Experiments - Data Set E-Commerce Shipping\n",
        "## Group 8 : Decentraland\n",
        "**Group Member:**\n",
        "- Dharma Setiawan\n",
        "- Ilham Ibnu A.\n",
        "- M. Farhan Atmawinanda\n",
        "- Fikri Diva S.\n",
        "- Ahmad Ilham H."
      ]
    },
    {
      "cell_type": "markdown",
      "metadata": {
        "id": "yNtGahSayM5K"
      },
      "source": [
        "Keterangan target data ecommerce shipping:\n",
        "\n",
        "0: On time\n",
        "\n",
        "1: Late\n",
        "\n",
        "=========================\n",
        "\n",
        "metrics evaluation yang ingin digunakan:\n",
        "\n",
        "**MAIN:**\n",
        "**ROC-AUC**, dikarenakan skor matriks ROC-AUC sudah mengakomodir false positive dan false negative, dua nilai penduga yang ingin kami minimalisir nilainya. Selain itu, karakteristik ROC-AUC yang robust terhadap imbalance juga cocok dengan sebaran label target (Late Shipment) kami yang sedikit imbalance (59%-41%) \n",
        "\n",
        "**SECONDARY:**\n",
        "**Precission, Recall, dan Average Precision**"
      ]
    },
    {
      "cell_type": "code",
      "execution_count": null,
      "metadata": {
        "id": "vLztwsauEYpR"
      },
      "outputs": [],
      "source": [
        "# import library\n",
        "import numpy as np\n",
        "import pandas as pd\n",
        "import matplotlib.pyplot as plt\n",
        "import seaborn as sns\n",
        "from sklearn.model_selection import RandomizedSearchCV, GridSearchCV\n",
        "from sklearn.model_selection import train_test_split, validation_curve\n",
        "from sklearn.preprocessing import MinMaxScaler\n",
        "from sklearn.metrics import accuracy_score, precision_score, recall_score, f1_score, roc_auc_score , roc_curve, auc, average_precision_score\n",
        "from sklearn.metrics import classification_report, confusion_matrix, plot_confusion_matrix, plot_precision_recall_curve\n",
        "from sklearn.naive_bayes import GaussianNB\n",
        "from sklearn.linear_model import LogisticRegression\n",
        "from sklearn.ensemble import RandomForestClassifier\n",
        "from sklearn.ensemble import AdaBoostClassifier\n",
        "from xgboost import XGBClassifier\n",
        "from sklearn.svm import SVC"
      ]
    },
    {
      "cell_type": "code",
      "execution_count": null,
      "metadata": {
        "colab": {
          "base_uri": "https://localhost:8080/",
          "height": 270
        },
        "id": "w3qqfIoYECI1",
        "outputId": "c289f75c-7a4f-4885-d1d1-37e1f6f01d2a"
      },
      "outputs": [
        {
          "output_type": "execute_result",
          "data": {
            "text/html": [
              "\n",
              "  <div id=\"df-9181bdfa-834f-4a5a-8dfe-fc1c37424825\">\n",
              "    <div class=\"colab-df-container\">\n",
              "      <div>\n",
              "<style scoped>\n",
              "    .dataframe tbody tr th:only-of-type {\n",
              "        vertical-align: middle;\n",
              "    }\n",
              "\n",
              "    .dataframe tbody tr th {\n",
              "        vertical-align: top;\n",
              "    }\n",
              "\n",
              "    .dataframe thead th {\n",
              "        text-align: right;\n",
              "    }\n",
              "</style>\n",
              "<table border=\"1\" class=\"dataframe\">\n",
              "  <thead>\n",
              "    <tr style=\"text-align: right;\">\n",
              "      <th></th>\n",
              "      <th>ID</th>\n",
              "      <th>Warehouse_block</th>\n",
              "      <th>Mode_of_Shipment</th>\n",
              "      <th>Customer_care_calls</th>\n",
              "      <th>Customer_rating</th>\n",
              "      <th>Cost_of_the_Product</th>\n",
              "      <th>Prior_purchases</th>\n",
              "      <th>Product_importance</th>\n",
              "      <th>Gender</th>\n",
              "      <th>Discount_offered</th>\n",
              "      <th>Weight_in_gms</th>\n",
              "      <th>Reached.on.Time_Y.N</th>\n",
              "    </tr>\n",
              "  </thead>\n",
              "  <tbody>\n",
              "    <tr>\n",
              "      <th>0</th>\n",
              "      <td>1</td>\n",
              "      <td>D</td>\n",
              "      <td>Flight</td>\n",
              "      <td>4</td>\n",
              "      <td>2</td>\n",
              "      <td>177</td>\n",
              "      <td>3</td>\n",
              "      <td>low</td>\n",
              "      <td>F</td>\n",
              "      <td>44</td>\n",
              "      <td>1233</td>\n",
              "      <td>1</td>\n",
              "    </tr>\n",
              "    <tr>\n",
              "      <th>1</th>\n",
              "      <td>2</td>\n",
              "      <td>F</td>\n",
              "      <td>Flight</td>\n",
              "      <td>4</td>\n",
              "      <td>5</td>\n",
              "      <td>216</td>\n",
              "      <td>2</td>\n",
              "      <td>low</td>\n",
              "      <td>M</td>\n",
              "      <td>59</td>\n",
              "      <td>3088</td>\n",
              "      <td>1</td>\n",
              "    </tr>\n",
              "    <tr>\n",
              "      <th>2</th>\n",
              "      <td>3</td>\n",
              "      <td>A</td>\n",
              "      <td>Flight</td>\n",
              "      <td>2</td>\n",
              "      <td>2</td>\n",
              "      <td>183</td>\n",
              "      <td>4</td>\n",
              "      <td>low</td>\n",
              "      <td>M</td>\n",
              "      <td>48</td>\n",
              "      <td>3374</td>\n",
              "      <td>1</td>\n",
              "    </tr>\n",
              "    <tr>\n",
              "      <th>3</th>\n",
              "      <td>4</td>\n",
              "      <td>B</td>\n",
              "      <td>Flight</td>\n",
              "      <td>3</td>\n",
              "      <td>3</td>\n",
              "      <td>176</td>\n",
              "      <td>4</td>\n",
              "      <td>medium</td>\n",
              "      <td>M</td>\n",
              "      <td>10</td>\n",
              "      <td>1177</td>\n",
              "      <td>1</td>\n",
              "    </tr>\n",
              "    <tr>\n",
              "      <th>4</th>\n",
              "      <td>5</td>\n",
              "      <td>C</td>\n",
              "      <td>Flight</td>\n",
              "      <td>2</td>\n",
              "      <td>2</td>\n",
              "      <td>184</td>\n",
              "      <td>3</td>\n",
              "      <td>medium</td>\n",
              "      <td>F</td>\n",
              "      <td>46</td>\n",
              "      <td>2484</td>\n",
              "      <td>1</td>\n",
              "    </tr>\n",
              "  </tbody>\n",
              "</table>\n",
              "</div>\n",
              "      <button class=\"colab-df-convert\" onclick=\"convertToInteractive('df-9181bdfa-834f-4a5a-8dfe-fc1c37424825')\"\n",
              "              title=\"Convert this dataframe to an interactive table.\"\n",
              "              style=\"display:none;\">\n",
              "        \n",
              "  <svg xmlns=\"http://www.w3.org/2000/svg\" height=\"24px\"viewBox=\"0 0 24 24\"\n",
              "       width=\"24px\">\n",
              "    <path d=\"M0 0h24v24H0V0z\" fill=\"none\"/>\n",
              "    <path d=\"M18.56 5.44l.94 2.06.94-2.06 2.06-.94-2.06-.94-.94-2.06-.94 2.06-2.06.94zm-11 1L8.5 8.5l.94-2.06 2.06-.94-2.06-.94L8.5 2.5l-.94 2.06-2.06.94zm10 10l.94 2.06.94-2.06 2.06-.94-2.06-.94-.94-2.06-.94 2.06-2.06.94z\"/><path d=\"M17.41 7.96l-1.37-1.37c-.4-.4-.92-.59-1.43-.59-.52 0-1.04.2-1.43.59L10.3 9.45l-7.72 7.72c-.78.78-.78 2.05 0 2.83L4 21.41c.39.39.9.59 1.41.59.51 0 1.02-.2 1.41-.59l7.78-7.78 2.81-2.81c.8-.78.8-2.07 0-2.86zM5.41 20L4 18.59l7.72-7.72 1.47 1.35L5.41 20z\"/>\n",
              "  </svg>\n",
              "      </button>\n",
              "      \n",
              "  <style>\n",
              "    .colab-df-container {\n",
              "      display:flex;\n",
              "      flex-wrap:wrap;\n",
              "      gap: 12px;\n",
              "    }\n",
              "\n",
              "    .colab-df-convert {\n",
              "      background-color: #E8F0FE;\n",
              "      border: none;\n",
              "      border-radius: 50%;\n",
              "      cursor: pointer;\n",
              "      display: none;\n",
              "      fill: #1967D2;\n",
              "      height: 32px;\n",
              "      padding: 0 0 0 0;\n",
              "      width: 32px;\n",
              "    }\n",
              "\n",
              "    .colab-df-convert:hover {\n",
              "      background-color: #E2EBFA;\n",
              "      box-shadow: 0px 1px 2px rgba(60, 64, 67, 0.3), 0px 1px 3px 1px rgba(60, 64, 67, 0.15);\n",
              "      fill: #174EA6;\n",
              "    }\n",
              "\n",
              "    [theme=dark] .colab-df-convert {\n",
              "      background-color: #3B4455;\n",
              "      fill: #D2E3FC;\n",
              "    }\n",
              "\n",
              "    [theme=dark] .colab-df-convert:hover {\n",
              "      background-color: #434B5C;\n",
              "      box-shadow: 0px 1px 3px 1px rgba(0, 0, 0, 0.15);\n",
              "      filter: drop-shadow(0px 1px 2px rgba(0, 0, 0, 0.3));\n",
              "      fill: #FFFFFF;\n",
              "    }\n",
              "  </style>\n",
              "\n",
              "      <script>\n",
              "        const buttonEl =\n",
              "          document.querySelector('#df-9181bdfa-834f-4a5a-8dfe-fc1c37424825 button.colab-df-convert');\n",
              "        buttonEl.style.display =\n",
              "          google.colab.kernel.accessAllowed ? 'block' : 'none';\n",
              "\n",
              "        async function convertToInteractive(key) {\n",
              "          const element = document.querySelector('#df-9181bdfa-834f-4a5a-8dfe-fc1c37424825');\n",
              "          const dataTable =\n",
              "            await google.colab.kernel.invokeFunction('convertToInteractive',\n",
              "                                                     [key], {});\n",
              "          if (!dataTable) return;\n",
              "\n",
              "          const docLinkHtml = 'Like what you see? Visit the ' +\n",
              "            '<a target=\"_blank\" href=https://colab.research.google.com/notebooks/data_table.ipynb>data table notebook</a>'\n",
              "            + ' to learn more about interactive tables.';\n",
              "          element.innerHTML = '';\n",
              "          dataTable['output_type'] = 'display_data';\n",
              "          await google.colab.output.renderOutput(dataTable, element);\n",
              "          const docLink = document.createElement('div');\n",
              "          docLink.innerHTML = docLinkHtml;\n",
              "          element.appendChild(docLink);\n",
              "        }\n",
              "      </script>\n",
              "    </div>\n",
              "  </div>\n",
              "  "
            ],
            "text/plain": [
              "   ID Warehouse_block  ... Weight_in_gms  Reached.on.Time_Y.N\n",
              "0   1               D  ...          1233                    1\n",
              "1   2               F  ...          3088                    1\n",
              "2   3               A  ...          3374                    1\n",
              "3   4               B  ...          1177                    1\n",
              "4   5               C  ...          2484                    1\n",
              "\n",
              "[5 rows x 12 columns]"
            ]
          },
          "metadata": {},
          "execution_count": 58
        }
      ],
      "source": [
        "url_dataset = \"https://raw.githubusercontent.com/Decentraland-Team-Final-Project/Report-Final-Project-/main/Dataset/E-Commerce%20Shipping%20Data.csv\"\n",
        "df_shipping = pd.read_csv(url_dataset)\n",
        "df_shipping.head()"
      ]
    },
    {
      "cell_type": "code",
      "execution_count": null,
      "metadata": {
        "colab": {
          "base_uri": "https://localhost:8080/"
        },
        "id": "Q1OGA0YiE2Qv",
        "outputId": "9f12f8bb-c473-4bc7-a4e0-f195159d02eb"
      },
      "outputs": [
        {
          "output_type": "stream",
          "name": "stdout",
          "text": [
            "<class 'pandas.core.frame.DataFrame'>\n",
            "RangeIndex: 10999 entries, 0 to 10998\n",
            "Data columns (total 12 columns):\n",
            " #   Column               Non-Null Count  Dtype \n",
            "---  ------               --------------  ----- \n",
            " 0   ID                   10999 non-null  int64 \n",
            " 1   Warehouse_block      10999 non-null  object\n",
            " 2   Mode_of_Shipment     10999 non-null  object\n",
            " 3   Customer_care_calls  10999 non-null  int64 \n",
            " 4   Customer_rating      10999 non-null  int64 \n",
            " 5   Cost_of_the_Product  10999 non-null  int64 \n",
            " 6   Prior_purchases      10999 non-null  int64 \n",
            " 7   Product_importance   10999 non-null  object\n",
            " 8   Gender               10999 non-null  object\n",
            " 9   Discount_offered     10999 non-null  int64 \n",
            " 10  Weight_in_gms        10999 non-null  int64 \n",
            " 11  Reached.on.Time_Y.N  10999 non-null  int64 \n",
            "dtypes: int64(8), object(4)\n",
            "memory usage: 1.0+ MB\n"
          ]
        }
      ],
      "source": [
        "df_shipping.info()"
      ]
    },
    {
      "cell_type": "code",
      "execution_count": null,
      "metadata": {
        "colab": {
          "base_uri": "https://localhost:8080/"
        },
        "id": "KacAL15TnUJA",
        "outputId": "394db68f-8edb-45ae-f2e6-3b5d182ba88c"
      },
      "outputs": [
        {
          "output_type": "stream",
          "name": "stdout",
          "text": [
            "Data numerik:  ['Customer_care_calls', 'Customer_rating', 'Cost_of_the_Product', 'Prior_purchases', 'Discount_offered', 'Weight_in_gms', 'Reached.on.Time_Y.N']\n",
            "Data category:  ['Warehouse_block', 'Mode_of_Shipment', 'Product_importance', 'Gender']\n"
          ]
        }
      ],
      "source": [
        "# membagi data berdasarkan type datanya\n",
        "df_shipping.drop(columns=\"ID\", inplace=True)\n",
        "category = df_shipping.select_dtypes(include='object')\n",
        "numerical = df_shipping.select_dtypes(exclude='object')\n",
        "\n",
        "numerical_cols = numerical.columns.to_list()\n",
        "category_cols = category.columns.to_list()\n",
        "\n",
        "print(\"Data numerik: \", numerical_cols)\n",
        "print(\"Data category: \", category_cols)"
      ]
    },
    {
      "cell_type": "code",
      "execution_count": null,
      "metadata": {
        "colab": {
          "base_uri": "https://localhost:8080/",
          "height": 300
        },
        "id": "XTmdW3itnW9z",
        "outputId": "ca3531a0-829c-4bdd-a0b2-aca041031e8d"
      },
      "outputs": [
        {
          "output_type": "execute_result",
          "data": {
            "text/html": [
              "\n",
              "  <div id=\"df-c03d8691-8dbf-400d-bad9-87b1fecc8220\">\n",
              "    <div class=\"colab-df-container\">\n",
              "      <div>\n",
              "<style scoped>\n",
              "    .dataframe tbody tr th:only-of-type {\n",
              "        vertical-align: middle;\n",
              "    }\n",
              "\n",
              "    .dataframe tbody tr th {\n",
              "        vertical-align: top;\n",
              "    }\n",
              "\n",
              "    .dataframe thead th {\n",
              "        text-align: right;\n",
              "    }\n",
              "</style>\n",
              "<table border=\"1\" class=\"dataframe\">\n",
              "  <thead>\n",
              "    <tr style=\"text-align: right;\">\n",
              "      <th></th>\n",
              "      <th>Customer_care_calls</th>\n",
              "      <th>Customer_rating</th>\n",
              "      <th>Cost_of_the_Product</th>\n",
              "      <th>Prior_purchases</th>\n",
              "      <th>Discount_offered</th>\n",
              "      <th>Weight_in_gms</th>\n",
              "      <th>Reached.on.Time_Y.N</th>\n",
              "    </tr>\n",
              "  </thead>\n",
              "  <tbody>\n",
              "    <tr>\n",
              "      <th>count</th>\n",
              "      <td>10999.000000</td>\n",
              "      <td>10999.000000</td>\n",
              "      <td>10999.000000</td>\n",
              "      <td>10999.000000</td>\n",
              "      <td>10999.000000</td>\n",
              "      <td>10999.000000</td>\n",
              "      <td>10999.000000</td>\n",
              "    </tr>\n",
              "    <tr>\n",
              "      <th>mean</th>\n",
              "      <td>4.054459</td>\n",
              "      <td>2.990545</td>\n",
              "      <td>210.196836</td>\n",
              "      <td>3.567597</td>\n",
              "      <td>13.373216</td>\n",
              "      <td>3634.016729</td>\n",
              "      <td>0.596691</td>\n",
              "    </tr>\n",
              "    <tr>\n",
              "      <th>std</th>\n",
              "      <td>1.141490</td>\n",
              "      <td>1.413603</td>\n",
              "      <td>48.063272</td>\n",
              "      <td>1.522860</td>\n",
              "      <td>16.205527</td>\n",
              "      <td>1635.377251</td>\n",
              "      <td>0.490584</td>\n",
              "    </tr>\n",
              "    <tr>\n",
              "      <th>min</th>\n",
              "      <td>2.000000</td>\n",
              "      <td>1.000000</td>\n",
              "      <td>96.000000</td>\n",
              "      <td>2.000000</td>\n",
              "      <td>1.000000</td>\n",
              "      <td>1001.000000</td>\n",
              "      <td>0.000000</td>\n",
              "    </tr>\n",
              "    <tr>\n",
              "      <th>25%</th>\n",
              "      <td>3.000000</td>\n",
              "      <td>2.000000</td>\n",
              "      <td>169.000000</td>\n",
              "      <td>3.000000</td>\n",
              "      <td>4.000000</td>\n",
              "      <td>1839.500000</td>\n",
              "      <td>0.000000</td>\n",
              "    </tr>\n",
              "    <tr>\n",
              "      <th>50%</th>\n",
              "      <td>4.000000</td>\n",
              "      <td>3.000000</td>\n",
              "      <td>214.000000</td>\n",
              "      <td>3.000000</td>\n",
              "      <td>7.000000</td>\n",
              "      <td>4149.000000</td>\n",
              "      <td>1.000000</td>\n",
              "    </tr>\n",
              "    <tr>\n",
              "      <th>75%</th>\n",
              "      <td>5.000000</td>\n",
              "      <td>4.000000</td>\n",
              "      <td>251.000000</td>\n",
              "      <td>4.000000</td>\n",
              "      <td>10.000000</td>\n",
              "      <td>5050.000000</td>\n",
              "      <td>1.000000</td>\n",
              "    </tr>\n",
              "    <tr>\n",
              "      <th>max</th>\n",
              "      <td>7.000000</td>\n",
              "      <td>5.000000</td>\n",
              "      <td>310.000000</td>\n",
              "      <td>10.000000</td>\n",
              "      <td>65.000000</td>\n",
              "      <td>7846.000000</td>\n",
              "      <td>1.000000</td>\n",
              "    </tr>\n",
              "  </tbody>\n",
              "</table>\n",
              "</div>\n",
              "      <button class=\"colab-df-convert\" onclick=\"convertToInteractive('df-c03d8691-8dbf-400d-bad9-87b1fecc8220')\"\n",
              "              title=\"Convert this dataframe to an interactive table.\"\n",
              "              style=\"display:none;\">\n",
              "        \n",
              "  <svg xmlns=\"http://www.w3.org/2000/svg\" height=\"24px\"viewBox=\"0 0 24 24\"\n",
              "       width=\"24px\">\n",
              "    <path d=\"M0 0h24v24H0V0z\" fill=\"none\"/>\n",
              "    <path d=\"M18.56 5.44l.94 2.06.94-2.06 2.06-.94-2.06-.94-.94-2.06-.94 2.06-2.06.94zm-11 1L8.5 8.5l.94-2.06 2.06-.94-2.06-.94L8.5 2.5l-.94 2.06-2.06.94zm10 10l.94 2.06.94-2.06 2.06-.94-2.06-.94-.94-2.06-.94 2.06-2.06.94z\"/><path d=\"M17.41 7.96l-1.37-1.37c-.4-.4-.92-.59-1.43-.59-.52 0-1.04.2-1.43.59L10.3 9.45l-7.72 7.72c-.78.78-.78 2.05 0 2.83L4 21.41c.39.39.9.59 1.41.59.51 0 1.02-.2 1.41-.59l7.78-7.78 2.81-2.81c.8-.78.8-2.07 0-2.86zM5.41 20L4 18.59l7.72-7.72 1.47 1.35L5.41 20z\"/>\n",
              "  </svg>\n",
              "      </button>\n",
              "      \n",
              "  <style>\n",
              "    .colab-df-container {\n",
              "      display:flex;\n",
              "      flex-wrap:wrap;\n",
              "      gap: 12px;\n",
              "    }\n",
              "\n",
              "    .colab-df-convert {\n",
              "      background-color: #E8F0FE;\n",
              "      border: none;\n",
              "      border-radius: 50%;\n",
              "      cursor: pointer;\n",
              "      display: none;\n",
              "      fill: #1967D2;\n",
              "      height: 32px;\n",
              "      padding: 0 0 0 0;\n",
              "      width: 32px;\n",
              "    }\n",
              "\n",
              "    .colab-df-convert:hover {\n",
              "      background-color: #E2EBFA;\n",
              "      box-shadow: 0px 1px 2px rgba(60, 64, 67, 0.3), 0px 1px 3px 1px rgba(60, 64, 67, 0.15);\n",
              "      fill: #174EA6;\n",
              "    }\n",
              "\n",
              "    [theme=dark] .colab-df-convert {\n",
              "      background-color: #3B4455;\n",
              "      fill: #D2E3FC;\n",
              "    }\n",
              "\n",
              "    [theme=dark] .colab-df-convert:hover {\n",
              "      background-color: #434B5C;\n",
              "      box-shadow: 0px 1px 3px 1px rgba(0, 0, 0, 0.15);\n",
              "      filter: drop-shadow(0px 1px 2px rgba(0, 0, 0, 0.3));\n",
              "      fill: #FFFFFF;\n",
              "    }\n",
              "  </style>\n",
              "\n",
              "      <script>\n",
              "        const buttonEl =\n",
              "          document.querySelector('#df-c03d8691-8dbf-400d-bad9-87b1fecc8220 button.colab-df-convert');\n",
              "        buttonEl.style.display =\n",
              "          google.colab.kernel.accessAllowed ? 'block' : 'none';\n",
              "\n",
              "        async function convertToInteractive(key) {\n",
              "          const element = document.querySelector('#df-c03d8691-8dbf-400d-bad9-87b1fecc8220');\n",
              "          const dataTable =\n",
              "            await google.colab.kernel.invokeFunction('convertToInteractive',\n",
              "                                                     [key], {});\n",
              "          if (!dataTable) return;\n",
              "\n",
              "          const docLinkHtml = 'Like what you see? Visit the ' +\n",
              "            '<a target=\"_blank\" href=https://colab.research.google.com/notebooks/data_table.ipynb>data table notebook</a>'\n",
              "            + ' to learn more about interactive tables.';\n",
              "          element.innerHTML = '';\n",
              "          dataTable['output_type'] = 'display_data';\n",
              "          await google.colab.output.renderOutput(dataTable, element);\n",
              "          const docLink = document.createElement('div');\n",
              "          docLink.innerHTML = docLinkHtml;\n",
              "          element.appendChild(docLink);\n",
              "        }\n",
              "      </script>\n",
              "    </div>\n",
              "  </div>\n",
              "  "
            ],
            "text/plain": [
              "       Customer_care_calls  Customer_rating  ...  Weight_in_gms  Reached.on.Time_Y.N\n",
              "count         10999.000000     10999.000000  ...   10999.000000         10999.000000\n",
              "mean              4.054459         2.990545  ...    3634.016729             0.596691\n",
              "std               1.141490         1.413603  ...    1635.377251             0.490584\n",
              "min               2.000000         1.000000  ...    1001.000000             0.000000\n",
              "25%               3.000000         2.000000  ...    1839.500000             0.000000\n",
              "50%               4.000000         3.000000  ...    4149.000000             1.000000\n",
              "75%               5.000000         4.000000  ...    5050.000000             1.000000\n",
              "max               7.000000         5.000000  ...    7846.000000             1.000000\n",
              "\n",
              "[8 rows x 7 columns]"
            ]
          },
          "metadata": {},
          "execution_count": 13
        }
      ],
      "source": [
        "df_shipping[numerical_cols].describe()"
      ]
    },
    {
      "cell_type": "code",
      "execution_count": null,
      "metadata": {
        "colab": {
          "base_uri": "https://localhost:8080/",
          "height": 174
        },
        "id": "jgAHw-ZOn25W",
        "outputId": "1b238584-0195-4d2f-d2dc-3c232725aa4f"
      },
      "outputs": [
        {
          "output_type": "execute_result",
          "data": {
            "text/html": [
              "\n",
              "  <div id=\"df-8fee5001-6952-4e92-8bed-07376a315651\">\n",
              "    <div class=\"colab-df-container\">\n",
              "      <div>\n",
              "<style scoped>\n",
              "    .dataframe tbody tr th:only-of-type {\n",
              "        vertical-align: middle;\n",
              "    }\n",
              "\n",
              "    .dataframe tbody tr th {\n",
              "        vertical-align: top;\n",
              "    }\n",
              "\n",
              "    .dataframe thead th {\n",
              "        text-align: right;\n",
              "    }\n",
              "</style>\n",
              "<table border=\"1\" class=\"dataframe\">\n",
              "  <thead>\n",
              "    <tr style=\"text-align: right;\">\n",
              "      <th></th>\n",
              "      <th>Warehouse_block</th>\n",
              "      <th>Mode_of_Shipment</th>\n",
              "      <th>Product_importance</th>\n",
              "      <th>Gender</th>\n",
              "    </tr>\n",
              "  </thead>\n",
              "  <tbody>\n",
              "    <tr>\n",
              "      <th>count</th>\n",
              "      <td>10999</td>\n",
              "      <td>10999</td>\n",
              "      <td>10999</td>\n",
              "      <td>10999</td>\n",
              "    </tr>\n",
              "    <tr>\n",
              "      <th>unique</th>\n",
              "      <td>5</td>\n",
              "      <td>3</td>\n",
              "      <td>3</td>\n",
              "      <td>2</td>\n",
              "    </tr>\n",
              "    <tr>\n",
              "      <th>top</th>\n",
              "      <td>F</td>\n",
              "      <td>Ship</td>\n",
              "      <td>low</td>\n",
              "      <td>F</td>\n",
              "    </tr>\n",
              "    <tr>\n",
              "      <th>freq</th>\n",
              "      <td>3666</td>\n",
              "      <td>7462</td>\n",
              "      <td>5297</td>\n",
              "      <td>5545</td>\n",
              "    </tr>\n",
              "  </tbody>\n",
              "</table>\n",
              "</div>\n",
              "      <button class=\"colab-df-convert\" onclick=\"convertToInteractive('df-8fee5001-6952-4e92-8bed-07376a315651')\"\n",
              "              title=\"Convert this dataframe to an interactive table.\"\n",
              "              style=\"display:none;\">\n",
              "        \n",
              "  <svg xmlns=\"http://www.w3.org/2000/svg\" height=\"24px\"viewBox=\"0 0 24 24\"\n",
              "       width=\"24px\">\n",
              "    <path d=\"M0 0h24v24H0V0z\" fill=\"none\"/>\n",
              "    <path d=\"M18.56 5.44l.94 2.06.94-2.06 2.06-.94-2.06-.94-.94-2.06-.94 2.06-2.06.94zm-11 1L8.5 8.5l.94-2.06 2.06-.94-2.06-.94L8.5 2.5l-.94 2.06-2.06.94zm10 10l.94 2.06.94-2.06 2.06-.94-2.06-.94-.94-2.06-.94 2.06-2.06.94z\"/><path d=\"M17.41 7.96l-1.37-1.37c-.4-.4-.92-.59-1.43-.59-.52 0-1.04.2-1.43.59L10.3 9.45l-7.72 7.72c-.78.78-.78 2.05 0 2.83L4 21.41c.39.39.9.59 1.41.59.51 0 1.02-.2 1.41-.59l7.78-7.78 2.81-2.81c.8-.78.8-2.07 0-2.86zM5.41 20L4 18.59l7.72-7.72 1.47 1.35L5.41 20z\"/>\n",
              "  </svg>\n",
              "      </button>\n",
              "      \n",
              "  <style>\n",
              "    .colab-df-container {\n",
              "      display:flex;\n",
              "      flex-wrap:wrap;\n",
              "      gap: 12px;\n",
              "    }\n",
              "\n",
              "    .colab-df-convert {\n",
              "      background-color: #E8F0FE;\n",
              "      border: none;\n",
              "      border-radius: 50%;\n",
              "      cursor: pointer;\n",
              "      display: none;\n",
              "      fill: #1967D2;\n",
              "      height: 32px;\n",
              "      padding: 0 0 0 0;\n",
              "      width: 32px;\n",
              "    }\n",
              "\n",
              "    .colab-df-convert:hover {\n",
              "      background-color: #E2EBFA;\n",
              "      box-shadow: 0px 1px 2px rgba(60, 64, 67, 0.3), 0px 1px 3px 1px rgba(60, 64, 67, 0.15);\n",
              "      fill: #174EA6;\n",
              "    }\n",
              "\n",
              "    [theme=dark] .colab-df-convert {\n",
              "      background-color: #3B4455;\n",
              "      fill: #D2E3FC;\n",
              "    }\n",
              "\n",
              "    [theme=dark] .colab-df-convert:hover {\n",
              "      background-color: #434B5C;\n",
              "      box-shadow: 0px 1px 3px 1px rgba(0, 0, 0, 0.15);\n",
              "      filter: drop-shadow(0px 1px 2px rgba(0, 0, 0, 0.3));\n",
              "      fill: #FFFFFF;\n",
              "    }\n",
              "  </style>\n",
              "\n",
              "      <script>\n",
              "        const buttonEl =\n",
              "          document.querySelector('#df-8fee5001-6952-4e92-8bed-07376a315651 button.colab-df-convert');\n",
              "        buttonEl.style.display =\n",
              "          google.colab.kernel.accessAllowed ? 'block' : 'none';\n",
              "\n",
              "        async function convertToInteractive(key) {\n",
              "          const element = document.querySelector('#df-8fee5001-6952-4e92-8bed-07376a315651');\n",
              "          const dataTable =\n",
              "            await google.colab.kernel.invokeFunction('convertToInteractive',\n",
              "                                                     [key], {});\n",
              "          if (!dataTable) return;\n",
              "\n",
              "          const docLinkHtml = 'Like what you see? Visit the ' +\n",
              "            '<a target=\"_blank\" href=https://colab.research.google.com/notebooks/data_table.ipynb>data table notebook</a>'\n",
              "            + ' to learn more about interactive tables.';\n",
              "          element.innerHTML = '';\n",
              "          dataTable['output_type'] = 'display_data';\n",
              "          await google.colab.output.renderOutput(dataTable, element);\n",
              "          const docLink = document.createElement('div');\n",
              "          docLink.innerHTML = docLinkHtml;\n",
              "          element.appendChild(docLink);\n",
              "        }\n",
              "      </script>\n",
              "    </div>\n",
              "  </div>\n",
              "  "
            ],
            "text/plain": [
              "       Warehouse_block Mode_of_Shipment Product_importance Gender\n",
              "count            10999            10999              10999  10999\n",
              "unique               5                3                  3      2\n",
              "top                  F             Ship                low      F\n",
              "freq              3666             7462               5297   5545"
            ]
          },
          "metadata": {},
          "execution_count": 14
        }
      ],
      "source": [
        "df_shipping[category_cols].describe()"
      ]
    },
    {
      "cell_type": "code",
      "execution_count": null,
      "metadata": {
        "colab": {
          "base_uri": "https://localhost:8080/"
        },
        "id": "35S7RWELn7ze",
        "outputId": "9a2011ac-db12-4158-f095-461409f1e164"
      },
      "outputs": [
        {
          "output_type": "stream",
          "name": "stdout",
          "text": [
            "value counts of column Warehouse_block\n",
            "F    3666\n",
            "D    1834\n",
            "A    1833\n",
            "B    1833\n",
            "C    1833\n",
            "Name: Warehouse_block, dtype: int64\n",
            "------------------------------ \n",
            "\n",
            "value counts of column Mode_of_Shipment\n",
            "Ship      7462\n",
            "Flight    1777\n",
            "Road      1760\n",
            "Name: Mode_of_Shipment, dtype: int64\n",
            "------------------------------ \n",
            "\n",
            "value counts of column Product_importance\n",
            "low       5297\n",
            "medium    4754\n",
            "high       948\n",
            "Name: Product_importance, dtype: int64\n",
            "------------------------------ \n",
            "\n",
            "value counts of column Gender\n",
            "F    5545\n",
            "M    5454\n",
            "Name: Gender, dtype: int64\n",
            "------------------------------ \n",
            "\n"
          ]
        }
      ],
      "source": [
        "for column in category_cols:\n",
        "  print(f'value counts of column {column}')\n",
        "  print(df_shipping[column].value_counts())\n",
        "  print('---'*10, '\\n')"
      ]
    },
    {
      "cell_type": "markdown",
      "metadata": {
        "id": "H5WGdx-woOIQ"
      },
      "source": [
        "## Label Encoding"
      ]
    },
    {
      "cell_type": "code",
      "execution_count": null,
      "metadata": {
        "id": "RI7hQE_yoJJy"
      },
      "outputs": [],
      "source": [
        "#Label encoding\n",
        "mapping_gender = {\n",
        "    'F' : 0,\n",
        "    'M' : 1\n",
        "}\n",
        "\n",
        "mapping_product_importance = {\n",
        "    'low' : 0,\n",
        "    'medium' : 1,\n",
        "    'high' : 2,\n",
        "}\n",
        "\n",
        "df_shipping['Gender(num)'] = df_shipping['Gender'].map(mapping_gender)\n",
        "df_shipping['Product_Importance(num)'] = df_shipping['Product_importance'].map(mapping_product_importance)"
      ]
    },
    {
      "cell_type": "code",
      "execution_count": null,
      "metadata": {
        "id": "8AbYgZyto5NS"
      },
      "outputs": [],
      "source": [
        "df_shipping.drop(columns=[\"Gender\", \"Product_importance\"], inplace=True)"
      ]
    },
    {
      "cell_type": "code",
      "execution_count": null,
      "metadata": {
        "colab": {
          "base_uri": "https://localhost:8080/",
          "height": 270
        },
        "id": "s_HXRBxSo9zC",
        "outputId": "74cddb28-4993-4219-ca3e-157c5c78e517"
      },
      "outputs": [
        {
          "output_type": "execute_result",
          "data": {
            "text/html": [
              "\n",
              "  <div id=\"df-10229e2d-450b-4f33-bc8e-34ae069a2458\">\n",
              "    <div class=\"colab-df-container\">\n",
              "      <div>\n",
              "<style scoped>\n",
              "    .dataframe tbody tr th:only-of-type {\n",
              "        vertical-align: middle;\n",
              "    }\n",
              "\n",
              "    .dataframe tbody tr th {\n",
              "        vertical-align: top;\n",
              "    }\n",
              "\n",
              "    .dataframe thead th {\n",
              "        text-align: right;\n",
              "    }\n",
              "</style>\n",
              "<table border=\"1\" class=\"dataframe\">\n",
              "  <thead>\n",
              "    <tr style=\"text-align: right;\">\n",
              "      <th></th>\n",
              "      <th>Warehouse_block</th>\n",
              "      <th>Mode_of_Shipment</th>\n",
              "      <th>Customer_care_calls</th>\n",
              "      <th>Customer_rating</th>\n",
              "      <th>Cost_of_the_Product</th>\n",
              "      <th>Prior_purchases</th>\n",
              "      <th>Discount_offered</th>\n",
              "      <th>Weight_in_gms</th>\n",
              "      <th>Reached.on.Time_Y.N</th>\n",
              "      <th>Gender(num)</th>\n",
              "      <th>Product_Importance(num)</th>\n",
              "    </tr>\n",
              "  </thead>\n",
              "  <tbody>\n",
              "    <tr>\n",
              "      <th>0</th>\n",
              "      <td>D</td>\n",
              "      <td>Flight</td>\n",
              "      <td>4</td>\n",
              "      <td>2</td>\n",
              "      <td>177</td>\n",
              "      <td>3</td>\n",
              "      <td>44</td>\n",
              "      <td>1233</td>\n",
              "      <td>1</td>\n",
              "      <td>0</td>\n",
              "      <td>0</td>\n",
              "    </tr>\n",
              "    <tr>\n",
              "      <th>1</th>\n",
              "      <td>F</td>\n",
              "      <td>Flight</td>\n",
              "      <td>4</td>\n",
              "      <td>5</td>\n",
              "      <td>216</td>\n",
              "      <td>2</td>\n",
              "      <td>59</td>\n",
              "      <td>3088</td>\n",
              "      <td>1</td>\n",
              "      <td>1</td>\n",
              "      <td>0</td>\n",
              "    </tr>\n",
              "    <tr>\n",
              "      <th>2</th>\n",
              "      <td>A</td>\n",
              "      <td>Flight</td>\n",
              "      <td>2</td>\n",
              "      <td>2</td>\n",
              "      <td>183</td>\n",
              "      <td>4</td>\n",
              "      <td>48</td>\n",
              "      <td>3374</td>\n",
              "      <td>1</td>\n",
              "      <td>1</td>\n",
              "      <td>0</td>\n",
              "    </tr>\n",
              "    <tr>\n",
              "      <th>3</th>\n",
              "      <td>B</td>\n",
              "      <td>Flight</td>\n",
              "      <td>3</td>\n",
              "      <td>3</td>\n",
              "      <td>176</td>\n",
              "      <td>4</td>\n",
              "      <td>10</td>\n",
              "      <td>1177</td>\n",
              "      <td>1</td>\n",
              "      <td>1</td>\n",
              "      <td>1</td>\n",
              "    </tr>\n",
              "    <tr>\n",
              "      <th>4</th>\n",
              "      <td>C</td>\n",
              "      <td>Flight</td>\n",
              "      <td>2</td>\n",
              "      <td>2</td>\n",
              "      <td>184</td>\n",
              "      <td>3</td>\n",
              "      <td>46</td>\n",
              "      <td>2484</td>\n",
              "      <td>1</td>\n",
              "      <td>0</td>\n",
              "      <td>1</td>\n",
              "    </tr>\n",
              "  </tbody>\n",
              "</table>\n",
              "</div>\n",
              "      <button class=\"colab-df-convert\" onclick=\"convertToInteractive('df-10229e2d-450b-4f33-bc8e-34ae069a2458')\"\n",
              "              title=\"Convert this dataframe to an interactive table.\"\n",
              "              style=\"display:none;\">\n",
              "        \n",
              "  <svg xmlns=\"http://www.w3.org/2000/svg\" height=\"24px\"viewBox=\"0 0 24 24\"\n",
              "       width=\"24px\">\n",
              "    <path d=\"M0 0h24v24H0V0z\" fill=\"none\"/>\n",
              "    <path d=\"M18.56 5.44l.94 2.06.94-2.06 2.06-.94-2.06-.94-.94-2.06-.94 2.06-2.06.94zm-11 1L8.5 8.5l.94-2.06 2.06-.94-2.06-.94L8.5 2.5l-.94 2.06-2.06.94zm10 10l.94 2.06.94-2.06 2.06-.94-2.06-.94-.94-2.06-.94 2.06-2.06.94z\"/><path d=\"M17.41 7.96l-1.37-1.37c-.4-.4-.92-.59-1.43-.59-.52 0-1.04.2-1.43.59L10.3 9.45l-7.72 7.72c-.78.78-.78 2.05 0 2.83L4 21.41c.39.39.9.59 1.41.59.51 0 1.02-.2 1.41-.59l7.78-7.78 2.81-2.81c.8-.78.8-2.07 0-2.86zM5.41 20L4 18.59l7.72-7.72 1.47 1.35L5.41 20z\"/>\n",
              "  </svg>\n",
              "      </button>\n",
              "      \n",
              "  <style>\n",
              "    .colab-df-container {\n",
              "      display:flex;\n",
              "      flex-wrap:wrap;\n",
              "      gap: 12px;\n",
              "    }\n",
              "\n",
              "    .colab-df-convert {\n",
              "      background-color: #E8F0FE;\n",
              "      border: none;\n",
              "      border-radius: 50%;\n",
              "      cursor: pointer;\n",
              "      display: none;\n",
              "      fill: #1967D2;\n",
              "      height: 32px;\n",
              "      padding: 0 0 0 0;\n",
              "      width: 32px;\n",
              "    }\n",
              "\n",
              "    .colab-df-convert:hover {\n",
              "      background-color: #E2EBFA;\n",
              "      box-shadow: 0px 1px 2px rgba(60, 64, 67, 0.3), 0px 1px 3px 1px rgba(60, 64, 67, 0.15);\n",
              "      fill: #174EA6;\n",
              "    }\n",
              "\n",
              "    [theme=dark] .colab-df-convert {\n",
              "      background-color: #3B4455;\n",
              "      fill: #D2E3FC;\n",
              "    }\n",
              "\n",
              "    [theme=dark] .colab-df-convert:hover {\n",
              "      background-color: #434B5C;\n",
              "      box-shadow: 0px 1px 3px 1px rgba(0, 0, 0, 0.15);\n",
              "      filter: drop-shadow(0px 1px 2px rgba(0, 0, 0, 0.3));\n",
              "      fill: #FFFFFF;\n",
              "    }\n",
              "  </style>\n",
              "\n",
              "      <script>\n",
              "        const buttonEl =\n",
              "          document.querySelector('#df-10229e2d-450b-4f33-bc8e-34ae069a2458 button.colab-df-convert');\n",
              "        buttonEl.style.display =\n",
              "          google.colab.kernel.accessAllowed ? 'block' : 'none';\n",
              "\n",
              "        async function convertToInteractive(key) {\n",
              "          const element = document.querySelector('#df-10229e2d-450b-4f33-bc8e-34ae069a2458');\n",
              "          const dataTable =\n",
              "            await google.colab.kernel.invokeFunction('convertToInteractive',\n",
              "                                                     [key], {});\n",
              "          if (!dataTable) return;\n",
              "\n",
              "          const docLinkHtml = 'Like what you see? Visit the ' +\n",
              "            '<a target=\"_blank\" href=https://colab.research.google.com/notebooks/data_table.ipynb>data table notebook</a>'\n",
              "            + ' to learn more about interactive tables.';\n",
              "          element.innerHTML = '';\n",
              "          dataTable['output_type'] = 'display_data';\n",
              "          await google.colab.output.renderOutput(dataTable, element);\n",
              "          const docLink = document.createElement('div');\n",
              "          docLink.innerHTML = docLinkHtml;\n",
              "          element.appendChild(docLink);\n",
              "        }\n",
              "      </script>\n",
              "    </div>\n",
              "  </div>\n",
              "  "
            ],
            "text/plain": [
              "  Warehouse_block Mode_of_Shipment  ...  Gender(num)  Product_Importance(num)\n",
              "0               D           Flight  ...            0                        0\n",
              "1               F           Flight  ...            1                        0\n",
              "2               A           Flight  ...            1                        0\n",
              "3               B           Flight  ...            1                        1\n",
              "4               C           Flight  ...            0                        1\n",
              "\n",
              "[5 rows x 11 columns]"
            ]
          },
          "metadata": {},
          "execution_count": 18
        }
      ],
      "source": [
        "df_shipping.head()"
      ]
    },
    {
      "cell_type": "markdown",
      "metadata": {
        "id": "0gl9iXNxqn4C"
      },
      "source": [
        "## One Hot Encoding"
      ]
    },
    {
      "cell_type": "code",
      "execution_count": null,
      "metadata": {
        "id": "sBVNItGrpKpy"
      },
      "outputs": [],
      "source": [
        "for cat in ['Warehouse_block', 'Mode_of_Shipment']:\n",
        "    onehots = pd.get_dummies(df_shipping[cat], prefix=cat)\n",
        "    df_shipping = df_shipping.join(onehots)"
      ]
    },
    {
      "cell_type": "code",
      "execution_count": null,
      "metadata": {
        "id": "-oeaclbPrDW7"
      },
      "outputs": [],
      "source": [
        "df_shipping.drop(columns=[\"Warehouse_block\", \"Mode_of_Shipment\"], inplace=True)"
      ]
    },
    {
      "cell_type": "code",
      "execution_count": null,
      "metadata": {
        "id": "OXj8e65mSmmF"
      },
      "outputs": [],
      "source": [
        "# hapus warehouse block f dan mode of shipment ship dikarenakan nilai tersebut memiliki multikolinearitas yang tinggi\n",
        "df_shipping.drop(columns=[\"Warehouse_block_F\", \"Mode_of_Shipment_Ship\"], inplace=True)"
      ]
    },
    {
      "cell_type": "code",
      "execution_count": null,
      "metadata": {
        "colab": {
          "base_uri": "https://localhost:8080/",
          "height": 270
        },
        "id": "szAAR0HwrF72",
        "outputId": "fe7e9b07-c954-4ce4-84ee-d646685b6414"
      },
      "outputs": [
        {
          "output_type": "execute_result",
          "data": {
            "text/html": [
              "\n",
              "  <div id=\"df-69f80601-85c1-4ef9-8b9e-4d8a836758c0\">\n",
              "    <div class=\"colab-df-container\">\n",
              "      <div>\n",
              "<style scoped>\n",
              "    .dataframe tbody tr th:only-of-type {\n",
              "        vertical-align: middle;\n",
              "    }\n",
              "\n",
              "    .dataframe tbody tr th {\n",
              "        vertical-align: top;\n",
              "    }\n",
              "\n",
              "    .dataframe thead th {\n",
              "        text-align: right;\n",
              "    }\n",
              "</style>\n",
              "<table border=\"1\" class=\"dataframe\">\n",
              "  <thead>\n",
              "    <tr style=\"text-align: right;\">\n",
              "      <th></th>\n",
              "      <th>Customer_care_calls</th>\n",
              "      <th>Customer_rating</th>\n",
              "      <th>Cost_of_the_Product</th>\n",
              "      <th>Prior_purchases</th>\n",
              "      <th>Discount_offered</th>\n",
              "      <th>Weight_in_gms</th>\n",
              "      <th>Reached.on.Time_Y.N</th>\n",
              "      <th>Gender(num)</th>\n",
              "      <th>Product_Importance(num)</th>\n",
              "      <th>Warehouse_block_A</th>\n",
              "      <th>Warehouse_block_B</th>\n",
              "      <th>Warehouse_block_C</th>\n",
              "      <th>Warehouse_block_D</th>\n",
              "      <th>Mode_of_Shipment_Flight</th>\n",
              "      <th>Mode_of_Shipment_Road</th>\n",
              "    </tr>\n",
              "  </thead>\n",
              "  <tbody>\n",
              "    <tr>\n",
              "      <th>0</th>\n",
              "      <td>4</td>\n",
              "      <td>2</td>\n",
              "      <td>177</td>\n",
              "      <td>3</td>\n",
              "      <td>44</td>\n",
              "      <td>1233</td>\n",
              "      <td>1</td>\n",
              "      <td>0</td>\n",
              "      <td>0</td>\n",
              "      <td>0</td>\n",
              "      <td>0</td>\n",
              "      <td>0</td>\n",
              "      <td>1</td>\n",
              "      <td>1</td>\n",
              "      <td>0</td>\n",
              "    </tr>\n",
              "    <tr>\n",
              "      <th>1</th>\n",
              "      <td>4</td>\n",
              "      <td>5</td>\n",
              "      <td>216</td>\n",
              "      <td>2</td>\n",
              "      <td>59</td>\n",
              "      <td>3088</td>\n",
              "      <td>1</td>\n",
              "      <td>1</td>\n",
              "      <td>0</td>\n",
              "      <td>0</td>\n",
              "      <td>0</td>\n",
              "      <td>0</td>\n",
              "      <td>0</td>\n",
              "      <td>1</td>\n",
              "      <td>0</td>\n",
              "    </tr>\n",
              "    <tr>\n",
              "      <th>2</th>\n",
              "      <td>2</td>\n",
              "      <td>2</td>\n",
              "      <td>183</td>\n",
              "      <td>4</td>\n",
              "      <td>48</td>\n",
              "      <td>3374</td>\n",
              "      <td>1</td>\n",
              "      <td>1</td>\n",
              "      <td>0</td>\n",
              "      <td>1</td>\n",
              "      <td>0</td>\n",
              "      <td>0</td>\n",
              "      <td>0</td>\n",
              "      <td>1</td>\n",
              "      <td>0</td>\n",
              "    </tr>\n",
              "    <tr>\n",
              "      <th>3</th>\n",
              "      <td>3</td>\n",
              "      <td>3</td>\n",
              "      <td>176</td>\n",
              "      <td>4</td>\n",
              "      <td>10</td>\n",
              "      <td>1177</td>\n",
              "      <td>1</td>\n",
              "      <td>1</td>\n",
              "      <td>1</td>\n",
              "      <td>0</td>\n",
              "      <td>1</td>\n",
              "      <td>0</td>\n",
              "      <td>0</td>\n",
              "      <td>1</td>\n",
              "      <td>0</td>\n",
              "    </tr>\n",
              "    <tr>\n",
              "      <th>4</th>\n",
              "      <td>2</td>\n",
              "      <td>2</td>\n",
              "      <td>184</td>\n",
              "      <td>3</td>\n",
              "      <td>46</td>\n",
              "      <td>2484</td>\n",
              "      <td>1</td>\n",
              "      <td>0</td>\n",
              "      <td>1</td>\n",
              "      <td>0</td>\n",
              "      <td>0</td>\n",
              "      <td>1</td>\n",
              "      <td>0</td>\n",
              "      <td>1</td>\n",
              "      <td>0</td>\n",
              "    </tr>\n",
              "  </tbody>\n",
              "</table>\n",
              "</div>\n",
              "      <button class=\"colab-df-convert\" onclick=\"convertToInteractive('df-69f80601-85c1-4ef9-8b9e-4d8a836758c0')\"\n",
              "              title=\"Convert this dataframe to an interactive table.\"\n",
              "              style=\"display:none;\">\n",
              "        \n",
              "  <svg xmlns=\"http://www.w3.org/2000/svg\" height=\"24px\"viewBox=\"0 0 24 24\"\n",
              "       width=\"24px\">\n",
              "    <path d=\"M0 0h24v24H0V0z\" fill=\"none\"/>\n",
              "    <path d=\"M18.56 5.44l.94 2.06.94-2.06 2.06-.94-2.06-.94-.94-2.06-.94 2.06-2.06.94zm-11 1L8.5 8.5l.94-2.06 2.06-.94-2.06-.94L8.5 2.5l-.94 2.06-2.06.94zm10 10l.94 2.06.94-2.06 2.06-.94-2.06-.94-.94-2.06-.94 2.06-2.06.94z\"/><path d=\"M17.41 7.96l-1.37-1.37c-.4-.4-.92-.59-1.43-.59-.52 0-1.04.2-1.43.59L10.3 9.45l-7.72 7.72c-.78.78-.78 2.05 0 2.83L4 21.41c.39.39.9.59 1.41.59.51 0 1.02-.2 1.41-.59l7.78-7.78 2.81-2.81c.8-.78.8-2.07 0-2.86zM5.41 20L4 18.59l7.72-7.72 1.47 1.35L5.41 20z\"/>\n",
              "  </svg>\n",
              "      </button>\n",
              "      \n",
              "  <style>\n",
              "    .colab-df-container {\n",
              "      display:flex;\n",
              "      flex-wrap:wrap;\n",
              "      gap: 12px;\n",
              "    }\n",
              "\n",
              "    .colab-df-convert {\n",
              "      background-color: #E8F0FE;\n",
              "      border: none;\n",
              "      border-radius: 50%;\n",
              "      cursor: pointer;\n",
              "      display: none;\n",
              "      fill: #1967D2;\n",
              "      height: 32px;\n",
              "      padding: 0 0 0 0;\n",
              "      width: 32px;\n",
              "    }\n",
              "\n",
              "    .colab-df-convert:hover {\n",
              "      background-color: #E2EBFA;\n",
              "      box-shadow: 0px 1px 2px rgba(60, 64, 67, 0.3), 0px 1px 3px 1px rgba(60, 64, 67, 0.15);\n",
              "      fill: #174EA6;\n",
              "    }\n",
              "\n",
              "    [theme=dark] .colab-df-convert {\n",
              "      background-color: #3B4455;\n",
              "      fill: #D2E3FC;\n",
              "    }\n",
              "\n",
              "    [theme=dark] .colab-df-convert:hover {\n",
              "      background-color: #434B5C;\n",
              "      box-shadow: 0px 1px 3px 1px rgba(0, 0, 0, 0.15);\n",
              "      filter: drop-shadow(0px 1px 2px rgba(0, 0, 0, 0.3));\n",
              "      fill: #FFFFFF;\n",
              "    }\n",
              "  </style>\n",
              "\n",
              "      <script>\n",
              "        const buttonEl =\n",
              "          document.querySelector('#df-69f80601-85c1-4ef9-8b9e-4d8a836758c0 button.colab-df-convert');\n",
              "        buttonEl.style.display =\n",
              "          google.colab.kernel.accessAllowed ? 'block' : 'none';\n",
              "\n",
              "        async function convertToInteractive(key) {\n",
              "          const element = document.querySelector('#df-69f80601-85c1-4ef9-8b9e-4d8a836758c0');\n",
              "          const dataTable =\n",
              "            await google.colab.kernel.invokeFunction('convertToInteractive',\n",
              "                                                     [key], {});\n",
              "          if (!dataTable) return;\n",
              "\n",
              "          const docLinkHtml = 'Like what you see? Visit the ' +\n",
              "            '<a target=\"_blank\" href=https://colab.research.google.com/notebooks/data_table.ipynb>data table notebook</a>'\n",
              "            + ' to learn more about interactive tables.';\n",
              "          element.innerHTML = '';\n",
              "          dataTable['output_type'] = 'display_data';\n",
              "          await google.colab.output.renderOutput(dataTable, element);\n",
              "          const docLink = document.createElement('div');\n",
              "          docLink.innerHTML = docLinkHtml;\n",
              "          element.appendChild(docLink);\n",
              "        }\n",
              "      </script>\n",
              "    </div>\n",
              "  </div>\n",
              "  "
            ],
            "text/plain": [
              "   Customer_care_calls  ...  Mode_of_Shipment_Road\n",
              "0                    4  ...                      0\n",
              "1                    4  ...                      0\n",
              "2                    2  ...                      0\n",
              "3                    3  ...                      0\n",
              "4                    2  ...                      0\n",
              "\n",
              "[5 rows x 15 columns]"
            ]
          },
          "metadata": {},
          "execution_count": 22
        }
      ],
      "source": [
        "df_shipping.head()"
      ]
    },
    {
      "cell_type": "code",
      "execution_count": null,
      "metadata": {
        "colab": {
          "base_uri": "https://localhost:8080/",
          "height": 364
        },
        "id": "IxtxMwrCrZaZ",
        "outputId": "3f4fb0f2-5b81-4982-d78f-8ef831f4adc8"
      },
      "outputs": [
        {
          "output_type": "execute_result",
          "data": {
            "text/html": [
              "\n",
              "  <div id=\"df-d00d7639-9284-44a0-8bb7-d6a7730a453c\">\n",
              "    <div class=\"colab-df-container\">\n",
              "      <div>\n",
              "<style scoped>\n",
              "    .dataframe tbody tr th:only-of-type {\n",
              "        vertical-align: middle;\n",
              "    }\n",
              "\n",
              "    .dataframe tbody tr th {\n",
              "        vertical-align: top;\n",
              "    }\n",
              "\n",
              "    .dataframe thead th {\n",
              "        text-align: right;\n",
              "    }\n",
              "</style>\n",
              "<table border=\"1\" class=\"dataframe\">\n",
              "  <thead>\n",
              "    <tr style=\"text-align: right;\">\n",
              "      <th></th>\n",
              "      <th>Customer_care_calls</th>\n",
              "      <th>Customer_rating</th>\n",
              "      <th>Cost_of_the_Product</th>\n",
              "      <th>Prior_purchases</th>\n",
              "      <th>Discount_offered</th>\n",
              "      <th>Weight_in_gms</th>\n",
              "      <th>Reached.on.Time_Y.N</th>\n",
              "      <th>Gender(num)</th>\n",
              "      <th>Product_Importance(num)</th>\n",
              "      <th>Warehouse_block_A</th>\n",
              "      <th>Warehouse_block_B</th>\n",
              "      <th>Warehouse_block_C</th>\n",
              "      <th>Warehouse_block_D</th>\n",
              "      <th>Mode_of_Shipment_Flight</th>\n",
              "      <th>Mode_of_Shipment_Road</th>\n",
              "    </tr>\n",
              "  </thead>\n",
              "  <tbody>\n",
              "    <tr>\n",
              "      <th>count</th>\n",
              "      <td>10999.000000</td>\n",
              "      <td>10999.000000</td>\n",
              "      <td>10999.000000</td>\n",
              "      <td>10999.000000</td>\n",
              "      <td>10999.000000</td>\n",
              "      <td>10999.000000</td>\n",
              "      <td>10999.000000</td>\n",
              "      <td>10999.000000</td>\n",
              "      <td>10999.000000</td>\n",
              "      <td>10999.000000</td>\n",
              "      <td>10999.000000</td>\n",
              "      <td>10999.000000</td>\n",
              "      <td>10999.000000</td>\n",
              "      <td>10999.000000</td>\n",
              "      <td>10999.000000</td>\n",
              "    </tr>\n",
              "    <tr>\n",
              "      <th>mean</th>\n",
              "      <td>4.054459</td>\n",
              "      <td>2.990545</td>\n",
              "      <td>210.196836</td>\n",
              "      <td>3.567597</td>\n",
              "      <td>13.373216</td>\n",
              "      <td>3634.016729</td>\n",
              "      <td>0.596691</td>\n",
              "      <td>0.495863</td>\n",
              "      <td>0.604600</td>\n",
              "      <td>0.166652</td>\n",
              "      <td>0.166652</td>\n",
              "      <td>0.166652</td>\n",
              "      <td>0.166742</td>\n",
              "      <td>0.161560</td>\n",
              "      <td>0.160015</td>\n",
              "    </tr>\n",
              "    <tr>\n",
              "      <th>std</th>\n",
              "      <td>1.141490</td>\n",
              "      <td>1.413603</td>\n",
              "      <td>48.063272</td>\n",
              "      <td>1.522860</td>\n",
              "      <td>16.205527</td>\n",
              "      <td>1635.377251</td>\n",
              "      <td>0.490584</td>\n",
              "      <td>0.500006</td>\n",
              "      <td>0.641464</td>\n",
              "      <td>0.372681</td>\n",
              "      <td>0.372681</td>\n",
              "      <td>0.372681</td>\n",
              "      <td>0.372763</td>\n",
              "      <td>0.368064</td>\n",
              "      <td>0.366636</td>\n",
              "    </tr>\n",
              "    <tr>\n",
              "      <th>min</th>\n",
              "      <td>2.000000</td>\n",
              "      <td>1.000000</td>\n",
              "      <td>96.000000</td>\n",
              "      <td>2.000000</td>\n",
              "      <td>1.000000</td>\n",
              "      <td>1001.000000</td>\n",
              "      <td>0.000000</td>\n",
              "      <td>0.000000</td>\n",
              "      <td>0.000000</td>\n",
              "      <td>0.000000</td>\n",
              "      <td>0.000000</td>\n",
              "      <td>0.000000</td>\n",
              "      <td>0.000000</td>\n",
              "      <td>0.000000</td>\n",
              "      <td>0.000000</td>\n",
              "    </tr>\n",
              "    <tr>\n",
              "      <th>25%</th>\n",
              "      <td>3.000000</td>\n",
              "      <td>2.000000</td>\n",
              "      <td>169.000000</td>\n",
              "      <td>3.000000</td>\n",
              "      <td>4.000000</td>\n",
              "      <td>1839.500000</td>\n",
              "      <td>0.000000</td>\n",
              "      <td>0.000000</td>\n",
              "      <td>0.000000</td>\n",
              "      <td>0.000000</td>\n",
              "      <td>0.000000</td>\n",
              "      <td>0.000000</td>\n",
              "      <td>0.000000</td>\n",
              "      <td>0.000000</td>\n",
              "      <td>0.000000</td>\n",
              "    </tr>\n",
              "    <tr>\n",
              "      <th>50%</th>\n",
              "      <td>4.000000</td>\n",
              "      <td>3.000000</td>\n",
              "      <td>214.000000</td>\n",
              "      <td>3.000000</td>\n",
              "      <td>7.000000</td>\n",
              "      <td>4149.000000</td>\n",
              "      <td>1.000000</td>\n",
              "      <td>0.000000</td>\n",
              "      <td>1.000000</td>\n",
              "      <td>0.000000</td>\n",
              "      <td>0.000000</td>\n",
              "      <td>0.000000</td>\n",
              "      <td>0.000000</td>\n",
              "      <td>0.000000</td>\n",
              "      <td>0.000000</td>\n",
              "    </tr>\n",
              "    <tr>\n",
              "      <th>75%</th>\n",
              "      <td>5.000000</td>\n",
              "      <td>4.000000</td>\n",
              "      <td>251.000000</td>\n",
              "      <td>4.000000</td>\n",
              "      <td>10.000000</td>\n",
              "      <td>5050.000000</td>\n",
              "      <td>1.000000</td>\n",
              "      <td>1.000000</td>\n",
              "      <td>1.000000</td>\n",
              "      <td>0.000000</td>\n",
              "      <td>0.000000</td>\n",
              "      <td>0.000000</td>\n",
              "      <td>0.000000</td>\n",
              "      <td>0.000000</td>\n",
              "      <td>0.000000</td>\n",
              "    </tr>\n",
              "    <tr>\n",
              "      <th>max</th>\n",
              "      <td>7.000000</td>\n",
              "      <td>5.000000</td>\n",
              "      <td>310.000000</td>\n",
              "      <td>10.000000</td>\n",
              "      <td>65.000000</td>\n",
              "      <td>7846.000000</td>\n",
              "      <td>1.000000</td>\n",
              "      <td>1.000000</td>\n",
              "      <td>2.000000</td>\n",
              "      <td>1.000000</td>\n",
              "      <td>1.000000</td>\n",
              "      <td>1.000000</td>\n",
              "      <td>1.000000</td>\n",
              "      <td>1.000000</td>\n",
              "      <td>1.000000</td>\n",
              "    </tr>\n",
              "  </tbody>\n",
              "</table>\n",
              "</div>\n",
              "      <button class=\"colab-df-convert\" onclick=\"convertToInteractive('df-d00d7639-9284-44a0-8bb7-d6a7730a453c')\"\n",
              "              title=\"Convert this dataframe to an interactive table.\"\n",
              "              style=\"display:none;\">\n",
              "        \n",
              "  <svg xmlns=\"http://www.w3.org/2000/svg\" height=\"24px\"viewBox=\"0 0 24 24\"\n",
              "       width=\"24px\">\n",
              "    <path d=\"M0 0h24v24H0V0z\" fill=\"none\"/>\n",
              "    <path d=\"M18.56 5.44l.94 2.06.94-2.06 2.06-.94-2.06-.94-.94-2.06-.94 2.06-2.06.94zm-11 1L8.5 8.5l.94-2.06 2.06-.94-2.06-.94L8.5 2.5l-.94 2.06-2.06.94zm10 10l.94 2.06.94-2.06 2.06-.94-2.06-.94-.94-2.06-.94 2.06-2.06.94z\"/><path d=\"M17.41 7.96l-1.37-1.37c-.4-.4-.92-.59-1.43-.59-.52 0-1.04.2-1.43.59L10.3 9.45l-7.72 7.72c-.78.78-.78 2.05 0 2.83L4 21.41c.39.39.9.59 1.41.59.51 0 1.02-.2 1.41-.59l7.78-7.78 2.81-2.81c.8-.78.8-2.07 0-2.86zM5.41 20L4 18.59l7.72-7.72 1.47 1.35L5.41 20z\"/>\n",
              "  </svg>\n",
              "      </button>\n",
              "      \n",
              "  <style>\n",
              "    .colab-df-container {\n",
              "      display:flex;\n",
              "      flex-wrap:wrap;\n",
              "      gap: 12px;\n",
              "    }\n",
              "\n",
              "    .colab-df-convert {\n",
              "      background-color: #E8F0FE;\n",
              "      border: none;\n",
              "      border-radius: 50%;\n",
              "      cursor: pointer;\n",
              "      display: none;\n",
              "      fill: #1967D2;\n",
              "      height: 32px;\n",
              "      padding: 0 0 0 0;\n",
              "      width: 32px;\n",
              "    }\n",
              "\n",
              "    .colab-df-convert:hover {\n",
              "      background-color: #E2EBFA;\n",
              "      box-shadow: 0px 1px 2px rgba(60, 64, 67, 0.3), 0px 1px 3px 1px rgba(60, 64, 67, 0.15);\n",
              "      fill: #174EA6;\n",
              "    }\n",
              "\n",
              "    [theme=dark] .colab-df-convert {\n",
              "      background-color: #3B4455;\n",
              "      fill: #D2E3FC;\n",
              "    }\n",
              "\n",
              "    [theme=dark] .colab-df-convert:hover {\n",
              "      background-color: #434B5C;\n",
              "      box-shadow: 0px 1px 3px 1px rgba(0, 0, 0, 0.15);\n",
              "      filter: drop-shadow(0px 1px 2px rgba(0, 0, 0, 0.3));\n",
              "      fill: #FFFFFF;\n",
              "    }\n",
              "  </style>\n",
              "\n",
              "      <script>\n",
              "        const buttonEl =\n",
              "          document.querySelector('#df-d00d7639-9284-44a0-8bb7-d6a7730a453c button.colab-df-convert');\n",
              "        buttonEl.style.display =\n",
              "          google.colab.kernel.accessAllowed ? 'block' : 'none';\n",
              "\n",
              "        async function convertToInteractive(key) {\n",
              "          const element = document.querySelector('#df-d00d7639-9284-44a0-8bb7-d6a7730a453c');\n",
              "          const dataTable =\n",
              "            await google.colab.kernel.invokeFunction('convertToInteractive',\n",
              "                                                     [key], {});\n",
              "          if (!dataTable) return;\n",
              "\n",
              "          const docLinkHtml = 'Like what you see? Visit the ' +\n",
              "            '<a target=\"_blank\" href=https://colab.research.google.com/notebooks/data_table.ipynb>data table notebook</a>'\n",
              "            + ' to learn more about interactive tables.';\n",
              "          element.innerHTML = '';\n",
              "          dataTable['output_type'] = 'display_data';\n",
              "          await google.colab.output.renderOutput(dataTable, element);\n",
              "          const docLink = document.createElement('div');\n",
              "          docLink.innerHTML = docLinkHtml;\n",
              "          element.appendChild(docLink);\n",
              "        }\n",
              "      </script>\n",
              "    </div>\n",
              "  </div>\n",
              "  "
            ],
            "text/plain": [
              "       Customer_care_calls  ...  Mode_of_Shipment_Road\n",
              "count         10999.000000  ...           10999.000000\n",
              "mean              4.054459  ...               0.160015\n",
              "std               1.141490  ...               0.366636\n",
              "min               2.000000  ...               0.000000\n",
              "25%               3.000000  ...               0.000000\n",
              "50%               4.000000  ...               0.000000\n",
              "75%               5.000000  ...               0.000000\n",
              "max               7.000000  ...               1.000000\n",
              "\n",
              "[8 rows x 15 columns]"
            ]
          },
          "metadata": {},
          "execution_count": 23
        }
      ],
      "source": [
        "df_shipping.describe()"
      ]
    },
    {
      "cell_type": "code",
      "execution_count": null,
      "metadata": {
        "colab": {
          "base_uri": "https://localhost:8080/",
          "height": 463
        },
        "id": "M35RUjlltBfP",
        "outputId": "a69b2e07-b6f1-46c7-cc74-72f4f8ee9af3"
      },
      "outputs": [
        {
          "output_type": "stream",
          "name": "stderr",
          "text": [
            "/usr/local/lib/python3.7/dist-packages/seaborn/axisgrid.py:2076: UserWarning: The `size` parameter has been renamed to `height`; please update your code.\n",
            "  warnings.warn(msg, UserWarning)\n"
          ]
        },
        {
          "output_type": "execute_result",
          "data": {
            "text/plain": [
              "<seaborn.axisgrid.PairGrid at 0x7f3cb88e56d0>"
            ]
          },
          "metadata": {},
          "execution_count": 65
        },
        {
          "output_type": "display_data",
          "data": {
            "text/plain": [
              "<Figure size 720x576 with 0 Axes>"
            ]
          },
          "metadata": {}
        },
        {
          "output_type": "display_data",
          "data": {
            "image/png": "[encoded data removed]",
            "text/plain": [
              "<Figure size 810x360 with 3 Axes>"
            ]
          },
          "metadata": {
            "needs_background": "light"
          }
        }
      ],
      "source": [
        "plt.figure(figsize=(10,8))\n",
        "sns.pairplot(data=df_shipping, x_vars=['Prior_purchases', 'Discount_offered', 'Weight_in_gms'], y_vars=['Reached.on.Time_Y.N'], size=5, aspect=0.75)"
      ]
    },
    {
      "cell_type": "markdown",
      "metadata": {
        "id": "rM-ztY8boTm5"
      },
      "source": [
        "# 1. Data asli tanpa remove outlier"
      ]
    },
    {
      "cell_type": "code",
      "execution_count": null,
      "metadata": {
        "colab": {
          "base_uri": "https://localhost:8080/"
        },
        "id": "aJ9m-Lc5od4q",
        "outputId": "bd923008-638c-4bd1-f591-f6071cb961d0"
      },
      "outputs": [
        {
          "output_type": "stream",
          "name": "stdout",
          "text": [
            "<class 'pandas.core.frame.DataFrame'>\n",
            "RangeIndex: 10999 entries, 0 to 10998\n",
            "Data columns (total 15 columns):\n",
            " #   Column                   Non-Null Count  Dtype\n",
            "---  ------                   --------------  -----\n",
            " 0   Customer_care_calls      10999 non-null  int64\n",
            " 1   Customer_rating          10999 non-null  int64\n",
            " 2   Cost_of_the_Product      10999 non-null  int64\n",
            " 3   Prior_purchases          10999 non-null  int64\n",
            " 4   Discount_offered         10999 non-null  int64\n",
            " 5   Weight_in_gms            10999 non-null  int64\n",
            " 6   Reached.on.Time_Y.N      10999 non-null  int64\n",
            " 7   Gender(num)              10999 non-null  int64\n",
            " 8   Product_Importance(num)  10999 non-null  int64\n",
            " 9   Warehouse_block_A        10999 non-null  uint8\n",
            " 10  Warehouse_block_B        10999 non-null  uint8\n",
            " 11  Warehouse_block_C        10999 non-null  uint8\n",
            " 12  Warehouse_block_D        10999 non-null  uint8\n",
            " 13  Mode_of_Shipment_Flight  10999 non-null  uint8\n",
            " 14  Mode_of_Shipment_Road    10999 non-null  uint8\n",
            "dtypes: int64(9), uint8(6)\n",
            "memory usage: 837.9 KB\n"
          ]
        }
      ],
      "source": [
        "dfori = df_shipping.copy()\n",
        "\n",
        "dfori.info()"
      ]
    },
    {
      "cell_type": "code",
      "execution_count": null,
      "metadata": {
        "id": "Xxykb50vtPMe"
      },
      "outputs": [],
      "source": [
        "\n",
        "\n",
        "# Model Evaluation function\n",
        "def model_evaluation(model, pred, xtrain, ytrain, xtest, ytest):\n",
        "    print('Accuracy : %.3f' % accuracy_score(ytest, pred))\n",
        "    print('Precision : %.3f' % precision_score(ytest, pred))\n",
        "    print('Recall : %.3f' % recall_score(ytest, pred))\n",
        "    print('F-1Score : %.3f' % f1_score(ytest, pred))\n",
        "    \n",
        "    fpr, tpr, thresholds = roc_curve(ytest, pred, pos_label=1) \n",
        "    print('ROC AUC : %.3f' % auc(fpr, tpr))\n",
        "    \n",
        "    # Average precision score\n",
        "    average_precision = average_precision_score(ytest, pred)\n",
        "    print('AP : %.3f'% average_precision)\n",
        "\n",
        "    # Feature Importance Function\n",
        "def feature_importance(model, x):\n",
        "    feat_importances = pd.Series(model.best_estimator_.feature_importances_, index = x.columns)\n",
        "    ax = feat_importances.nlargest(25).plot(kind = 'barh', figsize = (10, 8))\n",
        "    ax.invert_yaxis()\n",
        "\n",
        "# Best Hyperparameter Function\n",
        "def best_hyperparameter(model, hyperparameters):\n",
        "    for key, value in hyperparameters.items() :\n",
        "        print('Best '+key+':', model.get_params()[key])"
      ]
    },
    {
      "cell_type": "code",
      "execution_count": null,
      "metadata": {
        "id": "Z8gPjBPRodcg"
      },
      "outputs": [],
      "source": [
        "# Splitting Features & Target\n",
        "xlr1 = dfori.drop(columns = ['Reached.on.Time_Y.N']) # Features\n",
        "ylr1 = dfori['Reached.on.Time_Y.N'] # Target\n",
        "\n",
        "# Splitting Data Train & Data Test\n",
        "xlrtrain1, xlrtest1, ylrtrain1, ylrtest1 = train_test_split(xlr1, ylr1, test_size = 0.3, random_state = 33)"
      ]
    },
    {
      "cell_type": "code",
      "source": [
        ""
      ],
      "metadata": {
        "id": "FEJdZ3NpURjY"
      },
      "execution_count": null,
      "outputs": []
    },
    {
      "cell_type": "markdown",
      "metadata": {
        "id": "e845CoZ2rYTD"
      },
      "source": [
        "## Logistic Regression"
      ]
    },
    {
      "cell_type": "code",
      "execution_count": null,
      "metadata": {
        "colab": {
          "base_uri": "https://localhost:8080/"
        },
        "id": "NWb0p-6rpyPb",
        "outputId": "15cf5a99-9fe3-47db-9be8-d6ac9e414c11"
      },
      "outputs": [
        {
          "data": {
            "text/plain": [
              "LogisticRegression(random_state=33)"
            ]
          },
          "execution_count": 157,
          "metadata": {},
          "output_type": "execute_result"
        }
      ],
      "source": [
        "# Modeling\n",
        "modelLR1 = LogisticRegression(random_state=33)\n",
        "modelLR1.fit(xlrtrain1, ylrtrain1)"
      ]
    },
    {
      "cell_type": "code",
      "execution_count": null,
      "metadata": {
        "colab": {
          "base_uri": "https://localhost:8080/"
        },
        "id": "FJoR9XUKpyM5",
        "outputId": "0e95c787-b578-4a74-b862-8d9b24d5ae22"
      },
      "outputs": [
        {
          "data": {
            "text/plain": [
              "array([0, 1, 1, ..., 1, 1, 0])"
            ]
          },
          "execution_count": 158,
          "metadata": {},
          "output_type": "execute_result"
        }
      ],
      "source": [
        "# Model Prediction\n",
        "y_pred_trainLR1 = modelLR1.predict(xlrtrain1)\n",
        "y_pred_trainLR1"
      ]
    },
    {
      "cell_type": "code",
      "execution_count": null,
      "metadata": {
        "colab": {
          "base_uri": "https://localhost:8080/"
        },
        "id": "LY2tO1wZpyJX",
        "outputId": "8dac46aa-4b23-40c6-a0c4-13c05eb44cc7"
      },
      "outputs": [
        {
          "data": {
            "text/plain": [
              "array([0, 0, 0, ..., 1, 1, 0])"
            ]
          },
          "execution_count": 159,
          "metadata": {},
          "output_type": "execute_result"
        }
      ],
      "source": [
        "y_predLR1 = modelLR1.predict(xlrtest1)\n",
        "y_predLR1"
      ]
    },
    {
      "cell_type": "code",
      "execution_count": null,
      "metadata": {
        "colab": {
          "base_uri": "https://localhost:8080/"
        },
        "id": "sD9uk_obpyGc",
        "outputId": "c03a7f96-331e-4dc8-9a3c-4980097918b8"
      },
      "outputs": [
        {
          "data": {
            "text/plain": [
              "array([[0.59004608, 0.40995392],\n",
              "       [0.67207353, 0.32792647],\n",
              "       [0.69585843, 0.30414157],\n",
              "       ...,\n",
              "       [0.47789952, 0.52210048],\n",
              "       [0.46287873, 0.53712127],\n",
              "       [0.57748184, 0.42251816]])"
            ]
          },
          "execution_count": 160,
          "metadata": {},
          "output_type": "execute_result"
        }
      ],
      "source": [
        "# Model Prediction Probability\n",
        "modelLR1.predict_proba(xlrtest1)"
      ]
    },
    {
      "cell_type": "code",
      "execution_count": null,
      "metadata": {
        "colab": {
          "base_uri": "https://localhost:8080/"
        },
        "id": "K_fwXTPxpyDV",
        "outputId": "cedcb8fd-bd54-4dbf-80ad-bc81ab4e3699"
      },
      "outputs": [
        {
          "name": "stdout",
          "output_type": "stream",
          "text": [
            "Accuracy : 0.658\n",
            "Precision : 0.721\n",
            "Recall : 0.708\n",
            "F-1Score : 0.714\n",
            "ROC AUC : 0.644\n",
            "AP : 0.687\n"
          ]
        }
      ],
      "source": [
        "# Model Evaluation\n",
        "model_evaluation(modelLR1, y_predLR1, xlrtrain1, ylrtrain1, xlrtest1, ylrtest1)"
      ]
    },
    {
      "cell_type": "code",
      "execution_count": null,
      "metadata": {
        "colab": {
          "base_uri": "https://localhost:8080/"
        },
        "id": "8Fql0ZBXpx9G",
        "outputId": "63df0900-fd10-475c-8b29-e1ed764e8241"
      },
      "outputs": [
        {
          "name": "stdout",
          "output_type": "stream",
          "text": [
            "AP test score :  0.6868098142241771\n",
            "AP train score :  0.6628299951297594\n"
          ]
        }
      ],
      "source": [
        "# Model Validation Average Precision\n",
        "print('AP test score : ',average_precision_score(ylrtest1, y_predLR1))\n",
        "print('AP train score : ',average_precision_score(ylrtrain1, y_pred_trainLR1))"
      ]
    },
    {
      "cell_type": "code",
      "execution_count": null,
      "metadata": {
        "colab": {
          "base_uri": "https://localhost:8080/"
        },
        "id": "35ujugwFpx31",
        "outputId": "7a871723-ae4c-46db-af2f-f44267e36701"
      },
      "outputs": [
        {
          "name": "stdout",
          "output_type": "stream",
          "text": [
            "train Accuracy :  0.6307312638004936\n",
            "test Accuracy :  0.6575757575757576\n"
          ]
        }
      ],
      "source": [
        "# Model Validation Accuracy\n",
        "print('train Accuracy : ',modelLR1.score(xlrtrain1, ylrtrain1))\n",
        "print('test Accuracy : ',modelLR1.score(xlrtest1, ylrtest1))"
      ]
    },
    {
      "cell_type": "code",
      "execution_count": null,
      "metadata": {
        "colab": {
          "base_uri": "https://localhost:8080/"
        },
        "id": "k3HQO9j6uIR9",
        "outputId": "6968726c-46cc-4501-b90e-a3acd237cdb4"
      },
      "outputs": [
        {
          "data": {
            "text/plain": [
              "<matplotlib.axes._subplots.AxesSubplot at 0x7f1b59f63d50>"
            ]
          },
          "execution_count": 164,
          "metadata": {},
          "output_type": "execute_result"
        },
        {
          "data": {
            "image/png": "[encoded data removed]",
            "text/plain": [
              "<Figure size 432x288 with 2 Axes>"
            ]
          },
          "metadata": {},
          "output_type": "display_data"
        }
      ],
      "source": [
        "# Confusion Matrix\n",
        "cf_matrixa = confusion_matrix(ylrtest1, y_predLR1)\n",
        "group_names = ['True Neg','False Pos','False Neg','True Pos']\n",
        "group_counts = ['{0:0.0f}'.format(value) for value in\n",
        "                cf_matrixa.flatten()]\n",
        "group_percentages = ['{0:.2%}'.format(value) for value in\n",
        "                     cf_matrixa.flatten()/np.sum(cf_matrixa)]\n",
        "labels = [f'{v1}\\n{v2}\\n{v3}' for v1, v2, v3 in\n",
        "          zip(group_names,group_counts,group_percentages)]\n",
        "labels = np.asarray(labels).reshape(2,2)\n",
        "sns.heatmap(cf_matrixa, annot=labels, fmt='', cmap='Blues')"
      ]
    },
    {
      "cell_type": "code",
      "execution_count": null,
      "metadata": {
        "colab": {
          "base_uri": "https://localhost:8080/"
        },
        "id": "IrBYeYoruII5",
        "outputId": "1b1d9bb8-d542-4a46-a205-d23e425f16ab"
      },
      "outputs": [
        {
          "name": "stdout",
          "output_type": "stream",
          "text": [
            "AP : 0.687\n"
          ]
        },
        {
          "name": "stderr",
          "output_type": "stream",
          "text": [
            "/usr/local/lib/python3.7/dist-packages/sklearn/utils/deprecation.py:87: FutureWarning: Function plot_precision_recall_curve is deprecated; Function `plot_precision_recall_curve` is deprecated in 1.0 and will be removed in 1.2. Use one of the class methods: PrecisionRecallDisplay.from_predictions or PrecisionRecallDisplay.from_estimator.\n",
            "  warnings.warn(msg, category=FutureWarning)\n"
          ]
        },
        {
          "data": {
            "text/plain": [
              "Text(0.5, 1.0, '2-class Precision-Recall curve: AP=0.69')"
            ]
          },
          "execution_count": 165,
          "metadata": {},
          "output_type": "execute_result"
        },
        {
          "data": {
            "image/png": "[encoded data removed]",
            "text/plain": [
              "<Figure size 432x288 with 1 Axes>"
            ]
          },
          "metadata": {},
          "output_type": "display_data"
        }
      ],
      "source": [
        "# Average Precision Plot\n",
        "average_precision = average_precision_score(ylrtest1, y_predLR1)\n",
        "print('AP : %.3f'% average_precision)\n",
        "\n",
        "disp = plot_precision_recall_curve(modelLR1, xlrtest1, ylrtest1)\n",
        "disp.ax_.set_title('2-class Precision-Recall curve: '\n",
        "                   'AP={0:0.2f}'.format(average_precision))"
      ]
    },
    {
      "cell_type": "code",
      "execution_count": null,
      "metadata": {
        "colab": {
          "base_uri": "https://localhost:8080/"
        },
        "id": "BNYC1vviuIEo",
        "outputId": "2f07b239-3a1e-468c-debd-2d7d6f032c37"
      },
      "outputs": [
        {
          "name": "stdout",
          "output_type": "stream",
          "text": [
            "[0.0285722]\n"
          ]
        }
      ],
      "source": [
        "# Logistic Regression Intercept\n",
        "print(modelLR1.intercept_)"
      ]
    },
    {
      "cell_type": "code",
      "execution_count": null,
      "metadata": {
        "colab": {
          "base_uri": "https://localhost:8080/"
        },
        "id": "vK7Q8gipu5QT",
        "outputId": "a6d8ff0d-608d-4e4b-85a9-f1fc6ec34630"
      },
      "outputs": [
        {
          "name": "stdout",
          "output_type": "stream",
          "text": [
            "[[-0.04754708  0.07478664 -0.00034277 -0.03382388  0.11771951 -0.00015686\n",
            "   0.02659305  0.07079576 -0.00124667  0.01074313  0.00310009  0.00603317\n",
            "   0.01229595  0.00410358]]\n"
          ]
        }
      ],
      "source": [
        "# Logistic Regression Coefficient\n",
        "print(modelLR1.coef_)"
      ]
    },
    {
      "cell_type": "code",
      "execution_count": null,
      "metadata": {
        "colab": {
          "base_uri": "https://localhost:8080/"
        },
        "id": "uEtIdJ-tu5KP",
        "outputId": "167eb525-63ba-4045-fcea-bb4ee85d3778"
      },
      "outputs": [
        {
          "data": {
            "text/html": [
              "\n",
              "  <div id=\"df-f0aa6581-267b-46c5-aeb6-6d26dc87b4a0\">\n",
              "    <div class=\"colab-df-container\">\n",
              "      <div>\n",
              "<style scoped>\n",
              "    .dataframe tbody tr th:only-of-type {\n",
              "        vertical-align: middle;\n",
              "    }\n",
              "\n",
              "    .dataframe tbody tr th {\n",
              "        vertical-align: top;\n",
              "    }\n",
              "\n",
              "    .dataframe thead th {\n",
              "        text-align: right;\n",
              "    }\n",
              "</style>\n",
              "<table border=\"1\" class=\"dataframe\">\n",
              "  <thead>\n",
              "    <tr style=\"text-align: right;\">\n",
              "      <th></th>\n",
              "      <th>Feature</th>\n",
              "      <th>Coefficient</th>\n",
              "    </tr>\n",
              "  </thead>\n",
              "  <tbody>\n",
              "    <tr>\n",
              "      <th>0</th>\n",
              "      <td>Discount</td>\n",
              "      <td>6.341529</td>\n",
              "    </tr>\n",
              "    <tr>\n",
              "      <th>1</th>\n",
              "      <td>Importance</td>\n",
              "      <td>0.209168</td>\n",
              "    </tr>\n",
              "    <tr>\n",
              "      <th>2</th>\n",
              "      <td>Rating</td>\n",
              "      <td>0.107228</td>\n",
              "    </tr>\n",
              "    <tr>\n",
              "      <th>3</th>\n",
              "      <td>Warehouse_B</td>\n",
              "      <td>0.023571</td>\n",
              "    </tr>\n",
              "    <tr>\n",
              "      <th>4</th>\n",
              "      <td>Shipment_Flight</td>\n",
              "      <td>0.022162</td>\n",
              "    </tr>\n",
              "    <tr>\n",
              "      <th>5</th>\n",
              "      <td>Warehouse_D</td>\n",
              "      <td>0.004854</td>\n",
              "    </tr>\n",
              "    <tr>\n",
              "      <th>6</th>\n",
              "      <td>Warehouse_F</td>\n",
              "      <td>0.003800</td>\n",
              "    </tr>\n",
              "    <tr>\n",
              "      <th>7</th>\n",
              "      <td>Warehouse_C</td>\n",
              "      <td>-0.004619</td>\n",
              "    </tr>\n",
              "    <tr>\n",
              "      <th>8</th>\n",
              "      <td>Shipment_Road</td>\n",
              "      <td>-0.008012</td>\n",
              "    </tr>\n",
              "    <tr>\n",
              "      <th>9</th>\n",
              "      <td>Shipment_Ship</td>\n",
              "      <td>-0.014506</td>\n",
              "    </tr>\n",
              "    <tr>\n",
              "      <th>10</th>\n",
              "      <td>Warehouse_A</td>\n",
              "      <td>-0.027961</td>\n",
              "    </tr>\n",
              "    <tr>\n",
              "      <th>11</th>\n",
              "      <td>Gender</td>\n",
              "      <td>-0.031968</td>\n",
              "    </tr>\n",
              "    <tr>\n",
              "      <th>12</th>\n",
              "      <td>Cost</td>\n",
              "      <td>-0.416402</td>\n",
              "    </tr>\n",
              "    <tr>\n",
              "      <th>13</th>\n",
              "      <td>Calls</td>\n",
              "      <td>-0.559875</td>\n",
              "    </tr>\n",
              "    <tr>\n",
              "      <th>14</th>\n",
              "      <td>Purchase</td>\n",
              "      <td>-0.589193</td>\n",
              "    </tr>\n",
              "    <tr>\n",
              "      <th>15</th>\n",
              "      <td>Weight</td>\n",
              "      <td>-1.599160</td>\n",
              "    </tr>\n",
              "  </tbody>\n",
              "</table>\n",
              "</div>\n",
              "      <button class=\"colab-df-convert\" onclick=\"convertToInteractive('df-f0aa6581-267b-46c5-aeb6-6d26dc87b4a0')\"\n",
              "              title=\"Convert this dataframe to an interactive table.\"\n",
              "              style=\"display:none;\">\n",
              "        \n",
              "  <svg xmlns=\"http://www.w3.org/2000/svg\" height=\"24px\"viewBox=\"0 0 24 24\"\n",
              "       width=\"24px\">\n",
              "    <path d=\"M0 0h24v24H0V0z\" fill=\"none\"/>\n",
              "    <path d=\"M18.56 5.44l.94 2.06.94-2.06 2.06-.94-2.06-.94-.94-2.06-.94 2.06-2.06.94zm-11 1L8.5 8.5l.94-2.06 2.06-.94-2.06-.94L8.5 2.5l-.94 2.06-2.06.94zm10 10l.94 2.06.94-2.06 2.06-.94-2.06-.94-.94-2.06-.94 2.06-2.06.94z\"/><path d=\"M17.41 7.96l-1.37-1.37c-.4-.4-.92-.59-1.43-.59-.52 0-1.04.2-1.43.59L10.3 9.45l-7.72 7.72c-.78.78-.78 2.05 0 2.83L4 21.41c.39.39.9.59 1.41.59.51 0 1.02-.2 1.41-.59l7.78-7.78 2.81-2.81c.8-.78.8-2.07 0-2.86zM5.41 20L4 18.59l7.72-7.72 1.47 1.35L5.41 20z\"/>\n",
              "  </svg>\n",
              "      </button>\n",
              "      \n",
              "  <style>\n",
              "    .colab-df-container {\n",
              "      display:flex;\n",
              "      flex-wrap:wrap;\n",
              "      gap: 12px;\n",
              "    }\n",
              "\n",
              "    .colab-df-convert {\n",
              "      background-color: #E8F0FE;\n",
              "      border: none;\n",
              "      border-radius: 50%;\n",
              "      cursor: pointer;\n",
              "      display: none;\n",
              "      fill: #1967D2;\n",
              "      height: 32px;\n",
              "      padding: 0 0 0 0;\n",
              "      width: 32px;\n",
              "    }\n",
              "\n",
              "    .colab-df-convert:hover {\n",
              "      background-color: #E2EBFA;\n",
              "      box-shadow: 0px 1px 2px rgba(60, 64, 67, 0.3), 0px 1px 3px 1px rgba(60, 64, 67, 0.15);\n",
              "      fill: #174EA6;\n",
              "    }\n",
              "\n",
              "    [theme=dark] .colab-df-convert {\n",
              "      background-color: #3B4455;\n",
              "      fill: #D2E3FC;\n",
              "    }\n",
              "\n",
              "    [theme=dark] .colab-df-convert:hover {\n",
              "      background-color: #434B5C;\n",
              "      box-shadow: 0px 1px 3px 1px rgba(0, 0, 0, 0.15);\n",
              "      filter: drop-shadow(0px 1px 2px rgba(0, 0, 0, 0.3));\n",
              "      fill: #FFFFFF;\n",
              "    }\n",
              "  </style>\n",
              "\n",
              "      <script>\n",
              "        const buttonEl =\n",
              "          document.querySelector('#df-f0aa6581-267b-46c5-aeb6-6d26dc87b4a0 button.colab-df-convert');\n",
              "        buttonEl.style.display =\n",
              "          google.colab.kernel.accessAllowed ? 'block' : 'none';\n",
              "\n",
              "        async function convertToInteractive(key) {\n",
              "          const element = document.querySelector('#df-f0aa6581-267b-46c5-aeb6-6d26dc87b4a0');\n",
              "          const dataTable =\n",
              "            await google.colab.kernel.invokeFunction('convertToInteractive',\n",
              "                                                     [key], {});\n",
              "          if (!dataTable) return;\n",
              "\n",
              "          const docLinkHtml = 'Like what you see? Visit the ' +\n",
              "            '<a target=\"_blank\" href=https://colab.research.google.com/notebooks/data_table.ipynb>data table notebook</a>'\n",
              "            + ' to learn more about interactive tables.';\n",
              "          element.innerHTML = '';\n",
              "          dataTable['output_type'] = 'display_data';\n",
              "          await google.colab.output.renderOutput(dataTable, element);\n",
              "          const docLink = document.createElement('div');\n",
              "          docLink.innerHTML = docLinkHtml;\n",
              "          element.appendChild(docLink);\n",
              "        }\n",
              "      </script>\n",
              "    </div>\n",
              "  </div>\n",
              "  "
            ],
            "text/plain": [
              "            Feature  Coefficient\n",
              "0          Discount     6.341529\n",
              "1        Importance     0.209168\n",
              "2            Rating     0.107228\n",
              "3       Warehouse_B     0.023571\n",
              "4   Shipment_Flight     0.022162\n",
              "5       Warehouse_D     0.004854\n",
              "6       Warehouse_F     0.003800\n",
              "7       Warehouse_C    -0.004619\n",
              "8     Shipment_Road    -0.008012\n",
              "9     Shipment_Ship    -0.014506\n",
              "10      Warehouse_A    -0.027961\n",
              "11           Gender    -0.031968\n",
              "12             Cost    -0.416402\n",
              "13            Calls    -0.559875\n",
              "14         Purchase    -0.589193\n",
              "15           Weight    -1.599160"
            ]
          },
          "execution_count": 168,
          "metadata": {},
          "output_type": "execute_result"
        }
      ],
      "source": [
        "# Logistic Regression Coefficient Table\n",
        "koef2={'Feature':['Calls', 'Rating', 'Cost', 'Purchase', 'Importance', 'Gender','Discount',\n",
        "       'Weight','Warehouse_A', 'Warehouse_B', 'Warehouse_C',\n",
        "       'Warehouse_D', 'Warehouse_F', 'Shipment_Flight', 'Shipment_Road',\n",
        "       'Shipment_Ship'],\n",
        "     'Coefficient':[-5.59874633e-01 , 1.07227510e-01, -4.16402236e-01, -5.89193486e-01,\n",
        "   2.09167717e-01, -3.19677572e-02 , 6.34152939e+00 ,-1.59915957e+00,\n",
        "  -2.79614790e-02  ,2.35711612e-02, -4.61884188e-03 , 4.85396819e-03,\n",
        "   3.80010177e-03 , 2.21622610e-02, -8.01170261e-03, -1.45056481e-02] }\n",
        "koef_table=pd.DataFrame.from_dict(koef2).sort_values(by=['Coefficient'],ascending=False).reset_index(drop=True)\n",
        "koef_table"
      ]
    },
    {
      "cell_type": "markdown",
      "metadata": {
        "id": "LzEpl7stvGed"
      },
      "source": [
        "## Tuning Hyperparameter Logistic Regression"
      ]
    },
    {
      "cell_type": "code",
      "execution_count": null,
      "metadata": {
        "colab": {
          "base_uri": "https://localhost:8080/"
        },
        "id": "TD_1Q7mQu5Dk",
        "outputId": "7d1a3b5d-39ac-4202-b26b-a7dd43d382c1"
      },
      "outputs": [
        {
          "output_type": "stream",
          "name": "stderr",
          "text": [
            "/usr/local/lib/python3.7/dist-packages/sklearn/model_selection/_search.py:296: UserWarning: The total space of parameters 6 is smaller than n_iter=10. Running 6 iterations. For exhaustive searches, use GridSearchCV.\n",
            "  UserWarning,\n"
          ]
        },
        {
          "output_type": "stream",
          "name": "stdout",
          "text": [
            "Precision (test): 0.7115481593545133\n",
            "Recall (test): 0.7072681704260652\n",
            "AUC (test): 0.7352411680542352\n",
            "AP (test): 0.6802250618063979\n"
          ]
        },
        {
          "output_type": "stream",
          "name": "stderr",
          "text": [
            "/usr/local/lib/python3.7/dist-packages/sklearn/model_selection/_validation.py:372: FitFailedWarning: \n",
            "15 fits failed out of a total of 30.\n",
            "The score on these train-test partitions for these parameters will be set to nan.\n",
            "If these failures are not expected, you can try to debug them by setting error_score='raise'.\n",
            "\n",
            "Below are more details about the failures:\n",
            "--------------------------------------------------------------------------------\n",
            "15 fits failed with the following error:\n",
            "Traceback (most recent call last):\n",
            "  File \"/usr/local/lib/python3.7/dist-packages/sklearn/model_selection/_validation.py\", line 680, in _fit_and_score\n",
            "    estimator.fit(X_train, y_train, **fit_params)\n",
            "  File \"/usr/local/lib/python3.7/dist-packages/sklearn/linear_model/_logistic.py\", line 1461, in fit\n",
            "    solver = _check_solver(self.solver, self.penalty, self.dual)\n",
            "  File \"/usr/local/lib/python3.7/dist-packages/sklearn/linear_model/_logistic.py\", line 449, in _check_solver\n",
            "    % (solver, penalty)\n",
            "ValueError: Solver lbfgs supports only 'l2' or 'none' penalties, got l1 penalty.\n",
            "\n",
            "  warnings.warn(some_fits_failed_message, FitFailedWarning)\n",
            "/usr/local/lib/python3.7/dist-packages/sklearn/model_selection/_search.py:972: UserWarning: One or more of the test scores are non-finite: [       nan 0.70754021        nan 0.7057542         nan 0.70595502]\n",
            "  category=UserWarning,\n"
          ]
        }
      ],
      "source": [
        "#Tuning hyperparameter\n",
        "from sklearn.model_selection import RandomizedSearchCV\n",
        "\n",
        "penalty = ['l1','l2']\n",
        "C = [0.0001,0.001,0.002]\n",
        "hyperparams = dict(penalty = penalty, C=C)\n",
        "\n",
        "lr = LogisticRegression()\n",
        "rs = RandomizedSearchCV(lr, hyperparams, cv=5,random_state=42, scoring='roc_auc')\n",
        "rs.fit(xlrtrain1,ylrtrain1)\n",
        "y_pred = rs.predict(xlrtest1)\n",
        "y_pred_proba = rs.predict_proba(xlrtest1)\n",
        "\n",
        "from sklearn.metrics import precision_score, roc_auc_score\n",
        "\n",
        "\n",
        "print(\"Precision (test): \"+str(precision_score(ylrtest1, y_pred)))\n",
        "print(\"Recall (test): \" +str(recall_score(ylrtest1, y_pred)))\n",
        "print(\"AUC (test): \"+str(roc_auc_score(ylrtest1, y_pred_proba[:,1])))\n",
        "print(\"AP (test): \" +str(average_precision_score(ylrtest1, y_pred)))"
      ]
    },
    {
      "cell_type": "code",
      "execution_count": null,
      "metadata": {
        "colab": {
          "base_uri": "https://localhost:8080/"
        },
        "id": "aRRJgzy0u49g",
        "outputId": "4806fef9-0f9b-4bad-e150-0f8522023b17"
      },
      "outputs": [
        {
          "name": "stdout",
          "output_type": "stream",
          "text": [
            "Precision (train): 0.6923950056753689\n",
            "Recall (train): 0.6676882661996497\n",
            "AUC (train): 0.707364172522557\n",
            "AP (train)0.6594724843014936\n"
          ]
        }
      ],
      "source": [
        "y_pred_train = rs.predict(xlrtrain1)\n",
        "y_pred_proba_train = rs.predict_proba(xlrtrain1)\n",
        "\n",
        "from sklearn.metrics import precision_score, roc_auc_score\n",
        "print(\"Precision (train): \"+str(precision_score(ylrtrain1, y_pred_train)))\n",
        "print(\"Recall (train): \" +str(recall_score(ylrtrain1, y_pred_train)))\n",
        "print(\"AUC (train): \"+str(roc_auc_score(ylrtrain1, y_pred_proba_train[:,1])))\n",
        "print(\"AP (train)\" +str(average_precision_score(ylrtrain1, y_pred_train)))"
      ]
    },
    {
      "cell_type": "markdown",
      "source": [
        "## KNN"
      ],
      "metadata": {
        "id": "bLXyM0_lecAn"
      }
    },
    {
      "cell_type": "code",
      "source": [
        "from sklearn.metrics import accuracy_score, precision_score, recall_score, f1_score, roc_auc_score, average_precision_score #import evaluation matrix from sklearn\n",
        "\n",
        "def eval_classification(model, Xtrain, Ytrain, Xtest, Ytest):                 #define a model evaluation function\n",
        "    print(\"Test Data Evaluation:\")\n",
        "    Ypred = model.predict(Xtest)                                              #predict Y using testing data\n",
        "    print(\"Accuracy (Test Set): %.3f\" % accuracy_score(Ytest, Ypred))         #accuracy score\n",
        "    print(\"Precision (Test Set): %.3f\" % precision_score(Ytest, Ypred))       #precision score\n",
        "    print(\"Recall (Test Set): %.3f\" % recall_score(Ytest, Ypred))             #recall score\n",
        "    print(\"F1-Score (Test Set): %.3f\" % f1_score(Ytest, Ypred))               #f1 score\n",
        "    \n",
        "    Ypred_proba = model.predict_proba(Xtest)                                                          #predict Y (probability) using testing data \n",
        "    print(\"AUC (Test Set) : %.3f\" % roc_auc_score(Ytest, Ypred_proba[:, 1]))                          #roc auc score\n",
        "    print(\"Average Precision (Test Set) : %.3f\" % average_precision_score(Ytest, Ypred_proba[:, 1]))  #average precision score\n",
        "    print(\" \")\n",
        "    \n",
        "    print(\"Train Data Evaluation:\")\n",
        "    Ypred_train = model.predict(Xtrain)                                          #predict Y using training data\n",
        "    print(\"Accuracy (Train Set): %.3f\" % accuracy_score(Ytrain, Ypred_train))    #accuracy score\n",
        "    print(\"Precision (Train Set): %.3f\" % precision_score(Ytrain, Ypred_train))  #precision score\n",
        "    print(\"Recall (Train Set): %.3f\" % recall_score(Ytrain, Ypred_train))        #recall score\n",
        "    print(\"F1-Score (Train Set): %.3f\" % f1_score(Ytrain, Ypred_train))          #f1 score\n",
        "    Ypred_train_proba = model.predict_proba(Xtrain)                                                            #predict Y (probability) using training data\n",
        "    print(\"AUC (Train Set) : %.3f\" % roc_auc_score(Ytrain, Ypred_train_proba[:, 1]))                           #roc auc score\n",
        "    print(\"Average Precision (Train Set) : %.3f\" % average_precision_score(Ytrain, Ypred_train_proba[:, 1]))\n",
        "    \n",
        "               \n",
        "    \n"
      ],
      "metadata": {
        "id": "EvgOnf-cersh"
      },
      "execution_count": null,
      "outputs": []
    },
    {
      "cell_type": "code",
      "source": [
        "# train test split\n",
        "xk1 = dfori.drop(columns=\"Reached.on.Time_Y.N\")\n",
        "yk1 = dfori['Reached.on.Time_Y.N']\n",
        "xktrain1, xktest1, yktrain1, yktest1 = train_test_split(xk1, yk1, test_size=0.3, random_state=42)\n",
        "print(\"training: \", xktrain1.shape[0])\n",
        "print(\"testing: \", yktest1.shape[0])\n"
      ],
      "metadata": {
        "colab": {
          "base_uri": "https://localhost:8080/"
        },
        "id": "4wkUd5SVf-JV",
        "outputId": "9cd1c997-d352-47d1-f84e-85ecf754854e"
      },
      "execution_count": null,
      "outputs": [
        {
          "output_type": "stream",
          "name": "stdout",
          "text": [
            "training:  7699\n",
            "testing:  3300\n"
          ]
        }
      ]
    },
    {
      "cell_type": "code",
      "source": [
        "from sklearn.neighbors import KNeighborsClassifier  #import knn from sklearn\n",
        "knn = KNeighborsClassifier()                        #initialize algorithm with specified name model\n",
        "knn.fit(xktrain1, yktrain1)                           #fit algorithm with train data\n",
        "eval_classification(knn, xktrain1, yktrain1, xktest1, yktest1)\n"
      ],
      "metadata": {
        "colab": {
          "base_uri": "https://localhost:8080/"
        },
        "id": "EV7h_RPrgCUx",
        "outputId": "bc67ce1c-48c2-455a-a0e9-99f4db3c8b14"
      },
      "execution_count": null,
      "outputs": [
        {
          "output_type": "stream",
          "name": "stdout",
          "text": [
            "Test Data Evaluation:\n",
            "Accuracy (Test Set): 0.652\n",
            "Precision (Test Set): 0.727\n",
            "Recall (Test Set): 0.676\n",
            "F1-Score (Test Set): 0.701\n",
            "AUC (Test Set) : 0.730\n",
            "Average Precision (Test Set) : 0.815\n",
            " \n",
            "Train Data Evaluation:\n",
            "Accuracy (Train Set): 0.782\n",
            "Precision (Train Set): 0.835\n",
            "Recall (Train Set): 0.790\n",
            "F1-Score (Train Set): 0.812\n",
            "AUC (Train Set) : 0.868\n",
            "Average Precision (Train Set) : 0.895\n"
          ]
        }
      ]
    },
    {
      "cell_type": "markdown",
      "source": [
        "## Tuning Hyperparameter KNN"
      ],
      "metadata": {
        "id": "ZsxaiBY6efcD"
      }
    },
    {
      "cell_type": "code",
      "source": [
        "#list of hyperparameter\n",
        "n_neighbors = list(range(1,51))\n",
        "p=[1,2,3]\n",
        "algorithm = ['auto', 'ball_tree', 'kd_tree', 'brute']\n",
        "weights = ['uniform', 'distance']\n",
        "hyperparameters = dict(n_neighbors=n_neighbors, p=p, algorithm=algorithm, weights=weights)\n",
        "\n",
        "#init model\n",
        "knn_model = KNeighborsClassifier()\n",
        "knn_model_tun = RandomizedSearchCV(knn_model, hyperparameters, cv=5, random_state=42, scoring='roc_auc')\n",
        "\n",
        "#fit model & evaluation\n",
        "knn_model_tun.fit(xktrain1, yktrain1)\n",
        "eval_classification(knn_model_tun, xktrain1, yktrain1, xktest1, yktest1)\n"
      ],
      "metadata": {
        "colab": {
          "base_uri": "https://localhost:8080/"
        },
        "id": "N2U7GykPf9YT",
        "outputId": "962f6e53-f415-40b9-c376-007c71e6a61a"
      },
      "execution_count": null,
      "outputs": [
        {
          "output_type": "stream",
          "name": "stdout",
          "text": [
            "Test Data Evaluation:\n",
            "Accuracy (Test Set): 0.663\n",
            "Precision (Test Set): 0.764\n",
            "Recall (Test Set): 0.639\n",
            "F1-Score (Test Set): 0.696\n",
            "AUC (Test Set) : 0.749\n",
            "Average Precision (Test Set) : 0.858\n",
            " \n",
            "Train Data Evaluation:\n",
            "Accuracy (Train Set): 1.000\n",
            "Precision (Train Set): 1.000\n",
            "Recall (Train Set): 1.000\n",
            "F1-Score (Train Set): 1.000\n",
            "AUC (Train Set) : 1.000\n",
            "Average Precision (Train Set) : 1.000\n"
          ]
        }
      ]
    },
    {
      "cell_type": "code",
      "source": [
        "# best param\n",
        "knn_model_tun.best_params_\n"
      ],
      "metadata": {
        "colab": {
          "base_uri": "https://localhost:8080/"
        },
        "id": "wKUseqLfhLxL",
        "outputId": "75d8df49-b575-4302-bcfd-498a5a157607"
      },
      "execution_count": null,
      "outputs": [
        {
          "output_type": "execute_result",
          "data": {
            "text/plain": [
              "{'algorithm': 'auto', 'n_neighbors': 21, 'p': 1, 'weights': 'distance'}"
            ]
          },
          "metadata": {},
          "execution_count": 561
        }
      ]
    },
    {
      "cell_type": "code",
      "source": [
        ""
      ],
      "metadata": {
        "id": "nazwPLT3eiSX"
      },
      "execution_count": null,
      "outputs": []
    },
    {
      "cell_type": "markdown",
      "source": [
        "## Decision Tree"
      ],
      "metadata": {
        "id": "sBMpuSeTiW7e"
      }
    },
    {
      "cell_type": "code",
      "source": [
        "\n",
        "# train test split\n",
        "X = dfori.drop(columns=\"Reached.on.Time_Y.N\")\n",
        "y = dfori['Reached.on.Time_Y.N']\n",
        "X_train, X_test, y_train, y_test = train_test_split(X, y, test_size=0.3, random_state=42)\n",
        "print(\"training: \", X_train.shape[0])\n",
        "print(\"testing: \", y_test.shape[0])\n",
        "\n",
        "\n"
      ],
      "metadata": {
        "colab": {
          "base_uri": "https://localhost:8080/"
        },
        "id": "E7qzt_vUiaa7",
        "outputId": "9c21fc8f-30dc-426a-f2d6-63ed1e484419"
      },
      "execution_count": null,
      "outputs": [
        {
          "output_type": "stream",
          "name": "stdout",
          "text": [
            "training:  7699\n",
            "testing:  3300\n"
          ]
        }
      ]
    },
    {
      "cell_type": "code",
      "source": [
        "from sklearn.tree import DecisionTreeClassifier       #import decision tree from sklearn\n",
        "dt = DecisionTreeClassifier(random_state=42)     #initialize algorithm with specified name model\n",
        "dt.fit(X_train, y_train)                         #fit algorithm with train data\n",
        "eval_classification(dt, X_train, y_train, X_test, y_test)"
      ],
      "metadata": {
        "colab": {
          "base_uri": "https://localhost:8080/"
        },
        "id": "ldFcDmD2jC65",
        "outputId": "a95f1d40-e0d6-4c71-9650-ff4e337fbcd6"
      },
      "execution_count": null,
      "outputs": [
        {
          "output_type": "stream",
          "name": "stdout",
          "text": [
            "Test Data Evaluation:\n",
            "Accuracy (Test Set): 0.655\n",
            "Precision (Test Set): 0.713\n",
            "Recall (Test Set): 0.715\n",
            "F1-Score (Test Set): 0.714\n",
            "AUC (Test Set) : 0.639\n",
            "Average Precision (Test Set) : 0.681\n",
            " \n",
            "Train Data Evaluation:\n",
            "Accuracy (Train Set): 1.000\n",
            "Precision (Train Set): 1.000\n",
            "Recall (Train Set): 1.000\n",
            "F1-Score (Train Set): 1.000\n",
            "AUC (Train Set) : 1.000\n",
            "Average Precision (Train Set) : 1.000\n"
          ]
        }
      ]
    },
    {
      "cell_type": "markdown",
      "source": [
        "## Tuning Hyperparmater Decision Tree"
      ],
      "metadata": {
        "id": "p_zrQS_0iawp"
      }
    },
    {
      "cell_type": "code",
      "source": [
        "#list of hyperparameter\n",
        "max_depth = [int(x) for x in np.linspace(1, 110, num = 30)] #maximum number of levels in tree\n",
        "min_samples_split = [2, 5, 10, 100, 200] #minimum number of samples required to split a node\n",
        "min_samples_leaf = [1, 2, 4, 10, 20, 50, 100] #minimum number of samples required at each leaf node\n",
        "max_features = ['auto', 'sqrt', 'log2'] #number of features to consider at every split\n",
        "criterion = ['gini', 'entropy'] #the function to measure the quality of a split\n",
        "splitter = ['best', 'random'] #the strategy used to choose the split at each node\n",
        "\n",
        "hyperparameters = dict(max_depth=max_depth, \n",
        "                       min_samples_split=min_samples_split, \n",
        "                       min_samples_leaf=min_samples_leaf,\n",
        "                       max_features=max_features,\n",
        "                       criterion=criterion,\n",
        "                       splitter=splitter\n",
        "                      )\n"
      ],
      "metadata": {
        "id": "RmZ95gayjIa8"
      },
      "execution_count": null,
      "outputs": []
    },
    {
      "cell_type": "code",
      "source": [
        "#initiate model\n",
        "dt = DecisionTreeClassifier(random_state=42)\n",
        "dt_tun = RandomizedSearchCV(dt, hyperparameters, cv=5, random_state=42, scoring='roc_auc')\n",
        "dt_tun.fit(X_train, y_train) #fit model\n",
        "\n",
        "eval_classification(dt_tun, X_train, y_train, X_test, y_test)\n"
      ],
      "metadata": {
        "id": "Cp3JOESLjLnU",
        "outputId": "3fcc6653-0c38-48fc-94de-46b7bdd26e91",
        "colab": {
          "base_uri": "https://localhost:8080/"
        }
      },
      "execution_count": null,
      "outputs": [
        {
          "output_type": "stream",
          "name": "stdout",
          "text": [
            "Test Data Evaluation:\n",
            "Accuracy (Test Set): 0.666\n",
            "Precision (Test Set): 0.787\n",
            "Recall (Test Set): 0.611\n",
            "F1-Score (Test Set): 0.688\n",
            "AUC (Test Set) : 0.731\n",
            "Average Precision (Test Set) : 0.837\n",
            " \n",
            "Train Data Evaluation:\n",
            "Accuracy (Train Set): 0.681\n",
            "Precision (Train Set): 0.796\n",
            "Recall (Train Set): 0.624\n",
            "F1-Score (Train Set): 0.699\n",
            "AUC (Train Set) : 0.759\n",
            "Average Precision (Train Set) : 0.848\n"
          ]
        }
      ]
    },
    {
      "cell_type": "code",
      "source": [
        "dt_tun.best_params_"
      ],
      "metadata": {
        "id": "OqjqHuvC7VKx",
        "outputId": "c4473cee-222f-4397-fb02-f9a87672a36b",
        "colab": {
          "base_uri": "https://localhost:8080/"
        }
      },
      "execution_count": null,
      "outputs": [
        {
          "output_type": "execute_result",
          "data": {
            "text/plain": [
              "{'criterion': 'gini',\n",
              " 'max_depth': 8,\n",
              " 'max_features': 'auto',\n",
              " 'min_samples_leaf': 20,\n",
              " 'min_samples_split': 100,\n",
              " 'splitter': 'best'}"
            ]
          },
          "metadata": {},
          "execution_count": 614
        }
      ]
    },
    {
      "cell_type": "markdown",
      "metadata": {
        "id": "vaDM1oQ9vX6N"
      },
      "source": [
        "## XGBoost"
      ]
    },
    {
      "cell_type": "code",
      "execution_count": null,
      "metadata": {
        "id": "HtvvZrBtu46M"
      },
      "outputs": [],
      "source": [
        "# Splitting Features & Target\n",
        "xlr2 = dfori.drop(columns = ['Reached.on.Time_Y.N']) # Features\n",
        "ylr2 = dfori['Reached.on.Time_Y.N'] # Target\n",
        "\n",
        "# Splitting data Train & data Test\n",
        "xltrain2, xltest2, yltrain2, yltest2 = train_test_split(xlr2, ylr2, test_size = 0.3, random_state = 3)"
      ]
    },
    {
      "cell_type": "code",
      "source": [
        "model_xg = XGBClassifier(random_state = 42)\n",
        "model_xg.fit(xltrain2,yltrain2)\n",
        "eval_classification(model_xg, xltrain2, yltrain2, xltest2, yltest2)\n"
      ],
      "metadata": {
        "colab": {
          "base_uri": "https://localhost:8080/"
        },
        "id": "hXSmb3byusWp",
        "outputId": "c74a1c88-484e-4388-dbbb-aa5261c25968"
      },
      "execution_count": null,
      "outputs": [
        {
          "output_type": "stream",
          "name": "stdout",
          "text": [
            "Test Data Evaluation:\n",
            "Accuracy (Test Set): 0.685\n",
            "Precision (Test Set): 0.881\n",
            "Recall (Test Set): 0.537\n",
            "F1-Score (Test Set): 0.667\n",
            "AUC (Test Set) : 0.734\n",
            "Average Precision (Test Set) : 0.848\n",
            " \n",
            "Train Data Evaluation:\n",
            "Accuracy (Train Set): 0.706\n",
            "Precision (Train Set): 0.907\n",
            "Recall (Train Set): 0.568\n",
            "F1-Score (Train Set): 0.699\n",
            "AUC (Train Set) : 0.802\n",
            "Average Precision (Train Set) : 0.885\n"
          ]
        }
      ]
    },
    {
      "cell_type": "code",
      "execution_count": null,
      "metadata": {
        "colab": {
          "base_uri": "https://localhost:8080/"
        },
        "id": "8dhgvIXDu4zd",
        "outputId": "3147c35f-13ad-4e9e-ba8f-09ca8dc91777"
      },
      "outputs": [
        {
          "data": {
            "text/plain": [
              "array([0, 0, 0, ..., 0, 1, 0])"
            ]
          },
          "execution_count": 173,
          "metadata": {},
          "output_type": "execute_result"
        }
      ],
      "source": [
        "# Model Prediction\n",
        "predictionl2_train = XGl2.predict(xltrain2)\n",
        "predictionl2_train"
      ]
    },
    {
      "cell_type": "code",
      "execution_count": null,
      "metadata": {
        "colab": {
          "base_uri": "https://localhost:8080/"
        },
        "id": "nkCkUvvxu4vp",
        "outputId": "1379c7db-1a4d-461d-eff3-d12110a2f39e"
      },
      "outputs": [
        {
          "name": "stdout",
          "output_type": "stream",
          "text": [
            "AP train:  0.7747266005987892\n",
            "AP test:  0.7452168714182988\n"
          ]
        }
      ],
      "source": [
        "# Model Validation Average Precision\n",
        "print('AP train: ',average_precision_score(yltrain2, predictionl2_train))\n",
        "print('AP test: ',average_precision_score(yltest2, predictionl2))"
      ]
    },
    {
      "cell_type": "code",
      "execution_count": null,
      "metadata": {
        "colab": {
          "base_uri": "https://localhost:8080/"
        },
        "id": "v1Vq6Fusu4pd",
        "outputId": "a6feaa0d-8b84-4ffb-f0e1-6793794451db"
      },
      "outputs": [
        {
          "name": "stdout",
          "output_type": "stream",
          "text": [
            "train Accuracy :  0.7056760618262112\n",
            "test Accuracy :  0.6851515151515152\n"
          ]
        }
      ],
      "source": [
        "# Model Validation Accuracy\n",
        "print('train Accuracy : ',XGl2.score(xltrain2, yltrain2))\n",
        "print('test Accuracy : ',XGl2.score(xltest2, yltest2))"
      ]
    },
    {
      "cell_type": "markdown",
      "source": [
        ""
      ],
      "metadata": {
        "id": "XGYni4HKeYmY"
      }
    },
    {
      "cell_type": "markdown",
      "metadata": {
        "id": "w3s-f70ywF5O"
      },
      "source": [
        "## Tuning Hyperparameter XGBoost"
      ]
    },
    {
      "cell_type": "code",
      "execution_count": null,
      "metadata": {
        "id": "eTrOhpHBu4kV"
      },
      "outputs": [],
      "source": [
        "# Splitting Features & Target\n",
        "xl3 = dfori.drop(columns = ['Reached.on.Time_Y.N'])\n",
        "yl3 = dfori['Reached.on.Time_Y.N']\n",
        "\n",
        "# Splitting Data Train & Data Test\n",
        "xltrain3, xltest3, yltrain3, yltest3 = train_test_split(xl3, yl3, test_size = 0.3, random_state = 42)"
      ]
    },
    {
      "cell_type": "code",
      "source": [
        "hyperparameters = {\n",
        "                    'max_depth' : [int(x) for x in np.linspace(10, 110, num = 11)],\n",
        "                    'min_child_weight' : [int(x) for x in np.linspace(1, 20, num = 11)],\n",
        "                    'gamma' : [float(x) for x in np.linspace(0, 1, num = 11)],\n",
        "                    'tree_method' : ['auto', 'exact', 'approx', 'hist'],\n",
        "                    'colsample_bytree' : [float(x) for x in np.linspace(0, 1, num = 11)],\n",
        "                    'eta' : [float(x) for x in np.linspace(0, 1, num = 100)],\n",
        "                    'lambda' : [float(x) for x in np.linspace(0, 1, num = 11)],\n",
        "                    'alpha' : [float(x) for x in np.linspace(0, 1, num = 11)]\n",
        "                    }\n",
        "\n",
        "# Init\n",
        "xg = XGBClassifier(random_state=42)\n",
        "xg_tuned = RandomizedSearchCV(xg, hyperparameters, random_state=42, cv=5, scoring='roc_auc')\n",
        "xg_tuned.fit(xltrain3,yltrain3)\n",
        "eval_classification(xg_tuned, xltrain3, yltrain3, xltest3, yltest3)"
      ],
      "metadata": {
        "colab": {
          "base_uri": "https://localhost:8080/"
        },
        "id": "Q7U2tqg1vqGk",
        "outputId": "9fd1286e-0aa2-4ad5-8100-095119e5e40c"
      },
      "execution_count": null,
      "outputs": [
        {
          "output_type": "stream",
          "name": "stdout",
          "text": [
            "Test Data Evaluation:\n",
            "Accuracy (Test Set): 0.662\n",
            "Precision (Test Set): 0.766\n",
            "Recall (Test Set): 0.633\n",
            "F1-Score (Test Set): 0.693\n",
            "AUC (Test Set) : 0.744\n",
            "Average Precision (Test Set) : 0.857\n",
            " \n",
            "Train Data Evaluation:\n",
            "Accuracy (Train Set): 0.788\n",
            "Precision (Train Set): 0.887\n",
            "Recall (Train Set): 0.736\n",
            "F1-Score (Train Set): 0.804\n",
            "AUC (Train Set) : 0.883\n",
            "Average Precision (Train Set) : 0.928\n"
          ]
        }
      ]
    },
    {
      "cell_type": "code",
      "source": [
        "# best param\n",
        "xg_tuned.best_params_"
      ],
      "metadata": {
        "colab": {
          "base_uri": "https://localhost:8080/"
        },
        "id": "L0o0DrDsv9Pf",
        "outputId": "edb26f1f-db76-4f1b-b1b7-ab694b517544"
      },
      "execution_count": null,
      "outputs": [
        {
          "output_type": "execute_result",
          "data": {
            "text/plain": [
              "{'alpha': 0.8,\n",
              " 'colsample_bytree': 0.30000000000000004,\n",
              " 'eta': 0.33333333333333337,\n",
              " 'gamma': 0.5,\n",
              " 'lambda': 0.8,\n",
              " 'max_depth': 50,\n",
              " 'min_child_weight': 18,\n",
              " 'tree_method': 'approx'}"
            ]
          },
          "metadata": {},
          "execution_count": 592
        }
      ]
    },
    {
      "cell_type": "code",
      "execution_count": null,
      "metadata": {
        "colab": {
          "base_uri": "https://localhost:8080/"
        },
        "id": "k6zLqs1av-gc",
        "outputId": "830bec9f-236d-4db6-d8a1-842b40a3199d"
      },
      "outputs": [
        {
          "name": "stdout",
          "output_type": "stream",
          "text": [
            "Accuracy : 0.676\n",
            "Precision : 0.804\n",
            "Recall : 0.610\n",
            "F-1Score : 0.694\n",
            "ROC AUC : 0.693\n",
            "AP : 0.726\n"
          ]
        }
      ],
      "source": [
        "# Evaluation Metrics\n",
        "ABl3 = AdaBoostClassifier(random_state = 3)\n",
        "ABl3.fit(xltrain3, yltrain3)\n",
        "predictionl3 = ABl3.predict(xltest3)\n",
        "model_evaluation(ABl3, predictionl3, xltrain3, yltrain3, xltest3, yltest3)"
      ]
    },
    {
      "cell_type": "code",
      "execution_count": null,
      "metadata": {
        "colab": {
          "base_uri": "https://localhost:8080/"
        },
        "id": "COEqUp8bv-c4",
        "outputId": "e6d4f2cd-5581-4784-bd9c-b04177f58171"
      },
      "outputs": [
        {
          "data": {
            "text/plain": [
              "array([1, 1, 0, ..., 0, 1, 1])"
            ]
          },
          "execution_count": 178,
          "metadata": {},
          "output_type": "execute_result"
        }
      ],
      "source": [
        "# Model Prediction\n",
        "predictionl3_train = ABl3.predict(xltrain3)\n",
        "predictionl3_train"
      ]
    },
    {
      "cell_type": "code",
      "execution_count": null,
      "metadata": {
        "colab": {
          "base_uri": "https://localhost:8080/"
        },
        "id": "8wa5sjbsv-Z3",
        "outputId": "1b90e63f-16e5-4f82-dd1d-ae685952dade"
      },
      "outputs": [
        {
          "name": "stdout",
          "output_type": "stream",
          "text": [
            "AP train:  0.7265358329163607\n",
            "AP test:  0.7256477232497145\n"
          ]
        }
      ],
      "source": [
        "# Model Validation Average Precision\n",
        "print('AP train: ',average_precision_score(yltrain3, predictionl3_train))\n",
        "print('AP test: ',average_precision_score(yltest3, predictionl3))"
      ]
    },
    {
      "cell_type": "code",
      "execution_count": null,
      "metadata": {
        "colab": {
          "base_uri": "https://localhost:8080/"
        },
        "id": "g5CrJGqRv-Ww",
        "outputId": "c603d71d-52a5-4730-c911-f496fd212467"
      },
      "outputs": [
        {
          "name": "stdout",
          "output_type": "stream",
          "text": [
            "train Accuracy :  0.6847642550980647\n",
            "test Accuracy :  0.6757575757575758\n"
          ]
        }
      ],
      "source": [
        "# Model Validation Accuracy\n",
        "print('train Accuracy : ',ABl3.score(xltrain3, yltrain3))\n",
        "print('test Accuracy : ',ABl3.score(xltest3, yltest3))"
      ]
    },
    {
      "cell_type": "markdown",
      "source": [
        "## AdaBoost"
      ],
      "metadata": {
        "id": "pc1bHI8upoNm"
      }
    },
    {
      "cell_type": "code",
      "source": [
        "# train test split\n",
        "X = dfori.drop(columns=\"Reached.on.Time_Y.N\")\n",
        "y = dfori['Reached.on.Time_Y.N']\n",
        "X_train, X_test, y_train, y_test = train_test_split(X, y, test_size=0.3, random_state=42)\n",
        "print(\"training: \", X_train.shape[0])\n",
        "print(\"testing: \", y_test.shape[0])\n"
      ],
      "metadata": {
        "colab": {
          "base_uri": "https://localhost:8080/"
        },
        "id": "FfZ2b1fIpt7A",
        "outputId": "1f975f4a-ee9c-4d64-b47c-e8f98c900e78"
      },
      "execution_count": null,
      "outputs": [
        {
          "output_type": "stream",
          "name": "stdout",
          "text": [
            "training:  7699\n",
            "testing:  3300\n"
          ]
        }
      ]
    },
    {
      "cell_type": "code",
      "source": [
        "model_ab = AdaBoostClassifier()\n",
        "model_ab.fit(X_train,y_train)\n",
        "eval_classification(model_ab, X_train, y_train, X_test, y_test)\n",
        "\n"
      ],
      "metadata": {
        "colab": {
          "base_uri": "https://localhost:8080/"
        },
        "id": "DlTzGNnspyaY",
        "outputId": "fc6be9ae-7db5-4463-b0c7-5e860d5b13fe"
      },
      "execution_count": null,
      "outputs": [
        {
          "output_type": "stream",
          "name": "stdout",
          "text": [
            "Test Data Evaluation:\n",
            "Accuracy (Test Set): 0.676\n",
            "Precision (Test Set): 0.804\n",
            "Recall (Test Set): 0.610\n",
            "F1-Score (Test Set): 0.694\n",
            "AUC (Test Set) : 0.748\n",
            "Average Precision (Test Set) : 0.859\n",
            " \n",
            "Train Data Evaluation:\n",
            "Accuracy (Train Set): 0.685\n",
            "Precision (Train Set): 0.810\n",
            "Recall (Train Set): 0.614\n",
            "F1-Score (Train Set): 0.698\n",
            "AUC (Train Set) : 0.765\n",
            "Average Precision (Train Set) : 0.863\n"
          ]
        }
      ]
    },
    {
      "cell_type": "code",
      "source": [
        "def show_feature_importance(model):\n",
        "    feat_importances = pd.Series(model.feature_importances_, index=X.columns)\n",
        "    ax = feat_importances.nlargest(25).plot(kind='barh', figsize=(10, 8))\n",
        "    ax.invert_yaxis()\n",
        "\n",
        "    plt.xlabel('score')\n",
        "    plt.ylabel('feature')\n",
        "    plt.title('feature importance score')\n",
        "\n",
        "show_feature_importance(model_ab)"
      ],
      "metadata": {
        "colab": {
          "base_uri": "https://localhost:8080/",
          "height": 513
        },
        "id": "gxZ3eckd6NWB",
        "outputId": "36dbbd2a-b8b9-492c-8e80-830100848dba"
      },
      "execution_count": null,
      "outputs": [
        {
          "output_type": "display_data",
          "data": {
            "image/png": "[encoded data removed]",
            "text/plain": [
              "<Figure size 720x576 with 1 Axes>"
            ]
          },
          "metadata": {
            "needs_background": "light"
          }
        }
      ]
    },
    {
      "cell_type": "markdown",
      "source": [
        "## Tuning Hyperparameter AdaBoost"
      ],
      "metadata": {
        "id": "nu1lqtvrpqdH"
      }
    },
    {
      "cell_type": "code",
      "source": [
        "hyperparameters = dict(n_estimators = [int(x) for x in np.linspace(start = 50, stop = 2000, num = 2000)], # Jumlah iterasi\n",
        "                       learning_rate = [float(x) for x in np.linspace(start = 0.001, stop = 0.1, num = 200)],  \n",
        "                       algorithm = ['SAMME', 'SAMME.R']\n",
        "                      )\n"
      ],
      "metadata": {
        "id": "73znUA1sp4sR"
      },
      "execution_count": null,
      "outputs": []
    },
    {
      "cell_type": "code",
      "source": [
        "# Init model\n",
        "ab = AdaBoostClassifier(random_state=42)\n",
        "ab_tuned = RandomizedSearchCV(ab, hyperparameters, random_state=42, cv=5, scoring='roc_auc')\n",
        "ab_tuned.fit(X_train,y_train)\n",
        "eval_classification(ab_tuned, X_train, y_train, X_test, y_test)\n",
        "\n"
      ],
      "metadata": {
        "colab": {
          "base_uri": "https://localhost:8080/"
        },
        "id": "JAcxslqzp7MT",
        "outputId": "44ffee4a-15f1-45a0-889e-50470c5cfee8"
      },
      "execution_count": null,
      "outputs": [
        {
          "output_type": "stream",
          "name": "stdout",
          "text": [
            "Test Data Evaluation:\n",
            "Accuracy (Test Set): 0.678\n",
            "Precision (Test Set): 0.815\n",
            "Recall (Test Set): 0.604\n",
            "F1-Score (Test Set): 0.693\n",
            "AUC (Test Set) : 0.744\n",
            "Average Precision (Test Set) : 0.854\n",
            " \n",
            "Train Data Evaluation:\n",
            "Accuracy (Train Set): 0.680\n",
            "Precision (Train Set): 0.811\n",
            "Recall (Train Set): 0.600\n",
            "F1-Score (Train Set): 0.690\n",
            "AUC (Train Set) : 0.755\n",
            "Average Precision (Train Set) : 0.855\n"
          ]
        }
      ]
    },
    {
      "cell_type": "code",
      "source": [
        "# best param\n",
        "ab_tuned.best_params_\n"
      ],
      "metadata": {
        "colab": {
          "base_uri": "https://localhost:8080/"
        },
        "id": "D4x6ZvoVp_Pf",
        "outputId": "ef855f51-1fd3-4561-dce8-bd6ca8332ff1"
      },
      "execution_count": null,
      "outputs": [
        {
          "output_type": "execute_result",
          "data": {
            "text/plain": [
              "{'algorithm': 'SAMME.R',\n",
              " 'learning_rate': 0.08358291457286432,\n",
              " 'n_estimators': 225}"
            ]
          },
          "metadata": {},
          "execution_count": 583
        }
      ]
    },
    {
      "cell_type": "markdown",
      "metadata": {
        "id": "-GIXbL1PwmWx"
      },
      "source": [
        "## Random Forest"
      ]
    },
    {
      "cell_type": "code",
      "source": [
        ""
      ],
      "metadata": {
        "id": "kpTVjzoqp-by"
      },
      "execution_count": null,
      "outputs": []
    },
    {
      "cell_type": "code",
      "execution_count": null,
      "metadata": {
        "id": "k8XF6dYcv-Ss"
      },
      "outputs": [],
      "source": [
        "# Splitting Features & Target\n",
        "xr4 = dfori.drop(columns = ['Reached.on.Time_Y.N'])\n",
        "yr4 = dfori['Reached.on.Time_Y.N']\n",
        "\n",
        "# Splitting Data Train & Data Test\n",
        "xrtrain4, xrtest4, yrtrain4, yrtest4 = train_test_split(xr4, yr4, test_size = 0.3, random_state = 10)"
      ]
    },
    {
      "cell_type": "code",
      "execution_count": null,
      "metadata": {
        "colab": {
          "base_uri": "https://localhost:8080/"
        },
        "id": "KG0zT2sQv-N0",
        "outputId": "8ebfde25-c023-499e-b521-d8a6d39e45b0"
      },
      "outputs": [
        {
          "name": "stdout",
          "output_type": "stream",
          "text": [
            "Accuracy : 0.659\n",
            "Precision : 0.754\n",
            "Recall : 0.641\n",
            "F-1Score : 0.693\n",
            "ROC AUC : 0.664\n",
            "AP : 0.699\n"
          ]
        }
      ],
      "source": [
        "# Evaluation Metrics\n",
        "RFr4 = RandomForestClassifier(random_state = 42)\n",
        "RFr4.fit(xrtrain4, yrtrain4)\n",
        "predictionr4 = RFr4.predict(xrtest4)\n",
        "model_evaluation(RFr4, predictionr4, xrtrain4, yrtrain4, xrtest4, yrtest4)"
      ]
    },
    {
      "cell_type": "code",
      "source": [
        "model_rf = RandomForestClassifier(random_state =42)\n",
        "model_rf.fit(xrtrain4,yrtrain4)\n",
        "eval_classification(model_rf, xrtrain4, yrtrain4, xrtest4, yrtest4)\n"
      ],
      "metadata": {
        "colab": {
          "base_uri": "https://localhost:8080/"
        },
        "id": "HF3yimE4sP8E",
        "outputId": "97a27fff-5b0d-4c23-fea4-c921c7a28ef6"
      },
      "execution_count": null,
      "outputs": [
        {
          "output_type": "stream",
          "name": "stdout",
          "text": [
            "Test Data Evaluation:\n",
            "Accuracy (Test Set): 0.659\n",
            "Precision (Test Set): 0.754\n",
            "Recall (Test Set): 0.641\n",
            "F1-Score (Test Set): 0.693\n",
            "AUC (Test Set) : 0.735\n",
            "Average Precision (Test Set) : 0.851\n",
            " \n",
            "Train Data Evaluation:\n",
            "Accuracy (Train Set): 1.000\n",
            "Precision (Train Set): 1.000\n",
            "Recall (Train Set): 1.000\n",
            "F1-Score (Train Set): 1.000\n",
            "AUC (Train Set) : 1.000\n",
            "Average Precision (Train Set) : 1.000\n"
          ]
        }
      ]
    },
    {
      "cell_type": "code",
      "execution_count": null,
      "metadata": {
        "colab": {
          "base_uri": "https://localhost:8080/"
        },
        "id": "g153z3Gww4NL",
        "outputId": "ee76a0d1-2202-4c30-cfed-8659c78305c4"
      },
      "outputs": [
        {
          "name": "stdout",
          "output_type": "stream",
          "text": [
            "train Accuracy :  1.0\n",
            "test Accuracy :  0.6593939393939394\n"
          ]
        }
      ],
      "source": [
        "# Model Validation Accuracy\n",
        "print('train Accuracy : ', RFr4.score(xrtrain4, yrtrain4))\n",
        "print('test Accuracy : ', RFr4.score(xrtest4, yrtest4))"
      ]
    },
    {
      "cell_type": "code",
      "execution_count": null,
      "metadata": {
        "colab": {
          "base_uri": "https://localhost:8080/"
        },
        "id": "suAuGciVw4Fp",
        "outputId": "df395333-43f1-41f3-e7b7-5df4e4c9719a"
      },
      "outputs": [
        {
          "name": "stderr",
          "output_type": "stream",
          "text": [
            "/usr/local/lib/python3.7/dist-packages/sklearn/utils/deprecation.py:87: FutureWarning: Function plot_confusion_matrix is deprecated; Function `plot_confusion_matrix` is deprecated in 1.0 and will be removed in 1.2. Use one of the class methods: ConfusionMatrixDisplay.from_predictions or ConfusionMatrixDisplay.from_estimator.\n",
            "  warnings.warn(msg, category=FutureWarning)\n"
          ]
        },
        {
          "data": {
            "image/png": "[encoded data removed]",
            "text/plain": [
              "<Figure size 432x288 with 2 Axes>"
            ]
          },
          "metadata": {},
          "output_type": "display_data"
        }
      ],
      "source": [
        "# Confusion Matrix\n",
        "plot_confusion_matrix(RFr4, xrtest4, yrtest4)\n",
        "plt.grid(False)\n",
        "plt.show() "
      ]
    },
    {
      "cell_type": "markdown",
      "metadata": {
        "id": "tWB0WLTyxACr"
      },
      "source": [
        "## Tuning Hyperparameter Random Forest"
      ]
    },
    {
      "cell_type": "code",
      "execution_count": null,
      "metadata": {
        "colab": {
          "base_uri": "https://localhost:8080/"
        },
        "id": "EYJmT7bNw37r",
        "outputId": "927dda30-97dd-465a-8e96-4a8025689929"
      },
      "outputs": [
        {
          "output_type": "stream",
          "name": "stdout",
          "text": [
            "Test Data Evaluation:\n",
            "Accuracy (Test Set): 0.671\n",
            "Precision (Test Set): 0.830\n",
            "Recall (Test Set): 0.568\n",
            "F1-Score (Test Set): 0.674\n",
            "AUC (Test Set) : 0.737\n",
            "Average Precision (Test Set) : 0.853\n",
            " \n",
            "Train Data Evaluation:\n",
            "Accuracy (Train Set): 0.822\n",
            "Precision (Train Set): 0.959\n",
            "Recall (Train Set): 0.732\n",
            "F1-Score (Train Set): 0.830\n",
            "AUC (Train Set) : 0.953\n",
            "Average Precision (Train Set) : 0.967\n"
          ]
        }
      ],
      "source": [
        "hyperparameters_rf = dict(\n",
        "                       n_estimators = [int(x) for x in np.linspace(start = 100, stop = 2000, num = 20)], # Jumlah subtree \n",
        "                       bootstrap = [True], # Apakah pakai bootstrapping atau tidak\n",
        "                       criterion = ['gini','entropy'],\n",
        "                       max_depth = [int(x) for x in np.linspace(10, 110, num = 11)],  # Maximum kedalaman tree\n",
        "                       min_samples_split = [int(x) for x in np.linspace(start = 2, stop = 10, num = 5)], # Jumlah minimum samples pada node agar boleh di split menjadi leaf baru\n",
        "                       min_samples_leaf = [int(x) for x in np.linspace(start = 1, stop = 10, num = 5)], # Jumlah minimum samples pada leaf agar boleh terbentuk leaf baru\n",
        "                       max_features = ['auto', 'sqrt', 'log2'], #the number of features to consider when looking for the best split\n",
        "                       n_jobs = [-1] #the number of jobs to run in parallel computation. -1 means using all processors\n",
        "                      )\n",
        "\n",
        "# Init\n",
        "rf = RandomForestClassifier(random_state=42)\n",
        "rf_tuned = RandomizedSearchCV(rf, hyperparameters_rf, cv=5, random_state=42, scoring='roc_auc')\n",
        "rf_tuned.fit(xrtrain4,yrtrain4)\n",
        "eval_classification(rf_tuned, xrtrain4, yrtrain4, xrtest4, yrtest4)\n"
      ]
    },
    {
      "cell_type": "code",
      "source": [
        "# best param\n",
        "rf_tuned.best_params_"
      ],
      "metadata": {
        "colab": {
          "base_uri": "https://localhost:8080/"
        },
        "id": "HJJNUuert0Jb",
        "outputId": "0388b0b9-bc15-42c5-97d6-dd8fbaa1ecd6"
      },
      "execution_count": null,
      "outputs": [
        {
          "output_type": "execute_result",
          "data": {
            "text/plain": [
              "{'bootstrap': True,\n",
              " 'criterion': 'entropy',\n",
              " 'max_depth': 40,\n",
              " 'max_features': 'sqrt',\n",
              " 'min_samples_leaf': 10,\n",
              " 'min_samples_split': 8,\n",
              " 'n_estimators': 300,\n",
              " 'n_jobs': -1}"
            ]
          },
          "metadata": {},
          "execution_count": 587
        }
      ]
    },
    {
      "cell_type": "code",
      "execution_count": null,
      "metadata": {
        "colab": {
          "base_uri": "https://localhost:8080/",
          "height": 334
        },
        "id": "Qihpd1DgyA0J",
        "outputId": "7ecf2534-fb3a-4cde-9951-ab60ab082015"
      },
      "outputs": [
        {
          "output_type": "stream",
          "name": "stderr",
          "text": [
            "/usr/local/lib/python3.7/dist-packages/sklearn/utils/deprecation.py:87: FutureWarning: Function plot_confusion_matrix is deprecated; Function `plot_confusion_matrix` is deprecated in 1.0 and will be removed in 1.2. Use one of the class methods: ConfusionMatrixDisplay.from_predictions or ConfusionMatrixDisplay.from_estimator.\n",
            "  warnings.warn(msg, category=FutureWarning)\n"
          ]
        },
        {
          "output_type": "display_data",
          "data": {
            "image/png": "[encoded data removed]",
            "text/plain": [
              "<Figure size 432x288 with 2 Axes>"
            ]
          },
          "metadata": {
            "needs_background": "light"
          }
        }
      ],
      "source": [
        "# Model Validation Average Precision\n",
        "plot_confusion_matrix(RFHr4, xrtest4, yrtest4)\n",
        "plt.grid(False)\n",
        "plt.show() "
      ]
    },
    {
      "cell_type": "markdown",
      "metadata": {
        "id": "cNDj60DTyahm"
      },
      "source": [
        "# 2. Data dengan Log Transfirmation"
      ]
    },
    {
      "cell_type": "code",
      "execution_count": null,
      "metadata": {
        "colab": {
          "base_uri": "https://localhost:8080/",
          "height": 270
        },
        "id": "vjH3ZVz_yiq4",
        "outputId": "a257c0ca-b81a-40ad-c744-4cd6221505cf"
      },
      "outputs": [
        {
          "output_type": "execute_result",
          "data": {
            "text/html": [
              "\n",
              "  <div id=\"df-fbe54d4d-4e23-4d20-b1ac-3bfccb804b65\">\n",
              "    <div class=\"colab-df-container\">\n",
              "      <div>\n",
              "<style scoped>\n",
              "    .dataframe tbody tr th:only-of-type {\n",
              "        vertical-align: middle;\n",
              "    }\n",
              "\n",
              "    .dataframe tbody tr th {\n",
              "        vertical-align: top;\n",
              "    }\n",
              "\n",
              "    .dataframe thead th {\n",
              "        text-align: right;\n",
              "    }\n",
              "</style>\n",
              "<table border=\"1\" class=\"dataframe\">\n",
              "  <thead>\n",
              "    <tr style=\"text-align: right;\">\n",
              "      <th></th>\n",
              "      <th>Customer_care_calls</th>\n",
              "      <th>Customer_rating</th>\n",
              "      <th>Cost_of_the_Product</th>\n",
              "      <th>Prior_purchases</th>\n",
              "      <th>Discount_offered</th>\n",
              "      <th>Weight_in_gms</th>\n",
              "      <th>Reached.on.Time_Y.N</th>\n",
              "      <th>Gender(num)</th>\n",
              "      <th>Product_Importance(num)</th>\n",
              "      <th>Warehouse_block_A</th>\n",
              "      <th>Warehouse_block_B</th>\n",
              "      <th>Warehouse_block_C</th>\n",
              "      <th>Warehouse_block_D</th>\n",
              "      <th>Mode_of_Shipment_Flight</th>\n",
              "      <th>Mode_of_Shipment_Road</th>\n",
              "    </tr>\n",
              "  </thead>\n",
              "  <tbody>\n",
              "    <tr>\n",
              "      <th>0</th>\n",
              "      <td>4</td>\n",
              "      <td>2</td>\n",
              "      <td>177</td>\n",
              "      <td>3</td>\n",
              "      <td>44</td>\n",
              "      <td>1233</td>\n",
              "      <td>1</td>\n",
              "      <td>0</td>\n",
              "      <td>0</td>\n",
              "      <td>0</td>\n",
              "      <td>0</td>\n",
              "      <td>0</td>\n",
              "      <td>1</td>\n",
              "      <td>1</td>\n",
              "      <td>0</td>\n",
              "    </tr>\n",
              "    <tr>\n",
              "      <th>1</th>\n",
              "      <td>4</td>\n",
              "      <td>5</td>\n",
              "      <td>216</td>\n",
              "      <td>2</td>\n",
              "      <td>59</td>\n",
              "      <td>3088</td>\n",
              "      <td>1</td>\n",
              "      <td>1</td>\n",
              "      <td>0</td>\n",
              "      <td>0</td>\n",
              "      <td>0</td>\n",
              "      <td>0</td>\n",
              "      <td>0</td>\n",
              "      <td>1</td>\n",
              "      <td>0</td>\n",
              "    </tr>\n",
              "    <tr>\n",
              "      <th>2</th>\n",
              "      <td>2</td>\n",
              "      <td>2</td>\n",
              "      <td>183</td>\n",
              "      <td>4</td>\n",
              "      <td>48</td>\n",
              "      <td>3374</td>\n",
              "      <td>1</td>\n",
              "      <td>1</td>\n",
              "      <td>0</td>\n",
              "      <td>1</td>\n",
              "      <td>0</td>\n",
              "      <td>0</td>\n",
              "      <td>0</td>\n",
              "      <td>1</td>\n",
              "      <td>0</td>\n",
              "    </tr>\n",
              "    <tr>\n",
              "      <th>3</th>\n",
              "      <td>3</td>\n",
              "      <td>3</td>\n",
              "      <td>176</td>\n",
              "      <td>4</td>\n",
              "      <td>10</td>\n",
              "      <td>1177</td>\n",
              "      <td>1</td>\n",
              "      <td>1</td>\n",
              "      <td>1</td>\n",
              "      <td>0</td>\n",
              "      <td>1</td>\n",
              "      <td>0</td>\n",
              "      <td>0</td>\n",
              "      <td>1</td>\n",
              "      <td>0</td>\n",
              "    </tr>\n",
              "    <tr>\n",
              "      <th>4</th>\n",
              "      <td>2</td>\n",
              "      <td>2</td>\n",
              "      <td>184</td>\n",
              "      <td>3</td>\n",
              "      <td>46</td>\n",
              "      <td>2484</td>\n",
              "      <td>1</td>\n",
              "      <td>0</td>\n",
              "      <td>1</td>\n",
              "      <td>0</td>\n",
              "      <td>0</td>\n",
              "      <td>1</td>\n",
              "      <td>0</td>\n",
              "      <td>1</td>\n",
              "      <td>0</td>\n",
              "    </tr>\n",
              "  </tbody>\n",
              "</table>\n",
              "</div>\n",
              "      <button class=\"colab-df-convert\" onclick=\"convertToInteractive('df-fbe54d4d-4e23-4d20-b1ac-3bfccb804b65')\"\n",
              "              title=\"Convert this dataframe to an interactive table.\"\n",
              "              style=\"display:none;\">\n",
              "        \n",
              "  <svg xmlns=\"http://www.w3.org/2000/svg\" height=\"24px\"viewBox=\"0 0 24 24\"\n",
              "       width=\"24px\">\n",
              "    <path d=\"M0 0h24v24H0V0z\" fill=\"none\"/>\n",
              "    <path d=\"M18.56 5.44l.94 2.06.94-2.06 2.06-.94-2.06-.94-.94-2.06-.94 2.06-2.06.94zm-11 1L8.5 8.5l.94-2.06 2.06-.94-2.06-.94L8.5 2.5l-.94 2.06-2.06.94zm10 10l.94 2.06.94-2.06 2.06-.94-2.06-.94-.94-2.06-.94 2.06-2.06.94z\"/><path d=\"M17.41 7.96l-1.37-1.37c-.4-.4-.92-.59-1.43-.59-.52 0-1.04.2-1.43.59L10.3 9.45l-7.72 7.72c-.78.78-.78 2.05 0 2.83L4 21.41c.39.39.9.59 1.41.59.51 0 1.02-.2 1.41-.59l7.78-7.78 2.81-2.81c.8-.78.8-2.07 0-2.86zM5.41 20L4 18.59l7.72-7.72 1.47 1.35L5.41 20z\"/>\n",
              "  </svg>\n",
              "      </button>\n",
              "      \n",
              "  <style>\n",
              "    .colab-df-container {\n",
              "      display:flex;\n",
              "      flex-wrap:wrap;\n",
              "      gap: 12px;\n",
              "    }\n",
              "\n",
              "    .colab-df-convert {\n",
              "      background-color: #E8F0FE;\n",
              "      border: none;\n",
              "      border-radius: 50%;\n",
              "      cursor: pointer;\n",
              "      display: none;\n",
              "      fill: #1967D2;\n",
              "      height: 32px;\n",
              "      padding: 0 0 0 0;\n",
              "      width: 32px;\n",
              "    }\n",
              "\n",
              "    .colab-df-convert:hover {\n",
              "      background-color: #E2EBFA;\n",
              "      box-shadow: 0px 1px 2px rgba(60, 64, 67, 0.3), 0px 1px 3px 1px rgba(60, 64, 67, 0.15);\n",
              "      fill: #174EA6;\n",
              "    }\n",
              "\n",
              "    [theme=dark] .colab-df-convert {\n",
              "      background-color: #3B4455;\n",
              "      fill: #D2E3FC;\n",
              "    }\n",
              "\n",
              "    [theme=dark] .colab-df-convert:hover {\n",
              "      background-color: #434B5C;\n",
              "      box-shadow: 0px 1px 3px 1px rgba(0, 0, 0, 0.15);\n",
              "      filter: drop-shadow(0px 1px 2px rgba(0, 0, 0, 0.3));\n",
              "      fill: #FFFFFF;\n",
              "    }\n",
              "  </style>\n",
              "\n",
              "      <script>\n",
              "        const buttonEl =\n",
              "          document.querySelector('#df-fbe54d4d-4e23-4d20-b1ac-3bfccb804b65 button.colab-df-convert');\n",
              "        buttonEl.style.display =\n",
              "          google.colab.kernel.accessAllowed ? 'block' : 'none';\n",
              "\n",
              "        async function convertToInteractive(key) {\n",
              "          const element = document.querySelector('#df-fbe54d4d-4e23-4d20-b1ac-3bfccb804b65');\n",
              "          const dataTable =\n",
              "            await google.colab.kernel.invokeFunction('convertToInteractive',\n",
              "                                                     [key], {});\n",
              "          if (!dataTable) return;\n",
              "\n",
              "          const docLinkHtml = 'Like what you see? Visit the ' +\n",
              "            '<a target=\"_blank\" href=https://colab.research.google.com/notebooks/data_table.ipynb>data table notebook</a>'\n",
              "            + ' to learn more about interactive tables.';\n",
              "          element.innerHTML = '';\n",
              "          dataTable['output_type'] = 'display_data';\n",
              "          await google.colab.output.renderOutput(dataTable, element);\n",
              "          const docLink = document.createElement('div');\n",
              "          docLink.innerHTML = docLinkHtml;\n",
              "          element.appendChild(docLink);\n",
              "        }\n",
              "      </script>\n",
              "    </div>\n",
              "  </div>\n",
              "  "
            ],
            "text/plain": [
              "   Customer_care_calls  ...  Mode_of_Shipment_Road\n",
              "0                    4  ...                      0\n",
              "1                    4  ...                      0\n",
              "2                    2  ...                      0\n",
              "3                    3  ...                      0\n",
              "4                    2  ...                      0\n",
              "\n",
              "[5 rows x 15 columns]"
            ]
          },
          "metadata": {},
          "execution_count": 24
        }
      ],
      "source": [
        "df_log = df_shipping.copy()\n",
        "\n",
        "df_log.head()"
      ]
    },
    {
      "cell_type": "code",
      "execution_count": null,
      "metadata": {
        "id": "qznO21i4yio6"
      },
      "outputs": [],
      "source": [
        "#tranformasi log\n",
        "df_log['log_Discount_Offered'] = np.log(df_shipping['Discount_offered'])\n",
        "df_log['log_Prior_Purchases'] = np.log(df_shipping['Prior_purchases'])"
      ]
    },
    {
      "cell_type": "code",
      "execution_count": null,
      "metadata": {
        "colab": {
          "base_uri": "https://localhost:8080/",
          "height": 300
        },
        "id": "I5Etr4m2yili",
        "outputId": "936efcb7-9ef5-4be9-851d-180b841cd35b"
      },
      "outputs": [
        {
          "output_type": "execute_result",
          "data": {
            "text/html": [
              "\n",
              "  <div id=\"df-c6bf4644-7970-43d8-b601-8e023ded005e\">\n",
              "    <div class=\"colab-df-container\">\n",
              "      <div>\n",
              "<style scoped>\n",
              "    .dataframe tbody tr th:only-of-type {\n",
              "        vertical-align: middle;\n",
              "    }\n",
              "\n",
              "    .dataframe tbody tr th {\n",
              "        vertical-align: top;\n",
              "    }\n",
              "\n",
              "    .dataframe thead th {\n",
              "        text-align: right;\n",
              "    }\n",
              "</style>\n",
              "<table border=\"1\" class=\"dataframe\">\n",
              "  <thead>\n",
              "    <tr style=\"text-align: right;\">\n",
              "      <th></th>\n",
              "      <th>Prior_purchases</th>\n",
              "      <th>log_Prior_Purchases</th>\n",
              "      <th>Discount_offered</th>\n",
              "      <th>log_Discount_Offered</th>\n",
              "    </tr>\n",
              "  </thead>\n",
              "  <tbody>\n",
              "    <tr>\n",
              "      <th>count</th>\n",
              "      <td>10999.000000</td>\n",
              "      <td>10999.000000</td>\n",
              "      <td>10999.000000</td>\n",
              "      <td>10999.000000</td>\n",
              "    </tr>\n",
              "    <tr>\n",
              "      <th>mean</th>\n",
              "      <td>3.567597</td>\n",
              "      <td>1.195669</td>\n",
              "      <td>13.373216</td>\n",
              "      <td>1.998420</td>\n",
              "    </tr>\n",
              "    <tr>\n",
              "      <th>std</th>\n",
              "      <td>1.522860</td>\n",
              "      <td>0.379769</td>\n",
              "      <td>16.205527</td>\n",
              "      <td>1.083692</td>\n",
              "    </tr>\n",
              "    <tr>\n",
              "      <th>min</th>\n",
              "      <td>2.000000</td>\n",
              "      <td>0.693147</td>\n",
              "      <td>1.000000</td>\n",
              "      <td>0.000000</td>\n",
              "    </tr>\n",
              "    <tr>\n",
              "      <th>25%</th>\n",
              "      <td>3.000000</td>\n",
              "      <td>1.098612</td>\n",
              "      <td>4.000000</td>\n",
              "      <td>1.386294</td>\n",
              "    </tr>\n",
              "    <tr>\n",
              "      <th>50%</th>\n",
              "      <td>3.000000</td>\n",
              "      <td>1.098612</td>\n",
              "      <td>7.000000</td>\n",
              "      <td>1.945910</td>\n",
              "    </tr>\n",
              "    <tr>\n",
              "      <th>75%</th>\n",
              "      <td>4.000000</td>\n",
              "      <td>1.386294</td>\n",
              "      <td>10.000000</td>\n",
              "      <td>2.302585</td>\n",
              "    </tr>\n",
              "    <tr>\n",
              "      <th>max</th>\n",
              "      <td>10.000000</td>\n",
              "      <td>2.302585</td>\n",
              "      <td>65.000000</td>\n",
              "      <td>4.174387</td>\n",
              "    </tr>\n",
              "  </tbody>\n",
              "</table>\n",
              "</div>\n",
              "      <button class=\"colab-df-convert\" onclick=\"convertToInteractive('df-c6bf4644-7970-43d8-b601-8e023ded005e')\"\n",
              "              title=\"Convert this dataframe to an interactive table.\"\n",
              "              style=\"display:none;\">\n",
              "        \n",
              "  <svg xmlns=\"http://www.w3.org/2000/svg\" height=\"24px\"viewBox=\"0 0 24 24\"\n",
              "       width=\"24px\">\n",
              "    <path d=\"M0 0h24v24H0V0z\" fill=\"none\"/>\n",
              "    <path d=\"M18.56 5.44l.94 2.06.94-2.06 2.06-.94-2.06-.94-.94-2.06-.94 2.06-2.06.94zm-11 1L8.5 8.5l.94-2.06 2.06-.94-2.06-.94L8.5 2.5l-.94 2.06-2.06.94zm10 10l.94 2.06.94-2.06 2.06-.94-2.06-.94-.94-2.06-.94 2.06-2.06.94z\"/><path d=\"M17.41 7.96l-1.37-1.37c-.4-.4-.92-.59-1.43-.59-.52 0-1.04.2-1.43.59L10.3 9.45l-7.72 7.72c-.78.78-.78 2.05 0 2.83L4 21.41c.39.39.9.59 1.41.59.51 0 1.02-.2 1.41-.59l7.78-7.78 2.81-2.81c.8-.78.8-2.07 0-2.86zM5.41 20L4 18.59l7.72-7.72 1.47 1.35L5.41 20z\"/>\n",
              "  </svg>\n",
              "      </button>\n",
              "      \n",
              "  <style>\n",
              "    .colab-df-container {\n",
              "      display:flex;\n",
              "      flex-wrap:wrap;\n",
              "      gap: 12px;\n",
              "    }\n",
              "\n",
              "    .colab-df-convert {\n",
              "      background-color: #E8F0FE;\n",
              "      border: none;\n",
              "      border-radius: 50%;\n",
              "      cursor: pointer;\n",
              "      display: none;\n",
              "      fill: #1967D2;\n",
              "      height: 32px;\n",
              "      padding: 0 0 0 0;\n",
              "      width: 32px;\n",
              "    }\n",
              "\n",
              "    .colab-df-convert:hover {\n",
              "      background-color: #E2EBFA;\n",
              "      box-shadow: 0px 1px 2px rgba(60, 64, 67, 0.3), 0px 1px 3px 1px rgba(60, 64, 67, 0.15);\n",
              "      fill: #174EA6;\n",
              "    }\n",
              "\n",
              "    [theme=dark] .colab-df-convert {\n",
              "      background-color: #3B4455;\n",
              "      fill: #D2E3FC;\n",
              "    }\n",
              "\n",
              "    [theme=dark] .colab-df-convert:hover {\n",
              "      background-color: #434B5C;\n",
              "      box-shadow: 0px 1px 3px 1px rgba(0, 0, 0, 0.15);\n",
              "      filter: drop-shadow(0px 1px 2px rgba(0, 0, 0, 0.3));\n",
              "      fill: #FFFFFF;\n",
              "    }\n",
              "  </style>\n",
              "\n",
              "      <script>\n",
              "        const buttonEl =\n",
              "          document.querySelector('#df-c6bf4644-7970-43d8-b601-8e023ded005e button.colab-df-convert');\n",
              "        buttonEl.style.display =\n",
              "          google.colab.kernel.accessAllowed ? 'block' : 'none';\n",
              "\n",
              "        async function convertToInteractive(key) {\n",
              "          const element = document.querySelector('#df-c6bf4644-7970-43d8-b601-8e023ded005e');\n",
              "          const dataTable =\n",
              "            await google.colab.kernel.invokeFunction('convertToInteractive',\n",
              "                                                     [key], {});\n",
              "          if (!dataTable) return;\n",
              "\n",
              "          const docLinkHtml = 'Like what you see? Visit the ' +\n",
              "            '<a target=\"_blank\" href=https://colab.research.google.com/notebooks/data_table.ipynb>data table notebook</a>'\n",
              "            + ' to learn more about interactive tables.';\n",
              "          element.innerHTML = '';\n",
              "          dataTable['output_type'] = 'display_data';\n",
              "          await google.colab.output.renderOutput(dataTable, element);\n",
              "          const docLink = document.createElement('div');\n",
              "          docLink.innerHTML = docLinkHtml;\n",
              "          element.appendChild(docLink);\n",
              "        }\n",
              "      </script>\n",
              "    </div>\n",
              "  </div>\n",
              "  "
            ],
            "text/plain": [
              "       Prior_purchases  ...  log_Discount_Offered\n",
              "count     10999.000000  ...          10999.000000\n",
              "mean          3.567597  ...              1.998420\n",
              "std           1.522860  ...              1.083692\n",
              "min           2.000000  ...              0.000000\n",
              "25%           3.000000  ...              1.386294\n",
              "50%           3.000000  ...              1.945910\n",
              "75%           4.000000  ...              2.302585\n",
              "max          10.000000  ...              4.174387\n",
              "\n",
              "[8 rows x 4 columns]"
            ]
          },
          "metadata": {},
          "execution_count": 26
        }
      ],
      "source": [
        "df_log[{'Discount_offered', 'log_Discount_Offered', 'Prior_purchases', 'log_Prior_Purchases'}].describe()"
      ]
    },
    {
      "cell_type": "code",
      "execution_count": null,
      "metadata": {
        "colab": {
          "base_uri": "https://localhost:8080/"
        },
        "id": "IncvQlPzyih7",
        "outputId": "ba0c6ef1-1741-413d-cc86-a641e9083ace"
      },
      "outputs": [
        {
          "output_type": "stream",
          "name": "stdout",
          "text": [
            "<class 'pandas.core.frame.DataFrame'>\n",
            "RangeIndex: 10999 entries, 0 to 10998\n",
            "Data columns (total 17 columns):\n",
            " #   Column                   Non-Null Count  Dtype  \n",
            "---  ------                   --------------  -----  \n",
            " 0   Customer_care_calls      10999 non-null  int64  \n",
            " 1   Customer_rating          10999 non-null  int64  \n",
            " 2   Cost_of_the_Product      10999 non-null  int64  \n",
            " 3   Prior_purchases          10999 non-null  int64  \n",
            " 4   Discount_offered         10999 non-null  int64  \n",
            " 5   Weight_in_gms            10999 non-null  int64  \n",
            " 6   Reached.on.Time_Y.N      10999 non-null  int64  \n",
            " 7   Gender(num)              10999 non-null  int64  \n",
            " 8   Product_Importance(num)  10999 non-null  int64  \n",
            " 9   Warehouse_block_A        10999 non-null  uint8  \n",
            " 10  Warehouse_block_B        10999 non-null  uint8  \n",
            " 11  Warehouse_block_C        10999 non-null  uint8  \n",
            " 12  Warehouse_block_D        10999 non-null  uint8  \n",
            " 13  Mode_of_Shipment_Flight  10999 non-null  uint8  \n",
            " 14  Mode_of_Shipment_Road    10999 non-null  uint8  \n",
            " 15  log_Discount_Offered     10999 non-null  float64\n",
            " 16  log_Prior_Purchases      10999 non-null  float64\n",
            "dtypes: float64(2), int64(9), uint8(6)\n",
            "memory usage: 1009.8 KB\n"
          ]
        }
      ],
      "source": [
        "df_log.info()"
      ]
    },
    {
      "cell_type": "code",
      "execution_count": null,
      "metadata": {
        "id": "-gIhuIdlEnSS"
      },
      "outputs": [],
      "source": [
        "from sklearn.metrics import accuracy_score, precision_score, recall_score, f1_score, roc_auc_score\n",
        "\n",
        "def eval_classification(model, xtrain, ytrain, xtest, ytest):\n",
        "    ypred = model.predict(xtest)\n",
        "    print(\"Accuracy (Test Set): %.2f\" % accuracy_score(ytest, ypred))\n",
        "    print(\"Precision (Test Set): %.2f\" % precision_score(ytest, ypred))\n",
        "    print(\"Recall (Test Set): %.2f\" % recall_score(ytest, ypred))\n",
        "    print(\"F1-Score (Test Set): %.2f\" % f1_score(ytest, ypred))\n",
        "    \n",
        "    y_pred_proba = model.predict_proba(xtest)\n",
        "    print(\"AUC: %.2f\" % roc_auc_score(ytest, y_pred_proba[:, 1]))\n",
        "    \n",
        "def show_feature_importance(model):\n",
        "    feat_importances = pd.Series(model.feature_importances_, index=X.columns)\n",
        "    ax = feat_importances.nlargest(25).plot(kind='barh', figsize=(10, 8))\n",
        "    ax.invert_yaxis()\n",
        "\n",
        "    plt.xlabel('score')\n",
        "    plt.ylabel('feature')\n",
        "    plt.title('feature importance score')\n",
        "\n",
        "def show_best_hyperparameter(model, hyperparameters):\n",
        "    for key, value in hyperparameters.items() :\n",
        "        print('Best '+key+':', model.get_params()[key])"
      ]
    },
    {
      "cell_type": "code",
      "execution_count": null,
      "metadata": {
        "colab": {
          "base_uri": "https://localhost:8080/"
        },
        "id": "dIUtT47JNbb4",
        "outputId": "ddc05b2f-b316-4b94-c679-a6800281f99e"
      },
      "outputs": [
        {
          "output_type": "execute_result",
          "data": {
            "text/plain": [
              "Index(['Customer_care_calls', 'Customer_rating', 'Cost_of_the_Product',\n",
              "       'Prior_purchases', 'Discount_offered', 'Weight_in_gms',\n",
              "       'Reached.on.Time_Y.N', 'Gender(num)', 'Product_Importance(num)',\n",
              "       'Warehouse_block_A', 'Warehouse_block_B', 'Warehouse_block_C',\n",
              "       'Warehouse_block_D', 'Mode_of_Shipment_Flight', 'Mode_of_Shipment_Road',\n",
              "       'log_Discount_Offered', 'log_Prior_Purchases'],\n",
              "      dtype='object')"
            ]
          },
          "metadata": {},
          "execution_count": 29
        }
      ],
      "source": [
        "df_log.columns"
      ]
    },
    {
      "cell_type": "code",
      "execution_count": null,
      "metadata": {
        "id": "TaKWdpJqyics"
      },
      "outputs": [],
      "source": [
        "# Split Feature and Label\n",
        "X = df_log.drop(columns=['Prior_purchases','Discount_offered','Reached.on.Time_Y.N'])\n",
        "y = df_log['Reached.on.Time_Y.N'] # target / label\n",
        "\n",
        "#Splitting the data into Train and Test\n",
        "from sklearn.model_selection import train_test_split \n",
        "X_train, X_test, y_train, y_test = train_test_split(X, y, test_size = 0.3, random_state = 42)"
      ]
    },
    {
      "cell_type": "code",
      "execution_count": null,
      "metadata": {
        "colab": {
          "base_uri": "https://localhost:8080/",
          "height": 270
        },
        "id": "mU5oeI5dN_bN",
        "outputId": "8633c0a2-9474-4099-a5bc-0f160611ca1d"
      },
      "outputs": [
        {
          "output_type": "execute_result",
          "data": {
            "text/html": [
              "\n",
              "  <div id=\"df-c86a09a2-a18e-4b01-b312-7622c016b475\">\n",
              "    <div class=\"colab-df-container\">\n",
              "      <div>\n",
              "<style scoped>\n",
              "    .dataframe tbody tr th:only-of-type {\n",
              "        vertical-align: middle;\n",
              "    }\n",
              "\n",
              "    .dataframe tbody tr th {\n",
              "        vertical-align: top;\n",
              "    }\n",
              "\n",
              "    .dataframe thead th {\n",
              "        text-align: right;\n",
              "    }\n",
              "</style>\n",
              "<table border=\"1\" class=\"dataframe\">\n",
              "  <thead>\n",
              "    <tr style=\"text-align: right;\">\n",
              "      <th></th>\n",
              "      <th>Customer_care_calls</th>\n",
              "      <th>Customer_rating</th>\n",
              "      <th>Cost_of_the_Product</th>\n",
              "      <th>Prior_purchases</th>\n",
              "      <th>Discount_offered</th>\n",
              "      <th>Weight_in_gms</th>\n",
              "      <th>Reached.on.Time_Y.N</th>\n",
              "      <th>Gender(num)</th>\n",
              "      <th>Product_Importance(num)</th>\n",
              "      <th>Warehouse_block_A</th>\n",
              "      <th>Warehouse_block_B</th>\n",
              "      <th>Warehouse_block_C</th>\n",
              "      <th>Warehouse_block_D</th>\n",
              "      <th>Mode_of_Shipment_Flight</th>\n",
              "      <th>Mode_of_Shipment_Road</th>\n",
              "      <th>log_Discount_Offered</th>\n",
              "      <th>log_Prior_Purchases</th>\n",
              "    </tr>\n",
              "  </thead>\n",
              "  <tbody>\n",
              "    <tr>\n",
              "      <th>0</th>\n",
              "      <td>4</td>\n",
              "      <td>2</td>\n",
              "      <td>177</td>\n",
              "      <td>3</td>\n",
              "      <td>44</td>\n",
              "      <td>1233</td>\n",
              "      <td>1</td>\n",
              "      <td>0</td>\n",
              "      <td>0</td>\n",
              "      <td>0</td>\n",
              "      <td>0</td>\n",
              "      <td>0</td>\n",
              "      <td>1</td>\n",
              "      <td>1</td>\n",
              "      <td>0</td>\n",
              "      <td>3.784190</td>\n",
              "      <td>1.098612</td>\n",
              "    </tr>\n",
              "    <tr>\n",
              "      <th>1</th>\n",
              "      <td>4</td>\n",
              "      <td>5</td>\n",
              "      <td>216</td>\n",
              "      <td>2</td>\n",
              "      <td>59</td>\n",
              "      <td>3088</td>\n",
              "      <td>1</td>\n",
              "      <td>1</td>\n",
              "      <td>0</td>\n",
              "      <td>0</td>\n",
              "      <td>0</td>\n",
              "      <td>0</td>\n",
              "      <td>0</td>\n",
              "      <td>1</td>\n",
              "      <td>0</td>\n",
              "      <td>4.077537</td>\n",
              "      <td>0.693147</td>\n",
              "    </tr>\n",
              "    <tr>\n",
              "      <th>2</th>\n",
              "      <td>2</td>\n",
              "      <td>2</td>\n",
              "      <td>183</td>\n",
              "      <td>4</td>\n",
              "      <td>48</td>\n",
              "      <td>3374</td>\n",
              "      <td>1</td>\n",
              "      <td>1</td>\n",
              "      <td>0</td>\n",
              "      <td>1</td>\n",
              "      <td>0</td>\n",
              "      <td>0</td>\n",
              "      <td>0</td>\n",
              "      <td>1</td>\n",
              "      <td>0</td>\n",
              "      <td>3.871201</td>\n",
              "      <td>1.386294</td>\n",
              "    </tr>\n",
              "    <tr>\n",
              "      <th>3</th>\n",
              "      <td>3</td>\n",
              "      <td>3</td>\n",
              "      <td>176</td>\n",
              "      <td>4</td>\n",
              "      <td>10</td>\n",
              "      <td>1177</td>\n",
              "      <td>1</td>\n",
              "      <td>1</td>\n",
              "      <td>1</td>\n",
              "      <td>0</td>\n",
              "      <td>1</td>\n",
              "      <td>0</td>\n",
              "      <td>0</td>\n",
              "      <td>1</td>\n",
              "      <td>0</td>\n",
              "      <td>2.302585</td>\n",
              "      <td>1.386294</td>\n",
              "    </tr>\n",
              "    <tr>\n",
              "      <th>4</th>\n",
              "      <td>2</td>\n",
              "      <td>2</td>\n",
              "      <td>184</td>\n",
              "      <td>3</td>\n",
              "      <td>46</td>\n",
              "      <td>2484</td>\n",
              "      <td>1</td>\n",
              "      <td>0</td>\n",
              "      <td>1</td>\n",
              "      <td>0</td>\n",
              "      <td>0</td>\n",
              "      <td>1</td>\n",
              "      <td>0</td>\n",
              "      <td>1</td>\n",
              "      <td>0</td>\n",
              "      <td>3.828641</td>\n",
              "      <td>1.098612</td>\n",
              "    </tr>\n",
              "  </tbody>\n",
              "</table>\n",
              "</div>\n",
              "      <button class=\"colab-df-convert\" onclick=\"convertToInteractive('df-c86a09a2-a18e-4b01-b312-7622c016b475')\"\n",
              "              title=\"Convert this dataframe to an interactive table.\"\n",
              "              style=\"display:none;\">\n",
              "        \n",
              "  <svg xmlns=\"http://www.w3.org/2000/svg\" height=\"24px\"viewBox=\"0 0 24 24\"\n",
              "       width=\"24px\">\n",
              "    <path d=\"M0 0h24v24H0V0z\" fill=\"none\"/>\n",
              "    <path d=\"M18.56 5.44l.94 2.06.94-2.06 2.06-.94-2.06-.94-.94-2.06-.94 2.06-2.06.94zm-11 1L8.5 8.5l.94-2.06 2.06-.94-2.06-.94L8.5 2.5l-.94 2.06-2.06.94zm10 10l.94 2.06.94-2.06 2.06-.94-2.06-.94-.94-2.06-.94 2.06-2.06.94z\"/><path d=\"M17.41 7.96l-1.37-1.37c-.4-.4-.92-.59-1.43-.59-.52 0-1.04.2-1.43.59L10.3 9.45l-7.72 7.72c-.78.78-.78 2.05 0 2.83L4 21.41c.39.39.9.59 1.41.59.51 0 1.02-.2 1.41-.59l7.78-7.78 2.81-2.81c.8-.78.8-2.07 0-2.86zM5.41 20L4 18.59l7.72-7.72 1.47 1.35L5.41 20z\"/>\n",
              "  </svg>\n",
              "      </button>\n",
              "      \n",
              "  <style>\n",
              "    .colab-df-container {\n",
              "      display:flex;\n",
              "      flex-wrap:wrap;\n",
              "      gap: 12px;\n",
              "    }\n",
              "\n",
              "    .colab-df-convert {\n",
              "      background-color: #E8F0FE;\n",
              "      border: none;\n",
              "      border-radius: 50%;\n",
              "      cursor: pointer;\n",
              "      display: none;\n",
              "      fill: #1967D2;\n",
              "      height: 32px;\n",
              "      padding: 0 0 0 0;\n",
              "      width: 32px;\n",
              "    }\n",
              "\n",
              "    .colab-df-convert:hover {\n",
              "      background-color: #E2EBFA;\n",
              "      box-shadow: 0px 1px 2px rgba(60, 64, 67, 0.3), 0px 1px 3px 1px rgba(60, 64, 67, 0.15);\n",
              "      fill: #174EA6;\n",
              "    }\n",
              "\n",
              "    [theme=dark] .colab-df-convert {\n",
              "      background-color: #3B4455;\n",
              "      fill: #D2E3FC;\n",
              "    }\n",
              "\n",
              "    [theme=dark] .colab-df-convert:hover {\n",
              "      background-color: #434B5C;\n",
              "      box-shadow: 0px 1px 3px 1px rgba(0, 0, 0, 0.15);\n",
              "      filter: drop-shadow(0px 1px 2px rgba(0, 0, 0, 0.3));\n",
              "      fill: #FFFFFF;\n",
              "    }\n",
              "  </style>\n",
              "\n",
              "      <script>\n",
              "        const buttonEl =\n",
              "          document.querySelector('#df-c86a09a2-a18e-4b01-b312-7622c016b475 button.colab-df-convert');\n",
              "        buttonEl.style.display =\n",
              "          google.colab.kernel.accessAllowed ? 'block' : 'none';\n",
              "\n",
              "        async function convertToInteractive(key) {\n",
              "          const element = document.querySelector('#df-c86a09a2-a18e-4b01-b312-7622c016b475');\n",
              "          const dataTable =\n",
              "            await google.colab.kernel.invokeFunction('convertToInteractive',\n",
              "                                                     [key], {});\n",
              "          if (!dataTable) return;\n",
              "\n",
              "          const docLinkHtml = 'Like what you see? Visit the ' +\n",
              "            '<a target=\"_blank\" href=https://colab.research.google.com/notebooks/data_table.ipynb>data table notebook</a>'\n",
              "            + ' to learn more about interactive tables.';\n",
              "          element.innerHTML = '';\n",
              "          dataTable['output_type'] = 'display_data';\n",
              "          await google.colab.output.renderOutput(dataTable, element);\n",
              "          const docLink = document.createElement('div');\n",
              "          docLink.innerHTML = docLinkHtml;\n",
              "          element.appendChild(docLink);\n",
              "        }\n",
              "      </script>\n",
              "    </div>\n",
              "  </div>\n",
              "  "
            ],
            "text/plain": [
              "   Customer_care_calls  ...  log_Prior_Purchases\n",
              "0                    4  ...             1.098612\n",
              "1                    4  ...             0.693147\n",
              "2                    2  ...             1.386294\n",
              "3                    3  ...             1.386294\n",
              "4                    2  ...             1.098612\n",
              "\n",
              "[5 rows x 17 columns]"
            ]
          },
          "metadata": {},
          "execution_count": 31
        }
      ],
      "source": [
        "df_log.head()"
      ]
    },
    {
      "cell_type": "markdown",
      "metadata": {
        "id": "iDP2t8rU3z4A"
      },
      "source": [
        "## Logistic Regression"
      ]
    },
    {
      "cell_type": "code",
      "execution_count": null,
      "metadata": {
        "colab": {
          "base_uri": "https://localhost:8080/"
        },
        "id": "M28tdAbwRlTi",
        "outputId": "7d6c9ced-3881-456a-bced-9175e3520abc"
      },
      "outputs": [
        {
          "output_type": "execute_result",
          "data": {
            "text/plain": [
              "LogisticRegression(random_state=42)"
            ]
          },
          "metadata": {},
          "execution_count": 32
        }
      ],
      "source": [
        "from sklearn.linear_model import LogisticRegression\n",
        "model = LogisticRegression(random_state=42)\n",
        "model.fit(X_train, y_train)"
      ]
    },
    {
      "cell_type": "code",
      "execution_count": null,
      "metadata": {
        "colab": {
          "base_uri": "https://localhost:8080/"
        },
        "id": "P09FYAXVT4-y",
        "outputId": "de035246-17c5-421a-962f-f8bf61064789"
      },
      "outputs": [
        {
          "output_type": "execute_result",
          "data": {
            "text/plain": [
              "array([1, 0, 0, ..., 1, 1, 1])"
            ]
          },
          "metadata": {},
          "execution_count": 33
        }
      ],
      "source": [
        "y_pred = model.predict(X_test)\n",
        "y_pred"
      ]
    },
    {
      "cell_type": "code",
      "execution_count": null,
      "metadata": {
        "colab": {
          "base_uri": "https://localhost:8080/"
        },
        "id": "o6zFDwHoT_w4",
        "outputId": "32f76388-aae0-40b8-b106-de212a3f76a1"
      },
      "outputs": [
        {
          "output_type": "execute_result",
          "data": {
            "text/plain": [
              "array([[0.11664102, 0.88335898],\n",
              "       [0.55406694, 0.44593306],\n",
              "       [0.58351776, 0.41648224],\n",
              "       ...,\n",
              "       [0.43820925, 0.56179075],\n",
              "       [0.20658171, 0.79341829],\n",
              "       [0.42661425, 0.57338575]])"
            ]
          },
          "metadata": {},
          "execution_count": 34
        }
      ],
      "source": [
        "model.predict_proba(X_test)"
      ]
    },
    {
      "cell_type": "code",
      "execution_count": null,
      "metadata": {
        "colab": {
          "base_uri": "https://localhost:8080/"
        },
        "id": "uBpUuUpCT_og",
        "outputId": "e24f0e26-600e-4056-e7b7-58625a9f7e6c"
      },
      "outputs": [
        {
          "output_type": "execute_result",
          "data": {
            "text/plain": [
              "array([1, 1, 1, ..., 0, 1, 0])"
            ]
          },
          "metadata": {},
          "execution_count": 35
        }
      ],
      "source": [
        "y_pred_train = model.predict(X_train)\n",
        "y_pred_train"
      ]
    },
    {
      "cell_type": "code",
      "execution_count": null,
      "metadata": {
        "colab": {
          "base_uri": "https://localhost:8080/"
        },
        "id": "Z84_QxBaUEDT",
        "outputId": "e50268f9-f387-4183-ee28-b156cae097fe"
      },
      "outputs": [
        {
          "output_type": "stream",
          "name": "stdout",
          "text": [
            "Accuracy (Test Set): 0.63\n",
            "Precision (Test Set): 0.67\n",
            "Recall (Test Set): 0.75\n",
            "F1-Score (Test Set): 0.71\n",
            "AUC: 0.71\n"
          ]
        }
      ],
      "source": [
        "eval_classification(model, X_train, y_train, X_test, y_test)"
      ]
    },
    {
      "cell_type": "code",
      "execution_count": null,
      "metadata": {
        "colab": {
          "base_uri": "https://localhost:8080/"
        },
        "id": "skxKq9SPUD0v",
        "outputId": "028c0313-5210-42be-94ea-670d57fe1fb9"
      },
      "outputs": [
        {
          "output_type": "stream",
          "name": "stdout",
          "text": [
            "Precision (Train Set): 0.67\n"
          ]
        }
      ],
      "source": [
        "print(\"Precision (Train Set): %.2f\" % precision_score(y_train, y_pred_train))"
      ]
    },
    {
      "cell_type": "code",
      "execution_count": null,
      "metadata": {
        "colab": {
          "base_uri": "https://localhost:8080/"
        },
        "id": "QZR22biAUJ_Z",
        "outputId": "2a5693fd-934f-452f-f52f-12650da49fdd"
      },
      "outputs": [
        {
          "output_type": "stream",
          "name": "stdout",
          "text": [
            "Train score: 0.6265748798545265\n",
            "Test score:0.6293939393939394\n"
          ]
        }
      ],
      "source": [
        "print('Train score: ' + str(model.score(X_train, y_train))) #accuracy\n",
        "print('Test score:' + str(model.score(X_test, y_test))) #accuracy"
      ]
    },
    {
      "cell_type": "markdown",
      "metadata": {
        "id": "IyfUGhvKUR6v"
      },
      "source": [
        "## Hyperparameter Tuning"
      ]
    },
    {
      "cell_type": "code",
      "execution_count": null,
      "metadata": {
        "colab": {
          "base_uri": "https://localhost:8080/"
        },
        "id": "gOPyNrRwUOrA",
        "outputId": "19975e7c-24e6-4678-d2a5-59aae46d78f0"
      },
      "outputs": [
        {
          "name": "stderr",
          "output_type": "stream",
          "text": [
            "/usr/local/lib/python3.7/dist-packages/sklearn/model_selection/_search.py:296: UserWarning: The total space of parameters 9 is smaller than n_iter=10. Running 9 iterations. For exhaustive searches, use GridSearchCV.\n",
            "  UserWarning,\n",
            "/usr/local/lib/python3.7/dist-packages/sklearn/linear_model/_logistic.py:818: ConvergenceWarning: lbfgs failed to converge (status=1):\n",
            "STOP: TOTAL NO. of ITERATIONS REACHED LIMIT.\n",
            "\n",
            "Increase the number of iterations (max_iter) or scale the data as shown in:\n",
            "    https://scikit-learn.org/stable/modules/preprocessing.html\n",
            "Please also refer to the documentation for alternative solver options:\n",
            "    https://scikit-learn.org/stable/modules/linear_model.html#logistic-regression\n",
            "  extra_warning_msg=_LOGISTIC_SOLVER_CONVERGENCE_MSG,\n",
            "/usr/local/lib/python3.7/dist-packages/sklearn/linear_model/_logistic.py:818: ConvergenceWarning: lbfgs failed to converge (status=1):\n",
            "STOP: TOTAL NO. of ITERATIONS REACHED LIMIT.\n",
            "\n",
            "Increase the number of iterations (max_iter) or scale the data as shown in:\n",
            "    https://scikit-learn.org/stable/modules/preprocessing.html\n",
            "Please also refer to the documentation for alternative solver options:\n",
            "    https://scikit-learn.org/stable/modules/linear_model.html#logistic-regression\n",
            "  extra_warning_msg=_LOGISTIC_SOLVER_CONVERGENCE_MSG,\n",
            "/usr/local/lib/python3.7/dist-packages/sklearn/linear_model/_logistic.py:818: ConvergenceWarning: lbfgs failed to converge (status=1):\n",
            "STOP: TOTAL NO. of ITERATIONS REACHED LIMIT.\n",
            "\n",
            "Increase the number of iterations (max_iter) or scale the data as shown in:\n",
            "    https://scikit-learn.org/stable/modules/preprocessing.html\n",
            "Please also refer to the documentation for alternative solver options:\n",
            "    https://scikit-learn.org/stable/modules/linear_model.html#logistic-regression\n",
            "  extra_warning_msg=_LOGISTIC_SOLVER_CONVERGENCE_MSG,\n",
            "/usr/local/lib/python3.7/dist-packages/sklearn/linear_model/_logistic.py:818: ConvergenceWarning: lbfgs failed to converge (status=1):\n",
            "STOP: TOTAL NO. of ITERATIONS REACHED LIMIT.\n",
            "\n",
            "Increase the number of iterations (max_iter) or scale the data as shown in:\n",
            "    https://scikit-learn.org/stable/modules/preprocessing.html\n",
            "Please also refer to the documentation for alternative solver options:\n",
            "    https://scikit-learn.org/stable/modules/linear_model.html#logistic-regression\n",
            "  extra_warning_msg=_LOGISTIC_SOLVER_CONVERGENCE_MSG,\n",
            "/usr/local/lib/python3.7/dist-packages/sklearn/linear_model/_logistic.py:818: ConvergenceWarning: lbfgs failed to converge (status=1):\n",
            "STOP: TOTAL NO. of ITERATIONS REACHED LIMIT.\n",
            "\n",
            "Increase the number of iterations (max_iter) or scale the data as shown in:\n",
            "    https://scikit-learn.org/stable/modules/preprocessing.html\n",
            "Please also refer to the documentation for alternative solver options:\n",
            "    https://scikit-learn.org/stable/modules/linear_model.html#logistic-regression\n",
            "  extra_warning_msg=_LOGISTIC_SOLVER_CONVERGENCE_MSG,\n"
          ]
        },
        {
          "name": "stdout",
          "output_type": "stream",
          "text": [
            "Accuracy (Test Set): 0.63\n",
            "Precision (Test Set): 0.67\n",
            "Recall (Test Set): 0.76\n",
            "F1-Score (Test Set): 0.71\n",
            "AUC: 0.72\n"
          ]
        },
        {
          "name": "stderr",
          "output_type": "stream",
          "text": [
            "/usr/local/lib/python3.7/dist-packages/sklearn/model_selection/_validation.py:372: FitFailedWarning: \n",
            "30 fits failed out of a total of 45.\n",
            "The score on these train-test partitions for these parameters will be set to nan.\n",
            "If these failures are not expected, you can try to debug them by setting error_score='raise'.\n",
            "\n",
            "Below are more details about the failures:\n",
            "--------------------------------------------------------------------------------\n",
            "15 fits failed with the following error:\n",
            "Traceback (most recent call last):\n",
            "  File \"/usr/local/lib/python3.7/dist-packages/sklearn/model_selection/_validation.py\", line 680, in _fit_and_score\n",
            "    estimator.fit(X_train, y_train, **fit_params)\n",
            "  File \"/usr/local/lib/python3.7/dist-packages/sklearn/linear_model/_logistic.py\", line 1461, in fit\n",
            "    solver = _check_solver(self.solver, self.penalty, self.dual)\n",
            "  File \"/usr/local/lib/python3.7/dist-packages/sklearn/linear_model/_logistic.py\", line 449, in _check_solver\n",
            "    % (solver, penalty)\n",
            "ValueError: Solver lbfgs supports only 'l2' or 'none' penalties, got l1 penalty.\n",
            "\n",
            "--------------------------------------------------------------------------------\n",
            "15 fits failed with the following error:\n",
            "Traceback (most recent call last):\n",
            "  File \"/usr/local/lib/python3.7/dist-packages/sklearn/model_selection/_validation.py\", line 680, in _fit_and_score\n",
            "    estimator.fit(X_train, y_train, **fit_params)\n",
            "  File \"/usr/local/lib/python3.7/dist-packages/sklearn/linear_model/_logistic.py\", line 1461, in fit\n",
            "    solver = _check_solver(self.solver, self.penalty, self.dual)\n",
            "  File \"/usr/local/lib/python3.7/dist-packages/sklearn/linear_model/_logistic.py\", line 449, in _check_solver\n",
            "    % (solver, penalty)\n",
            "ValueError: Solver lbfgs supports only 'l2' or 'none' penalties, got elasticnet penalty.\n",
            "\n",
            "  warnings.warn(some_fits_failed_message, FitFailedWarning)\n",
            "/usr/local/lib/python3.7/dist-packages/sklearn/model_selection/_search.py:972: UserWarning: One or more of the test scores are non-finite: [0.66609508        nan        nan 0.66433536        nan        nan\n",
            " 0.66816075        nan        nan]\n",
            "  category=UserWarning,\n"
          ]
        }
      ],
      "source": [
        "# List Hyperparameters yang akan diuji\n",
        "penalty = ['l2','l1','elasticnet']\n",
        "C = [0.0001, 0.001, 0.002] # Inverse of regularization strength; smaller values specify stronger regularization.\n",
        "hyperparameters = dict(penalty=penalty, C=C)\n",
        "\n",
        "# Inisiasi model\n",
        "logres = LogisticRegression(random_state=42) # Init Logres dengan Gridsearch, cross validation = 5\n",
        "model = RandomizedSearchCV(logres, hyperparameters, cv=5, random_state=42, scoring='precision')\n",
        "\n",
        "# Fitting Model & Evaluation\n",
        "model.fit(X_train, y_train)\n",
        "y_pred = model.predict(X_test)\n",
        "eval_classification(model, X_train, y_train, X_test, y_test)"
      ]
    },
    {
      "cell_type": "code",
      "execution_count": null,
      "metadata": {
        "colab": {
          "base_uri": "https://localhost:8080/"
        },
        "id": "qIUVlw-VUWSz",
        "outputId": "90052308-f514-4e2d-ce82-30c75025e006"
      },
      "outputs": [
        {
          "name": "stdout",
          "output_type": "stream",
          "text": [
            "Precision (Train Set): 0.67\n"
          ]
        }
      ],
      "source": [
        "y_pred_train = model.predict(X_train)\n",
        "print(\"Precision (Train Set): %.2f\" % precision_score(y_train, y_pred_train))"
      ]
    },
    {
      "cell_type": "code",
      "execution_count": null,
      "metadata": {
        "colab": {
          "base_uri": "https://localhost:8080/"
        },
        "id": "5bxYBqEcUYq0",
        "outputId": "431e165d-0079-4991-dbde-fac72f58fc15"
      },
      "outputs": [
        {
          "name": "stdout",
          "output_type": "stream",
          "text": [
            "Best penalty: l2\n",
            "Best C: 0.002\n"
          ]
        }
      ],
      "source": [
        "print('Best penalty:', model.best_estimator_.get_params()['penalty'])\n",
        "print('Best C:', model.best_estimator_.get_params()['C'])"
      ]
    },
    {
      "cell_type": "code",
      "execution_count": null,
      "metadata": {
        "colab": {
          "base_uri": "https://localhost:8080/"
        },
        "id": "rGAdhX4HUalT",
        "outputId": "ae3fad3d-4949-430d-ddbc-2ec71206514e"
      },
      "outputs": [
        {
          "name": "stdout",
          "output_type": "stream",
          "text": [
            "Train score: 0.6659607239122064\n",
            "Test score:0.6690391459074733\n"
          ]
        }
      ],
      "source": [
        "print('Train score: ' + str(model.score(X_train, y_train))) #accuracy\n",
        "print('Test score:' + str(model.score(X_test, y_test))) #accuracy"
      ]
    },
    {
      "cell_type": "markdown",
      "metadata": {
        "id": "A2S5Pc_93zsg"
      },
      "source": [
        "## Decision Tree"
      ]
    },
    {
      "cell_type": "code",
      "execution_count": null,
      "metadata": {
        "colab": {
          "base_uri": "https://localhost:8080/"
        },
        "id": "DURaScIo5ZNp",
        "outputId": "1171b22a-d9c1-4d14-8f91-7891515e5fd1"
      },
      "outputs": [
        {
          "name": "stdout",
          "output_type": "stream",
          "text": [
            "Accuracy (Test Set): 0.66\n",
            "Precision (Test Set): 0.72\n",
            "Recall (Test Set): 0.72\n",
            "F1-Score (Test Set): 0.72\n",
            "AUC: 0.64\n"
          ]
        }
      ],
      "source": [
        "from sklearn.tree import DecisionTreeClassifier\n",
        "model = DecisionTreeClassifier(random_state=42)\n",
        "model.fit(X_train,y_train)\n",
        "\n",
        "y_pred = model.predict(X_test)\n",
        "eval_classification(model, X_train, y_train, X_test, y_test)"
      ]
    },
    {
      "cell_type": "code",
      "execution_count": null,
      "metadata": {
        "colab": {
          "base_uri": "https://localhost:8080/"
        },
        "id": "FVxF0LK8RV1H",
        "outputId": "44effd85-0ba1-4e28-a683-7b8f9ccc3616"
      },
      "outputs": [
        {
          "name": "stdout",
          "output_type": "stream",
          "text": [
            "Train score: 1.0\n",
            "Test score:0.6575757575757576\n"
          ]
        }
      ],
      "source": [
        "print('Train score: ' + str(model.score(X_train, y_train))) #accuracy\n",
        "print('Test score:' + str(model.score(X_test, y_test))) #accuracy"
      ]
    },
    {
      "cell_type": "markdown",
      "metadata": {
        "id": "QQmxHz6nR3Xb"
      },
      "source": [
        "## Hyperparameter Tuning with RandomSearch"
      ]
    },
    {
      "cell_type": "code",
      "execution_count": null,
      "metadata": {
        "colab": {
          "base_uri": "https://localhost:8080/"
        },
        "id": "OFoDmc0sRzw6",
        "outputId": "dbaba70d-dd1d-47e7-fe36-e97ace2acecc"
      },
      "outputs": [
        {
          "name": "stdout",
          "output_type": "stream",
          "text": [
            "Accuracy (Test Set): 0.66\n",
            "Precision (Test Set): 0.76\n",
            "Recall (Test Set): 0.62\n",
            "F1-Score (Test Set): 0.69\n",
            "AUC: 0.73\n"
          ]
        }
      ],
      "source": [
        "from sklearn.model_selection import RandomizedSearchCV\n",
        "from scipy.stats import uniform\n",
        "import numpy as np\n",
        "\n",
        "# List of hyperparameter\n",
        "max_depth = [int(x) for x in np.linspace(1, 110, num = 30)] # Maximum number of levels in tree\n",
        "min_samples_split = [2, 5, 10, 100] # Minimum number of samples required to split a node\n",
        "min_samples_leaf = [1, 2, 4, 10, 20, 50] # Minimum number of samples required at each leaf node\n",
        "max_features = ['auto', 'sqrt'] # Number of features to consider at every split\n",
        "\n",
        "hyperparameters = dict(max_depth=max_depth, \n",
        "                       min_samples_split=min_samples_split, \n",
        "                       min_samples_leaf=min_samples_leaf,\n",
        "                       max_features=max_features\n",
        "                      )\n",
        "\n",
        "# Inisialisasi Model\n",
        "dt = DecisionTreeClassifier(random_state=42)\n",
        "model = RandomizedSearchCV(dt, hyperparameters, cv=5, random_state=42, scoring='precision')\n",
        "model.fit(X_train, y_train)\n",
        "\n",
        "# Predict & Evaluation\n",
        "y_pred = model.predict(X_test)#Check performa dari model\n",
        "eval_classification(model, X_train, y_train, X_test, y_test)"
      ]
    },
    {
      "cell_type": "code",
      "execution_count": null,
      "metadata": {
        "colab": {
          "base_uri": "https://localhost:8080/"
        },
        "id": "Sk_vhydjR82y",
        "outputId": "d1bd485d-2c0f-404b-dcc1-314c8124b05b"
      },
      "outputs": [
        {
          "name": "stdout",
          "output_type": "stream",
          "text": [
            "Best max_depth: 8\n",
            "Best min_samples_split: 5\n",
            "Best min_samples_leaf: 1\n",
            "Best max_features: sqrt\n"
          ]
        }
      ],
      "source": [
        "print('Best max_depth:', model.best_estimator_.get_params()['max_depth'])\n",
        "print('Best min_samples_split:', model.best_estimator_.get_params()['min_samples_split'])\n",
        "print('Best min_samples_leaf:', model.best_estimator_.get_params()['min_samples_leaf'])\n",
        "print('Best max_features:', model.best_estimator_.get_params()['max_features'])"
      ]
    },
    {
      "cell_type": "code",
      "execution_count": null,
      "metadata": {
        "colab": {
          "base_uri": "https://localhost:8080/"
        },
        "id": "kumub2l5R-9l",
        "outputId": "3220aeb6-61b3-4027-e495-0dbd827cdebe"
      },
      "outputs": [
        {
          "name": "stdout",
          "output_type": "stream",
          "text": [
            "Train score: 0.8168449197860963\n",
            "Test score:0.761817065684469\n"
          ]
        }
      ],
      "source": [
        "print('Train score: ' + str(model.score(X_train, y_train)))\n",
        "print('Test score:' + str(model.score(X_test, y_test)))"
      ]
    },
    {
      "cell_type": "code",
      "execution_count": null,
      "metadata": {
        "colab": {
          "base_uri": "https://localhost:8080/"
        },
        "id": "FCwOWD7MSBDd",
        "outputId": "cfde9214-7e45-4650-921f-ee827c6cb7b6"
      },
      "outputs": [
        {
          "data": {
            "text/plain": [
              "Text(0.5, 1.0, 'feature importance score')"
            ]
          },
          "execution_count": 215,
          "metadata": {},
          "output_type": "execute_result"
        },
        {
          "data": {
            "image/png": "[encoded data removed]",
            "text/plain": [
              "<Figure size 720x576 with 1 Axes>"
            ]
          },
          "metadata": {},
          "output_type": "display_data"
        }
      ],
      "source": [
        "# plt.figsize(10, 8)\n",
        "feat_importances = pd.Series(model.best_estimator_.feature_importances_, index=X.columns)\n",
        "ax = feat_importances.nlargest(25).plot(kind='barh', figsize=(10, 8))\n",
        "ax.invert_yaxis()\n",
        "\n",
        "plt.xlabel('score')\n",
        "plt.ylabel('feature')\n",
        "plt.title('feature importance score')"
      ]
    },
    {
      "cell_type": "markdown",
      "metadata": {
        "id": "32MfJfiZ3zfZ"
      },
      "source": [
        "## Random Forest"
      ]
    },
    {
      "cell_type": "code",
      "execution_count": null,
      "metadata": {
        "colab": {
          "base_uri": "https://localhost:8080/"
        },
        "id": "u0beLZKBSGM1",
        "outputId": "adc90de5-a422-4d0a-8d60-3cccb71fcb2f"
      },
      "outputs": [
        {
          "name": "stdout",
          "output_type": "stream",
          "text": [
            "Accuracy (Test Set): 0.66\n",
            "Precision (Test Set): 0.76\n",
            "Recall (Test Set): 0.64\n",
            "F1-Score (Test Set): 0.69\n",
            "AUC: 0.74\n"
          ]
        }
      ],
      "source": [
        "rf = RandomForestClassifier(random_state=42)\n",
        "rf.fit(X_train,y_train)\n",
        "eval_classification(rf, X_train, y_train, X_test, y_test)"
      ]
    },
    {
      "cell_type": "code",
      "execution_count": null,
      "metadata": {
        "colab": {
          "base_uri": "https://localhost:8080/"
        },
        "id": "2hgBW32KSG45",
        "outputId": "560ceef1-ba9f-4ba4-def8-166af2c22fe3"
      },
      "outputs": [
        {
          "name": "stdout",
          "output_type": "stream",
          "text": [
            "Train score: 0.8168449197860963\n",
            "Test score:0.761817065684469\n"
          ]
        }
      ],
      "source": [
        "print('Train score: ' + str(model.score(X_train, y_train))) #accuracy\n",
        "print('Test score:' + str(model.score(X_test, y_test))) #accuracy"
      ]
    },
    {
      "cell_type": "code",
      "execution_count": null,
      "metadata": {
        "colab": {
          "base_uri": "https://localhost:8080/"
        },
        "id": "a61Py8HESJKb",
        "outputId": "67c28d0c-46de-4d3b-fc2a-25989fe57d3f"
      },
      "outputs": [
        {
          "data": {
            "image/png": "[encoded data removed]",
            "text/plain": [
              "<Figure size 720x576 with 1 Axes>"
            ]
          },
          "metadata": {},
          "output_type": "display_data"
        }
      ],
      "source": [
        "show_feature_importance(rf)"
      ]
    },
    {
      "cell_type": "markdown",
      "metadata": {
        "id": "tboGs6qGSLCJ"
      },
      "source": [
        "## Hyperparameter yang biasa di tuning pada Random Forest"
      ]
    },
    {
      "cell_type": "code",
      "execution_count": null,
      "metadata": {
        "colab": {
          "base_uri": "https://localhost:8080/"
        },
        "id": "_bvOoH28SOe6",
        "outputId": "9300bac0-c0ee-4af0-d8a4-2120c5bc375a"
      },
      "outputs": [
        {
          "name": "stdout",
          "output_type": "stream",
          "text": [
            "Accuracy (Test Set): 0.66\n",
            "Precision (Test Set): 0.77\n",
            "Recall (Test Set): 0.63\n",
            "F1-Score (Test Set): 0.69\n",
            "AUC: 0.74\n"
          ]
        }
      ],
      "source": [
        "hyperparameters = dict(\n",
        "                       n_estimators = [int(x) for x in np.linspace(start = 100, stop = 2000, num = 20)], # Jumlah subtree \n",
        "                       bootstrap = [True], # Apakah pakai bootstrapping atau tidak\n",
        "                       criterion = ['gini','entropy'],\n",
        "                       max_depth = [int(x) for x in np.linspace(10, 110, num = 11)],  # Maximum kedalaman tree\n",
        "                       min_samples_split = [int(x) for x in np.linspace(start = 2, stop = 10, num = 5)], # Jumlah minimum samples pada node agar boleh di split menjadi leaf baru\n",
        "                       min_samples_leaf = [int(x) for x in np.linspace(start = 1, stop = 10, num = 5)], # Jumlah minimum samples pada leaf agar boleh terbentuk leaf baru\n",
        "                       max_features = ['auto', 'sqrt', 'log2'], # Jumlah feature yg dipertimbangkan pada masing-masing split\n",
        "                       n_jobs = [-1], # Core untuk parallel computation. -1 untuk menggunakan semua core\n",
        "                      )\n",
        "\n",
        "# Init\n",
        "rf = RandomForestClassifier(random_state=42)\n",
        "rf_tuned = RandomizedSearchCV(rf, hyperparameters, cv=5, random_state=42, scoring='recall')\n",
        "rf_tuned.fit(X_train,y_train)\n",
        "\n",
        "# Predict & Evaluation\n",
        "eval_classification(rf_tuned, X_train, y_train, X_test, y_test)"
      ]
    },
    {
      "cell_type": "code",
      "execution_count": null,
      "metadata": {
        "colab": {
          "base_uri": "https://localhost:8080/"
        },
        "id": "CD1pnfAOSRu4",
        "outputId": "b28a321d-3051-4488-9418-c321a25ff121"
      },
      "outputs": [
        {
          "name": "stdout",
          "output_type": "stream",
          "text": [
            "Train score: 0.8168449197860963\n",
            "Test score:0.761817065684469\n"
          ]
        }
      ],
      "source": [
        "print('Train score: ' + str(model.score(X_train, y_train))) #accuracy\n",
        "print('Test score:' + str(model.score(X_test, y_test))) #accuracy"
      ]
    },
    {
      "cell_type": "code",
      "execution_count": null,
      "metadata": {
        "colab": {
          "base_uri": "https://localhost:8080/"
        },
        "id": "xUDs5QbqSTdv",
        "outputId": "e37864ff-14c4-4ff5-a59c-da403f927616"
      },
      "outputs": [
        {
          "name": "stdout",
          "output_type": "stream",
          "text": [
            "Best n_estimators: 400\n",
            "Best bootstrap: True\n",
            "Best criterion: gini\n",
            "Best max_depth: 110\n",
            "Best min_samples_split: 4\n",
            "Best min_samples_leaf: 1\n",
            "Best max_features: log2\n",
            "Best n_jobs: -1\n"
          ]
        }
      ],
      "source": [
        "show_best_hyperparameter(rf_tuned.best_estimator_, hyperparameters)"
      ]
    },
    {
      "cell_type": "code",
      "execution_count": null,
      "metadata": {
        "colab": {
          "base_uri": "https://localhost:8080/"
        },
        "id": "rTsAH_lvSVlA",
        "outputId": "c8d7afa6-83c9-4707-c23c-6fbd2dab16ee"
      },
      "outputs": [
        {
          "data": {
            "image/png": "[encoded data removed]",
            "text/plain": [
              "<Figure size 720x576 with 1 Axes>"
            ]
          },
          "metadata": {},
          "output_type": "display_data"
        }
      ],
      "source": [
        "show_feature_importance(rf_tuned.best_estimator_)"
      ]
    },
    {
      "cell_type": "markdown",
      "metadata": {
        "id": "97j24tJM3zWI"
      },
      "source": [
        "## AdaBost"
      ]
    },
    {
      "cell_type": "code",
      "execution_count": null,
      "metadata": {
        "colab": {
          "base_uri": "https://localhost:8080/"
        },
        "id": "vSqmtRDISaiV",
        "outputId": "6d7ab3e4-420b-4cff-c8a7-71fc5e1502c5"
      },
      "outputs": [
        {
          "name": "stdout",
          "output_type": "stream",
          "text": [
            "Accuracy (Test Set): 0.68\n",
            "Precision (Test Set): 0.80\n",
            "Recall (Test Set): 0.61\n",
            "F1-Score (Test Set): 0.69\n",
            "AUC: 0.75\n"
          ]
        }
      ],
      "source": [
        "ab = AdaBoostClassifier(random_state=42)\n",
        "ab.fit(X_train,y_train)\n",
        "\n",
        "eval_classification(ab, X_train, y_train, X_test, y_test)"
      ]
    },
    {
      "cell_type": "code",
      "execution_count": null,
      "metadata": {
        "colab": {
          "base_uri": "https://localhost:8080/"
        },
        "id": "nFQv44KbScqO",
        "outputId": "d68c1e6e-617b-494f-9ade-d8638b4db6f1"
      },
      "outputs": [
        {
          "name": "stdout",
          "output_type": "stream",
          "text": [
            "Train score: 0.8168449197860963\n",
            "Test score:0.761817065684469\n"
          ]
        }
      ],
      "source": [
        "print('Train score: ' + str(model.score(X_train, y_train))) #accuracy\n",
        "print('Test score:' + str(model.score(X_test, y_test))) #accuracy"
      ]
    },
    {
      "cell_type": "code",
      "execution_count": null,
      "metadata": {
        "colab": {
          "base_uri": "https://localhost:8080/",
          "height": 513
        },
        "id": "PwrKfqcPSejn",
        "outputId": "7de4f592-6e66-43d4-8afc-4f1e280f8739"
      },
      "outputs": [
        {
          "data": {
            "image/png": "[encoded data removed]",
            "text/plain": [
              "<Figure size 720x576 with 1 Axes>"
            ]
          },
          "metadata": {},
          "output_type": "display_data"
        }
      ],
      "source": [
        "show_feature_importance(ab)"
      ]
    },
    {
      "cell_type": "markdown",
      "metadata": {
        "id": "efIflR3dShx3"
      },
      "source": [
        "## Hyperparameter yang biasa di tuning pada Adaboost"
      ]
    },
    {
      "cell_type": "code",
      "execution_count": null,
      "metadata": {
        "id": "BMMgKHKhSmc4"
      },
      "outputs": [],
      "source": [
        "# List of hyperparameter\n",
        "hyperparameters = dict(n_estimators = [int(x) for x in np.linspace(start = 50, stop = 2000, num = 2000)], # Jumlah iterasi\n",
        "                       learning_rate = [float(x) for x in np.linspace(start = 0.001, stop = 0.1, num = 200)],  \n",
        "                       algorithm = ['SAMME', 'SAMME.R']\n",
        "                      )\n",
        "\n",
        "# Init model\n",
        "ab = AdaBoostClassifier(random_state=42)\n",
        "ab_tuned = RandomizedSearchCV(ab, hyperparameters, random_state=42, cv=5, scoring='recall')\n",
        "ab_tuned.fit(X_train,y_train)\n",
        "\n",
        "# Predict & Evaluation\n",
        "eval_classification(ab_tuned, X_train, y_train, X_test, y_test)"
      ]
    },
    {
      "cell_type": "code",
      "execution_count": null,
      "metadata": {
        "id": "opN-zVPzSp26"
      },
      "outputs": [],
      "source": [
        "print('Train score: ' + str(model.score(X_train, y_train))) #accuracy\n",
        "print('Test score:' + str(model.score(X_test, y_test))) #accuracy"
      ]
    },
    {
      "cell_type": "code",
      "execution_count": null,
      "metadata": {
        "id": "VwX_p9IZSrzx"
      },
      "outputs": [],
      "source": [
        "show_best_hyperparameter(ab_tuned.best_estimator_, hyperparameters)"
      ]
    },
    {
      "cell_type": "code",
      "execution_count": null,
      "metadata": {
        "id": "7MeBKZ1ySt5U"
      },
      "outputs": [],
      "source": [
        "show_feature_importance(ab_tuned.best_estimator_)"
      ]
    },
    {
      "cell_type": "markdown",
      "metadata": {
        "id": "oPYt6tCj3zNs"
      },
      "source": [
        "## XGBoost"
      ]
    },
    {
      "cell_type": "code",
      "execution_count": null,
      "metadata": {
        "id": "gEsv_EjFyiZ6"
      },
      "outputs": [],
      "source": [
        "xg = XGBClassifier(random_state=42)\n",
        "xg.fit(X_train, y_train)\n",
        "\n",
        "eval_classification(xg, X_train, y_train, X_test, y_test)"
      ]
    },
    {
      "cell_type": "code",
      "execution_count": null,
      "metadata": {
        "id": "Ij7tgkngyiW9"
      },
      "outputs": [],
      "source": [
        "print('Train score: ' + str(model.score(X_train, y_train))) #accuracy\n",
        "print('Test score:' + str(model.score(X_test, y_test))) #accuracy"
      ]
    },
    {
      "cell_type": "code",
      "execution_count": null,
      "metadata": {
        "id": "_gpUcj_oyiQ9"
      },
      "outputs": [],
      "source": [
        "show_feature_importance(xg)"
      ]
    },
    {
      "cell_type": "markdown",
      "metadata": {
        "id": "hdQPdUbpS3Pc"
      },
      "source": [
        "## Hyperparameter yang umum di tuning pada XGBoost"
      ]
    },
    {
      "cell_type": "code",
      "execution_count": null,
      "metadata": {
        "id": "gYVliipKyiNJ"
      },
      "outputs": [],
      "source": [
        "#Menjadikan ke dalam bentuk dictionary\n",
        "hyperparameters = {\n",
        "                    'max_depth' : [int(x) for x in np.linspace(10, 110, num = 11)],\n",
        "                    'min_child_weight' : [int(x) for x in np.linspace(1, 20, num = 11)],\n",
        "                    'gamma' : [float(x) for x in np.linspace(0, 1, num = 11)],\n",
        "                    'tree_method' : ['auto', 'exact', 'approx', 'hist'],\n",
        "\n",
        "                    'colsample_bytree' : [float(x) for x in np.linspace(0, 1, num = 11)],\n",
        "                    'eta' : [float(x) for x in np.linspace(0, 1, num = 100)],\n",
        "\n",
        "                    'lambda' : [float(x) for x in np.linspace(0, 1, num = 11)],\n",
        "                    'alpha' : [float(x) for x in np.linspace(0, 1, num = 11)]\n",
        "                    }\n",
        "\n",
        "# Init\n",
        "xg = XGBClassifier(random_state=42)\n",
        "xg_tuned = RandomizedSearchCV(xg, hyperparameters, cv=5, random_state=42, scoring='recall')\n",
        "xg_tuned.fit(X_train,y_train)\n",
        "\n",
        "# Predict & Evaluation\n",
        "eval_classification(xg_tuned, X_train, y_train, X_test, y_test)"
      ]
    },
    {
      "cell_type": "code",
      "execution_count": null,
      "metadata": {
        "id": "0VSvAz48yiD5"
      },
      "outputs": [],
      "source": [
        "print('Train score: ' + str(model.score(X_train, y_train))) #accuracy\n",
        "print('Test score:' + str(model.score(X_test, y_test))) #accuracy"
      ]
    },
    {
      "cell_type": "code",
      "execution_count": null,
      "metadata": {
        "id": "ktFR-LEkTADB"
      },
      "outputs": [],
      "source": [
        "show_best_hyperparameter(xg_tuned.best_estimator_, hyperparameters)"
      ]
    },
    {
      "cell_type": "code",
      "execution_count": null,
      "metadata": {
        "id": "FbexWa57TB3A"
      },
      "outputs": [],
      "source": [
        "show_feature_importance(xg_tuned.best_estimator_)"
      ]
    },
    {
      "cell_type": "markdown",
      "metadata": {
        "id": "nFmYaIirtmwl"
      },
      "source": [
        "# 3. Remove outlier using IQR Discount"
      ]
    },
    {
      "cell_type": "code",
      "execution_count": null,
      "metadata": {
        "id": "ouNn51F7t4Je"
      },
      "outputs": [],
      "source": [
        "new_num_col = df_shipping.columns.to_list()"
      ]
    },
    {
      "cell_type": "code",
      "execution_count": null,
      "metadata": {
        "colab": {
          "base_uri": "https://localhost:8080/",
          "height": 249
        },
        "id": "aVMjEgystcJB",
        "outputId": "863399d7-85d4-41a5-e0eb-5bdae8906748"
      },
      "outputs": [
        {
          "output_type": "display_data",
          "data": {
            "image/png": "[encoded data removed]",
            "text/plain": [
              "<Figure size 1440x360 with 15 Axes>"
            ]
          },
          "metadata": {
            "needs_background": "light"
          }
        }
      ],
      "source": [
        "plt.figure(figsize=(20,5))\n",
        "for i in range(0, len(new_num_col)):\n",
        "  plt.subplot(1, len(new_num_col), i+1)\n",
        "  sns.boxplot(y=df_shipping[new_num_col[i]], color='green', orient='v')\n",
        "  plt.tight_layout()"
      ]
    },
    {
      "cell_type": "code",
      "execution_count": null,
      "metadata": {
        "id": "a5AZS4peuNDw"
      },
      "outputs": [],
      "source": [
        "df_remot = df_shipping.copy()\n",
        "\n",
        "Q1 = df_remot['Discount_offered'].quantile(0.25)\n",
        "Q3 = df_remot['Discount_offered'].quantile(0.75)\n",
        "IQR = Q3 - Q1\n",
        "low_limit = Q1 - (1.5 * IQR)\n",
        "high_limit = Q3 + (1.5 * IQR)\n",
        "filtered_entries = ((df_remot['Discount_offered'] >= low_limit) & (df_remot['Discount_offered'] <= high_limit))\n",
        "df_remot = df_remot[filtered_entries]"
      ]
    },
    {
      "cell_type": "code",
      "execution_count": null,
      "metadata": {
        "colab": {
          "base_uri": "https://localhost:8080/"
        },
        "id": "slIUHr7VhHCh",
        "outputId": "d3504723-9cd9-40f7-ee53-63defde28023"
      },
      "outputs": [
        {
          "output_type": "execute_result",
          "data": {
            "text/plain": [
              "(8790, 15)"
            ]
          },
          "metadata": {},
          "execution_count": 85
        }
      ],
      "source": [
        "df_remot.shape"
      ]
    },
    {
      "cell_type": "code",
      "execution_count": null,
      "metadata": {
        "colab": {
          "base_uri": "https://localhost:8080/"
        },
        "id": "7tXik6seu6hM",
        "outputId": "83309acb-01f7-442c-9457-327a27ab26f9"
      },
      "outputs": [
        {
          "output_type": "stream",
          "name": "stdout",
          "text": [
            "<class 'pandas.core.frame.DataFrame'>\n",
            "Int64Index: 8790 entries, 3 to 10998\n",
            "Data columns (total 15 columns):\n",
            " #   Column                   Non-Null Count  Dtype\n",
            "---  ------                   --------------  -----\n",
            " 0   Customer_care_calls      8790 non-null   int64\n",
            " 1   Customer_rating          8790 non-null   int64\n",
            " 2   Cost_of_the_Product      8790 non-null   int64\n",
            " 3   Prior_purchases          8790 non-null   int64\n",
            " 4   Discount_offered         8790 non-null   int64\n",
            " 5   Weight_in_gms            8790 non-null   int64\n",
            " 6   Reached.on.Time_Y.N      8790 non-null   int64\n",
            " 7   Gender(num)              8790 non-null   int64\n",
            " 8   Product_Importance(num)  8790 non-null   int64\n",
            " 9   Warehouse_block_A        8790 non-null   uint8\n",
            " 10  Warehouse_block_B        8790 non-null   uint8\n",
            " 11  Warehouse_block_C        8790 non-null   uint8\n",
            " 12  Warehouse_block_D        8790 non-null   uint8\n",
            " 13  Mode_of_Shipment_Flight  8790 non-null   uint8\n",
            " 14  Mode_of_Shipment_Road    8790 non-null   uint8\n",
            "dtypes: int64(9), uint8(6)\n",
            "memory usage: 738.2 KB\n"
          ]
        }
      ],
      "source": [
        "df_remot.info()"
      ]
    },
    {
      "cell_type": "code",
      "execution_count": null,
      "metadata": {
        "colab": {
          "base_uri": "https://localhost:8080/",
          "height": 249
        },
        "id": "6-D9Qvh_u8i2",
        "outputId": "a2c6e3a2-b8df-4a34-a62a-8f184e75c7aa"
      },
      "outputs": [
        {
          "output_type": "display_data",
          "data": {
            "image/png": "[encoded data removed]",
            "text/plain": [
              "<Figure size 1440x360 with 15 Axes>"
            ]
          },
          "metadata": {
            "needs_background": "light"
          }
        }
      ],
      "source": [
        "new_nums_col = df_remot.columns.to_list()\n",
        "\n",
        "plt.figure(figsize=(20,5))\n",
        "for i in range(0, len(new_nums_col)):\n",
        "  plt.subplot(1, len(new_nums_col), i+1)\n",
        "  sns.boxplot(y=df_remot[new_nums_col[i]], color='green', orient='v')\n",
        "  plt.tight_layout()"
      ]
    },
    {
      "cell_type": "code",
      "execution_count": null,
      "metadata": {
        "colab": {
          "base_uri": "https://localhost:8080/"
        },
        "id": "9AMwjX2J32mo",
        "outputId": "c65125d7-fc7e-49db-bf92-cc66746e212f"
      },
      "outputs": [
        {
          "output_type": "execute_result",
          "data": {
            "text/plain": [
              "0    4436\n",
              "1    4354\n",
              "Name: Reached.on.Time_Y.N, dtype: int64"
            ]
          },
          "metadata": {},
          "execution_count": 88
        }
      ],
      "source": [
        "df_remot['Reached.on.Time_Y.N'].value_counts()"
      ]
    },
    {
      "cell_type": "code",
      "execution_count": null,
      "metadata": {
        "colab": {
          "base_uri": "https://localhost:8080/",
          "height": 364
        },
        "id": "dczThYZJvFN4",
        "outputId": "05a62c60-9717-4bf6-9395-02e869c93acd"
      },
      "outputs": [
        {
          "output_type": "execute_result",
          "data": {
            "text/html": [
              "\n",
              "  <div id=\"df-41653329-b3e0-4dd6-b207-fe69092c7111\">\n",
              "    <div class=\"colab-df-container\">\n",
              "      <div>\n",
              "<style scoped>\n",
              "    .dataframe tbody tr th:only-of-type {\n",
              "        vertical-align: middle;\n",
              "    }\n",
              "\n",
              "    .dataframe tbody tr th {\n",
              "        vertical-align: top;\n",
              "    }\n",
              "\n",
              "    .dataframe thead th {\n",
              "        text-align: right;\n",
              "    }\n",
              "</style>\n",
              "<table border=\"1\" class=\"dataframe\">\n",
              "  <thead>\n",
              "    <tr style=\"text-align: right;\">\n",
              "      <th></th>\n",
              "      <th>Customer_care_calls</th>\n",
              "      <th>Customer_rating</th>\n",
              "      <th>Cost_of_the_Product</th>\n",
              "      <th>Prior_purchases</th>\n",
              "      <th>Discount_offered</th>\n",
              "      <th>Weight_in_gms</th>\n",
              "      <th>Reached.on.Time_Y.N</th>\n",
              "      <th>Gender(num)</th>\n",
              "      <th>Product_Importance(num)</th>\n",
              "      <th>Warehouse_block_A</th>\n",
              "      <th>Warehouse_block_B</th>\n",
              "      <th>Warehouse_block_C</th>\n",
              "      <th>Warehouse_block_D</th>\n",
              "      <th>Mode_of_Shipment_Flight</th>\n",
              "      <th>Mode_of_Shipment_Road</th>\n",
              "    </tr>\n",
              "  </thead>\n",
              "  <tbody>\n",
              "    <tr>\n",
              "      <th>count</th>\n",
              "      <td>8790.000000</td>\n",
              "      <td>8790.000000</td>\n",
              "      <td>8790.000000</td>\n",
              "      <td>8790.000000</td>\n",
              "      <td>8790.000000</td>\n",
              "      <td>8790.000000</td>\n",
              "      <td>8790.000000</td>\n",
              "      <td>8790.000000</td>\n",
              "      <td>8790.000000</td>\n",
              "      <td>8790.000000</td>\n",
              "      <td>8790.000000</td>\n",
              "      <td>8790.000000</td>\n",
              "      <td>8790.000000</td>\n",
              "      <td>8790.000000</td>\n",
              "      <td>8790.000000</td>\n",
              "    </tr>\n",
              "    <tr>\n",
              "      <th>mean</th>\n",
              "      <td>4.129693</td>\n",
              "      <td>2.991468</td>\n",
              "      <td>213.739590</td>\n",
              "      <td>3.632309</td>\n",
              "      <td>5.975085</td>\n",
              "      <td>3951.409556</td>\n",
              "      <td>0.495336</td>\n",
              "      <td>0.498976</td>\n",
              "      <td>0.595449</td>\n",
              "      <td>0.168032</td>\n",
              "      <td>0.167122</td>\n",
              "      <td>0.166325</td>\n",
              "      <td>0.169056</td>\n",
              "      <td>0.162230</td>\n",
              "      <td>0.159613</td>\n",
              "    </tr>\n",
              "    <tr>\n",
              "      <th>std</th>\n",
              "      <td>1.164683</td>\n",
              "      <td>1.410038</td>\n",
              "      <td>48.075808</td>\n",
              "      <td>1.513681</td>\n",
              "      <td>3.523850</td>\n",
              "      <td>1620.529287</td>\n",
              "      <td>0.500007</td>\n",
              "      <td>0.500027</td>\n",
              "      <td>0.635848</td>\n",
              "      <td>0.373916</td>\n",
              "      <td>0.373106</td>\n",
              "      <td>0.372394</td>\n",
              "      <td>0.374822</td>\n",
              "      <td>0.368682</td>\n",
              "      <td>0.366268</td>\n",
              "    </tr>\n",
              "    <tr>\n",
              "      <th>min</th>\n",
              "      <td>2.000000</td>\n",
              "      <td>1.000000</td>\n",
              "      <td>96.000000</td>\n",
              "      <td>2.000000</td>\n",
              "      <td>1.000000</td>\n",
              "      <td>1001.000000</td>\n",
              "      <td>0.000000</td>\n",
              "      <td>0.000000</td>\n",
              "      <td>0.000000</td>\n",
              "      <td>0.000000</td>\n",
              "      <td>0.000000</td>\n",
              "      <td>0.000000</td>\n",
              "      <td>0.000000</td>\n",
              "      <td>0.000000</td>\n",
              "      <td>0.000000</td>\n",
              "    </tr>\n",
              "    <tr>\n",
              "      <th>25%</th>\n",
              "      <td>3.000000</td>\n",
              "      <td>2.000000</td>\n",
              "      <td>173.000000</td>\n",
              "      <td>3.000000</td>\n",
              "      <td>3.000000</td>\n",
              "      <td>1949.250000</td>\n",
              "      <td>0.000000</td>\n",
              "      <td>0.000000</td>\n",
              "      <td>0.000000</td>\n",
              "      <td>0.000000</td>\n",
              "      <td>0.000000</td>\n",
              "      <td>0.000000</td>\n",
              "      <td>0.000000</td>\n",
              "      <td>0.000000</td>\n",
              "      <td>0.000000</td>\n",
              "    </tr>\n",
              "    <tr>\n",
              "      <th>50%</th>\n",
              "      <td>4.000000</td>\n",
              "      <td>3.000000</td>\n",
              "      <td>220.000000</td>\n",
              "      <td>3.000000</td>\n",
              "      <td>6.000000</td>\n",
              "      <td>4512.000000</td>\n",
              "      <td>0.000000</td>\n",
              "      <td>0.000000</td>\n",
              "      <td>1.000000</td>\n",
              "      <td>0.000000</td>\n",
              "      <td>0.000000</td>\n",
              "      <td>0.000000</td>\n",
              "      <td>0.000000</td>\n",
              "      <td>0.000000</td>\n",
              "      <td>0.000000</td>\n",
              "    </tr>\n",
              "    <tr>\n",
              "      <th>75%</th>\n",
              "      <td>5.000000</td>\n",
              "      <td>4.000000</td>\n",
              "      <td>254.000000</td>\n",
              "      <td>4.000000</td>\n",
              "      <td>8.000000</td>\n",
              "      <td>5243.750000</td>\n",
              "      <td>1.000000</td>\n",
              "      <td>1.000000</td>\n",
              "      <td>1.000000</td>\n",
              "      <td>0.000000</td>\n",
              "      <td>0.000000</td>\n",
              "      <td>0.000000</td>\n",
              "      <td>0.000000</td>\n",
              "      <td>0.000000</td>\n",
              "      <td>0.000000</td>\n",
              "    </tr>\n",
              "    <tr>\n",
              "      <th>max</th>\n",
              "      <td>7.000000</td>\n",
              "      <td>5.000000</td>\n",
              "      <td>310.000000</td>\n",
              "      <td>10.000000</td>\n",
              "      <td>19.000000</td>\n",
              "      <td>6102.000000</td>\n",
              "      <td>1.000000</td>\n",
              "      <td>1.000000</td>\n",
              "      <td>2.000000</td>\n",
              "      <td>1.000000</td>\n",
              "      <td>1.000000</td>\n",
              "      <td>1.000000</td>\n",
              "      <td>1.000000</td>\n",
              "      <td>1.000000</td>\n",
              "      <td>1.000000</td>\n",
              "    </tr>\n",
              "  </tbody>\n",
              "</table>\n",
              "</div>\n",
              "      <button class=\"colab-df-convert\" onclick=\"convertToInteractive('df-41653329-b3e0-4dd6-b207-fe69092c7111')\"\n",
              "              title=\"Convert this dataframe to an interactive table.\"\n",
              "              style=\"display:none;\">\n",
              "        \n",
              "  <svg xmlns=\"http://www.w3.org/2000/svg\" height=\"24px\"viewBox=\"0 0 24 24\"\n",
              "       width=\"24px\">\n",
              "    <path d=\"M0 0h24v24H0V0z\" fill=\"none\"/>\n",
              "    <path d=\"M18.56 5.44l.94 2.06.94-2.06 2.06-.94-2.06-.94-.94-2.06-.94 2.06-2.06.94zm-11 1L8.5 8.5l.94-2.06 2.06-.94-2.06-.94L8.5 2.5l-.94 2.06-2.06.94zm10 10l.94 2.06.94-2.06 2.06-.94-2.06-.94-.94-2.06-.94 2.06-2.06.94z\"/><path d=\"M17.41 7.96l-1.37-1.37c-.4-.4-.92-.59-1.43-.59-.52 0-1.04.2-1.43.59L10.3 9.45l-7.72 7.72c-.78.78-.78 2.05 0 2.83L4 21.41c.39.39.9.59 1.41.59.51 0 1.02-.2 1.41-.59l7.78-7.78 2.81-2.81c.8-.78.8-2.07 0-2.86zM5.41 20L4 18.59l7.72-7.72 1.47 1.35L5.41 20z\"/>\n",
              "  </svg>\n",
              "      </button>\n",
              "      \n",
              "  <style>\n",
              "    .colab-df-container {\n",
              "      display:flex;\n",
              "      flex-wrap:wrap;\n",
              "      gap: 12px;\n",
              "    }\n",
              "\n",
              "    .colab-df-convert {\n",
              "      background-color: #E8F0FE;\n",
              "      border: none;\n",
              "      border-radius: 50%;\n",
              "      cursor: pointer;\n",
              "      display: none;\n",
              "      fill: #1967D2;\n",
              "      height: 32px;\n",
              "      padding: 0 0 0 0;\n",
              "      width: 32px;\n",
              "    }\n",
              "\n",
              "    .colab-df-convert:hover {\n",
              "      background-color: #E2EBFA;\n",
              "      box-shadow: 0px 1px 2px rgba(60, 64, 67, 0.3), 0px 1px 3px 1px rgba(60, 64, 67, 0.15);\n",
              "      fill: #174EA6;\n",
              "    }\n",
              "\n",
              "    [theme=dark] .colab-df-convert {\n",
              "      background-color: #3B4455;\n",
              "      fill: #D2E3FC;\n",
              "    }\n",
              "\n",
              "    [theme=dark] .colab-df-convert:hover {\n",
              "      background-color: #434B5C;\n",
              "      box-shadow: 0px 1px 3px 1px rgba(0, 0, 0, 0.15);\n",
              "      filter: drop-shadow(0px 1px 2px rgba(0, 0, 0, 0.3));\n",
              "      fill: #FFFFFF;\n",
              "    }\n",
              "  </style>\n",
              "\n",
              "      <script>\n",
              "        const buttonEl =\n",
              "          document.querySelector('#df-41653329-b3e0-4dd6-b207-fe69092c7111 button.colab-df-convert');\n",
              "        buttonEl.style.display =\n",
              "          google.colab.kernel.accessAllowed ? 'block' : 'none';\n",
              "\n",
              "        async function convertToInteractive(key) {\n",
              "          const element = document.querySelector('#df-41653329-b3e0-4dd6-b207-fe69092c7111');\n",
              "          const dataTable =\n",
              "            await google.colab.kernel.invokeFunction('convertToInteractive',\n",
              "                                                     [key], {});\n",
              "          if (!dataTable) return;\n",
              "\n",
              "          const docLinkHtml = 'Like what you see? Visit the ' +\n",
              "            '<a target=\"_blank\" href=https://colab.research.google.com/notebooks/data_table.ipynb>data table notebook</a>'\n",
              "            + ' to learn more about interactive tables.';\n",
              "          element.innerHTML = '';\n",
              "          dataTable['output_type'] = 'display_data';\n",
              "          await google.colab.output.renderOutput(dataTable, element);\n",
              "          const docLink = document.createElement('div');\n",
              "          docLink.innerHTML = docLinkHtml;\n",
              "          element.appendChild(docLink);\n",
              "        }\n",
              "      </script>\n",
              "    </div>\n",
              "  </div>\n",
              "  "
            ],
            "text/plain": [
              "       Customer_care_calls  ...  Mode_of_Shipment_Road\n",
              "count          8790.000000  ...            8790.000000\n",
              "mean              4.129693  ...               0.159613\n",
              "std               1.164683  ...               0.366268\n",
              "min               2.000000  ...               0.000000\n",
              "25%               3.000000  ...               0.000000\n",
              "50%               4.000000  ...               0.000000\n",
              "75%               5.000000  ...               0.000000\n",
              "max               7.000000  ...               1.000000\n",
              "\n",
              "[8 rows x 15 columns]"
            ]
          },
          "metadata": {},
          "execution_count": 89
        }
      ],
      "source": [
        "df_remot.describe()"
      ]
    },
    {
      "cell_type": "code",
      "execution_count": null,
      "metadata": {
        "colab": {
          "base_uri": "https://localhost:8080/",
          "height": 463
        },
        "id": "1SSWBmHdvnuD",
        "outputId": "ca552916-b410-413c-d785-858867fe922d"
      },
      "outputs": [
        {
          "output_type": "stream",
          "name": "stderr",
          "text": [
            "/usr/local/lib/python3.7/dist-packages/seaborn/axisgrid.py:2076: UserWarning: The `size` parameter has been renamed to `height`; please update your code.\n",
            "  warnings.warn(msg, UserWarning)\n"
          ]
        },
        {
          "output_type": "execute_result",
          "data": {
            "text/plain": [
              "<seaborn.axisgrid.PairGrid at 0x7f3cb6936d50>"
            ]
          },
          "metadata": {},
          "execution_count": 90
        },
        {
          "output_type": "display_data",
          "data": {
            "text/plain": [
              "<Figure size 720x576 with 0 Axes>"
            ]
          },
          "metadata": {}
        },
        {
          "output_type": "display_data",
          "data": {
            "image/png": "[encoded data removed]",
            "text/plain": [
              "<Figure size 810x360 with 3 Axes>"
            ]
          },
          "metadata": {
            "needs_background": "light"
          }
        }
      ],
      "source": [
        "plt.figure(figsize=(10,8))\n",
        "sns.pairplot(data=df_remot, x_vars=['Prior_purchases', 'Discount_offered', 'Weight_in_gms'], y_vars=['Reached.on.Time_Y.N'], size=5, aspect=0.75)"
      ]
    },
    {
      "cell_type": "code",
      "execution_count": null,
      "metadata": {
        "colab": {
          "base_uri": "https://localhost:8080/",
          "height": 297
        },
        "id": "QgU7IL0hz4SW",
        "outputId": "dd0359a7-5a3d-47a5-96c0-1a8bc731b740"
      },
      "outputs": [
        {
          "output_type": "execute_result",
          "data": {
            "text/plain": [
              "<matplotlib.axes._subplots.AxesSubplot at 0x7f3cb639e110>"
            ]
          },
          "metadata": {},
          "execution_count": 91
        },
        {
          "output_type": "display_data",
          "data": {
            "image/png": "[encoded data removed]",
            "text/plain": [
              "<Figure size 432x288 with 1 Axes>"
            ]
          },
          "metadata": {
            "needs_background": "light"
          }
        }
      ],
      "source": [
        "sns.kdeplot(df_remot['Discount_offered'])"
      ]
    },
    {
      "cell_type": "code",
      "execution_count": null,
      "metadata": {
        "colab": {
          "base_uri": "https://localhost:8080/",
          "height": 297
        },
        "id": "UYAtya4T0tnd",
        "outputId": "900526de-6906-4da9-8e4d-115564b973f6"
      },
      "outputs": [
        {
          "output_type": "execute_result",
          "data": {
            "text/plain": [
              "<matplotlib.axes._subplots.AxesSubplot at 0x7f3cb622d050>"
            ]
          },
          "metadata": {},
          "execution_count": 92
        },
        {
          "output_type": "display_data",
          "data": {
            "image/png": "[encoded data removed]",
            "text/plain": [
              "<Figure size 432x288 with 1 Axes>"
            ]
          },
          "metadata": {
            "needs_background": "light"
          }
        }
      ],
      "source": [
        "sns.kdeplot(df_remot['Prior_purchases'])"
      ]
    },
    {
      "cell_type": "markdown",
      "metadata": {
        "id": "8KkyArlH3Mty"
      },
      "source": [
        "## Normalisasi dengan MinMaxScaller"
      ]
    },
    {
      "cell_type": "code",
      "execution_count": null,
      "metadata": {
        "colab": {
          "base_uri": "https://localhost:8080/"
        },
        "id": "-cpWBSAE2QCA",
        "outputId": "5680017d-ed19-441c-d134-3577ed564a37"
      },
      "outputs": [
        {
          "output_type": "stream",
          "name": "stdout",
          "text": [
            "<class 'pandas.core.frame.DataFrame'>\n",
            "Int64Index: 8790 entries, 3 to 10998\n",
            "Data columns (total 15 columns):\n",
            " #   Column                   Non-Null Count  Dtype\n",
            "---  ------                   --------------  -----\n",
            " 0   Customer_care_calls      8790 non-null   int64\n",
            " 1   Customer_rating          8790 non-null   int64\n",
            " 2   Cost_of_the_Product      8790 non-null   int64\n",
            " 3   Prior_purchases          8790 non-null   int64\n",
            " 4   Discount_offered         8790 non-null   int64\n",
            " 5   Weight_in_gms            8790 non-null   int64\n",
            " 6   Reached.on.Time_Y.N      8790 non-null   int64\n",
            " 7   Gender(num)              8790 non-null   int64\n",
            " 8   Product_Importance(num)  8790 non-null   int64\n",
            " 9   Warehouse_block_A        8790 non-null   uint8\n",
            " 10  Warehouse_block_B        8790 non-null   uint8\n",
            " 11  Warehouse_block_C        8790 non-null   uint8\n",
            " 12  Warehouse_block_D        8790 non-null   uint8\n",
            " 13  Mode_of_Shipment_Flight  8790 non-null   uint8\n",
            " 14  Mode_of_Shipment_Road    8790 non-null   uint8\n",
            "dtypes: int64(9), uint8(6)\n",
            "memory usage: 996.3 KB\n"
          ]
        }
      ],
      "source": [
        "df_remot.info()"
      ]
    },
    {
      "cell_type": "code",
      "execution_count": null,
      "metadata": {
        "colab": {
          "base_uri": "https://localhost:8080/"
        },
        "id": "4dL3Opmv2axB",
        "outputId": "c7f87ce8-ab46-41a5-a686-619e63b7c742"
      },
      "outputs": [
        {
          "output_type": "stream",
          "name": "stdout",
          "text": [
            "Index(['Customer_care_calls', 'Customer_rating', 'Cost_of_the_Product',\n",
            "       'Prior_purchases', 'Discount_offered', 'Weight_in_gms',\n",
            "       'Reached.on.Time_Y.N', 'Gender(num)', 'Product_Importance(num)',\n",
            "       'Warehouse_block_A', 'Warehouse_block_B', 'Warehouse_block_C',\n",
            "       'Warehouse_block_D', 'Mode_of_Shipment_Flight',\n",
            "       'Mode_of_Shipment_Road'],\n",
            "      dtype='object')\n"
          ]
        }
      ],
      "source": [
        "tipe_data_df = ['int64', 'uint8']\n",
        "num_df_remot = df_remot.select_dtypes(include = tipe_data_df)\n",
        "nums_data_col = num_df_remot.columns\n",
        "print(nums_data_col)"
      ]
    },
    {
      "cell_type": "code",
      "execution_count": null,
      "metadata": {
        "id": "xWm__APc3B_A"
      },
      "outputs": [],
      "source": [
        "for i in range(len(nums_data_col)):\n",
        "    df_remot[nums_data_col[i]] = MinMaxScaler().fit_transform(df_remot[nums_data_col[i]].values.reshape(len(df_remot), 1))"
      ]
    },
    {
      "cell_type": "code",
      "execution_count": null,
      "metadata": {
        "colab": {
          "base_uri": "https://localhost:8080/",
          "height": 270
        },
        "id": "7ZoODv-O3Vwu",
        "outputId": "a17851e3-d874-458f-f739-0681ddf2a047"
      },
      "outputs": [
        {
          "data": {
            "text/html": [
              "\n",
              "  <div id=\"df-c9b352f2-0f45-4716-9060-cad02dd95fe7\">\n",
              "    <div class=\"colab-df-container\">\n",
              "      <div>\n",
              "<style scoped>\n",
              "    .dataframe tbody tr th:only-of-type {\n",
              "        vertical-align: middle;\n",
              "    }\n",
              "\n",
              "    .dataframe tbody tr th {\n",
              "        vertical-align: top;\n",
              "    }\n",
              "\n",
              "    .dataframe thead th {\n",
              "        text-align: right;\n",
              "    }\n",
              "</style>\n",
              "<table border=\"1\" class=\"dataframe\">\n",
              "  <thead>\n",
              "    <tr style=\"text-align: right;\">\n",
              "      <th></th>\n",
              "      <th>Customer_care_calls</th>\n",
              "      <th>Customer_rating</th>\n",
              "      <th>Cost_of_the_Product</th>\n",
              "      <th>Prior_purchases</th>\n",
              "      <th>Discount_offered</th>\n",
              "      <th>Weight_in_gms</th>\n",
              "      <th>Reached.on.Time_Y.N</th>\n",
              "      <th>Gender(num)</th>\n",
              "      <th>Product_Importance(num)</th>\n",
              "      <th>Warehouse_block_A</th>\n",
              "      <th>Warehouse_block_B</th>\n",
              "      <th>Warehouse_block_C</th>\n",
              "      <th>Warehouse_block_D</th>\n",
              "      <th>Mode_of_Shipment_Flight</th>\n",
              "      <th>Mode_of_Shipment_Road</th>\n",
              "    </tr>\n",
              "  </thead>\n",
              "  <tbody>\n",
              "    <tr>\n",
              "      <th>3</th>\n",
              "      <td>0.2</td>\n",
              "      <td>0.50</td>\n",
              "      <td>0.373832</td>\n",
              "      <td>0.250</td>\n",
              "      <td>0.500000</td>\n",
              "      <td>0.034503</td>\n",
              "      <td>1.0</td>\n",
              "      <td>1.0</td>\n",
              "      <td>0.5</td>\n",
              "      <td>0.0</td>\n",
              "      <td>1.0</td>\n",
              "      <td>0.0</td>\n",
              "      <td>0.0</td>\n",
              "      <td>1.0</td>\n",
              "      <td>0.0</td>\n",
              "    </tr>\n",
              "    <tr>\n",
              "      <th>5</th>\n",
              "      <td>0.2</td>\n",
              "      <td>0.00</td>\n",
              "      <td>0.308411</td>\n",
              "      <td>0.125</td>\n",
              "      <td>0.611111</td>\n",
              "      <td>0.081553</td>\n",
              "      <td>1.0</td>\n",
              "      <td>0.0</td>\n",
              "      <td>0.5</td>\n",
              "      <td>0.0</td>\n",
              "      <td>0.0</td>\n",
              "      <td>0.0</td>\n",
              "      <td>0.0</td>\n",
              "      <td>1.0</td>\n",
              "      <td>0.0</td>\n",
              "    </tr>\n",
              "    <tr>\n",
              "      <th>6</th>\n",
              "      <td>0.2</td>\n",
              "      <td>0.75</td>\n",
              "      <td>0.719626</td>\n",
              "      <td>0.125</td>\n",
              "      <td>0.111111</td>\n",
              "      <td>0.268575</td>\n",
              "      <td>1.0</td>\n",
              "      <td>0.0</td>\n",
              "      <td>0.0</td>\n",
              "      <td>0.0</td>\n",
              "      <td>0.0</td>\n",
              "      <td>0.0</td>\n",
              "      <td>1.0</td>\n",
              "      <td>1.0</td>\n",
              "      <td>0.0</td>\n",
              "    </tr>\n",
              "    <tr>\n",
              "      <th>8</th>\n",
              "      <td>0.2</td>\n",
              "      <td>0.75</td>\n",
              "      <td>0.252336</td>\n",
              "      <td>0.125</td>\n",
              "      <td>0.555556</td>\n",
              "      <td>0.168594</td>\n",
              "      <td>1.0</td>\n",
              "      <td>0.0</td>\n",
              "      <td>0.0</td>\n",
              "      <td>1.0</td>\n",
              "      <td>0.0</td>\n",
              "      <td>0.0</td>\n",
              "      <td>0.0</td>\n",
              "      <td>1.0</td>\n",
              "      <td>0.0</td>\n",
              "    </tr>\n",
              "    <tr>\n",
              "      <th>10</th>\n",
              "      <td>0.2</td>\n",
              "      <td>0.75</td>\n",
              "      <td>0.434579</td>\n",
              "      <td>0.000</td>\n",
              "      <td>0.611111</td>\n",
              "      <td>0.369927</td>\n",
              "      <td>1.0</td>\n",
              "      <td>1.0</td>\n",
              "      <td>0.5</td>\n",
              "      <td>0.0</td>\n",
              "      <td>0.0</td>\n",
              "      <td>1.0</td>\n",
              "      <td>0.0</td>\n",
              "      <td>1.0</td>\n",
              "      <td>0.0</td>\n",
              "    </tr>\n",
              "  </tbody>\n",
              "</table>\n",
              "</div>\n",
              "      <button class=\"colab-df-convert\" onclick=\"convertToInteractive('df-c9b352f2-0f45-4716-9060-cad02dd95fe7')\"\n",
              "              title=\"Convert this dataframe to an interactive table.\"\n",
              "              style=\"display:none;\">\n",
              "        \n",
              "  <svg xmlns=\"http://www.w3.org/2000/svg\" height=\"24px\"viewBox=\"0 0 24 24\"\n",
              "       width=\"24px\">\n",
              "    <path d=\"M0 0h24v24H0V0z\" fill=\"none\"/>\n",
              "    <path d=\"M18.56 5.44l.94 2.06.94-2.06 2.06-.94-2.06-.94-.94-2.06-.94 2.06-2.06.94zm-11 1L8.5 8.5l.94-2.06 2.06-.94-2.06-.94L8.5 2.5l-.94 2.06-2.06.94zm10 10l.94 2.06.94-2.06 2.06-.94-2.06-.94-.94-2.06-.94 2.06-2.06.94z\"/><path d=\"M17.41 7.96l-1.37-1.37c-.4-.4-.92-.59-1.43-.59-.52 0-1.04.2-1.43.59L10.3 9.45l-7.72 7.72c-.78.78-.78 2.05 0 2.83L4 21.41c.39.39.9.59 1.41.59.51 0 1.02-.2 1.41-.59l7.78-7.78 2.81-2.81c.8-.78.8-2.07 0-2.86zM5.41 20L4 18.59l7.72-7.72 1.47 1.35L5.41 20z\"/>\n",
              "  </svg>\n",
              "      </button>\n",
              "      \n",
              "  <style>\n",
              "    .colab-df-container {\n",
              "      display:flex;\n",
              "      flex-wrap:wrap;\n",
              "      gap: 12px;\n",
              "    }\n",
              "\n",
              "    .colab-df-convert {\n",
              "      background-color: #E8F0FE;\n",
              "      border: none;\n",
              "      border-radius: 50%;\n",
              "      cursor: pointer;\n",
              "      display: none;\n",
              "      fill: #1967D2;\n",
              "      height: 32px;\n",
              "      padding: 0 0 0 0;\n",
              "      width: 32px;\n",
              "    }\n",
              "\n",
              "    .colab-df-convert:hover {\n",
              "      background-color: #E2EBFA;\n",
              "      box-shadow: 0px 1px 2px rgba(60, 64, 67, 0.3), 0px 1px 3px 1px rgba(60, 64, 67, 0.15);\n",
              "      fill: #174EA6;\n",
              "    }\n",
              "\n",
              "    [theme=dark] .colab-df-convert {\n",
              "      background-color: #3B4455;\n",
              "      fill: #D2E3FC;\n",
              "    }\n",
              "\n",
              "    [theme=dark] .colab-df-convert:hover {\n",
              "      background-color: #434B5C;\n",
              "      box-shadow: 0px 1px 3px 1px rgba(0, 0, 0, 0.15);\n",
              "      filter: drop-shadow(0px 1px 2px rgba(0, 0, 0, 0.3));\n",
              "      fill: #FFFFFF;\n",
              "    }\n",
              "  </style>\n",
              "\n",
              "      <script>\n",
              "        const buttonEl =\n",
              "          document.querySelector('#df-c9b352f2-0f45-4716-9060-cad02dd95fe7 button.colab-df-convert');\n",
              "        buttonEl.style.display =\n",
              "          google.colab.kernel.accessAllowed ? 'block' : 'none';\n",
              "\n",
              "        async function convertToInteractive(key) {\n",
              "          const element = document.querySelector('#df-c9b352f2-0f45-4716-9060-cad02dd95fe7');\n",
              "          const dataTable =\n",
              "            await google.colab.kernel.invokeFunction('convertToInteractive',\n",
              "                                                     [key], {});\n",
              "          if (!dataTable) return;\n",
              "\n",
              "          const docLinkHtml = 'Like what you see? Visit the ' +\n",
              "            '<a target=\"_blank\" href=https://colab.research.google.com/notebooks/data_table.ipynb>data table notebook</a>'\n",
              "            + ' to learn more about interactive tables.';\n",
              "          element.innerHTML = '';\n",
              "          dataTable['output_type'] = 'display_data';\n",
              "          await google.colab.output.renderOutput(dataTable, element);\n",
              "          const docLink = document.createElement('div');\n",
              "          docLink.innerHTML = docLinkHtml;\n",
              "          element.appendChild(docLink);\n",
              "        }\n",
              "      </script>\n",
              "    </div>\n",
              "  </div>\n",
              "  "
            ],
            "text/plain": [
              "    Customer_care_calls  ...  Mode_of_Shipment_Road\n",
              "3                   0.2  ...                    0.0\n",
              "5                   0.2  ...                    0.0\n",
              "6                   0.2  ...                    0.0\n",
              "8                   0.2  ...                    0.0\n",
              "10                  0.2  ...                    0.0\n",
              "\n",
              "[5 rows x 15 columns]"
            ]
          },
          "execution_count": 111,
          "metadata": {},
          "output_type": "execute_result"
        }
      ],
      "source": [
        "df_remot.head()"
      ]
    },
    {
      "cell_type": "code",
      "execution_count": null,
      "metadata": {
        "colab": {
          "base_uri": "https://localhost:8080/"
        },
        "id": "o1ZK-Kyq_Jeq",
        "outputId": "d3c6249c-c1c2-45d2-81f8-f857643386ab"
      },
      "outputs": [
        {
          "output_type": "execute_result",
          "data": {
            "text/plain": [
              "0.0    0.504664\n",
              "1.0    0.495336\n",
              "Name: Reached.on.Time_Y.N, dtype: float64"
            ]
          },
          "metadata": {},
          "execution_count": 96
        }
      ],
      "source": [
        "df_remot['Reached.on.Time_Y.N'].value_counts(normalize=True)"
      ]
    },
    {
      "cell_type": "markdown",
      "metadata": {
        "id": "4gbswWfGrCvK"
      },
      "source": [
        "## Model Evaluasion"
      ]
    },
    {
      "cell_type": "code",
      "execution_count": null,
      "metadata": {
        "id": "PWClFNtF81Gi"
      },
      "outputs": [],
      "source": [
        "#model evaluation automatization function\n",
        "from sklearn.metrics import accuracy_score, precision_score, recall_score, f1_score, roc_auc_score, average_precision_score #import evaluation matrix from sklearn\n",
        "\n",
        "def eval_classification(model, Xtrain, Ytrain, Xtest, Ytest):                 #define a model evaluation function\n",
        "    print(\"Test Data Evaluation:\")\n",
        "    Ypred = model.predict(Xtest)                                              #predict Y using testing data\n",
        "    print(\"Accuracy (Test Set): %.3f\" % accuracy_score(Ytest, Ypred))         #accuracy score\n",
        "    print(\"Precision (Test Set): %.3f\" % precision_score(Ytest, Ypred))       #precision score\n",
        "    print(\"Recall (Test Set): %.3f\" % recall_score(Ytest, Ypred))             #recall score\n",
        "    print(\"F1-Score (Test Set): %.3f\" % f1_score(Ytest, Ypred))               #f1 score\n",
        "    \n",
        "    Ypred_proba = model.predict_proba(Xtest)                                                          #predict Y (probability) using testing data \n",
        "    print(\"AUC (Test Set) : %.3f\" % roc_auc_score(Ytest, Ypred_proba[:, 1]))                          #roc auc score\n",
        "    print(\"Average Precision (Test Set) : %.3f\" % average_precision_score(Ytest, Ypred_proba[:, 1]))  #average precision score\n",
        "    print(\" \")\n",
        "    \n",
        "    print(\"Train Data Evaluation:\")\n",
        "    Ypred_train = model.predict(Xtrain)                                          #predict Y using training data\n",
        "    print(\"Accuracy (Train Set): %.3f\" % accuracy_score(Ytrain, Ypred_train))    #accuracy score\n",
        "    print(\"Precision (Train Set): %.3f\" % precision_score(Ytrain, Ypred_train))  #precision score\n",
        "    print(\"Recall (Train Set): %.3f\" % recall_score(Ytrain, Ypred_train))        #recall score\n",
        "    print(\"F1-Score (Train Set): %.3f\" % f1_score(Ytrain, Ypred_train))          #f1 score\n",
        "    \n",
        "    Ypred_train_proba = model.predict_proba(Xtrain)                                                            #predict Y (probability) using training data\n",
        "    print(\"AUC (Train Set) : %.3f\" % roc_auc_score(Ytrain, Ypred_train_proba[:, 1]))                           #roc auc score\n",
        "    print(\"Average Precision (Train Set) : %.3f\" % average_precision_score(Ytrain, Ypred_train_proba[:, 1]))\n",
        "\n",
        "def show_feature_importance(model):\n",
        "    feat_importances = pd.Series(model.feature_importances_, index=X.columns)\n",
        "    ax = feat_importances.nlargest(25).plot(kind='barh', figsize=(10, 8))\n",
        "    ax.invert_yaxis()\n",
        "\n",
        "    plt.xlabel('score')\n",
        "    plt.ylabel('feature')\n",
        "    plt.title('feature importance score')\n",
        "\n",
        "def show_best_hyperparameter(model, hyperparameters):\n",
        "    for key, value in hyperparameters.items() :\n",
        "        print('Best '+key+':', model.get_params()[key])"
      ]
    },
    {
      "cell_type": "markdown",
      "metadata": {
        "id": "sm6EP1IQ7P4J"
      },
      "source": [
        "### Logistic Regression"
      ]
    },
    {
      "cell_type": "code",
      "execution_count": null,
      "metadata": {
        "colab": {
          "base_uri": "https://localhost:8080/"
        },
        "id": "zukMiFiu6YME",
        "outputId": "b254aba8-6699-44a8-93a9-80c2d8aa67ea"
      },
      "outputs": [
        {
          "name": "stdout",
          "output_type": "stream",
          "text": [
            "training:  7699\n",
            "testing:  3300\n"
          ]
        }
      ],
      "source": [
        "# train test split\n",
        "X = df_shipping.drop(columns=\"Reached.on.Time_Y.N\")\n",
        "y = df_shipping['Reached.on.Time_Y.N']\n",
        "X_train, X_test, y_train, y_test = train_test_split(X, y, test_size=0.3, random_state=42)\n",
        "print(\"training: \", X_train.shape[0])\n",
        "print(\"testing: \", y_test.shape[0])"
      ]
    },
    {
      "cell_type": "code",
      "execution_count": null,
      "metadata": {
        "colab": {
          "base_uri": "https://localhost:8080/"
        },
        "id": "ppsQe5Hc8mnf",
        "outputId": "220b72e5-68ea-4ca6-ca1d-3e95f0f1ea84"
      },
      "outputs": [
        {
          "name": "stdout",
          "output_type": "stream",
          "text": [
            "Test Data Evaluation:\n",
            "Accuracy (Test Set): 0.635\n",
            "Precision (Test Set): 0.709\n",
            "Recall (Test Set): 0.668\n",
            "F1-Score (Test Set): 0.688\n",
            "AUC (Test Set) : 0.712\n",
            "Average Precision (Test Set) : 0.835\n",
            " \n",
            "Train Data Evaluation:\n",
            "Accuracy (Train Set): 0.637\n",
            "Precision (Train Set): 0.707\n",
            "Recall (Train Set): 0.666\n",
            "F1-Score (Train Set): 0.686\n",
            "AUC (Train Set) : 0.716\n",
            "Average Precision (Train Set) : 0.833\n"
          ]
        }
      ],
      "source": [
        "model_log_reg = LogisticRegression()\n",
        "model_log_reg.fit(X_train, y_train)\n",
        "eval_classification(model_log_reg, X_train, y_train, X_test, y_test)"
      ]
    },
    {
      "cell_type": "markdown",
      "metadata": {
        "id": "Vx2aMCgzVUFq"
      },
      "source": [
        "### KNN"
      ]
    },
    {
      "cell_type": "code",
      "execution_count": null,
      "metadata": {
        "colab": {
          "base_uri": "https://localhost:8080/"
        },
        "id": "CZUuy49MWEmX",
        "outputId": "bb345960-c09b-4deb-9d8b-4fcb8cce1ba0"
      },
      "outputs": [
        {
          "name": "stdout",
          "output_type": "stream",
          "text": [
            "training:  7699\n",
            "testing:  3300\n"
          ]
        }
      ],
      "source": [
        "# train test split\n",
        "X = df_shipping.drop(columns=\"Reached.on.Time_Y.N\")\n",
        "y = df_shipping['Reached.on.Time_Y.N']\n",
        "X_train, X_test, y_train, y_test = train_test_split(X, y, test_size=0.3, random_state=42)\n",
        "print(\"training: \", X_train.shape[0])\n",
        "print(\"testing: \", y_test.shape[0])"
      ]
    },
    {
      "cell_type": "code",
      "execution_count": null,
      "metadata": {
        "colab": {
          "base_uri": "https://localhost:8080/"
        },
        "id": "pbYLzw0LWG2s",
        "outputId": "df5694cc-4b1d-4332-da3f-da0dc522251a"
      },
      "outputs": [
        {
          "name": "stdout",
          "output_type": "stream",
          "text": [
            "Test Data Evaluation:\n",
            "Accuracy (Test Set): 0.652\n",
            "Precision (Test Set): 0.727\n",
            "Recall (Test Set): 0.676\n",
            "F1-Score (Test Set): 0.701\n",
            "AUC (Test Set) : 0.730\n",
            "Average Precision (Test Set) : 0.815\n",
            " \n",
            "Train Data Evaluation:\n",
            "Accuracy (Train Set): 0.782\n",
            "Precision (Train Set): 0.835\n",
            "Recall (Train Set): 0.790\n",
            "F1-Score (Train Set): 0.812\n",
            "AUC (Train Set) : 0.868\n",
            "Average Precision (Train Set) : 0.895\n"
          ]
        }
      ],
      "source": [
        "from sklearn.neighbors import KNeighborsClassifier  #import knn from sklearn\n",
        "knn = KNeighborsClassifier()                        #initialize algorithm with specified name model\n",
        "knn.fit(X_train, y_train)                           #fit algorithm with train data\n",
        "eval_classification(knn, X_train, y_train, X_test, y_test)"
      ]
    },
    {
      "cell_type": "markdown",
      "metadata": {
        "id": "wSZ1Wfo87UHA"
      },
      "source": [
        "### Random Forest"
      ]
    },
    {
      "cell_type": "code",
      "execution_count": null,
      "metadata": {
        "colab": {
          "base_uri": "https://localhost:8080/"
        },
        "id": "23hQFBpbWyxD",
        "outputId": "0cc07f8e-1485-4c43-ed3f-eaffff163219"
      },
      "outputs": [
        {
          "name": "stdout",
          "output_type": "stream",
          "text": [
            "training:  7699\n",
            "testing:  3300\n"
          ]
        }
      ],
      "source": [
        "# train test split\n",
        "X = df_shipping.drop(columns=\"Reached.on.Time_Y.N\")\n",
        "y = df_shipping['Reached.on.Time_Y.N']\n",
        "X_train, X_test, y_train, y_test = train_test_split(X, y, test_size=0.3, random_state=42)\n",
        "print(\"training: \", X_train.shape[0])\n",
        "print(\"testing: \", y_test.shape[0])"
      ]
    },
    {
      "cell_type": "code",
      "execution_count": null,
      "metadata": {
        "colab": {
          "base_uri": "https://localhost:8080/"
        },
        "id": "O75A8STk-nBL",
        "outputId": "a4b04dad-5916-4e55-ad8e-9cd0902a219a"
      },
      "outputs": [
        {
          "name": "stdout",
          "output_type": "stream",
          "text": [
            "Test Data Evaluation:\n",
            "Accuracy (Test Set): 0.663\n",
            "Precision (Test Set): 0.764\n",
            "Recall (Test Set): 0.636\n",
            "F1-Score (Test Set): 0.694\n",
            "AUC (Test Set) : 0.739\n",
            "Average Precision (Test Set) : 0.853\n",
            " \n",
            "Train Data Evaluation:\n",
            "Accuracy (Train Set): 1.000\n",
            "Precision (Train Set): 1.000\n",
            "Recall (Train Set): 1.000\n",
            "F1-Score (Train Set): 1.000\n",
            "AUC (Train Set) : 1.000\n",
            "Average Precision (Train Set) : 1.000\n"
          ]
        }
      ],
      "source": [
        "model_rf = RandomForestClassifier()\n",
        "model_rf.fit(X_train,y_train)\n",
        "eval_classification(model_rf, X_train, y_train, X_test, y_test)"
      ]
    },
    {
      "cell_type": "markdown",
      "metadata": {
        "id": "i4er_dESaWgS"
      },
      "source": [
        "### Decission Tree"
      ]
    },
    {
      "cell_type": "code",
      "execution_count": null,
      "metadata": {
        "id": "nCsazLScaWJP"
      },
      "outputs": [],
      "source": [
        "# train test split\n",
        "X = df_shipping.drop(columns=\"Reached.on.Time_Y.N\")\n",
        "y = df_shipping['Reached.on.Time_Y.N']\n",
        "X_train, X_test, y_train, y_test = train_test_split(X, y, test_size=0.3, random_state=42)\n",
        "print(\"training: \", X_train.shape[0])\n",
        "print(\"testing: \", y_test.shape[0])"
      ]
    },
    {
      "cell_type": "code",
      "execution_count": null,
      "metadata": {
        "id": "Nj8PedJsa0B5"
      },
      "outputs": [],
      "source": [
        "from sklearn.tree import DecisionTreeClassifier       #import decision tree from sklearn\n",
        "dt = DecisionTreeClassifier(random_state=42)     #initialize algorithm with specified name model\n",
        "dt.fit(X_train, y_train)                         #fit algorithm with train data\n",
        "eval_classification(dt, X_train, y_train, X_test, y_test)"
      ]
    },
    {
      "cell_type": "markdown",
      "metadata": {
        "id": "6324tE5e8ZLc"
      },
      "source": [
        "### XGBoost"
      ]
    },
    {
      "cell_type": "code",
      "execution_count": null,
      "metadata": {
        "id": "vftnPPWqW55U"
      },
      "outputs": [],
      "source": [
        "# train test split\n",
        "X = df_shipping.drop(columns=\"Reached.on.Time_Y.N\")\n",
        "y = df_shipping['Reached.on.Time_Y.N']\n",
        "X_train, X_test, y_train, y_test = train_test_split(X, y, test_size=0.3, random_state=42)\n",
        "print(\"training: \", X_train.shape[0])\n",
        "print(\"testing: \", y_test.shape[0])"
      ]
    },
    {
      "cell_type": "code",
      "execution_count": null,
      "metadata": {
        "id": "_tOPdSUc-55g"
      },
      "outputs": [],
      "source": [
        "model_xgb = XGBClassifier()\n",
        "model_xgb.fit(X_train, y_train)\n",
        "eval_classification(model_xgb, X_train, y_train, X_test, y_test)"
      ]
    },
    {
      "cell_type": "markdown",
      "metadata": {
        "id": "L7jd1Ewp8igb"
      },
      "source": [
        "### Adaboost"
      ]
    },
    {
      "cell_type": "code",
      "execution_count": null,
      "metadata": {
        "id": "TVLGLHDbXBbl"
      },
      "outputs": [],
      "source": [
        "# train test split\n",
        "X = df_shipping.drop(columns=\"Reached.on.Time_Y.N\")\n",
        "y = df_shipping['Reached.on.Time_Y.N']\n",
        "X_train, X_test, y_train, y_test = train_test_split(X, y, test_size=0.3, random_state=42)\n",
        "print(\"training: \", X_train.shape[0])\n",
        "print(\"testing: \", y_test.shape[0])"
      ]
    },
    {
      "cell_type": "code",
      "execution_count": null,
      "metadata": {
        "id": "bWXMNmRq3vKS"
      },
      "outputs": [],
      "source": [
        "model_ab = AdaBoostClassifier()\n",
        "model_ab.fit(X_train,y_train)\n",
        "eval_classification(model_ab, X_train, y_train, X_test, y_test)"
      ]
    },
    {
      "cell_type": "markdown",
      "metadata": {
        "id": "sqrKRU1U_5jy"
      },
      "source": [
        "## Model dengan tunning hyperparam"
      ]
    },
    {
      "cell_type": "markdown",
      "metadata": {
        "id": "N-pqnJ5eAk8t"
      },
      "source": [
        "### Logistic Regression"
      ]
    },
    {
      "cell_type": "code",
      "execution_count": null,
      "metadata": {
        "id": "jgUGeUdUXhl5"
      },
      "outputs": [],
      "source": [
        "# train test split\n",
        "X = df_shipping.drop(columns=\"Reached.on.Time_Y.N\")\n",
        "y = df_shipping['Reached.on.Time_Y.N']\n",
        "X_train, X_test, y_train, y_test = train_test_split(X, y, test_size=0.3, random_state=42)\n",
        "print(\"training: \", X_train.shape[0])\n",
        "print(\"testing: \", y_test.shape[0])"
      ]
    },
    {
      "cell_type": "code",
      "execution_count": null,
      "metadata": {
        "id": "1Zs1ktzQ2wY5"
      },
      "outputs": [],
      "source": [
        "penalty = ['l1', 'l2']\n",
        "C = [0.00001, 0.0001, 0.001, 0.01, 0.1]\n",
        "hyperparameters_logreg = dict(penalty=penalty, C=C)\n",
        "model_logreg = LogisticRegression()\n",
        "model_logreg_tun = GridSearchCV(model_logreg, hyperparameters_logreg, cv=5, scoring='roc_auc')\n",
        "model_logreg_tun.fit(X_train, y_train)\n",
        "eval_classification(model_logreg_tun, X_train, y_train, X_test, y_test)"
      ]
    },
    {
      "cell_type": "code",
      "execution_count": null,
      "metadata": {
        "id": "LY1891kLpRJj"
      },
      "outputs": [],
      "source": [
        "# best param\n",
        "model_logreg_tun.best_params_"
      ]
    },
    {
      "cell_type": "markdown",
      "metadata": {
        "id": "FfTzxc9hYVPV"
      },
      "source": [
        "### KNN"
      ]
    },
    {
      "cell_type": "code",
      "execution_count": null,
      "metadata": {
        "id": "NY2VrEeJYWlT"
      },
      "outputs": [],
      "source": [
        "# train test split\n",
        "X = df_shipping.drop(columns=\"Reached.on.Time_Y.N\")\n",
        "y = df_shipping['Reached.on.Time_Y.N']\n",
        "X_train, X_test, y_train, y_test = train_test_split(X, y, test_size=0.3, random_state=42)\n",
        "print(\"training: \", X_train.shape[0])\n",
        "print(\"testing: \", y_test.shape[0])"
      ]
    },
    {
      "cell_type": "code",
      "execution_count": null,
      "metadata": {
        "id": "4qo-q2RTYama"
      },
      "outputs": [],
      "source": [
        "#list of hyperparameter\n",
        "n_neighbors = list(range(1,51))\n",
        "p=[1,2,3]\n",
        "algorithm = ['auto', 'ball_tree', 'kd_tree', 'brute']\n",
        "weights = ['uniform', 'distance']\n",
        "hyperparameters = dict(n_neighbors=n_neighbors, p=p, algorithm=algorithm, weights=weights)\n",
        "\n",
        "#init model\n",
        "knn_model = KNeighborsClassifier()\n",
        "knn_model_tun = RandomizedSearchCV(knn_model, hyperparameters, cv=5, random_state=42, scoring='roc_auc')\n",
        "\n",
        "#fit model & evaluation\n",
        "knn_model_tun.fit(X_train, y_train)\n",
        "eval_classification(knn_model_tun, X_train, y_train, X_test, y_test)"
      ]
    },
    {
      "cell_type": "code",
      "execution_count": null,
      "metadata": {
        "id": "ELbtO0s3ZJYp"
      },
      "outputs": [],
      "source": [
        "# best param\n",
        "knn_model_tun.best_params_"
      ]
    },
    {
      "cell_type": "markdown",
      "metadata": {
        "id": "08tqLqxfBLTZ"
      },
      "source": [
        "### Random Forest"
      ]
    },
    {
      "cell_type": "code",
      "execution_count": null,
      "metadata": {
        "id": "MxXihzpSZiKB"
      },
      "outputs": [],
      "source": [
        "# train test split\n",
        "X = df_shipping.drop(columns=\"Reached.on.Time_Y.N\")\n",
        "y = df_shipping['Reached.on.Time_Y.N']\n",
        "X_train, X_test, y_train, y_test = train_test_split(X, y, test_size=0.3, random_state=42)\n",
        "print(\"training: \", X_train.shape[0])\n",
        "print(\"testing: \", y_test.shape[0])"
      ]
    },
    {
      "cell_type": "code",
      "execution_count": null,
      "metadata": {
        "colab": {
          "background_save": true
        },
        "id": "GDcqJqnBBKf3",
        "outputId": "f029f14e-07a8-400c-83e5-5edfbd99b3ad"
      },
      "outputs": [
        {
          "name": "stdout",
          "output_type": "stream",
          "text": [
            "Test Data Evaluation:\n",
            "Accuracy (Test Set): 0.677\n",
            "Precision (Test Set): 0.865\n",
            "Recall (Test Set): 0.550\n",
            "F1-Score (Test Set): 0.673\n",
            "AUC (Test Set) : 0.738\n",
            "Average Precision (Test Set) : 0.855\n",
            " \n",
            "Train Data Evaluation:\n",
            "Accuracy (Train Set): 0.772\n",
            "Precision (Train Set): 0.952\n",
            "Recall (Train Set): 0.650\n",
            "F1-Score (Train Set): 0.772\n",
            "AUC (Train Set) : 0.914\n",
            "Average Precision (Train Set) : 0.944\n"
          ]
        }
      ],
      "source": [
        "hyperparameters_rf = dict(\n",
        "                       n_estimators = [int(x) for x in np.linspace(start = 100, stop = 2000, num = 20)], # Jumlah subtree \n",
        "                       bootstrap = [True], # Apakah pakai bootstrapping atau tidak\n",
        "                       criterion = ['gini','entropy'],\n",
        "                       max_depth = [int(x) for x in np.linspace(10, 110, num = 11)],  # Maximum kedalaman tree\n",
        "                       min_samples_split = [int(x) for x in np.linspace(start = 2, stop = 10, num = 5)], # Jumlah minimum samples pada node agar boleh di split menjadi leaf baru\n",
        "                       min_samples_leaf = [int(x) for x in np.linspace(start = 1, stop = 10, num = 5)], # Jumlah minimum samples pada leaf agar boleh terbentuk leaf baru\n",
        "                       max_features = ['auto', 'sqrt', 'log2'], #the number of features to consider when looking for the best split\n",
        "                       n_jobs = [-1] #the number of jobs to run in parallel computation. -1 means using all processors\n",
        "                      )\n",
        "\n",
        "# Init\n",
        "rf = RandomForestClassifier(random_state=42)\n",
        "rf_tuned = RandomizedSearchCV(rf, hyperparameters_rf, cv=5, random_state=42, scoring='roc_auc')\n",
        "rf_tuned.fit(X_train,y_train)\n",
        "eval_classification(rf_tuned, X_train, y_train, X_test, y_test)\n"
      ]
    },
    {
      "cell_type": "code",
      "execution_count": null,
      "metadata": {
        "colab": {
          "background_save": true
        },
        "id": "DoEuaz2DdJdK",
        "outputId": "a7442254-b326-4b96-d26e-3854d460b2aa"
      },
      "outputs": [
        {
          "data": {
            "text/plain": [
              "{'bootstrap': True,\n",
              " 'criterion': 'gini',\n",
              " 'max_depth': 10,\n",
              " 'max_features': 'sqrt',\n",
              " 'min_samples_leaf': 7,\n",
              " 'min_samples_split': 8,\n",
              " 'n_estimators': 100,\n",
              " 'n_jobs': -1}"
            ]
          },
          "execution_count": null,
          "metadata": {},
          "output_type": "execute_result"
        }
      ],
      "source": [
        "# best param\n",
        "rf_tuned.best_params_"
      ]
    },
    {
      "cell_type": "markdown",
      "metadata": {
        "id": "fbgSij79dVEM"
      },
      "source": [
        "### Decission Tree"
      ]
    },
    {
      "cell_type": "code",
      "execution_count": null,
      "metadata": {
        "colab": {
          "background_save": true
        },
        "id": "EOiKzdAAdZ9d",
        "outputId": "0f6e13a9-0430-4ff1-c704-e83bc416f054"
      },
      "outputs": [
        {
          "name": "stdout",
          "output_type": "stream",
          "text": [
            "training:  7699\n",
            "testing:  3300\n"
          ]
        }
      ],
      "source": [
        "# train test split\n",
        "X = df_shipping.drop(columns=\"Reached.on.Time_Y.N\")\n",
        "y = df_shipping['Reached.on.Time_Y.N']\n",
        "X_train, X_test, y_train, y_test = train_test_split(X, y, test_size=0.3, random_state=42)\n",
        "print(\"training: \", X_train.shape[0])\n",
        "print(\"testing: \", y_test.shape[0])"
      ]
    },
    {
      "cell_type": "code",
      "execution_count": null,
      "metadata": {
        "colab": {
          "background_save": true
        },
        "id": "CaL6gJUwddDm",
        "outputId": "5b45c521-aa40-4ccc-8deb-f883d571834f"
      },
      "outputs": [
        {
          "name": "stdout",
          "output_type": "stream",
          "text": [
            "Test Data Evaluation:\n",
            "Accuracy (Test Set): 0.666\n",
            "Precision (Test Set): 0.787\n",
            "Recall (Test Set): 0.611\n",
            "F1-Score (Test Set): 0.688\n",
            "AUC (Test Set) : 0.731\n",
            "Average Precision (Test Set) : 0.837\n",
            " \n",
            "Train Data Evaluation:\n",
            "Accuracy (Train Set): 0.681\n",
            "Precision (Train Set): 0.796\n",
            "Recall (Train Set): 0.624\n",
            "F1-Score (Train Set): 0.699\n",
            "AUC (Train Set) : 0.759\n",
            "Average Precision (Train Set) : 0.848\n"
          ]
        }
      ],
      "source": [
        "#list of hyperparameter\n",
        "max_depth = [int(x) for x in np.linspace(1, 110, num = 30)] #maximum number of levels in tree\n",
        "min_samples_split = [2, 5, 10, 100, 200] #minimum number of samples required to split a node\n",
        "min_samples_leaf = [1, 2, 4, 10, 20, 50, 100] #minimum number of samples required at each leaf node\n",
        "max_features = ['auto', 'sqrt', 'log2'] #number of features to consider at every split\n",
        "criterion = ['gini', 'entropy'] #the function to measure the quality of a split\n",
        "splitter = ['best', 'random'] #the strategy used to choose the split at each node\n",
        "\n",
        "hyperparameters = dict(max_depth=max_depth, \n",
        "                       min_samples_split=min_samples_split, \n",
        "                       min_samples_leaf=min_samples_leaf,\n",
        "                       max_features=max_features,\n",
        "                       criterion=criterion,\n",
        "                       splitter=splitter\n",
        "                      )\n",
        "\n",
        "#initiate model\n",
        "dt = DecisionTreeClassifier(random_state=42)\n",
        "dt_tun = RandomizedSearchCV(dt, hyperparameters, cv=5, random_state=42, scoring='roc_auc')\n",
        "dt_tun.fit(X_train, y_train) #fit model\n",
        "\n",
        "eval_classification(dt_tun, X_train, y_train, X_test, y_test)"
      ]
    },
    {
      "cell_type": "code",
      "execution_count": null,
      "metadata": {
        "colab": {
          "background_save": true
        },
        "id": "-kCfnSFte88x",
        "outputId": "65a7761a-4c09-4b78-b709-37f9598968f2"
      },
      "outputs": [
        {
          "data": {
            "text/plain": [
              "{'criterion': 'gini',\n",
              " 'max_depth': 8,\n",
              " 'max_features': 'auto',\n",
              " 'min_samples_leaf': 20,\n",
              " 'min_samples_split': 100,\n",
              " 'splitter': 'best'}"
            ]
          },
          "execution_count": null,
          "metadata": {},
          "output_type": "execute_result"
        }
      ],
      "source": [
        "# best param\n",
        "dt_tun.best_params_"
      ]
    },
    {
      "cell_type": "markdown",
      "metadata": {
        "id": "AcIWTGXbBSWF"
      },
      "source": [
        "### XGBoost"
      ]
    },
    {
      "cell_type": "code",
      "execution_count": null,
      "metadata": {
        "colab": {
          "background_save": true
        },
        "id": "0O9bmU7kfPPm",
        "outputId": "ac6c95a8-9213-4543-8c1b-920b5936f78c"
      },
      "outputs": [
        {
          "name": "stdout",
          "output_type": "stream",
          "text": [
            "training:  7699\n",
            "testing:  3300\n"
          ]
        }
      ],
      "source": [
        "# train test split\n",
        "X = df_shipping.drop(columns=\"Reached.on.Time_Y.N\")\n",
        "y = df_shipping['Reached.on.Time_Y.N']\n",
        "X_train, X_test, y_train, y_test = train_test_split(X, y, test_size=0.3, random_state=42)\n",
        "print(\"training: \", X_train.shape[0])\n",
        "print(\"testing: \", y_test.shape[0])"
      ]
    },
    {
      "cell_type": "code",
      "execution_count": null,
      "metadata": {
        "id": "GZhVV8KlBbF7"
      },
      "outputs": [],
      "source": [
        "hyperparameters = {\n",
        "                    'max_depth' : [int(x) for x in np.linspace(10, 110, num = 11)],\n",
        "                    'min_child_weight' : [int(x) for x in np.linspace(1, 20, num = 11)],\n",
        "                    'gamma' : [float(x) for x in np.linspace(0, 1, num = 11)],\n",
        "                    'tree_method' : ['auto', 'exact', 'approx', 'hist'],\n",
        "                    'colsample_bytree' : [float(x) for x in np.linspace(0, 1, num = 11)],\n",
        "                    'eta' : [float(x) for x in np.linspace(0, 1, num = 100)],\n",
        "                    'lambda' : [float(x) for x in np.linspace(0, 1, num = 11)],\n",
        "                    'alpha' : [float(x) for x in np.linspace(0, 1, num = 11)]\n",
        "                    }\n",
        "\n",
        "# Init\n",
        "xg = XGBClassifier(random_state=42)\n",
        "xg_tuned = RandomizedSearchCV(xg, hyperparameters, random_state=42, cv=5, scoring='roc_auc')\n",
        "xg_tuned.fit(X_train,y_train)\n",
        "eval_classification(xg_tuned, X_train, y_train, X_test, y_test)"
      ]
    },
    {
      "cell_type": "code",
      "execution_count": null,
      "metadata": {
        "id": "uKMZ4NRzfwO7"
      },
      "outputs": [],
      "source": [
        "# best param\n",
        "xg_tuned.best_params_"
      ]
    },
    {
      "cell_type": "markdown",
      "metadata": {
        "id": "D8P0S0I2BRu8"
      },
      "source": [
        "### AdaBoost"
      ]
    },
    {
      "cell_type": "code",
      "execution_count": null,
      "metadata": {
        "id": "jk9lo0Z2fekF"
      },
      "outputs": [],
      "source": [
        "# train test split\n",
        "X = df_shipping.drop(columns=\"Reached.on.Time_Y.N\")\n",
        "y = df_shipping['Reached.on.Time_Y.N']\n",
        "X_train, X_test, y_train, y_test = train_test_split(X, y, test_size=0.3, random_state=42)\n",
        "print(\"training: \", X_train.shape[0])\n",
        "print(\"testing: \", y_test.shape[0])"
      ]
    },
    {
      "cell_type": "code",
      "execution_count": null,
      "metadata": {
        "colab": {
          "background_save": true
        },
        "id": "QL_oP1ZGBaoH",
        "outputId": "bf7c3c08-dc0e-4c04-af84-53fed3ff0442"
      },
      "outputs": [
        {
          "name": "stdout",
          "output_type": "stream",
          "text": [
            "Test Data Evaluation:\n",
            "Accuracy (Test Set): 0.678\n",
            "Precision (Test Set): 0.815\n",
            "Recall (Test Set): 0.604\n",
            "F1-Score (Test Set): 0.693\n",
            "AUC (Test Set) : 0.744\n",
            "Average Precision (Test Set) : 0.854\n",
            " \n",
            "Train Data Evaluation:\n",
            "Accuracy (Train Set): 0.680\n",
            "Precision (Train Set): 0.811\n",
            "Recall (Train Set): 0.600\n",
            "F1-Score (Train Set): 0.690\n",
            "AUC (Train Set) : 0.755\n",
            "Average Precision (Train Set) : 0.855\n"
          ]
        }
      ],
      "source": [
        "hyperparameters = dict(n_estimators = [int(x) for x in np.linspace(start = 50, stop = 2000, num = 2000)], # Jumlah iterasi\n",
        "                       learning_rate = [float(x) for x in np.linspace(start = 0.001, stop = 0.1, num = 200)],  \n",
        "                       algorithm = ['SAMME', 'SAMME.R']\n",
        "                      )\n",
        "\n",
        "# Init model\n",
        "ab = AdaBoostClassifier(random_state=42)\n",
        "ab_tuned = RandomizedSearchCV(ab, hyperparameters, random_state=42, cv=5, scoring='roc_auc')\n",
        "ab_tuned.fit(X_train,y_train)\n",
        "eval_classification(ab_tuned, X_train, y_train, X_test, y_test)"
      ]
    },
    {
      "cell_type": "code",
      "execution_count": null,
      "metadata": {
        "colab": {
          "background_save": true
        },
        "id": "j71gHB7tiE8v",
        "outputId": "e942e26e-6495-48f6-f546-c7a7d735bebc"
      },
      "outputs": [
        {
          "data": {
            "text/plain": [
              "{'algorithm': 'SAMME.R',\n",
              " 'learning_rate': 0.08358291457286432,\n",
              " 'n_estimators': 225}"
            ]
          },
          "execution_count": null,
          "metadata": {},
          "output_type": "execute_result"
        }
      ],
      "source": [
        "# best param\n",
        "ab_tuned.best_params_"
      ]
    },
    {
      "cell_type": "markdown",
      "metadata": {
        "id": "jFLHAywX54-T"
      },
      "source": [
        "# 4. Data dengan Z-Score Outlier Handling"
      ]
    },
    {
      "cell_type": "code",
      "execution_count": null,
      "metadata": {
        "colab": {
          "base_uri": "https://localhost:8080/",
          "height": 270
        },
        "id": "4cn0KT-fpRp9",
        "outputId": "3633f9dc-3153-4309-f951-f0e861773154"
      },
      "outputs": [
        {
          "output_type": "execute_result",
          "data": {
            "text/html": [
              "\n",
              "  <div id=\"df-2428d4fb-32e9-473d-bd00-e8e1c9721043\">\n",
              "    <div class=\"colab-df-container\">\n",
              "      <div>\n",
              "<style scoped>\n",
              "    .dataframe tbody tr th:only-of-type {\n",
              "        vertical-align: middle;\n",
              "    }\n",
              "\n",
              "    .dataframe tbody tr th {\n",
              "        vertical-align: top;\n",
              "    }\n",
              "\n",
              "    .dataframe thead th {\n",
              "        text-align: right;\n",
              "    }\n",
              "</style>\n",
              "<table border=\"1\" class=\"dataframe\">\n",
              "  <thead>\n",
              "    <tr style=\"text-align: right;\">\n",
              "      <th></th>\n",
              "      <th>ID</th>\n",
              "      <th>Warehouse_Block</th>\n",
              "      <th>Mode_of_Shipment</th>\n",
              "      <th>Customer_Care_Calls</th>\n",
              "      <th>Customer_Rating(num)</th>\n",
              "      <th>Cost_of_The_Product</th>\n",
              "      <th>Prior_Purchases</th>\n",
              "      <th>Product_Importance</th>\n",
              "      <th>Gender</th>\n",
              "      <th>Discount_Offered</th>\n",
              "      <th>Weight_in_gms</th>\n",
              "      <th>Late_Shipment(num)</th>\n",
              "      <th>Customer_Rating(cat)</th>\n",
              "      <th>Late_Shipment(cat)</th>\n",
              "      <th>Gender(num)</th>\n",
              "      <th>Product_Importance(num)</th>\n",
              "      <th>Warehouse_Block_A</th>\n",
              "      <th>Warehouse_Block_B</th>\n",
              "      <th>Warehouse_Block_C</th>\n",
              "      <th>Warehouse_Block_D</th>\n",
              "      <th>Warehouse_Block_F</th>\n",
              "      <th>Mode_of_Shipment_Flight</th>\n",
              "      <th>Mode_of_Shipment_Road</th>\n",
              "      <th>Mode_of_Shipment_Ship</th>\n",
              "      <th>log_Discount_Offered</th>\n",
              "      <th>log_Prior_Purchases</th>\n",
              "      <th>rts_Weight_in_gms</th>\n",
              "      <th>norm_Customer_Care_Calls</th>\n",
              "      <th>norm_Cost_of_The_Product</th>\n",
              "      <th>norm_Prior_Purchases</th>\n",
              "      <th>norm_Discount_Offered</th>\n",
              "      <th>norm_Weight_in_gms</th>\n",
              "      <th>std_Customer_Care_Calls</th>\n",
              "      <th>std_Cost_of_The_Product</th>\n",
              "      <th>std_Prior_Purchases</th>\n",
              "      <th>std_Discount_Offered</th>\n",
              "      <th>std_Weight_in_gms</th>\n",
              "    </tr>\n",
              "  </thead>\n",
              "  <tbody>\n",
              "    <tr>\n",
              "      <th>0</th>\n",
              "      <td>1</td>\n",
              "      <td>D</td>\n",
              "      <td>Flight</td>\n",
              "      <td>4</td>\n",
              "      <td>2</td>\n",
              "      <td>177</td>\n",
              "      <td>3</td>\n",
              "      <td>low</td>\n",
              "      <td>F</td>\n",
              "      <td>44</td>\n",
              "      <td>1233</td>\n",
              "      <td>1</td>\n",
              "      <td>Bintang 2</td>\n",
              "      <td>Yes</td>\n",
              "      <td>0</td>\n",
              "      <td>0</td>\n",
              "      <td>0</td>\n",
              "      <td>0</td>\n",
              "      <td>0</td>\n",
              "      <td>1</td>\n",
              "      <td>0</td>\n",
              "      <td>1</td>\n",
              "      <td>0</td>\n",
              "      <td>0</td>\n",
              "      <td>3.784190</td>\n",
              "      <td>1.098612</td>\n",
              "      <td>35.114100</td>\n",
              "      <td>0.4</td>\n",
              "      <td>0.378505</td>\n",
              "      <td>0.125</td>\n",
              "      <td>0.671875</td>\n",
              "      <td>0.033893</td>\n",
              "      <td>-0.047711</td>\n",
              "      <td>-0.690722</td>\n",
              "      <td>-0.372735</td>\n",
              "      <td>1.889983</td>\n",
              "      <td>-1.468240</td>\n",
              "    </tr>\n",
              "    <tr>\n",
              "      <th>1</th>\n",
              "      <td>2</td>\n",
              "      <td>F</td>\n",
              "      <td>Flight</td>\n",
              "      <td>4</td>\n",
              "      <td>5</td>\n",
              "      <td>216</td>\n",
              "      <td>2</td>\n",
              "      <td>low</td>\n",
              "      <td>M</td>\n",
              "      <td>59</td>\n",
              "      <td>3088</td>\n",
              "      <td>1</td>\n",
              "      <td>Bintang 5</td>\n",
              "      <td>Yes</td>\n",
              "      <td>1</td>\n",
              "      <td>0</td>\n",
              "      <td>0</td>\n",
              "      <td>0</td>\n",
              "      <td>0</td>\n",
              "      <td>0</td>\n",
              "      <td>1</td>\n",
              "      <td>1</td>\n",
              "      <td>0</td>\n",
              "      <td>0</td>\n",
              "      <td>4.077537</td>\n",
              "      <td>0.693147</td>\n",
              "      <td>55.569776</td>\n",
              "      <td>0.4</td>\n",
              "      <td>0.560748</td>\n",
              "      <td>0.000</td>\n",
              "      <td>0.906250</td>\n",
              "      <td>0.304894</td>\n",
              "      <td>-0.047711</td>\n",
              "      <td>0.120746</td>\n",
              "      <td>-1.029424</td>\n",
              "      <td>2.815636</td>\n",
              "      <td>-0.333893</td>\n",
              "    </tr>\n",
              "    <tr>\n",
              "      <th>2</th>\n",
              "      <td>3</td>\n",
              "      <td>A</td>\n",
              "      <td>Flight</td>\n",
              "      <td>2</td>\n",
              "      <td>2</td>\n",
              "      <td>183</td>\n",
              "      <td>4</td>\n",
              "      <td>low</td>\n",
              "      <td>M</td>\n",
              "      <td>48</td>\n",
              "      <td>3374</td>\n",
              "      <td>1</td>\n",
              "      <td>Bintang 2</td>\n",
              "      <td>Yes</td>\n",
              "      <td>1</td>\n",
              "      <td>0</td>\n",
              "      <td>1</td>\n",
              "      <td>0</td>\n",
              "      <td>0</td>\n",
              "      <td>0</td>\n",
              "      <td>0</td>\n",
              "      <td>1</td>\n",
              "      <td>0</td>\n",
              "      <td>0</td>\n",
              "      <td>3.871201</td>\n",
              "      <td>1.386294</td>\n",
              "      <td>58.086143</td>\n",
              "      <td>0.0</td>\n",
              "      <td>0.406542</td>\n",
              "      <td>0.250</td>\n",
              "      <td>0.734375</td>\n",
              "      <td>0.346676</td>\n",
              "      <td>-1.799887</td>\n",
              "      <td>-0.565881</td>\n",
              "      <td>0.283954</td>\n",
              "      <td>2.136824</td>\n",
              "      <td>-0.159002</td>\n",
              "    </tr>\n",
              "    <tr>\n",
              "      <th>3</th>\n",
              "      <td>4</td>\n",
              "      <td>B</td>\n",
              "      <td>Flight</td>\n",
              "      <td>3</td>\n",
              "      <td>3</td>\n",
              "      <td>176</td>\n",
              "      <td>4</td>\n",
              "      <td>medium</td>\n",
              "      <td>M</td>\n",
              "      <td>10</td>\n",
              "      <td>1177</td>\n",
              "      <td>1</td>\n",
              "      <td>Bintang 3</td>\n",
              "      <td>Yes</td>\n",
              "      <td>1</td>\n",
              "      <td>1</td>\n",
              "      <td>0</td>\n",
              "      <td>1</td>\n",
              "      <td>0</td>\n",
              "      <td>0</td>\n",
              "      <td>0</td>\n",
              "      <td>1</td>\n",
              "      <td>0</td>\n",
              "      <td>0</td>\n",
              "      <td>2.302585</td>\n",
              "      <td>1.386294</td>\n",
              "      <td>34.307434</td>\n",
              "      <td>0.2</td>\n",
              "      <td>0.373832</td>\n",
              "      <td>0.250</td>\n",
              "      <td>0.140625</td>\n",
              "      <td>0.025712</td>\n",
              "      <td>-0.923799</td>\n",
              "      <td>-0.711529</td>\n",
              "      <td>0.283954</td>\n",
              "      <td>-0.208162</td>\n",
              "      <td>-1.502484</td>\n",
              "    </tr>\n",
              "    <tr>\n",
              "      <th>4</th>\n",
              "      <td>5</td>\n",
              "      <td>C</td>\n",
              "      <td>Flight</td>\n",
              "      <td>2</td>\n",
              "      <td>2</td>\n",
              "      <td>184</td>\n",
              "      <td>3</td>\n",
              "      <td>medium</td>\n",
              "      <td>F</td>\n",
              "      <td>46</td>\n",
              "      <td>2484</td>\n",
              "      <td>1</td>\n",
              "      <td>Bintang 2</td>\n",
              "      <td>Yes</td>\n",
              "      <td>0</td>\n",
              "      <td>1</td>\n",
              "      <td>0</td>\n",
              "      <td>0</td>\n",
              "      <td>1</td>\n",
              "      <td>0</td>\n",
              "      <td>0</td>\n",
              "      <td>1</td>\n",
              "      <td>0</td>\n",
              "      <td>0</td>\n",
              "      <td>3.828641</td>\n",
              "      <td>1.098612</td>\n",
              "      <td>49.839743</td>\n",
              "      <td>0.0</td>\n",
              "      <td>0.411215</td>\n",
              "      <td>0.125</td>\n",
              "      <td>0.703125</td>\n",
              "      <td>0.216654</td>\n",
              "      <td>-1.799887</td>\n",
              "      <td>-0.545074</td>\n",
              "      <td>-0.372735</td>\n",
              "      <td>2.013404</td>\n",
              "      <td>-0.703244</td>\n",
              "    </tr>\n",
              "  </tbody>\n",
              "</table>\n",
              "</div>\n",
              "      <button class=\"colab-df-convert\" onclick=\"convertToInteractive('df-2428d4fb-32e9-473d-bd00-e8e1c9721043')\"\n",
              "              title=\"Convert this dataframe to an interactive table.\"\n",
              "              style=\"display:none;\">\n",
              "        \n",
              "  <svg xmlns=\"http://www.w3.org/2000/svg\" height=\"24px\"viewBox=\"0 0 24 24\"\n",
              "       width=\"24px\">\n",
              "    <path d=\"M0 0h24v24H0V0z\" fill=\"none\"/>\n",
              "    <path d=\"M18.56 5.44l.94 2.06.94-2.06 2.06-.94-2.06-.94-.94-2.06-.94 2.06-2.06.94zm-11 1L8.5 8.5l.94-2.06 2.06-.94-2.06-.94L8.5 2.5l-.94 2.06-2.06.94zm10 10l.94 2.06.94-2.06 2.06-.94-2.06-.94-.94-2.06-.94 2.06-2.06.94z\"/><path d=\"M17.41 7.96l-1.37-1.37c-.4-.4-.92-.59-1.43-.59-.52 0-1.04.2-1.43.59L10.3 9.45l-7.72 7.72c-.78.78-.78 2.05 0 2.83L4 21.41c.39.39.9.59 1.41.59.51 0 1.02-.2 1.41-.59l7.78-7.78 2.81-2.81c.8-.78.8-2.07 0-2.86zM5.41 20L4 18.59l7.72-7.72 1.47 1.35L5.41 20z\"/>\n",
              "  </svg>\n",
              "      </button>\n",
              "      \n",
              "  <style>\n",
              "    .colab-df-container {\n",
              "      display:flex;\n",
              "      flex-wrap:wrap;\n",
              "      gap: 12px;\n",
              "    }\n",
              "\n",
              "    .colab-df-convert {\n",
              "      background-color: #E8F0FE;\n",
              "      border: none;\n",
              "      border-radius: 50%;\n",
              "      cursor: pointer;\n",
              "      display: none;\n",
              "      fill: #1967D2;\n",
              "      height: 32px;\n",
              "      padding: 0 0 0 0;\n",
              "      width: 32px;\n",
              "    }\n",
              "\n",
              "    .colab-df-convert:hover {\n",
              "      background-color: #E2EBFA;\n",
              "      box-shadow: 0px 1px 2px rgba(60, 64, 67, 0.3), 0px 1px 3px 1px rgba(60, 64, 67, 0.15);\n",
              "      fill: #174EA6;\n",
              "    }\n",
              "\n",
              "    [theme=dark] .colab-df-convert {\n",
              "      background-color: #3B4455;\n",
              "      fill: #D2E3FC;\n",
              "    }\n",
              "\n",
              "    [theme=dark] .colab-df-convert:hover {\n",
              "      background-color: #434B5C;\n",
              "      box-shadow: 0px 1px 3px 1px rgba(0, 0, 0, 0.15);\n",
              "      filter: drop-shadow(0px 1px 2px rgba(0, 0, 0, 0.3));\n",
              "      fill: #FFFFFF;\n",
              "    }\n",
              "  </style>\n",
              "\n",
              "      <script>\n",
              "        const buttonEl =\n",
              "          document.querySelector('#df-2428d4fb-32e9-473d-bd00-e8e1c9721043 button.colab-df-convert');\n",
              "        buttonEl.style.display =\n",
              "          google.colab.kernel.accessAllowed ? 'block' : 'none';\n",
              "\n",
              "        async function convertToInteractive(key) {\n",
              "          const element = document.querySelector('#df-2428d4fb-32e9-473d-bd00-e8e1c9721043');\n",
              "          const dataTable =\n",
              "            await google.colab.kernel.invokeFunction('convertToInteractive',\n",
              "                                                     [key], {});\n",
              "          if (!dataTable) return;\n",
              "\n",
              "          const docLinkHtml = 'Like what you see? Visit the ' +\n",
              "            '<a target=\"_blank\" href=https://colab.research.google.com/notebooks/data_table.ipynb>data table notebook</a>'\n",
              "            + ' to learn more about interactive tables.';\n",
              "          element.innerHTML = '';\n",
              "          dataTable['output_type'] = 'display_data';\n",
              "          await google.colab.output.renderOutput(dataTable, element);\n",
              "          const docLink = document.createElement('div');\n",
              "          docLink.innerHTML = docLinkHtml;\n",
              "          element.appendChild(docLink);\n",
              "        }\n",
              "      </script>\n",
              "    </div>\n",
              "  </div>\n",
              "  "
            ],
            "text/plain": [
              "   ID Warehouse_Block  ... std_Discount_Offered  std_Weight_in_gms\n",
              "0   1               D  ...             1.889983          -1.468240\n",
              "1   2               F  ...             2.815636          -0.333893\n",
              "2   3               A  ...             2.136824          -0.159002\n",
              "3   4               B  ...            -0.208162          -1.502484\n",
              "4   5               C  ...             2.013404          -0.703244\n",
              "\n",
              "[5 rows x 37 columns]"
            ]
          },
          "metadata": {},
          "execution_count": 99
        }
      ],
      "source": [
        "df_zs = pd.read_excel(\"https://raw.githubusercontent.com/Decentraland-Team-Final-Project/Report-Final-Project-/main/Dataset/df_shipping_stage_2.xlsx\")\n",
        "df_zs.head()"
      ]
    },
    {
      "cell_type": "code",
      "execution_count": null,
      "metadata": {
        "colab": {
          "base_uri": "https://localhost:8080/"
        },
        "id": "gDnN-D_Fo-FQ",
        "outputId": "21a734cb-d685-4f61-a1fc-4f1e2042417b"
      },
      "outputs": [
        {
          "output_type": "stream",
          "name": "stdout",
          "text": [
            "<class 'pandas.core.frame.DataFrame'>\n",
            "RangeIndex: 10999 entries, 0 to 10998\n",
            "Data columns (total 37 columns):\n",
            " #   Column                    Non-Null Count  Dtype  \n",
            "---  ------                    --------------  -----  \n",
            " 0   ID                        10999 non-null  int64  \n",
            " 1   Warehouse_Block           10999 non-null  object \n",
            " 2   Mode_of_Shipment          10999 non-null  object \n",
            " 3   Customer_Care_Calls       10999 non-null  int64  \n",
            " 4   Customer_Rating(num)      10999 non-null  int64  \n",
            " 5   Cost_of_The_Product       10999 non-null  int64  \n",
            " 6   Prior_Purchases           10999 non-null  int64  \n",
            " 7   Product_Importance        10999 non-null  object \n",
            " 8   Gender                    10999 non-null  object \n",
            " 9   Discount_Offered          10999 non-null  int64  \n",
            " 10  Weight_in_gms             10999 non-null  int64  \n",
            " 11  Late_Shipment(num)        10999 non-null  int64  \n",
            " 12  Customer_Rating(cat)      10999 non-null  object \n",
            " 13  Late_Shipment(cat)        10999 non-null  object \n",
            " 14  Gender(num)               10999 non-null  int64  \n",
            " 15  Product_Importance(num)   10999 non-null  int64  \n",
            " 16  Warehouse_Block_A         10999 non-null  int64  \n",
            " 17  Warehouse_Block_B         10999 non-null  int64  \n",
            " 18  Warehouse_Block_C         10999 non-null  int64  \n",
            " 19  Warehouse_Block_D         10999 non-null  int64  \n",
            " 20  Warehouse_Block_F         10999 non-null  int64  \n",
            " 21  Mode_of_Shipment_Flight   10999 non-null  int64  \n",
            " 22  Mode_of_Shipment_Road     10999 non-null  int64  \n",
            " 23  Mode_of_Shipment_Ship     10999 non-null  int64  \n",
            " 24  log_Discount_Offered      10999 non-null  float64\n",
            " 25  log_Prior_Purchases       10999 non-null  float64\n",
            " 26  rts_Weight_in_gms         10999 non-null  float64\n",
            " 27  norm_Customer_Care_Calls  10999 non-null  float64\n",
            " 28  norm_Cost_of_The_Product  10999 non-null  float64\n",
            " 29  norm_Prior_Purchases      10999 non-null  float64\n",
            " 30  norm_Discount_Offered     10999 non-null  float64\n",
            " 31  norm_Weight_in_gms        10999 non-null  float64\n",
            " 32  std_Customer_Care_Calls   10999 non-null  float64\n",
            " 33  std_Cost_of_The_Product   10999 non-null  float64\n",
            " 34  std_Prior_Purchases       10999 non-null  float64\n",
            " 35  std_Discount_Offered      10999 non-null  float64\n",
            " 36  std_Weight_in_gms         10999 non-null  float64\n",
            "dtypes: float64(13), int64(18), object(6)\n",
            "memory usage: 3.1+ MB\n"
          ]
        }
      ],
      "source": [
        "df_zs.info()"
      ]
    },
    {
      "cell_type": "markdown",
      "metadata": {
        "id": "-sUhuz1spy7I"
      },
      "source": [
        "Variable List Classification Based on It's Types"
      ]
    },
    {
      "cell_type": "code",
      "execution_count": null,
      "metadata": {
        "id": "0O_hFz-5pndu"
      },
      "outputs": [],
      "source": [
        "#classify column/variable based on it's types\n",
        "integer = ['Customer_Care_Calls', 'Cost_of_The_Product', 'Prior_Purchases', 'Discount_Offered', 'Weight_in_gms']\n",
        "category = ['Warehouse_Block', 'Mode_of_Shipment', 'Product_Importance', 'Gender', 'Customer_Rating(cat)', 'Late_Shipment(cat)']\n",
        "normalization = ['norm_Customer_Care_Calls', 'norm_Cost_of_The_Product', 'norm_Prior_Purchases', 'norm_Discount_Offered', 'norm_Weight_in_gms']\n",
        "standardization = ['std_Customer_Care_Calls', 'std_Cost_of_The_Product', 'std_Prior_Purchases', 'std_Discount_Offered', 'std_Weight_in_gms']\n",
        "log = ['log_Discount_Offered', 'log_Prior_Purchases']\n",
        "rts = ['rts_Weight_in_gms']\n",
        "binary = ['Late_Shipment(num)', 'Gender(num)', 'Warehouse_Block_A', 'Warehouse_Block_B', 'Warehouse_Block_C', 'Warehouse_Block_D', 'Warehouse_Block_F',\n",
        "          'Mode_of_Shipment_Flight', 'Mode_of_Shipment_Road', 'Mode_of_Shipment_Ship']\n",
        "ordinal = ['Customer_Rating(num)', 'Product_Importance(num)']"
      ]
    },
    {
      "cell_type": "markdown",
      "metadata": {
        "id": "xzxxWxNkp7L4"
      },
      "source": [
        "Initialize Function to Predict and Evaluate Model in Every Algorithm"
      ]
    },
    {
      "cell_type": "code",
      "execution_count": null,
      "metadata": {
        "id": "QRp-bJUrpnPn"
      },
      "outputs": [],
      "source": [
        "#model evaluation automatization function\n",
        "from sklearn.metrics import accuracy_score, precision_score, recall_score, f1_score, roc_auc_score, average_precision_score #import evaluation matrix from sklearn\n",
        "\n",
        "def eval_classification(model, Xtrain, Ytrain, Xtest, Ytest):                 #define a model evaluation function\n",
        "    print(\"Test Data Evaluation:\")\n",
        "    Ypred = model.predict(Xtest)                                              #predict Y using testing data\n",
        "    print(\"Accuracy (Test Set): %.3f\" % accuracy_score(Ytest, Ypred))         #accuracy score\n",
        "    print(\"Precision (Test Set): %.3f\" % precision_score(Ytest, Ypred))       #precision score\n",
        "    print(\"Recall (Test Set): %.3f\" % recall_score(Ytest, Ypred))             #recall score\n",
        "    print(\"F1-Score (Test Set): %.3f\" % f1_score(Ytest, Ypred))               #f1 score\n",
        "    \n",
        "    Ypred_proba = model.predict_proba(Xtest)                                                          #predict Y (probability) using testing data \n",
        "    print(\"AUC (Test Set) : %.3f\" % roc_auc_score(Ytest, Ypred_proba[:, 1]))                          #roc auc score\n",
        "    print(\"Average Precision (Test Set) : %.3f\" % average_precision_score(Ytest, Ypred_proba[:, 1]))  #average precision score\n",
        "    print(\" \")\n",
        "    \n",
        "    print(\"Train Data Evaluation:\")\n",
        "    Ypred_train = model.predict(Xtrain)                                          #predict Y using training data\n",
        "    print(\"Accuracy (Train Set): %.3f\" % accuracy_score(Ytrain, Ypred_train))    #accuracy score\n",
        "    print(\"Precision (Train Set): %.3f\" % precision_score(Ytrain, Ypred_train))  #precision score\n",
        "    print(\"Recall (Train Set): %.3f\" % recall_score(Ytrain, Ypred_train))        #recall score\n",
        "    print(\"F1-Score (Train Set): %.3f\" % f1_score(Ytrain, Ypred_train))          #f1 score\n",
        "    \n",
        "    Ypred_train_proba = model.predict_proba(Xtrain)                                                            #predict Y (probability) using training data\n",
        "    print(\"AUC (Train Set) : %.3f\" % roc_auc_score(Ytrain, Ypred_train_proba[:, 1]))                           #roc auc score\n",
        "    print(\"Average Precision (Train Set) : %.3f\" % average_precision_score(Ytrain, Ypred_train_proba[:, 1]))"
      ]
    },
    {
      "cell_type": "code",
      "execution_count": null,
      "metadata": {
        "id": "KWHwZmd8qHM9"
      },
      "outputs": [],
      "source": [
        "def show_feature_importance(model):\n",
        "    feat_importances = pd.Series(model.feature_importances_, index=X.columns)\n",
        "    ax = feat_importances.nlargest(25).plot(kind='barh', figsize=(10, 8))\n",
        "    ax.invert_yaxis()\n",
        "\n",
        "    plt.xlabel('score')\n",
        "    plt.ylabel('feature')\n",
        "    plt.title('feature importance score')"
      ]
    },
    {
      "cell_type": "code",
      "execution_count": null,
      "metadata": {
        "id": "4t_82OrmqHHA"
      },
      "outputs": [],
      "source": [
        "#filter outliers using z-score\n",
        "from scipy import stats"
      ]
    },
    {
      "cell_type": "code",
      "execution_count": null,
      "metadata": {
        "colab": {
          "base_uri": "https://localhost:8080/"
        },
        "id": "AwJqcQkD55ah",
        "outputId": "3198f5dc-636e-4dfe-db5c-e2fea5c50cf4"
      },
      "outputs": [
        {
          "output_type": "stream",
          "name": "stdout",
          "text": [
            "Jumlah baris sebelum outlier dihilangkan: 10999\n",
            "Jumlah baris setelah memfilter outlier: 10642\n"
          ]
        }
      ],
      "source": [
        "print(f'Jumlah baris sebelum outlier dihilangkan: {len(df_zs)}')\n",
        "\n",
        "filtered_entries = np.array([True] * len(df_zs))\n",
        "\n",
        "for column in integer:\n",
        "    zscore = abs(stats.zscore(df_zs[column])) #count absolute z-score\n",
        "    filtered_entries = (zscore < 3) & filtered_entries # keep sample with absolute z-score < 3\n",
        "    \n",
        "df_outlierhandling_z = df_zs[filtered_entries] #create a new data frame with filter\n",
        "\n",
        "print(f'Jumlah baris setelah memfilter outlier: {len(df_outlierhandling_z)}')"
      ]
    },
    {
      "cell_type": "code",
      "execution_count": null,
      "metadata": {
        "colab": {
          "base_uri": "https://localhost:8080/",
          "height": 369
        },
        "id": "BIVE-ouC4zjP",
        "outputId": "16d627d9-c3bc-405f-9598-adf49a9b0e5e"
      },
      "outputs": [
        {
          "output_type": "display_data",
          "data": {
            "image/png": "[encoded data removed]",
            "text/plain": [
              "<Figure size 720x360 with 5 Axes>"
            ]
          },
          "metadata": {
            "needs_background": "light"
          }
        }
      ],
      "source": [
        "#boxplot after filter\n",
        "features = integer\n",
        "plt.figure(figsize=(10,5))\n",
        "for i in range(0, len(features)):\n",
        "  plt.subplot(1, len(features), i+1)\n",
        "  sns.boxplot(y=df_outlierhandling_z[features[i]], color='green', orient='v')\n",
        "  plt.tight_layout()"
      ]
    },
    {
      "cell_type": "markdown",
      "metadata": {
        "id": "bPTumnKzrVyM"
      },
      "source": [
        "## Split Training and Testing Data"
      ]
    },
    {
      "cell_type": "code",
      "execution_count": null,
      "metadata": {
        "id": "EZzg4PtGqxIM"
      },
      "outputs": [],
      "source": [
        "#define feature(X) and target(Y)\n",
        "X = df_outlierhandling_z.drop(columns=['ID',\n",
        "                                       'Warehouse_Block', 'Mode_of_Shipment', 'Product_Importance', 'Gender', 'Customer_Rating(cat)', 'Late_Shipment(cat)',\n",
        "                                       'norm_Customer_Care_Calls', 'norm_Cost_of_The_Product', 'norm_Prior_Purchases', 'norm_Discount_Offered', 'norm_Weight_in_gms',\n",
        "                                       'std_Customer_Care_Calls', 'std_Cost_of_The_Product', 'std_Prior_Purchases', 'std_Discount_Offered', 'std_Weight_in_gms',\n",
        "                                       'log_Discount_Offered', 'log_Prior_Purchases', 'rts_Weight_in_gms', 'Warehouse_Block_F', 'Mode_of_Shipment_Ship', \n",
        "                                       'Late_Shipment(num)'])\n",
        "Y = df_outlierhandling_z['Late_Shipment(num)'] #target/label\n",
        "\n",
        "#splitting the data into train and test\n",
        "from sklearn.model_selection import train_test_split \n",
        "X_train, X_test, Y_train, Y_test = train_test_split(X, Y, test_size = 0.3, random_state = 42)"
      ]
    },
    {
      "cell_type": "markdown",
      "metadata": {
        "id": "meYbMTrRrgUE"
      },
      "source": [
        "## Logistic Regression"
      ]
    },
    {
      "cell_type": "code",
      "execution_count": null,
      "metadata": {
        "id": "LfWSTccDqzXQ"
      },
      "outputs": [],
      "source": [
        "from sklearn.linear_model import LogisticRegression  #import logistic regression from sklearn\n",
        "logreg = LogisticRegression(random_state=42)         #initialize algorithm with specified name model\n",
        "logreg.fit(X_train, Y_train)                         #fit algorithm with train data\n",
        "Y_pred = logreg.predict(X_test)                      #predict Y using testing data"
      ]
    },
    {
      "cell_type": "code",
      "execution_count": null,
      "metadata": {
        "colab": {
          "base_uri": "https://localhost:8080/"
        },
        "id": "_PmdHSMkqzUL",
        "outputId": "9006a04d-0771-485a-be6c-93d4da32a81e"
      },
      "outputs": [
        {
          "output_type": "execute_result",
          "data": {
            "text/plain": [
              "array([[ 780,  541],\n",
              "       [ 618, 1254]])"
            ]
          },
          "metadata": {},
          "execution_count": 13
        }
      ],
      "source": [
        "#confussion matrix\n",
        "from sklearn.metrics import confusion_matrix #import package from sklearn\n",
        "confusion_matrix(Y_test, Y_pred)             #see confusion matrix"
      ]
    },
    {
      "cell_type": "code",
      "execution_count": null,
      "metadata": {
        "colab": {
          "background_save": true
        },
        "id": "kdzHd3BYqzO7",
        "outputId": "84966593-15ea-4217-cbe0-be06c5edae66"
      },
      "outputs": [
        {
          "name": "stdout",
          "output_type": "stream",
          "text": [
            "Test Data Evaluation:\n",
            "Accuracy (Test Set): 0.637\n",
            "Precision (Test Set): 0.699\n",
            "Recall (Test Set): 0.670\n",
            "F1-Score (Test Set): 0.684\n",
            "AUC (Test Set) : 0.711\n",
            "Average Precision (Test Set) : 0.824\n",
            " \n",
            "Train Data Evaluation:\n",
            "Accuracy (Train Set): 0.627\n",
            "Precision (Train Set): 0.692\n",
            "Recall (Train Set): 0.666\n",
            "F1-Score (Train Set): 0.679\n",
            "AUC (Train Set) : 0.705\n",
            "Average Precision (Train Set) : 0.824\n"
          ]
        }
      ],
      "source": [
        "#call model evaluation function\n",
        "eval_classification(logreg, X_train, Y_train, X_test, Y_test)"
      ]
    },
    {
      "cell_type": "code",
      "execution_count": null,
      "metadata": {
        "colab": {
          "background_save": true
        },
        "id": "CwNIJoq0qzLo",
        "outputId": "3982eafc-5858-47ab-f674-f5021fb7ec4c"
      },
      "outputs": [
        {
          "name": "stderr",
          "output_type": "stream",
          "text": [
            "/usr/local/lib/python3.7/dist-packages/sklearn/model_selection/_search.py:296: UserWarning: The total space of parameters 9 is smaller than n_iter=10. Running 9 iterations. For exhaustive searches, use GridSearchCV.\n",
            "  UserWarning,\n",
            "/usr/local/lib/python3.7/dist-packages/sklearn/linear_model/_logistic.py:818: ConvergenceWarning: lbfgs failed to converge (status=1):\n",
            "STOP: TOTAL NO. of ITERATIONS REACHED LIMIT.\n",
            "\n",
            "Increase the number of iterations (max_iter) or scale the data as shown in:\n",
            "    https://scikit-learn.org/stable/modules/preprocessing.html\n",
            "Please also refer to the documentation for alternative solver options:\n",
            "    https://scikit-learn.org/stable/modules/linear_model.html#logistic-regression\n",
            "  extra_warning_msg=_LOGISTIC_SOLVER_CONVERGENCE_MSG,\n"
          ]
        },
        {
          "name": "stdout",
          "output_type": "stream",
          "text": [
            "Test Data Evaluation:\n",
            "Accuracy (Test Set): 0.633\n",
            "Precision (Test Set): 0.691\n",
            "Recall (Test Set): 0.675\n",
            "F1-Score (Test Set): 0.683\n",
            "AUC (Test Set) : 0.713\n",
            "Average Precision (Test Set) : 0.825\n",
            " \n",
            "Train Data Evaluation:\n",
            "Accuracy (Train Set): 0.624\n",
            "Precision (Train Set): 0.687\n",
            "Recall (Train Set): 0.672\n",
            "F1-Score (Train Set): 0.679\n",
            "AUC (Train Set) : 0.705\n",
            "Average Precision (Train Set) : 0.823\n"
          ]
        },
        {
          "name": "stderr",
          "output_type": "stream",
          "text": [
            "/usr/local/lib/python3.7/dist-packages/sklearn/model_selection/_validation.py:372: FitFailedWarning: \n",
            "30 fits failed out of a total of 45.\n",
            "The score on these train-test partitions for these parameters will be set to nan.\n",
            "If these failures are not expected, you can try to debug them by setting error_score='raise'.\n",
            "\n",
            "Below are more details about the failures:\n",
            "--------------------------------------------------------------------------------\n",
            "15 fits failed with the following error:\n",
            "Traceback (most recent call last):\n",
            "  File \"/usr/local/lib/python3.7/dist-packages/sklearn/model_selection/_validation.py\", line 680, in _fit_and_score\n",
            "    estimator.fit(X_train, y_train, **fit_params)\n",
            "  File \"/usr/local/lib/python3.7/dist-packages/sklearn/linear_model/_logistic.py\", line 1461, in fit\n",
            "    solver = _check_solver(self.solver, self.penalty, self.dual)\n",
            "  File \"/usr/local/lib/python3.7/dist-packages/sklearn/linear_model/_logistic.py\", line 449, in _check_solver\n",
            "    % (solver, penalty)\n",
            "ValueError: Solver lbfgs supports only 'l2' or 'none' penalties, got l1 penalty.\n",
            "\n",
            "--------------------------------------------------------------------------------\n",
            "15 fits failed with the following error:\n",
            "Traceback (most recent call last):\n",
            "  File \"/usr/local/lib/python3.7/dist-packages/sklearn/model_selection/_validation.py\", line 680, in _fit_and_score\n",
            "    estimator.fit(X_train, y_train, **fit_params)\n",
            "  File \"/usr/local/lib/python3.7/dist-packages/sklearn/linear_model/_logistic.py\", line 1461, in fit\n",
            "    solver = _check_solver(self.solver, self.penalty, self.dual)\n",
            "  File \"/usr/local/lib/python3.7/dist-packages/sklearn/linear_model/_logistic.py\", line 449, in _check_solver\n",
            "    % (solver, penalty)\n",
            "ValueError: Solver lbfgs supports only 'l2' or 'none' penalties, got elasticnet penalty.\n",
            "\n",
            "  warnings.warn(some_fits_failed_message, FitFailedWarning)\n",
            "/usr/local/lib/python3.7/dist-packages/sklearn/model_selection/_search.py:972: UserWarning: One or more of the test scores are non-finite: [0.70384761        nan        nan 0.70368733        nan        nan\n",
            " 0.70340146        nan        nan]\n",
            "  category=UserWarning,\n"
          ]
        }
      ],
      "source": [
        "#hyperparameter tuning (using random search)\n",
        "\n",
        "from sklearn.model_selection import RandomizedSearchCV\n",
        "\n",
        "#tested hyperparameters list\n",
        "penalty = ['l2','l1', 'elasticnet']\n",
        "C = [0.0001, 0.001, 0.002] #inverse of regularization strength; smaller values specify stronger regularization.\n",
        "hyperparameters = dict(penalty=penalty, C=C)\n",
        "\n",
        "#initiate model\n",
        "lr = LogisticRegression(random_state=42) #init Logres dengan Gridsearch, cross validation = 5\n",
        "rs = RandomizedSearchCV(lr, hyperparameters, cv=5, random_state=42, scoring='roc_auc')\n",
        "\n",
        "#fit model & evaluation\n",
        "rs.fit(X_train, Y_train)\n",
        "Y_pred = rs.predict(X_test)\n",
        "\n",
        "eval_classification(rs, X_train, Y_train, X_test, Y_test)"
      ]
    },
    {
      "cell_type": "code",
      "execution_count": null,
      "metadata": {
        "colab": {
          "background_save": true
        },
        "id": "wcY9F-TTqzFv",
        "outputId": "56c68788-e9e2-47a2-b01c-3763a02186bd"
      },
      "outputs": [
        {
          "name": "stdout",
          "output_type": "stream",
          "text": [
            "Best penalty: l2\n",
            "Best C: 0.0001\n"
          ]
        }
      ],
      "source": [
        "#best hyperparameter? (using random search)\n",
        "print('Best penalty:', rs.best_estimator_.get_params()['penalty'])\n",
        "print('Best C:', rs.best_estimator_.get_params()['C'])"
      ]
    },
    {
      "cell_type": "code",
      "execution_count": null,
      "metadata": {
        "colab": {
          "background_save": true
        },
        "id": "tCKl6bwnqzC0",
        "outputId": "f9b5fc17-11b1-4fc7-eb39-de56a3d1fd40"
      },
      "outputs": [
        {
          "name": "stdout",
          "output_type": "stream",
          "text": [
            "Train score: 0.7047083306285111\n",
            "Test score:0.7130787508815518\n"
          ]
        }
      ],
      "source": [
        "print('Train score: ' + str(rs.score(X_train, Y_train)))\n",
        "print('Test score:' + str(rs.score(X_test, Y_test)))"
      ]
    },
    {
      "cell_type": "markdown",
      "metadata": {
        "id": "D7ajuwQSsAR1"
      },
      "source": [
        "## k-Nearest Neighbor (kNN)"
      ]
    },
    {
      "cell_type": "code",
      "execution_count": null,
      "metadata": {
        "colab": {
          "background_save": true
        },
        "id": "Z5vCoilVqy_o"
      },
      "outputs": [],
      "source": [
        "from sklearn.neighbors import KNeighborsClassifier  #import knn from sklearn\n",
        "knn = KNeighborsClassifier()                        #initialize algorithm with specified name model\n",
        "knn.fit(X_train, Y_train)                           #fit algorithm with train data\n",
        "Y_pred = knn.predict(X_test)                        #predict Y using testing data "
      ]
    },
    {
      "cell_type": "code",
      "execution_count": null,
      "metadata": {
        "colab": {
          "background_save": true
        },
        "id": "JSTV1aP3qy71",
        "outputId": "7f012369-a23a-4949-8803-63977728b92b"
      },
      "outputs": [
        {
          "data": {
            "text/plain": [
              "array([[ 801,  520],\n",
              "       [ 608, 1264]])"
            ]
          },
          "execution_count": null,
          "metadata": {},
          "output_type": "execute_result"
        }
      ],
      "source": [
        "#confussion matrix\n",
        "from sklearn.metrics import confusion_matrix #import package from sklearn\n",
        "confusion_matrix(Y_test, Y_pred)             #see confusion matrix"
      ]
    },
    {
      "cell_type": "code",
      "execution_count": null,
      "metadata": {
        "colab": {
          "background_save": true
        },
        "id": "EIfd-gxzqy4m",
        "outputId": "d859121d-275d-4b53-e99f-585dcd80478d"
      },
      "outputs": [
        {
          "name": "stdout",
          "output_type": "stream",
          "text": [
            "Test Data Evaluation:\n",
            "Accuracy (Test Set): 0.647\n",
            "Precision (Test Set): 0.709\n",
            "Recall (Test Set): 0.675\n",
            "F1-Score (Test Set): 0.691\n",
            "AUC (Test Set) : 0.726\n",
            "Average Precision (Test Set) : 0.806\n",
            " \n",
            "Train Data Evaluation:\n",
            "Accuracy (Train Set): 0.769\n",
            "Precision (Train Set): 0.824\n",
            "Recall (Train Set): 0.776\n",
            "F1-Score (Train Set): 0.799\n",
            "AUC (Train Set) : 0.859\n",
            "Average Precision (Train Set) : 0.888\n"
          ]
        }
      ],
      "source": [
        "#call model evaluation function\n",
        "eval_classification(knn, X_train, Y_train, X_test, Y_test)"
      ]
    },
    {
      "cell_type": "code",
      "execution_count": null,
      "metadata": {
        "colab": {
          "background_save": true
        },
        "id": "v4nZw1ULqyzP",
        "outputId": "416b6bcc-ba00-4331-be43-5c2f22643d71"
      },
      "outputs": [
        {
          "name": "stdout",
          "output_type": "stream",
          "text": [
            "Test Data Evaluation:\n",
            "Accuracy (Test Set): 0.659\n",
            "Precision (Test Set): 0.787\n",
            "Recall (Test Set): 0.574\n",
            "F1-Score (Test Set): 0.664\n",
            "AUC (Test Set) : 0.724\n",
            "Average Precision (Test Set) : 0.831\n",
            " \n",
            "Train Data Evaluation:\n",
            "Accuracy (Train Set): 0.691\n",
            "Precision (Train Set): 0.839\n",
            "Recall (Train Set): 0.591\n",
            "F1-Score (Train Set): 0.693\n",
            "AUC (Train Set) : 0.776\n",
            "Average Precision (Train Set) : 0.859\n"
          ]
        }
      ],
      "source": [
        "#hyperparameter tuning (using random search)\n",
        "\n",
        "#list of hyperparameter\n",
        "n_neighbors = list(range(1,51))\n",
        "p=[1,2,3]\n",
        "algorithm = ['auto', 'ball_tree', 'kd_tree', 'brute']\n",
        "weights = ['uniform', 'distance']\n",
        "hyperparameters = dict(n_neighbors=n_neighbors, p=p, algorithm=algorithm, weights=weights)\n",
        "\n",
        "#init model\n",
        "kn = KNeighborsClassifier()\n",
        "rs = RandomizedSearchCV(kn, hyperparameters, cv=5, random_state=42, scoring='roc_auc')\n",
        "\n",
        "#fit model & evaluation\n",
        "rs.fit(X_train, Y_train)\n",
        "Y_pred = rs.predict(X_test)\n",
        "eval_classification(rs, X_train, Y_train, X_test, Y_test)"
      ]
    },
    {
      "cell_type": "code",
      "execution_count": null,
      "metadata": {
        "colab": {
          "background_save": true
        },
        "id": "clZZX26csW1u",
        "outputId": "bf2895c8-dc76-42f7-a1cb-134eadf5e4ec"
      },
      "outputs": [
        {
          "name": "stdout",
          "output_type": "stream",
          "text": [
            "Best n_neighbors: 44\n",
            "Best p: 2\n",
            "Best algorithm: kd_tree\n",
            "weights: uniform\n"
          ]
        }
      ],
      "source": [
        "#best hyperparameter? (using random search)\n",
        "print('Best n_neighbors:', rs.best_estimator_.get_params()['n_neighbors'])\n",
        "print('Best p:', rs.best_estimator_.get_params()['p'])\n",
        "print('Best algorithm:', rs.best_estimator_.get_params()['algorithm'])\n",
        "print('weights:', rs.best_estimator_.get_params()['weights'])"
      ]
    },
    {
      "cell_type": "code",
      "execution_count": null,
      "metadata": {
        "colab": {
          "background_save": true
        },
        "id": "AVoRh9eJsbfx",
        "outputId": "63d02c57-07fc-41c5-a273-c7da239c0384"
      },
      "outputs": [
        {
          "name": "stdout",
          "output_type": "stream",
          "text": [
            "Train score: 0.7763305673261955\n",
            "Test score:0.7236682906629917\n"
          ]
        }
      ],
      "source": [
        "print('Train score: ' + str(rs.score(X_train, Y_train)))\n",
        "print('Test score:' + str(rs.score(X_test, Y_test)))"
      ]
    },
    {
      "cell_type": "markdown",
      "metadata": {
        "id": "_Knv8Qaose4v"
      },
      "source": [
        "## Decision Tree"
      ]
    },
    {
      "cell_type": "code",
      "execution_count": null,
      "metadata": {
        "colab": {
          "background_save": true
        },
        "id": "6hlUUAQ8sbaQ"
      },
      "outputs": [],
      "source": [
        "from sklearn.tree import DecisionTreeClassifier       #import decision tree from sklearn\n",
        "dectree = DecisionTreeClassifier(random_state=42)     #initialize algorithm with specified name model\n",
        "dectree.fit(X_train, Y_train)                         #fit algorithm with train data\n",
        "Y_pred = dectree.predict(X_test)                      #predict Y using testing data"
      ]
    },
    {
      "cell_type": "code",
      "execution_count": null,
      "metadata": {
        "colab": {
          "background_save": true
        },
        "id": "MSLcUGqesbXn",
        "outputId": "da35889f-af3d-4157-cab0-7a0f74f5d415"
      },
      "outputs": [
        {
          "data": {
            "text/plain": [
              "array([[ 735,  586],\n",
              "       [ 557, 1315]])"
            ]
          },
          "execution_count": null,
          "metadata": {},
          "output_type": "execute_result"
        }
      ],
      "source": [
        "#confussion matrix\n",
        "from sklearn.metrics import confusion_matrix #import package from sklearn\n",
        "confusion_matrix(Y_test, Y_pred)             #see confusion matrix"
      ]
    },
    {
      "cell_type": "code",
      "execution_count": null,
      "metadata": {
        "colab": {
          "background_save": true
        },
        "id": "MG-KyMG2sbR1",
        "outputId": "e8cb4419-49f0-4114-f42e-729bea9161d1"
      },
      "outputs": [
        {
          "name": "stdout",
          "output_type": "stream",
          "text": [
            "Test Data Evaluation:\n",
            "Accuracy (Test Set): 0.642\n",
            "Precision (Test Set): 0.692\n",
            "Recall (Test Set): 0.702\n",
            "F1-Score (Test Set): 0.697\n",
            "AUC (Test Set) : 0.629\n",
            "Average Precision (Test Set) : 0.660\n",
            " \n",
            "Train Data Evaluation:\n",
            "Accuracy (Train Set): 1.000\n",
            "Precision (Train Set): 1.000\n",
            "Recall (Train Set): 1.000\n",
            "F1-Score (Train Set): 1.000\n",
            "AUC (Train Set) : 1.000\n",
            "Average Precision (Train Set) : 1.000\n"
          ]
        }
      ],
      "source": [
        "#call model evaluation function\n",
        "eval_classification(dectree, X_train, Y_train, X_test, Y_test)"
      ]
    },
    {
      "cell_type": "code",
      "execution_count": null,
      "metadata": {
        "colab": {
          "background_save": true
        },
        "id": "qcCcS-9_sbOe",
        "outputId": "cbfe6521-e1a2-4211-fbd9-b2f89b7b8fe7"
      },
      "outputs": [
        {
          "name": "stdout",
          "output_type": "stream",
          "text": [
            "Test Data Evaluation:\n",
            "Accuracy (Test Set): 0.630\n",
            "Precision (Test Set): 0.706\n",
            "Recall (Test Set): 0.634\n",
            "F1-Score (Test Set): 0.668\n",
            "AUC (Test Set) : 0.699\n",
            "Average Precision (Test Set) : 0.813\n",
            " \n",
            "Train Data Evaluation:\n",
            "Accuracy (Train Set): 0.674\n",
            "Precision (Train Set): 0.756\n",
            "Recall (Train Set): 0.664\n",
            "F1-Score (Train Set): 0.707\n",
            "AUC (Train Set) : 0.755\n",
            "Average Precision (Train Set) : 0.845\n"
          ]
        }
      ],
      "source": [
        "#hyperparameter tuning (using random search)\n",
        "from sklearn.model_selection import RandomizedSearchCV\n",
        "\n",
        "#list of hyperparameter\n",
        "max_depth = [int(x) for x in np.linspace(1, 110, num = 30)] #maximum number of levels in tree\n",
        "min_samples_split = [2, 5, 10, 100, 200] #minimum number of samples required to split a node\n",
        "min_samples_leaf = [1, 2, 4, 10, 20, 50, 100] #minimum number of samples required at each leaf node\n",
        "max_features = ['auto', 'sqrt', 'log2'] #number of features to consider at every split\n",
        "criterion = ['gini', 'entropy'] #the function to measure the quality of a split\n",
        "splitter = ['best', 'random'] #the strategy used to choose the split at each node\n",
        "\n",
        "hyperparameters = dict(max_depth=max_depth, \n",
        "                       min_samples_split=min_samples_split, \n",
        "                       min_samples_leaf=min_samples_leaf,\n",
        "                       max_features=max_features,\n",
        "                       criterion=criterion,\n",
        "                       splitter=splitter\n",
        "                      )\n",
        "\n",
        "#initiate model\n",
        "dt = DecisionTreeClassifier(random_state=42)\n",
        "rs = RandomizedSearchCV(dt, hyperparameters, cv=5, random_state=42, scoring='roc_auc')\n",
        "rs.fit(X_train, Y_train) #fit model\n",
        "\n",
        "#predict & evaluation\n",
        "Y_pred = rs.predict(X_test)\n",
        "eval_classification(rs, X_train, Y_train, X_test, Y_test)"
      ]
    },
    {
      "cell_type": "code",
      "execution_count": null,
      "metadata": {
        "colab": {
          "background_save": true
        },
        "id": "qg5eUtUosbKw",
        "outputId": "3a1ea51a-6912-4f24-aadd-1f141931b378"
      },
      "outputs": [
        {
          "name": "stdout",
          "output_type": "stream",
          "text": [
            "Best max_depth: 16\n",
            "Best min_samples_split: 2\n",
            "Best min_samples_leaf: 100\n",
            "Best max_features: sqrt\n",
            "Best criterion: entropy\n",
            "Best splitter: best\n"
          ]
        }
      ],
      "source": [
        "#best hyperparameter? (using random search)\n",
        "print('Best max_depth:', rs.best_estimator_.get_params()['max_depth'])\n",
        "print('Best min_samples_split:', rs.best_estimator_.get_params()['min_samples_split'])\n",
        "print('Best min_samples_leaf:', rs.best_estimator_.get_params()['min_samples_leaf'])\n",
        "print('Best max_features:', rs.best_estimator_.get_params()['max_features'])\n",
        "print('Best criterion:', rs.best_estimator_.get_params()['criterion'])\n",
        "print('Best splitter:', rs.best_estimator_.get_params()['splitter'])"
      ]
    },
    {
      "cell_type": "code",
      "execution_count": null,
      "metadata": {
        "colab": {
          "background_save": true
        },
        "id": "m0AUqYrUs4Sx",
        "outputId": "392fca03-e8dc-4e9b-b242-abd18c6a95de"
      },
      "outputs": [
        {
          "name": "stdout",
          "output_type": "stream",
          "text": [
            "Train score: 0.7545920046202094\n",
            "Test score:0.6989951522739183\n"
          ]
        }
      ],
      "source": [
        "print('Train score: ' + str(rs.score(X_train, Y_train)))\n",
        "print('Test score:' + str(rs.score(X_test, Y_test)))"
      ]
    },
    {
      "cell_type": "markdown",
      "metadata": {
        "id": "Tdxk3X6ztANL"
      },
      "source": [
        "## Random Forest"
      ]
    },
    {
      "cell_type": "code",
      "execution_count": null,
      "metadata": {
        "colab": {
          "background_save": true
        },
        "id": "pSu7XEXrs4NF"
      },
      "outputs": [],
      "source": [
        "from sklearn.ensemble import RandomForestClassifier    #import random forrest from sklearn\n",
        "ranfor = RandomForestClassifier(random_state=42)       #initialize algorithm with specified name model\n",
        "ranfor.fit(X_train, Y_train)                           #fit algorithm with train data\n",
        "\n",
        "Y_pred = ranfor.predict(X_test)                        #predict Y using testing data "
      ]
    },
    {
      "cell_type": "code",
      "execution_count": null,
      "metadata": {
        "colab": {
          "background_save": true
        },
        "id": "3cHPrRj9s4Ks",
        "outputId": "9bdda316-f371-44c5-a46a-85946df00b97"
      },
      "outputs": [
        {
          "name": "stdout",
          "output_type": "stream",
          "text": [
            "Test Data Evaluation:\n",
            "Accuracy (Test Set): 0.654\n",
            "Precision (Test Set): 0.741\n",
            "Recall (Test Set): 0.628\n",
            "F1-Score (Test Set): 0.680\n",
            "AUC (Test Set) : 0.725\n",
            "Average Precision (Test Set) : 0.837\n",
            " \n",
            "Train Data Evaluation:\n",
            "Accuracy (Train Set): 1.000\n",
            "Precision (Train Set): 1.000\n",
            "Recall (Train Set): 1.000\n",
            "F1-Score (Train Set): 1.000\n",
            "AUC (Train Set) : 1.000\n",
            "Average Precision (Train Set) : 1.000\n"
          ]
        }
      ],
      "source": [
        "eval_classification(ranfor, X_train, Y_train, X_test, Y_test)"
      ]
    },
    {
      "cell_type": "code",
      "execution_count": null,
      "metadata": {
        "colab": {
          "background_save": true
        },
        "id": "dxL2TSNls4Hu",
        "outputId": "4c0cbdee-32db-48a1-bac7-5e87db90e18b"
      },
      "outputs": [
        {
          "data": {
            "image/png": "[encoded data removed]",
            "text/plain": [
              "<Figure size 720x576 with 1 Axes>"
            ]
          },
          "metadata": {},
          "output_type": "display_data"
        }
      ],
      "source": [
        "show_feature_importance(ranfor)"
      ]
    },
    {
      "cell_type": "code",
      "execution_count": null,
      "metadata": {
        "id": "d-mXBpBHtLAn"
      },
      "outputs": [],
      "source": [
        "\n",
        "#List Hyperparameters\n",
        "hyperparameters = dict(\n",
        "                       n_estimators = [int(x) for x in np.linspace(start = 100, stop = 2000, num = 20)], #total subtree \n",
        "                       bootstrap = [True], #use bootstrapping or no\n",
        "                       criterion = ['gini','entropy'],\n",
        "                       max_depth = [int(x) for x in np.linspace(10, 110, num = 11)],  #maximum depth of the tree\n",
        "                       min_samples_split = [int(x) for x in np.linspace(start = 2, stop = 10, num = 5)], #total node minimum samples required for new leaf splitting\n",
        "                       min_samples_leaf = [int(x) for x in np.linspace(start = 1, stop = 10, num = 5)], #total leaf minimum samples to form a new leaf\n",
        "                       max_features = ['auto', 'sqrt', 'log2'], #the number of features to consider when looking for the best split\n",
        "                       n_jobs = [-1], #the number of jobs to run in parallel computation. -1 means using all processors\n",
        "                      )\n",
        "\n",
        "# Init\n",
        "rf = RandomForestClassifier(random_state=42)\n",
        "rs = RandomizedSearchCV(rf, hyperparameters, cv=5, random_state=42, scoring='roc_auc')\n",
        "rs.fit(X_train,Y_train)\n",
        "\n",
        "#predict & evaluation\n",
        "Y_pred = rs.predict(X_test)\n",
        "eval_classification(rs, X_train, Y_train, X_test, Y_test)"
      ]
    },
    {
      "cell_type": "code",
      "execution_count": null,
      "metadata": {
        "id": "sHbHLiGktK8Y"
      },
      "outputs": [],
      "source": [
        "#best hyperparameter? (using random search)\n",
        "print('n_estimators:', rs.best_estimator_.get_params()['n_estimators'])\n",
        "print('bootstrap:', rs.best_estimator_.get_params()['bootstrap'])\n",
        "print('criterion:', rs.best_estimator_.get_params()['criterion'])\n",
        "print('max_depth:', rs.best_estimator_.get_params()['max_depth'])\n",
        "print('min_samples_split:', rs.best_estimator_.get_params()['min_samples_split'])\n",
        "print('min_samples_leaf:', rs.best_estimator_.get_params()['min_samples_leaf'])\n",
        "print('max_features:', rs.best_estimator_.get_params()['max_features'])\n",
        "print('n_jobs:', rs.best_estimator_.get_params()['n_jobs'])"
      ]
    },
    {
      "cell_type": "code",
      "execution_count": null,
      "metadata": {
        "id": "CrY_NH3Is4Ed"
      },
      "outputs": [],
      "source": [
        "show_feature_importance(rs.best_estimator_)"
      ]
    },
    {
      "cell_type": "markdown",
      "metadata": {
        "id": "GNshSPvCtXy3"
      },
      "source": [
        "## AdaBoost"
      ]
    },
    {
      "cell_type": "code",
      "execution_count": null,
      "metadata": {
        "id": "mEbd8xULtVoC"
      },
      "outputs": [],
      "source": [
        "ab = AdaBoostClassifier(random_state=42)\n",
        "ab.fit(X_train,Y_train)\n",
        "\n",
        "Y_pred = ab.predict(X_test)"
      ]
    },
    {
      "cell_type": "code",
      "execution_count": null,
      "metadata": {
        "id": "qLAYrx9ItVhM",
        "colab": {
          "base_uri": "https://localhost:8080/"
        },
        "outputId": "94c272bf-0b25-4b62-fa89-407280088e10"
      },
      "outputs": [
        {
          "output_type": "stream",
          "name": "stdout",
          "text": [
            "Test Data Evaluation:\n",
            "Accuracy (Test Set): 0.663\n",
            "Precision (Test Set): 0.782\n",
            "Recall (Test Set): 0.589\n",
            "F1-Score (Test Set): 0.672\n",
            "AUC (Test Set) : 0.739\n",
            "Average Precision (Test Set) : 0.843\n",
            " \n",
            "Train Data Evaluation:\n",
            "Accuracy (Train Set): 0.680\n",
            "Precision (Train Set): 0.804\n",
            "Recall (Train Set): 0.608\n",
            "F1-Score (Train Set): 0.692\n",
            "AUC (Train Set) : 0.757\n",
            "Average Precision (Train Set) : 0.856\n"
          ]
        }
      ],
      "source": [
        "eval_classification(ab, X_train, Y_train, X_test, Y_test)"
      ]
    },
    {
      "cell_type": "code",
      "execution_count": null,
      "metadata": {
        "id": "PlKkPlJvtVeI",
        "colab": {
          "base_uri": "https://localhost:8080/",
          "height": 513
        },
        "outputId": "614e517b-98e0-4ff0-aea9-cb21b1c910e0"
      },
      "outputs": [
        {
          "output_type": "display_data",
          "data": {
            "image/png": "[encoded data removed]",
            "text/plain": [
              "<Figure size 720x576 with 1 Axes>"
            ]
          },
          "metadata": {
            "needs_background": "light"
          }
        }
      ],
      "source": [
        "show_feature_importance(ab)"
      ]
    },
    {
      "cell_type": "code",
      "execution_count": null,
      "metadata": {
        "id": "wVs5-ZHUtVas"
      },
      "outputs": [],
      "source": [
        "# List of hyperparameter\n",
        "hyperparameters = dict(n_estimators = [int(x) for x in np.linspace(start = 100, stop = 2000, num = 20)], # Jumlah iterasi\n",
        "                       learning_rate = [float(x) for x in np.linspace(start = 0.001, stop = 0.1, num = 20)],  \n",
        "                       algorithm = ['SAMME', 'SAMME.R']\n",
        "                      )\n",
        "\n",
        "# Init model\n",
        "adb = AdaBoostClassifier(random_state=42)\n",
        "rs = RandomizedSearchCV(adb, hyperparameters, random_state=42, cv=5, scoring='roc_auc')\n",
        "rs.fit(X_train, Y_train)\n",
        "\n",
        "# Predict & Evaluation\n",
        "Y_pred = rs.predict(X_test)#Check performa dari model\n",
        "eval_classification(rs, X_train, Y_train, X_test, Y_test)"
      ]
    },
    {
      "cell_type": "code",
      "execution_count": null,
      "metadata": {
        "id": "o0RMNtEAs4BH",
        "colab": {
          "base_uri": "https://localhost:8080/"
        },
        "outputId": "5803f78f-c998-463d-9b97-9ba7401355e4"
      },
      "outputs": [
        {
          "output_type": "stream",
          "name": "stdout",
          "text": [
            "n_estimators: 1700\n",
            "learning_rate: 0.011421052631578946\n",
            "algorithm: SAMME.R\n"
          ]
        }
      ],
      "source": [
        "#best hyperparameter? (using random search)\n",
        "print('n_estimators:', rs.best_estimator_.get_params()['n_estimators'])\n",
        "print('learning_rate:', rs.best_estimator_.get_params()['learning_rate'])\n",
        "print('algorithm:', rs.best_estimator_.get_params()['algorithm'])"
      ]
    },
    {
      "cell_type": "code",
      "execution_count": null,
      "metadata": {
        "id": "R5APlgrVtoe1",
        "colab": {
          "base_uri": "https://localhost:8080/",
          "height": 512
        },
        "outputId": "92ed453b-9a45-4751-9ce1-9cf09f7178bf"
      },
      "outputs": [
        {
          "output_type": "display_data",
          "data": {
            "image/png": "[encoded data removed]",
            "text/plain": [
              "<Figure size 720x576 with 1 Axes>"
            ]
          },
          "metadata": {
            "needs_background": "light"
          }
        }
      ],
      "source": [
        "show_feature_importance(rs.best_estimator_)"
      ]
    },
    {
      "cell_type": "markdown",
      "metadata": {
        "id": "zNxdmJkWtvjd"
      },
      "source": [
        "## XGBoost"
      ]
    },
    {
      "cell_type": "code",
      "execution_count": null,
      "metadata": {
        "id": "ONkFMSqbtobT"
      },
      "outputs": [],
      "source": [
        "from xgboost import XGBClassifier\n",
        "xg = XGBClassifier(random_state=42)\n",
        "xg.fit(X_train, Y_train)\n",
        "\n",
        "Y_pred = xg.predict(X_test)"
      ]
    },
    {
      "cell_type": "code",
      "execution_count": null,
      "metadata": {
        "id": "qkGd7msgtoVT",
        "colab": {
          "base_uri": "https://localhost:8080/"
        },
        "outputId": "9ea95155-3773-4cc8-8221-5c5a88c8cbd6"
      },
      "outputs": [
        {
          "output_type": "stream",
          "name": "stdout",
          "text": [
            "Test Data Evaluation:\n",
            "Accuracy (Test Set): 0.669\n",
            "Precision (Test Set): 0.847\n",
            "Recall (Test Set): 0.530\n",
            "F1-Score (Test Set): 0.652\n",
            "AUC (Test Set) : 0.732\n",
            "Average Precision (Test Set) : 0.842\n",
            " \n",
            "Train Data Evaluation:\n",
            "Accuracy (Train Set): 0.706\n",
            "Precision (Train Set): 0.910\n",
            "Recall (Train Set): 0.559\n",
            "F1-Score (Train Set): 0.693\n",
            "AUC (Train Set) : 0.797\n",
            "Average Precision (Train Set) : 0.880\n"
          ]
        }
      ],
      "source": [
        "eval_classification(xg, X_train, Y_train, X_test, Y_test)"
      ]
    },
    {
      "cell_type": "code",
      "execution_count": null,
      "metadata": {
        "id": "uAC7aAS3t2Bz",
        "colab": {
          "base_uri": "https://localhost:8080/",
          "height": 512
        },
        "outputId": "6769c11f-a5a8-4a46-8c05-b0b169a64b52"
      },
      "outputs": [
        {
          "output_type": "display_data",
          "data": {
            "image/png": "[encoded data removed]",
            "text/plain": [
              "<Figure size 720x576 with 1 Axes>"
            ]
          },
          "metadata": {
            "needs_background": "light"
          }
        }
      ],
      "source": [
        "show_feature_importance(xg)"
      ]
    },
    {
      "cell_type": "code",
      "execution_count": null,
      "metadata": {
        "id": "CKkuJAO4t1_S",
        "colab": {
          "base_uri": "https://localhost:8080/"
        },
        "outputId": "0419b9f8-0297-4a69-a381-0fd63cdd7cd3"
      },
      "outputs": [
        {
          "output_type": "stream",
          "name": "stdout",
          "text": [
            "Test Data Evaluation:\n",
            "Accuracy (Test Set): 0.665\n",
            "Precision (Test Set): 0.761\n",
            "Recall (Test Set): 0.624\n",
            "F1-Score (Test Set): 0.686\n",
            "AUC (Test Set) : 0.732\n",
            "Average Precision (Test Set) : 0.844\n",
            " \n",
            "Train Data Evaluation:\n",
            "Accuracy (Train Set): 0.780\n",
            "Precision (Train Set): 0.879\n",
            "Recall (Train Set): 0.728\n",
            "F1-Score (Train Set): 0.796\n",
            "AUC (Train Set) : 0.880\n",
            "Average Precision (Train Set) : 0.924\n"
          ]
        }
      ],
      "source": [
        "#Menjadikan ke dalam bentuk dictionary\n",
        "hyperparameters = {\n",
        "                    'max_depth' : [int(x) for x in np.linspace(10, 110, num = 11)],\n",
        "                    'min_child_weight' : [int(x) for x in np.linspace(1, 20, num = 11)],\n",
        "                    'gamma' : [float(x) for x in np.linspace(0, 1, num = 11)],\n",
        "                    'tree_method' : ['auto', 'exact', 'approx', 'hist'],\n",
        "\n",
        "                    'colsample_bytree' : [float(x) for x in np.linspace(0, 1, num = 11)],\n",
        "                    'eta' : [float(x) for x in np.linspace(0, 1, num = 100)],\n",
        "\n",
        "                    'lambda' : [float(x) for x in np.linspace(0, 1, num = 11)],\n",
        "                    'alpha' : [float(x) for x in np.linspace(0, 1, num = 11)]\n",
        "                    }\n",
        "\n",
        "# Init\n",
        "xgb = XGBClassifier(random_state=42)\n",
        "rs = RandomizedSearchCV(xgb, hyperparameters, cv=5, random_state=42, scoring='roc_auc')\n",
        "rs.fit(X_train, Y_train)\n",
        "\n",
        "# Predict & Evaluation\n",
        "Y_pred = rs.predict(X_test)#Check performa dari model\n",
        "eval_classification(rs, X_train, Y_train, X_test, Y_test)"
      ]
    },
    {
      "cell_type": "code",
      "execution_count": null,
      "metadata": {
        "id": "17Y2h49rtoR-",
        "colab": {
          "base_uri": "https://localhost:8080/"
        },
        "outputId": "4f94cf3a-c47d-47eb-86bd-40178272f78d"
      },
      "outputs": [
        {
          "output_type": "stream",
          "name": "stdout",
          "text": [
            "max_depth: 50\n",
            "min_child_weight: 18\n",
            "gamma: 0.5\n",
            "tree_method: approx\n",
            "colsample_bytree: 0.30000000000000004\n",
            "eta: 0.33333333333333337\n",
            "lambda: 0.8\n",
            "alpha: 0.8\n"
          ]
        }
      ],
      "source": [
        "#best hyperparameter? (using random search)\n",
        "print('max_depth:', rs.best_estimator_.get_params()['max_depth'])\n",
        "print('min_child_weight:', rs.best_estimator_.get_params()['min_child_weight'])\n",
        "print('gamma:', rs.best_estimator_.get_params()['gamma'])\n",
        "print('tree_method:', rs.best_estimator_.get_params()['tree_method'])\n",
        "print('colsample_bytree:', rs.best_estimator_.get_params()['colsample_bytree'])\n",
        "print('eta:', rs.best_estimator_.get_params()['eta'])\n",
        "print('lambda:', rs.best_estimator_.get_params()['lambda'])\n",
        "print('alpha:', rs.best_estimator_.get_params()['alpha'])"
      ]
    },
    {
      "cell_type": "code",
      "execution_count": null,
      "metadata": {
        "id": "DzVeIDlquAGS",
        "colab": {
          "base_uri": "https://localhost:8080/",
          "height": 512
        },
        "outputId": "b2e6a124-aeaf-49da-f6d7-1af17ad55352"
      },
      "outputs": [
        {
          "output_type": "display_data",
          "data": {
            "image/png": "[encoded data removed]",
            "text/plain": [
              "<Figure size 720x576 with 1 Axes>"
            ]
          },
          "metadata": {
            "needs_background": "light"
          }
        }
      ],
      "source": [
        "show_feature_importance(rs.best_estimator_)"
      ]
    },
    {
      "cell_type": "markdown",
      "source": [
        "# Iterasi Feature Importance dengan Adaboost"
      ],
      "metadata": {
        "id": "-ZY1QviDTlPq"
      }
    },
    {
      "cell_type": "markdown",
      "source": [
        "## Model 1"
      ],
      "metadata": {
        "id": "W9THQdkGTvLd"
      }
    },
    {
      "cell_type": "code",
      "source": [
        "# Splitting Features & Target\n",
        "X1 = dfori[['Cost_of_the_Product', 'Prior_purchases', 'Discount_offered', 'Weight_in_gms']] # Features\n",
        "Y1 = dfori['Reached.on.Time_Y.N'] # Target\n",
        "\n",
        "#splitting the data into train and test\n",
        "from sklearn.model_selection import train_test_split \n",
        "X_train1, X_test1, Y_train1, Y_test1 = train_test_split(X1, Y1, test_size = 0.3, random_state = 42)"
      ],
      "metadata": {
        "id": "GKxFWz0aUx0Y"
      },
      "execution_count": null,
      "outputs": []
    },
    {
      "cell_type": "code",
      "source": [
        "ab = AdaBoostClassifier(random_state=42)\n",
        "ab.fit(X_train1, Y_train1)\n",
        "\n",
        "Y_pred = ab.predict(X_test1)\n",
        "eval_classification(ab, X_train1, Y_train1, X_test1, Y_test1)"
      ],
      "metadata": {
        "colab": {
          "base_uri": "https://localhost:8080/"
        },
        "id": "HcKsKI5zUz7M",
        "outputId": "6839f8fc-a7d8-49d7-dce0-c0e8752b2009"
      },
      "execution_count": null,
      "outputs": [
        {
          "output_type": "stream",
          "name": "stdout",
          "text": [
            "Test Data Evaluation:\n",
            "Accuracy (Test Set): 0.644\n",
            "Precision (Test Set): 0.695\n",
            "Recall (Test Set): 0.728\n",
            "F1-Score (Test Set): 0.711\n",
            "AUC (Test Set) : 0.739\n",
            "Average Precision (Test Set) : 0.850\n",
            " \n",
            "Train Data Evaluation:\n",
            "Accuracy (Train Set): 0.650\n",
            "Precision (Train Set): 0.693\n",
            "Recall (Train Set): 0.737\n",
            "F1-Score (Train Set): 0.715\n",
            "AUC (Train Set) : 0.751\n",
            "Average Precision (Train Set) : 0.852\n"
          ]
        }
      ]
    },
    {
      "cell_type": "code",
      "source": [
        "# List of hyperparameter\n",
        "hyperparameters = dict(n_estimators = [int(x) for x in np.linspace(start = 100, stop = 2000, num = 20)], # Jumlah iterasi\n",
        "                       learning_rate = [float(x) for x in np.linspace(start = 0.001, stop = 0.1, num = 20)],  \n",
        "                       algorithm = ['SAMME', 'SAMME.R']\n",
        "                      )\n",
        "\n",
        "# Init model\n",
        "adb = AdaBoostClassifier(random_state=42)\n",
        "rs = RandomizedSearchCV(adb, hyperparameters, random_state=42, cv=5, scoring='roc_auc')\n",
        "rs.fit(X_train1, Y_train1)\n",
        "\n",
        "# Predict & Evaluation\n",
        "Y_pred = rs.predict(X_test1)#Check performa dari model\n",
        "eval_classification(rs, X_train1, Y_train1, X_test1, Y_test1)"
      ],
      "metadata": {
        "id": "5i19gxpaa7dm",
        "colab": {
          "base_uri": "https://localhost:8080/"
        },
        "outputId": "1a4d5940-63ba-406a-8cf7-715b8ee0954d"
      },
      "execution_count": null,
      "outputs": [
        {
          "output_type": "stream",
          "name": "stdout",
          "text": [
            "Test Data Evaluation:\n",
            "Accuracy (Test Set): 0.679\n",
            "Precision (Test Set): 0.806\n",
            "Recall (Test Set): 0.615\n",
            "F1-Score (Test Set): 0.698\n",
            "AUC (Test Set) : 0.743\n",
            "Average Precision (Test Set) : 0.847\n",
            " \n",
            "Train Data Evaluation:\n",
            "Accuracy (Train Set): 0.678\n",
            "Precision (Train Set): 0.797\n",
            "Recall (Train Set): 0.615\n",
            "F1-Score (Train Set): 0.694\n",
            "AUC (Train Set) : 0.752\n",
            "Average Precision (Train Set) : 0.847\n"
          ]
        }
      ]
    },
    {
      "cell_type": "markdown",
      "source": [
        "## Model 2"
      ],
      "metadata": {
        "id": "Ak-GrxnjTvCH"
      }
    },
    {
      "cell_type": "code",
      "source": [
        "# Split Feature and Label\n",
        "X2 = df_log[['Cost_of_the_Product', 'Weight_in_gms', 'log_Discount_Offered', 'log_Prior_Purchases' ]]\n",
        "Y2 = df_log['Reached.on.Time_Y.N'] # target / label\n",
        "\n",
        "#splitting the data into train and test\n",
        "from sklearn.model_selection import train_test_split \n",
        "X_train2, X_test2, Y_train2, Y_test2 = train_test_split(X2, Y2, test_size = 0.3, random_state = 42)"
      ],
      "metadata": {
        "id": "4W5HgF5zWS4b"
      },
      "execution_count": null,
      "outputs": []
    },
    {
      "cell_type": "code",
      "source": [
        "ab = AdaBoostClassifier(random_state=42)\n",
        "ab.fit(X_train2, Y_train2)\n",
        "\n",
        "Y_pred = ab.predict(X_test2)\n",
        "eval_classification(ab, X_train2, Y_train2, X_test2, Y_test2)"
      ],
      "metadata": {
        "id": "WyZWEsU8atEj",
        "colab": {
          "base_uri": "https://localhost:8080/"
        },
        "outputId": "2853fa7d-24f0-44d2-d1b0-5e2d72cca08c"
      },
      "execution_count": null,
      "outputs": [
        {
          "output_type": "stream",
          "name": "stdout",
          "text": [
            "Accuracy (Test Set): 0.68\n",
            "Precision (Test Set): 0.85\n",
            "Recall (Test Set): 0.58\n",
            "F1-Score (Test Set): 0.69\n",
            "AUC: 0.75\n"
          ]
        }
      ]
    },
    {
      "cell_type": "code",
      "source": [
        "# List of hyperparameter\n",
        "hyperparameters = dict(n_estimators = [int(x) for x in np.linspace(start = 100, stop = 2000, num = 20)], # Jumlah iterasi\n",
        "                       learning_rate = [float(x) for x in np.linspace(start = 0.001, stop = 0.1, num = 20)],  \n",
        "                       algorithm = ['SAMME', 'SAMME.R']\n",
        "                      )\n",
        "\n",
        "# Init model\n",
        "adb = AdaBoostClassifier(random_state=42)\n",
        "rs = RandomizedSearchCV(adb, hyperparameters, random_state=42, cv=5, scoring='roc_auc')\n",
        "rs.fit(X_train2, Y_train2)\n",
        "\n",
        "# Predict & Evaluation\n",
        "Y_pred = rs.predict(X_test2)#Check performa dari model\n",
        "eval_classification(rs, X_train2, Y_train2, X_test2, Y_test2)"
      ],
      "metadata": {
        "id": "S2CGgDyIa8r0",
        "colab": {
          "base_uri": "https://localhost:8080/"
        },
        "outputId": "f84d3c9e-3578-4788-85b4-e8e5b6f4a36f"
      },
      "execution_count": null,
      "outputs": [
        {
          "output_type": "stream",
          "name": "stdout",
          "text": [
            "Test Data Evaluation:\n",
            "Accuracy (Test Set): 0.679\n",
            "Precision (Test Set): 0.806\n",
            "Recall (Test Set): 0.615\n",
            "F1-Score (Test Set): 0.698\n",
            "AUC (Test Set) : 0.743\n",
            "Average Precision (Test Set) : 0.847\n",
            " \n",
            "Train Data Evaluation:\n",
            "Accuracy (Train Set): 0.678\n",
            "Precision (Train Set): 0.797\n",
            "Recall (Train Set): 0.615\n",
            "F1-Score (Train Set): 0.694\n",
            "AUC (Train Set) : 0.752\n",
            "Average Precision (Train Set) : 0.847\n"
          ]
        }
      ]
    },
    {
      "cell_type": "markdown",
      "source": [
        "## Model 3"
      ],
      "metadata": {
        "id": "n7S_srNvTu5T"
      }
    },
    {
      "cell_type": "code",
      "source": [
        "# train test split\n",
        "X3 = df_shipping[['Cost_of_the_Product', 'Weight_in_gms', 'Discount_offered', 'Prior_purchases' ]]\n",
        "Y3 = df_shipping['Reached.on.Time_Y.N']\n",
        "X_train3, X_test3, Y_train3, Y_test3 = train_test_split(X2, Y2, test_size=0.3, random_state=42)\n",
        "print(\"training: \", X_train2.shape[0])\n",
        "print(\"testing: \", Y_test2.shape[0])"
      ],
      "metadata": {
        "colab": {
          "base_uri": "https://localhost:8080/"
        },
        "id": "UIMP0Rm6WwFZ",
        "outputId": "b16e57c1-80c7-46dc-e210-f1a5b3724dd5"
      },
      "execution_count": null,
      "outputs": [
        {
          "output_type": "stream",
          "name": "stdout",
          "text": [
            "training:  7699\n",
            "testing:  3300\n"
          ]
        }
      ]
    },
    {
      "cell_type": "code",
      "source": [
        "ab = AdaBoostClassifier(random_state=42)\n",
        "ab.fit(X_train3, Y_train3)\n",
        "\n",
        "Y_pred = ab.predict(X_test3)\n",
        "eval_classification(ab, X_train3, Y_train3, X_test3, Y_test3)"
      ],
      "metadata": {
        "id": "iRNkkdDWaumw",
        "colab": {
          "base_uri": "https://localhost:8080/"
        },
        "outputId": "b89e925f-8af0-4e56-c940-317672e1c805"
      },
      "execution_count": null,
      "outputs": [
        {
          "output_type": "stream",
          "name": "stdout",
          "text": [
            "Test Data Evaluation:\n",
            "Accuracy (Test Set): 0.683\n",
            "Precision (Test Set): 0.848\n",
            "Recall (Test Set): 0.577\n",
            "F1-Score (Test Set): 0.687\n",
            "AUC (Test Set) : 0.746\n",
            "Average Precision (Test Set) : 0.856\n",
            " \n",
            "Train Data Evaluation:\n",
            "Accuracy (Train Set): 0.689\n",
            "Precision (Train Set): 0.854\n",
            "Recall (Train Set): 0.576\n",
            "F1-Score (Train Set): 0.688\n",
            "AUC (Train Set) : 0.761\n",
            "Average Precision (Train Set) : 0.860\n"
          ]
        }
      ]
    },
    {
      "cell_type": "code",
      "source": [
        "# List of hyperparameter\n",
        "hyperparameters = dict(n_estimators = [int(x) for x in np.linspace(start = 100, stop = 2000, num = 20)], # Jumlah iterasi\n",
        "                       learning_rate = [float(x) for x in np.linspace(start = 0.001, stop = 0.1, num = 20)],  \n",
        "                       algorithm = ['SAMME', 'SAMME.R']\n",
        "                      )\n",
        "\n",
        "# Init model\n",
        "adb = AdaBoostClassifier(random_state=42)\n",
        "rs = RandomizedSearchCV(adb, hyperparameters, random_state=42, cv=5, scoring='roc_auc')\n",
        "rs.fit(X_train3, Y_train3)\n",
        "\n",
        "# Predict & Evaluation\n",
        "Y_pred = rs.predict(X_test3)#Check performa dari model\n",
        "eval_classification(rs, X_train3, Y_train3, X_test3, Y_test3)"
      ],
      "metadata": {
        "id": "KKnsf6rPa9z2"
      },
      "execution_count": null,
      "outputs": []
    },
    {
      "cell_type": "markdown",
      "source": [
        "## Model 4"
      ],
      "metadata": {
        "id": "a_AftPP1TuvI"
      }
    },
    {
      "cell_type": "code",
      "source": [
        "#define feature(X) and target(Y)\n",
        "X4 = df_outlierhandling_z[['Cost_of_The_Product', 'Prior_Purchases', 'Discount_Offered', 'Weight_in_gms']]\n",
        "Y4 = df_outlierhandling_z['Late_Shipment(num)'] #target/label\n",
        "\n",
        "#splitting the data into train and test\n",
        "from sklearn.model_selection import train_test_split \n",
        "X_train4, X_test4, Y_train4, Y_test4 = train_test_split(X4, Y4, test_size = 0.3, random_state = 42)"
      ],
      "metadata": {
        "id": "Rt6ktLhlTrim"
      },
      "execution_count": null,
      "outputs": []
    },
    {
      "cell_type": "code",
      "source": [
        "ab = AdaBoostClassifier(random_state=42)\n",
        "ab.fit(X_train4, Y_train4)\n",
        "\n",
        "Y_pred = ab.predict(X_test4)"
      ],
      "metadata": {
        "id": "3NjFWoqbXmrU"
      },
      "execution_count": null,
      "outputs": []
    },
    {
      "cell_type": "code",
      "source": [
        "eval_classification(ab, X_train4, Y_train4, X_test4, Y_test4)"
      ],
      "metadata": {
        "colab": {
          "base_uri": "https://localhost:8080/"
        },
        "id": "OadCflNOYtcX",
        "outputId": "1838a8f9-92ca-4a45-8bbc-3bcd1cd391b7"
      },
      "execution_count": null,
      "outputs": [
        {
          "output_type": "stream",
          "name": "stdout",
          "text": [
            "Test Data Evaluation:\n",
            "Accuracy (Test Set): 0.669\n",
            "Precision (Test Set): 0.807\n",
            "Recall (Test Set): 0.573\n",
            "F1-Score (Test Set): 0.670\n",
            "AUC (Test Set) : 0.735\n",
            "Average Precision (Test Set) : 0.840\n",
            " \n",
            "Train Data Evaluation:\n",
            "Accuracy (Train Set): 0.681\n",
            "Precision (Train Set): 0.832\n",
            "Recall (Train Set): 0.578\n",
            "F1-Score (Train Set): 0.682\n",
            "AUC (Train Set) : 0.753\n",
            "Average Precision (Train Set) : 0.852\n"
          ]
        }
      ]
    },
    {
      "cell_type": "code",
      "source": [
        "# List of hyperparameter\n",
        "hyperparameters = dict(n_estimators = [int(x) for x in np.linspace(start = 100, stop = 2000, num = 20)], # Jumlah iterasi\n",
        "                       learning_rate = [float(x) for x in np.linspace(start = 0.001, stop = 0.1, num = 20)],  \n",
        "                       algorithm = ['SAMME', 'SAMME.R']\n",
        "                      )\n",
        "\n",
        "# Init model\n",
        "adb = AdaBoostClassifier(random_state=42)\n",
        "rs = RandomizedSearchCV(adb, hyperparameters, random_state=42, cv=5, scoring='roc_auc')\n",
        "rs.fit(X_train4, Y_train4)\n",
        "\n",
        "# Predict & Evaluation\n",
        "Y_pred = rs.predict(X_test4)#Check performa dari model\n",
        "eval_classification(rs, X_train4, Y_train4, X_test4, Y_test4)"
      ],
      "metadata": {
        "colab": {
          "base_uri": "https://localhost:8080/"
        },
        "id": "wgnOj0NvZF-d",
        "outputId": "806d2fc1-750c-437c-eaea-5c0820f0a3f1"
      },
      "execution_count": null,
      "outputs": [
        {
          "output_type": "stream",
          "name": "stdout",
          "text": [
            "Test Data Evaluation:\n",
            "Accuracy (Test Set): 0.671\n",
            "Precision (Test Set): 0.774\n",
            "Recall (Test Set): 0.619\n",
            "F1-Score (Test Set): 0.688\n",
            "AUC (Test Set) : 0.741\n",
            "Average Precision (Test Set) : 0.831\n",
            " \n",
            "Train Data Evaluation:\n",
            "Accuracy (Train Set): 0.670\n",
            "Precision (Train Set): 0.776\n",
            "Recall (Train Set): 0.622\n",
            "F1-Score (Train Set): 0.690\n",
            "AUC (Train Set) : 0.743\n",
            "Average Precision (Train Set) : 0.835\n"
          ]
        }
      ]
    }
  ],
  "metadata": {
    "colab": {
      "collapsed_sections": [],
      "name": "Stage 3 - Final.ipynb",
      "provenance": [],
      "toc_visible": true
    },
    "kernelspec": {
      "display_name": "Python 3",
      "name": "python3"
    },
    "language_info": {
      "name": "python"
    }
  },
  "nbformat": 4,
  "nbformat_minor": 0
}