{
 "cells": [
  {
   "cell_type": "markdown",
   "id": "ef7ae855-5c58-4a56-82f6-9a5257b0145c",
   "metadata": {},
   "source": [
    "# Final Project - Stage 1\n",
    "## Exploratory Data Analysis - Data Set E-Commerce Shipping\n",
    "## Group 8 : Decentraland\n",
    "**Group Member:**\n",
    "- Dharma Setiawan\n",
    "- Ilham Ibnu A.\n",
    "- M. Farhan Atmawinanda\n",
    "- Fikri Diva S.\n",
    "- Ahmad Ilham H."
   ]
  },
  {
   "cell_type": "markdown",
   "id": "340e6b99",
   "metadata": {},
   "source": [
    "## Import Libraries"
   ]
  },
  {
   "cell_type": "code",
   "execution_count": 2,
   "id": "7603849f",
   "metadata": {},
   "outputs": [],
   "source": [
    "import numpy as np\n",
    "import pandas as pd\n",
    "import matplotlib.pyplot as plt\n",
    "import seaborn as sns"
   ]
  },
  {
   "cell_type": "markdown",
   "id": "f45ad3ac",
   "metadata": {},
   "source": [
    "## Load Dataset"
   ]
  },
  {
   "cell_type": "code",
   "execution_count": 3,
   "id": "770ebea4",
   "metadata": {},
   "outputs": [
    {
     "data": {
      "text/html": [
       "<div>\n",
       "<style scoped>\n",
       "    .dataframe tbody tr th:only-of-type {\n",
       "        vertical-align: middle;\n",
       "    }\n",
       "\n",
       "    .dataframe tbody tr th {\n",
       "        vertical-align: top;\n",
       "    }\n",
       "\n",
       "    .dataframe thead th {\n",
       "        text-align: right;\n",
       "    }\n",
       "</style>\n",
       "<table border=\"1\" class=\"dataframe\">\n",
       "  <thead>\n",
       "    <tr style=\"text-align: right;\">\n",
       "      <th></th>\n",
       "      <th>ID</th>\n",
       "      <th>Warehouse_Block</th>\n",
       "      <th>Mode_of_Shipment</th>\n",
       "      <th>Customer_Care_Calls</th>\n",
       "      <th>Customer_Rating(num)</th>\n",
       "      <th>Cost_of_The_Product</th>\n",
       "      <th>Prior_Purchases</th>\n",
       "      <th>Product_Importance</th>\n",
       "      <th>Gender</th>\n",
       "      <th>Discount_Offered</th>\n",
       "      <th>Weight_in_gms</th>\n",
       "      <th>Late_Shipment(num)</th>\n",
       "      <th>Customer_Rating(cat)</th>\n",
       "      <th>Late_Shipment(cat)</th>\n",
       "    </tr>\n",
       "  </thead>\n",
       "  <tbody>\n",
       "    <tr>\n",
       "      <th>0</th>\n",
       "      <td>1</td>\n",
       "      <td>D</td>\n",
       "      <td>Flight</td>\n",
       "      <td>4</td>\n",
       "      <td>2</td>\n",
       "      <td>177</td>\n",
       "      <td>3</td>\n",
       "      <td>low</td>\n",
       "      <td>F</td>\n",
       "      <td>44</td>\n",
       "      <td>1233</td>\n",
       "      <td>1</td>\n",
       "      <td>Bintang 2</td>\n",
       "      <td>Yes</td>\n",
       "    </tr>\n",
       "    <tr>\n",
       "      <th>1</th>\n",
       "      <td>2</td>\n",
       "      <td>F</td>\n",
       "      <td>Flight</td>\n",
       "      <td>4</td>\n",
       "      <td>5</td>\n",
       "      <td>216</td>\n",
       "      <td>2</td>\n",
       "      <td>low</td>\n",
       "      <td>M</td>\n",
       "      <td>59</td>\n",
       "      <td>3088</td>\n",
       "      <td>1</td>\n",
       "      <td>Bintang 5</td>\n",
       "      <td>Yes</td>\n",
       "    </tr>\n",
       "    <tr>\n",
       "      <th>2</th>\n",
       "      <td>3</td>\n",
       "      <td>A</td>\n",
       "      <td>Flight</td>\n",
       "      <td>2</td>\n",
       "      <td>2</td>\n",
       "      <td>183</td>\n",
       "      <td>4</td>\n",
       "      <td>low</td>\n",
       "      <td>M</td>\n",
       "      <td>48</td>\n",
       "      <td>3374</td>\n",
       "      <td>1</td>\n",
       "      <td>Bintang 2</td>\n",
       "      <td>Yes</td>\n",
       "    </tr>\n",
       "    <tr>\n",
       "      <th>3</th>\n",
       "      <td>4</td>\n",
       "      <td>B</td>\n",
       "      <td>Flight</td>\n",
       "      <td>3</td>\n",
       "      <td>3</td>\n",
       "      <td>176</td>\n",
       "      <td>4</td>\n",
       "      <td>medium</td>\n",
       "      <td>M</td>\n",
       "      <td>10</td>\n",
       "      <td>1177</td>\n",
       "      <td>1</td>\n",
       "      <td>Bintang 3</td>\n",
       "      <td>Yes</td>\n",
       "    </tr>\n",
       "    <tr>\n",
       "      <th>4</th>\n",
       "      <td>5</td>\n",
       "      <td>C</td>\n",
       "      <td>Flight</td>\n",
       "      <td>2</td>\n",
       "      <td>2</td>\n",
       "      <td>184</td>\n",
       "      <td>3</td>\n",
       "      <td>medium</td>\n",
       "      <td>F</td>\n",
       "      <td>46</td>\n",
       "      <td>2484</td>\n",
       "      <td>1</td>\n",
       "      <td>Bintang 2</td>\n",
       "      <td>Yes</td>\n",
       "    </tr>\n",
       "  </tbody>\n",
       "</table>\n",
       "</div>"
      ],
      "text/plain": [
       "   ID Warehouse_Block Mode_of_Shipment  Customer_Care_Calls  \\\n",
       "0   1               D           Flight                    4   \n",
       "1   2               F           Flight                    4   \n",
       "2   3               A           Flight                    2   \n",
       "3   4               B           Flight                    3   \n",
       "4   5               C           Flight                    2   \n",
       "\n",
       "   Customer_Rating(num)  Cost_of_The_Product  Prior_Purchases  \\\n",
       "0                     2                  177                3   \n",
       "1                     5                  216                2   \n",
       "2                     2                  183                4   \n",
       "3                     3                  176                4   \n",
       "4                     2                  184                3   \n",
       "\n",
       "  Product_Importance Gender  Discount_Offered  Weight_in_gms  \\\n",
       "0                low      F                44           1233   \n",
       "1                low      M                59           3088   \n",
       "2                low      M                48           3374   \n",
       "3             medium      M                10           1177   \n",
       "4             medium      F                46           2484   \n",
       "\n",
       "   Late_Shipment(num) Customer_Rating(cat) Late_Shipment(cat)  \n",
       "0                   1            Bintang 2                Yes  \n",
       "1                   1            Bintang 5                Yes  \n",
       "2                   1            Bintang 2                Yes  \n",
       "3                   1            Bintang 3                Yes  \n",
       "4                   1            Bintang 2                Yes  "
      ]
     },
     "execution_count": 3,
     "metadata": {},
     "output_type": "execute_result"
    }
   ],
   "source": [
    "df_shipping = pd.read_excel(\"https://raw.githubusercontent.com/Decentraland-Team-Final-Project/Report-Final-Project-/main/Dataset/df_shipping_stage_1.xlsx\")\n",
    "df_shipping.head()"
   ]
  },
  {
   "cell_type": "code",
   "execution_count": 4,
   "id": "11637d3d",
   "metadata": {},
   "outputs": [
    {
     "name": "stdout",
     "output_type": "stream",
     "text": [
      "<class 'pandas.core.frame.DataFrame'>\n",
      "RangeIndex: 10999 entries, 0 to 10998\n",
      "Data columns (total 14 columns):\n",
      " #   Column                Non-Null Count  Dtype \n",
      "---  ------                --------------  ----- \n",
      " 0   ID                    10999 non-null  int64 \n",
      " 1   Warehouse_Block       10999 non-null  object\n",
      " 2   Mode_of_Shipment      10999 non-null  object\n",
      " 3   Customer_Care_Calls   10999 non-null  int64 \n",
      " 4   Customer_Rating(num)  10999 non-null  int64 \n",
      " 5   Cost_of_The_Product   10999 non-null  int64 \n",
      " 6   Prior_Purchases       10999 non-null  int64 \n",
      " 7   Product_Importance    10999 non-null  object\n",
      " 8   Gender                10999 non-null  object\n",
      " 9   Discount_Offered      10999 non-null  int64 \n",
      " 10  Weight_in_gms         10999 non-null  int64 \n",
      " 11  Late_Shipment(num)    10999 non-null  int64 \n",
      " 12  Customer_Rating(cat)  10999 non-null  object\n",
      " 13  Late_Shipment(cat)    10999 non-null  object\n",
      "dtypes: int64(8), object(6)\n",
      "memory usage: 1.2+ MB\n"
     ]
    }
   ],
   "source": [
    "df_shipping.info()"
   ]
  },
  {
   "cell_type": "code",
   "execution_count": 5,
   "id": "1efca40b",
   "metadata": {},
   "outputs": [],
   "source": [
    "#Pengelompokan kolom berdasarkan jenisnya\n",
    "number = ['Customer_Care_Calls', 'Cost_of_The_Product', 'Prior_Purchases', 'Discount_Offered', 'Weight_in_gms', 'Customer_Rating(num)', 'Late_Shipment(num)']\n",
    "category = ['Warehouse_Block', 'Mode_of_Shipment', 'Product_Importance', 'Gender', 'Customer_Rating(cat)', 'Late_Shipment(cat)']"
   ]
  },
  {
   "cell_type": "markdown",
   "id": "b3195fea",
   "metadata": {},
   "source": [
    "## Feature Encoding"
   ]
  },
  {
   "cell_type": "code",
   "execution_count": 6,
   "id": "3aa43f84",
   "metadata": {},
   "outputs": [
    {
     "name": "stdout",
     "output_type": "stream",
     "text": [
      "value counts of column Warehouse_Block\n",
      "F    3666\n",
      "D    1834\n",
      "B    1833\n",
      "A    1833\n",
      "C    1833\n",
      "Name: Warehouse_Block, dtype: int64\n",
      "------------------------------ \n",
      "\n",
      "value counts of column Mode_of_Shipment\n",
      "Ship      7462\n",
      "Flight    1777\n",
      "Road      1760\n",
      "Name: Mode_of_Shipment, dtype: int64\n",
      "------------------------------ \n",
      "\n",
      "value counts of column Product_Importance\n",
      "low       5297\n",
      "medium    4754\n",
      "high       948\n",
      "Name: Product_Importance, dtype: int64\n",
      "------------------------------ \n",
      "\n",
      "value counts of column Gender\n",
      "F    5545\n",
      "M    5454\n",
      "Name: Gender, dtype: int64\n",
      "------------------------------ \n",
      "\n"
     ]
    }
   ],
   "source": [
    "#Melihat value setiap variabel/feature \n",
    "category_encoding = ['Warehouse_Block', 'Mode_of_Shipment', 'Product_Importance', 'Gender']\n",
    "\n",
    "for column in category_encoding:\n",
    "  print(f'value counts of column {column}')\n",
    "  print(df_shipping[column].value_counts())\n",
    "  print('---'*10, '\\n')"
   ]
  },
  {
   "cell_type": "markdown",
   "id": "7bfd2ea6",
   "metadata": {},
   "source": [
    "Strategi Feature Encoding:\n",
    "   - 'Product_Importance' dan 'Gender' : label encoding\n",
    "   - 'Warehouse_Block' dan 'Mode_of_Shipment' : one hot encoding"
   ]
  },
  {
   "cell_type": "code",
   "execution_count": 7,
   "id": "49238e81",
   "metadata": {},
   "outputs": [],
   "source": [
    "#Label encoding\n",
    "mapping_gender = {\n",
    "    'F' : 0,\n",
    "    'M' : 1\n",
    "}\n",
    "\n",
    "mapping_product_importance = {\n",
    "    'low' : 0,\n",
    "    'medium' : 1,\n",
    "    'high' : 2,\n",
    "}\n",
    "\n",
    "df_shipping['Gender(num)'] = df_shipping['Gender'].map(mapping_gender)\n",
    "df_shipping['Product_Importance(num)'] = df_shipping['Product_Importance'].map(mapping_product_importance)"
   ]
  },
  {
   "cell_type": "code",
   "execution_count": 8,
   "id": "3f1bafbd",
   "metadata": {},
   "outputs": [],
   "source": [
    "#One hot encoding\n",
    "# WARNING: run code ini sekali saja\n",
    "for cat in ['Warehouse_Block', 'Mode_of_Shipment']:\n",
    "    onehots = pd.get_dummies(df_shipping[cat], prefix=cat)\n",
    "    df_shipping = df_shipping.join(onehots)"
   ]
  },
  {
   "cell_type": "code",
   "execution_count": 9,
   "id": "9a7b686f",
   "metadata": {},
   "outputs": [
    {
     "data": {
      "text/html": [
       "<div>\n",
       "<style scoped>\n",
       "    .dataframe tbody tr th:only-of-type {\n",
       "        vertical-align: middle;\n",
       "    }\n",
       "\n",
       "    .dataframe tbody tr th {\n",
       "        vertical-align: top;\n",
       "    }\n",
       "\n",
       "    .dataframe thead th {\n",
       "        text-align: right;\n",
       "    }\n",
       "</style>\n",
       "<table border=\"1\" class=\"dataframe\">\n",
       "  <thead>\n",
       "    <tr style=\"text-align: right;\">\n",
       "      <th></th>\n",
       "      <th>ID</th>\n",
       "      <th>Warehouse_Block</th>\n",
       "      <th>Mode_of_Shipment</th>\n",
       "      <th>Customer_Care_Calls</th>\n",
       "      <th>Customer_Rating(num)</th>\n",
       "      <th>Cost_of_The_Product</th>\n",
       "      <th>Prior_Purchases</th>\n",
       "      <th>Product_Importance</th>\n",
       "      <th>Gender</th>\n",
       "      <th>Discount_Offered</th>\n",
       "      <th>...</th>\n",
       "      <th>Gender(num)</th>\n",
       "      <th>Product_Importance(num)</th>\n",
       "      <th>Warehouse_Block_A</th>\n",
       "      <th>Warehouse_Block_B</th>\n",
       "      <th>Warehouse_Block_C</th>\n",
       "      <th>Warehouse_Block_D</th>\n",
       "      <th>Warehouse_Block_F</th>\n",
       "      <th>Mode_of_Shipment_Flight</th>\n",
       "      <th>Mode_of_Shipment_Road</th>\n",
       "      <th>Mode_of_Shipment_Ship</th>\n",
       "    </tr>\n",
       "  </thead>\n",
       "  <tbody>\n",
       "    <tr>\n",
       "      <th>0</th>\n",
       "      <td>1</td>\n",
       "      <td>D</td>\n",
       "      <td>Flight</td>\n",
       "      <td>4</td>\n",
       "      <td>2</td>\n",
       "      <td>177</td>\n",
       "      <td>3</td>\n",
       "      <td>low</td>\n",
       "      <td>F</td>\n",
       "      <td>44</td>\n",
       "      <td>...</td>\n",
       "      <td>0</td>\n",
       "      <td>0</td>\n",
       "      <td>0</td>\n",
       "      <td>0</td>\n",
       "      <td>0</td>\n",
       "      <td>1</td>\n",
       "      <td>0</td>\n",
       "      <td>1</td>\n",
       "      <td>0</td>\n",
       "      <td>0</td>\n",
       "    </tr>\n",
       "    <tr>\n",
       "      <th>1</th>\n",
       "      <td>2</td>\n",
       "      <td>F</td>\n",
       "      <td>Flight</td>\n",
       "      <td>4</td>\n",
       "      <td>5</td>\n",
       "      <td>216</td>\n",
       "      <td>2</td>\n",
       "      <td>low</td>\n",
       "      <td>M</td>\n",
       "      <td>59</td>\n",
       "      <td>...</td>\n",
       "      <td>1</td>\n",
       "      <td>0</td>\n",
       "      <td>0</td>\n",
       "      <td>0</td>\n",
       "      <td>0</td>\n",
       "      <td>0</td>\n",
       "      <td>1</td>\n",
       "      <td>1</td>\n",
       "      <td>0</td>\n",
       "      <td>0</td>\n",
       "    </tr>\n",
       "    <tr>\n",
       "      <th>2</th>\n",
       "      <td>3</td>\n",
       "      <td>A</td>\n",
       "      <td>Flight</td>\n",
       "      <td>2</td>\n",
       "      <td>2</td>\n",
       "      <td>183</td>\n",
       "      <td>4</td>\n",
       "      <td>low</td>\n",
       "      <td>M</td>\n",
       "      <td>48</td>\n",
       "      <td>...</td>\n",
       "      <td>1</td>\n",
       "      <td>0</td>\n",
       "      <td>1</td>\n",
       "      <td>0</td>\n",
       "      <td>0</td>\n",
       "      <td>0</td>\n",
       "      <td>0</td>\n",
       "      <td>1</td>\n",
       "      <td>0</td>\n",
       "      <td>0</td>\n",
       "    </tr>\n",
       "    <tr>\n",
       "      <th>3</th>\n",
       "      <td>4</td>\n",
       "      <td>B</td>\n",
       "      <td>Flight</td>\n",
       "      <td>3</td>\n",
       "      <td>3</td>\n",
       "      <td>176</td>\n",
       "      <td>4</td>\n",
       "      <td>medium</td>\n",
       "      <td>M</td>\n",
       "      <td>10</td>\n",
       "      <td>...</td>\n",
       "      <td>1</td>\n",
       "      <td>1</td>\n",
       "      <td>0</td>\n",
       "      <td>1</td>\n",
       "      <td>0</td>\n",
       "      <td>0</td>\n",
       "      <td>0</td>\n",
       "      <td>1</td>\n",
       "      <td>0</td>\n",
       "      <td>0</td>\n",
       "    </tr>\n",
       "    <tr>\n",
       "      <th>4</th>\n",
       "      <td>5</td>\n",
       "      <td>C</td>\n",
       "      <td>Flight</td>\n",
       "      <td>2</td>\n",
       "      <td>2</td>\n",
       "      <td>184</td>\n",
       "      <td>3</td>\n",
       "      <td>medium</td>\n",
       "      <td>F</td>\n",
       "      <td>46</td>\n",
       "      <td>...</td>\n",
       "      <td>0</td>\n",
       "      <td>1</td>\n",
       "      <td>0</td>\n",
       "      <td>0</td>\n",
       "      <td>1</td>\n",
       "      <td>0</td>\n",
       "      <td>0</td>\n",
       "      <td>1</td>\n",
       "      <td>0</td>\n",
       "      <td>0</td>\n",
       "    </tr>\n",
       "  </tbody>\n",
       "</table>\n",
       "<p>5 rows × 24 columns</p>\n",
       "</div>"
      ],
      "text/plain": [
       "   ID Warehouse_Block Mode_of_Shipment  Customer_Care_Calls  \\\n",
       "0   1               D           Flight                    4   \n",
       "1   2               F           Flight                    4   \n",
       "2   3               A           Flight                    2   \n",
       "3   4               B           Flight                    3   \n",
       "4   5               C           Flight                    2   \n",
       "\n",
       "   Customer_Rating(num)  Cost_of_The_Product  Prior_Purchases  \\\n",
       "0                     2                  177                3   \n",
       "1                     5                  216                2   \n",
       "2                     2                  183                4   \n",
       "3                     3                  176                4   \n",
       "4                     2                  184                3   \n",
       "\n",
       "  Product_Importance Gender  Discount_Offered  ...  Gender(num)  \\\n",
       "0                low      F                44  ...            0   \n",
       "1                low      M                59  ...            1   \n",
       "2                low      M                48  ...            1   \n",
       "3             medium      M                10  ...            1   \n",
       "4             medium      F                46  ...            0   \n",
       "\n",
       "   Product_Importance(num) Warehouse_Block_A Warehouse_Block_B  \\\n",
       "0                        0                 0                 0   \n",
       "1                        0                 0                 0   \n",
       "2                        0                 1                 0   \n",
       "3                        1                 0                 1   \n",
       "4                        1                 0                 0   \n",
       "\n",
       "   Warehouse_Block_C  Warehouse_Block_D  Warehouse_Block_F  \\\n",
       "0                  0                  1                  0   \n",
       "1                  0                  0                  1   \n",
       "2                  0                  0                  0   \n",
       "3                  0                  0                  0   \n",
       "4                  1                  0                  0   \n",
       "\n",
       "   Mode_of_Shipment_Flight  Mode_of_Shipment_Road  Mode_of_Shipment_Ship  \n",
       "0                        1                      0                      0  \n",
       "1                        1                      0                      0  \n",
       "2                        1                      0                      0  \n",
       "3                        1                      0                      0  \n",
       "4                        1                      0                      0  \n",
       "\n",
       "[5 rows x 24 columns]"
      ]
     },
     "execution_count": 9,
     "metadata": {},
     "output_type": "execute_result"
    }
   ],
   "source": [
    "#Tampilan dataset setelah beberapa variabel diencoding\n",
    "df_shipping.head()"
   ]
  },
  {
   "cell_type": "code",
   "execution_count": 10,
   "id": "63f71582",
   "metadata": {},
   "outputs": [
    {
     "name": "stdout",
     "output_type": "stream",
     "text": [
      "<class 'pandas.core.frame.DataFrame'>\n",
      "RangeIndex: 10999 entries, 0 to 10998\n",
      "Data columns (total 24 columns):\n",
      " #   Column                   Non-Null Count  Dtype \n",
      "---  ------                   --------------  ----- \n",
      " 0   ID                       10999 non-null  int64 \n",
      " 1   Warehouse_Block          10999 non-null  object\n",
      " 2   Mode_of_Shipment         10999 non-null  object\n",
      " 3   Customer_Care_Calls      10999 non-null  int64 \n",
      " 4   Customer_Rating(num)     10999 non-null  int64 \n",
      " 5   Cost_of_The_Product      10999 non-null  int64 \n",
      " 6   Prior_Purchases          10999 non-null  int64 \n",
      " 7   Product_Importance       10999 non-null  object\n",
      " 8   Gender                   10999 non-null  object\n",
      " 9   Discount_Offered         10999 non-null  int64 \n",
      " 10  Weight_in_gms            10999 non-null  int64 \n",
      " 11  Late_Shipment(num)       10999 non-null  int64 \n",
      " 12  Customer_Rating(cat)     10999 non-null  object\n",
      " 13  Late_Shipment(cat)       10999 non-null  object\n",
      " 14  Gender(num)              10999 non-null  int64 \n",
      " 15  Product_Importance(num)  10999 non-null  int64 \n",
      " 16  Warehouse_Block_A        10999 non-null  uint8 \n",
      " 17  Warehouse_Block_B        10999 non-null  uint8 \n",
      " 18  Warehouse_Block_C        10999 non-null  uint8 \n",
      " 19  Warehouse_Block_D        10999 non-null  uint8 \n",
      " 20  Warehouse_Block_F        10999 non-null  uint8 \n",
      " 21  Mode_of_Shipment_Flight  10999 non-null  uint8 \n",
      " 22  Mode_of_Shipment_Road    10999 non-null  uint8 \n",
      " 23  Mode_of_Shipment_Ship    10999 non-null  uint8 \n",
      "dtypes: int64(10), object(6), uint8(8)\n",
      "memory usage: 1.4+ MB\n"
     ]
    }
   ],
   "source": [
    "#Info dataset setelah beberapa variabel diencoding\n",
    "df_shipping.info()"
   ]
  },
  {
   "cell_type": "code",
   "execution_count": 11,
   "id": "78d1b25f",
   "metadata": {},
   "outputs": [
    {
     "data": {
      "text/html": [
       "<div>\n",
       "<style scoped>\n",
       "    .dataframe tbody tr th:only-of-type {\n",
       "        vertical-align: middle;\n",
       "    }\n",
       "\n",
       "    .dataframe tbody tr th {\n",
       "        vertical-align: top;\n",
       "    }\n",
       "\n",
       "    .dataframe thead th {\n",
       "        text-align: right;\n",
       "    }\n",
       "</style>\n",
       "<table border=\"1\" class=\"dataframe\">\n",
       "  <thead>\n",
       "    <tr style=\"text-align: right;\">\n",
       "      <th></th>\n",
       "      <th>ID</th>\n",
       "      <th>Customer_Care_Calls</th>\n",
       "      <th>Customer_Rating(num)</th>\n",
       "      <th>Cost_of_The_Product</th>\n",
       "      <th>Prior_Purchases</th>\n",
       "      <th>Discount_Offered</th>\n",
       "      <th>Weight_in_gms</th>\n",
       "      <th>Late_Shipment(num)</th>\n",
       "      <th>Gender(num)</th>\n",
       "      <th>Product_Importance(num)</th>\n",
       "      <th>Warehouse_Block_A</th>\n",
       "      <th>Warehouse_Block_B</th>\n",
       "      <th>Warehouse_Block_C</th>\n",
       "      <th>Warehouse_Block_D</th>\n",
       "      <th>Warehouse_Block_F</th>\n",
       "      <th>Mode_of_Shipment_Flight</th>\n",
       "      <th>Mode_of_Shipment_Road</th>\n",
       "      <th>Mode_of_Shipment_Ship</th>\n",
       "    </tr>\n",
       "  </thead>\n",
       "  <tbody>\n",
       "    <tr>\n",
       "      <th>count</th>\n",
       "      <td>10999.00000</td>\n",
       "      <td>10999.000000</td>\n",
       "      <td>10999.000000</td>\n",
       "      <td>10999.000000</td>\n",
       "      <td>10999.000000</td>\n",
       "      <td>10999.000000</td>\n",
       "      <td>10999.000000</td>\n",
       "      <td>10999.000000</td>\n",
       "      <td>10999.000000</td>\n",
       "      <td>10999.000000</td>\n",
       "      <td>10999.000000</td>\n",
       "      <td>10999.000000</td>\n",
       "      <td>10999.000000</td>\n",
       "      <td>10999.000000</td>\n",
       "      <td>10999.000000</td>\n",
       "      <td>10999.000000</td>\n",
       "      <td>10999.000000</td>\n",
       "      <td>10999.000000</td>\n",
       "    </tr>\n",
       "    <tr>\n",
       "      <th>mean</th>\n",
       "      <td>5500.00000</td>\n",
       "      <td>4.054459</td>\n",
       "      <td>2.990545</td>\n",
       "      <td>210.196836</td>\n",
       "      <td>3.567597</td>\n",
       "      <td>13.373216</td>\n",
       "      <td>3634.016729</td>\n",
       "      <td>0.596691</td>\n",
       "      <td>0.495863</td>\n",
       "      <td>0.604600</td>\n",
       "      <td>0.166652</td>\n",
       "      <td>0.166652</td>\n",
       "      <td>0.166652</td>\n",
       "      <td>0.166742</td>\n",
       "      <td>0.333303</td>\n",
       "      <td>0.161560</td>\n",
       "      <td>0.160015</td>\n",
       "      <td>0.678425</td>\n",
       "    </tr>\n",
       "    <tr>\n",
       "      <th>std</th>\n",
       "      <td>3175.28214</td>\n",
       "      <td>1.141490</td>\n",
       "      <td>1.413603</td>\n",
       "      <td>48.063272</td>\n",
       "      <td>1.522860</td>\n",
       "      <td>16.205527</td>\n",
       "      <td>1635.377251</td>\n",
       "      <td>0.490584</td>\n",
       "      <td>0.500006</td>\n",
       "      <td>0.641464</td>\n",
       "      <td>0.372681</td>\n",
       "      <td>0.372681</td>\n",
       "      <td>0.372681</td>\n",
       "      <td>0.372763</td>\n",
       "      <td>0.471415</td>\n",
       "      <td>0.368064</td>\n",
       "      <td>0.366636</td>\n",
       "      <td>0.467102</td>\n",
       "    </tr>\n",
       "    <tr>\n",
       "      <th>min</th>\n",
       "      <td>1.00000</td>\n",
       "      <td>2.000000</td>\n",
       "      <td>1.000000</td>\n",
       "      <td>96.000000</td>\n",
       "      <td>2.000000</td>\n",
       "      <td>1.000000</td>\n",
       "      <td>1001.000000</td>\n",
       "      <td>0.000000</td>\n",
       "      <td>0.000000</td>\n",
       "      <td>0.000000</td>\n",
       "      <td>0.000000</td>\n",
       "      <td>0.000000</td>\n",
       "      <td>0.000000</td>\n",
       "      <td>0.000000</td>\n",
       "      <td>0.000000</td>\n",
       "      <td>0.000000</td>\n",
       "      <td>0.000000</td>\n",
       "      <td>0.000000</td>\n",
       "    </tr>\n",
       "    <tr>\n",
       "      <th>25%</th>\n",
       "      <td>2750.50000</td>\n",
       "      <td>3.000000</td>\n",
       "      <td>2.000000</td>\n",
       "      <td>169.000000</td>\n",
       "      <td>3.000000</td>\n",
       "      <td>4.000000</td>\n",
       "      <td>1839.500000</td>\n",
       "      <td>0.000000</td>\n",
       "      <td>0.000000</td>\n",
       "      <td>0.000000</td>\n",
       "      <td>0.000000</td>\n",
       "      <td>0.000000</td>\n",
       "      <td>0.000000</td>\n",
       "      <td>0.000000</td>\n",
       "      <td>0.000000</td>\n",
       "      <td>0.000000</td>\n",
       "      <td>0.000000</td>\n",
       "      <td>0.000000</td>\n",
       "    </tr>\n",
       "    <tr>\n",
       "      <th>50%</th>\n",
       "      <td>5500.00000</td>\n",
       "      <td>4.000000</td>\n",
       "      <td>3.000000</td>\n",
       "      <td>214.000000</td>\n",
       "      <td>3.000000</td>\n",
       "      <td>7.000000</td>\n",
       "      <td>4149.000000</td>\n",
       "      <td>1.000000</td>\n",
       "      <td>0.000000</td>\n",
       "      <td>1.000000</td>\n",
       "      <td>0.000000</td>\n",
       "      <td>0.000000</td>\n",
       "      <td>0.000000</td>\n",
       "      <td>0.000000</td>\n",
       "      <td>0.000000</td>\n",
       "      <td>0.000000</td>\n",
       "      <td>0.000000</td>\n",
       "      <td>1.000000</td>\n",
       "    </tr>\n",
       "    <tr>\n",
       "      <th>75%</th>\n",
       "      <td>8249.50000</td>\n",
       "      <td>5.000000</td>\n",
       "      <td>4.000000</td>\n",
       "      <td>251.000000</td>\n",
       "      <td>4.000000</td>\n",
       "      <td>10.000000</td>\n",
       "      <td>5050.000000</td>\n",
       "      <td>1.000000</td>\n",
       "      <td>1.000000</td>\n",
       "      <td>1.000000</td>\n",
       "      <td>0.000000</td>\n",
       "      <td>0.000000</td>\n",
       "      <td>0.000000</td>\n",
       "      <td>0.000000</td>\n",
       "      <td>1.000000</td>\n",
       "      <td>0.000000</td>\n",
       "      <td>0.000000</td>\n",
       "      <td>1.000000</td>\n",
       "    </tr>\n",
       "    <tr>\n",
       "      <th>max</th>\n",
       "      <td>10999.00000</td>\n",
       "      <td>7.000000</td>\n",
       "      <td>5.000000</td>\n",
       "      <td>310.000000</td>\n",
       "      <td>10.000000</td>\n",
       "      <td>65.000000</td>\n",
       "      <td>7846.000000</td>\n",
       "      <td>1.000000</td>\n",
       "      <td>1.000000</td>\n",
       "      <td>2.000000</td>\n",
       "      <td>1.000000</td>\n",
       "      <td>1.000000</td>\n",
       "      <td>1.000000</td>\n",
       "      <td>1.000000</td>\n",
       "      <td>1.000000</td>\n",
       "      <td>1.000000</td>\n",
       "      <td>1.000000</td>\n",
       "      <td>1.000000</td>\n",
       "    </tr>\n",
       "  </tbody>\n",
       "</table>\n",
       "</div>"
      ],
      "text/plain": [
       "                ID  Customer_Care_Calls  Customer_Rating(num)  \\\n",
       "count  10999.00000         10999.000000          10999.000000   \n",
       "mean    5500.00000             4.054459              2.990545   \n",
       "std     3175.28214             1.141490              1.413603   \n",
       "min        1.00000             2.000000              1.000000   \n",
       "25%     2750.50000             3.000000              2.000000   \n",
       "50%     5500.00000             4.000000              3.000000   \n",
       "75%     8249.50000             5.000000              4.000000   \n",
       "max    10999.00000             7.000000              5.000000   \n",
       "\n",
       "       Cost_of_The_Product  Prior_Purchases  Discount_Offered  Weight_in_gms  \\\n",
       "count         10999.000000     10999.000000      10999.000000   10999.000000   \n",
       "mean            210.196836         3.567597         13.373216    3634.016729   \n",
       "std              48.063272         1.522860         16.205527    1635.377251   \n",
       "min              96.000000         2.000000          1.000000    1001.000000   \n",
       "25%             169.000000         3.000000          4.000000    1839.500000   \n",
       "50%             214.000000         3.000000          7.000000    4149.000000   \n",
       "75%             251.000000         4.000000         10.000000    5050.000000   \n",
       "max             310.000000        10.000000         65.000000    7846.000000   \n",
       "\n",
       "       Late_Shipment(num)   Gender(num)  Product_Importance(num)  \\\n",
       "count        10999.000000  10999.000000             10999.000000   \n",
       "mean             0.596691      0.495863                 0.604600   \n",
       "std              0.490584      0.500006                 0.641464   \n",
       "min              0.000000      0.000000                 0.000000   \n",
       "25%              0.000000      0.000000                 0.000000   \n",
       "50%              1.000000      0.000000                 1.000000   \n",
       "75%              1.000000      1.000000                 1.000000   \n",
       "max              1.000000      1.000000                 2.000000   \n",
       "\n",
       "       Warehouse_Block_A  Warehouse_Block_B  Warehouse_Block_C  \\\n",
       "count       10999.000000       10999.000000       10999.000000   \n",
       "mean            0.166652           0.166652           0.166652   \n",
       "std             0.372681           0.372681           0.372681   \n",
       "min             0.000000           0.000000           0.000000   \n",
       "25%             0.000000           0.000000           0.000000   \n",
       "50%             0.000000           0.000000           0.000000   \n",
       "75%             0.000000           0.000000           0.000000   \n",
       "max             1.000000           1.000000           1.000000   \n",
       "\n",
       "       Warehouse_Block_D  Warehouse_Block_F  Mode_of_Shipment_Flight  \\\n",
       "count       10999.000000       10999.000000             10999.000000   \n",
       "mean            0.166742           0.333303                 0.161560   \n",
       "std             0.372763           0.471415                 0.368064   \n",
       "min             0.000000           0.000000                 0.000000   \n",
       "25%             0.000000           0.000000                 0.000000   \n",
       "50%             0.000000           0.000000                 0.000000   \n",
       "75%             0.000000           1.000000                 0.000000   \n",
       "max             1.000000           1.000000                 1.000000   \n",
       "\n",
       "       Mode_of_Shipment_Road  Mode_of_Shipment_Ship  \n",
       "count           10999.000000           10999.000000  \n",
       "mean                0.160015               0.678425  \n",
       "std                 0.366636               0.467102  \n",
       "min                 0.000000               0.000000  \n",
       "25%                 0.000000               0.000000  \n",
       "50%                 0.000000               1.000000  \n",
       "75%                 0.000000               1.000000  \n",
       "max                 1.000000               1.000000  "
      ]
     },
     "execution_count": 11,
     "metadata": {},
     "output_type": "execute_result"
    }
   ],
   "source": [
    "df_shipping.describe()"
   ]
  },
  {
   "cell_type": "markdown",
   "id": "ed665b66",
   "metadata": {},
   "source": [
    "- Variabel `Customer_care_calls` dan `Cost_of_the_Product` sudah cukup simetrik distribusinya mendekati distribusi normal (mean dan median tidak berbeda jauh).\n",
    "- Variabel `Discount_offered` pola persebarannya membentuk positively skewed (mean>median), sedangkan variabel `Weight_in_gms` membentuk negatively skewed (median>mean).\n",
    "- Dilihat dari nilai min, max, median, dan mean, variabel `Prior_purchases` dan `Discount_offered` tampaknya memiliki nilai outlier di titik max."
   ]
  },
  {
   "cell_type": "markdown",
   "id": "86753d9c",
   "metadata": {},
   "source": [
    "## Correlation Heatmap (Setelah Feature Encoding)"
   ]
  },
  {
   "cell_type": "code",
   "execution_count": 15,
   "id": "76f9adae",
   "metadata": {},
   "outputs": [],
   "source": [
    "#Buat data frame baru dimana variabel `ID` untuk sementara di drop\n",
    "df_shippingcorr = df_shipping.drop(['ID'], axis=1)"
   ]
  },
  {
   "cell_type": "code",
   "execution_count": 18,
   "id": "d6d06589",
   "metadata": {},
   "outputs": [
    {
     "data": {
      "text/plain": [
       "<AxesSubplot:>"
      ]
     },
     "execution_count": 18,
     "metadata": {},
     "output_type": "execute_result"
    },
    {
     "data": {
      "image/png": "[encoded data removed]",
      "text/plain": [
       "<Figure size 864x864 with 2 Axes>"
      ]
     },
     "metadata": {
      "needs_background": "light"
     },
     "output_type": "display_data"
    }
   ],
   "source": [
    "# correlation heatmap\n",
    "plt.figure(figsize=(12, 12))\n",
    "sns.heatmap(df_shippingcorr.corr(), cmap='Blues', annot=True, fmt='.2f')"
   ]
  },
  {
   "cell_type": "markdown",
   "id": "e4d9f6c1-f578-415a-8c32-906f9364c55c",
   "metadata": {},
   "source": [
    "## Normalization"
   ]
  },
  {
   "cell_type": "code",
   "execution_count": 12,
   "id": "d407c6f1-7ba8-48c0-947c-edbb87b86564",
   "metadata": {},
   "outputs": [],
   "source": [
    "from sklearn.preprocessing import MinMaxScaler\n",
    "# semua variabel numerik coba kita re-scale\n",
    "df_shipping['norm_Customer_Care_Calls'] = MinMaxScaler().fit_transform(df_shipping['Customer_Care_Calls'].values.reshape(len(df_shipping), 1))\n",
    "df_shipping['norm_Cost_of_The_Product'] = MinMaxScaler().fit_transform(df_shipping['Cost_of_The_Product'].values.reshape(len(df_shipping), 1))\n",
    "df_shipping['norm_Prior_Purchases'] = MinMaxScaler().fit_transform(df_shipping['Prior_Purchases'].values.reshape(len(df_shipping), 1))\n",
    "df_shipping['norm_Discount_Offered'] = MinMaxScaler().fit_transform(df_shipping['Discount_Offered'].values.reshape(len(df_shipping), 1))\n",
    "df_shipping['norm_Weight_in_gms'] = MinMaxScaler().fit_transform(df_shipping['Weight_in_gms'].values.reshape(len(df_shipping), 1))"
   ]
  },
  {
   "cell_type": "code",
   "execution_count": 13,
   "id": "3ed30e06-cd9d-4981-9112-055da87f2af4",
   "metadata": {},
   "outputs": [
    {
     "data": {
      "text/html": [
       "<div>\n",
       "<style scoped>\n",
       "    .dataframe tbody tr th:only-of-type {\n",
       "        vertical-align: middle;\n",
       "    }\n",
       "\n",
       "    .dataframe tbody tr th {\n",
       "        vertical-align: top;\n",
       "    }\n",
       "\n",
       "    .dataframe thead th {\n",
       "        text-align: right;\n",
       "    }\n",
       "</style>\n",
       "<table border=\"1\" class=\"dataframe\">\n",
       "  <thead>\n",
       "    <tr style=\"text-align: right;\">\n",
       "      <th></th>\n",
       "      <th>norm_Cost_of_The_Product</th>\n",
       "      <th>Cost_of_The_Product</th>\n",
       "      <th>Customer_Care_Calls</th>\n",
       "      <th>norm_Discount_Offered</th>\n",
       "      <th>norm_Prior_Purchases</th>\n",
       "      <th>Discount_Offered</th>\n",
       "      <th>Prior_Purchases</th>\n",
       "      <th>norm_Weight_in_gms</th>\n",
       "      <th>norm_Customer_Care_Calls</th>\n",
       "      <th>Weight_in_gms</th>\n",
       "    </tr>\n",
       "  </thead>\n",
       "  <tbody>\n",
       "    <tr>\n",
       "      <th>count</th>\n",
       "      <td>10999.000000</td>\n",
       "      <td>10999.000000</td>\n",
       "      <td>10999.000000</td>\n",
       "      <td>10999.000000</td>\n",
       "      <td>10999.000000</td>\n",
       "      <td>10999.000000</td>\n",
       "      <td>10999.000000</td>\n",
       "      <td>10999.000000</td>\n",
       "      <td>10999.000000</td>\n",
       "      <td>10999.000000</td>\n",
       "    </tr>\n",
       "    <tr>\n",
       "      <th>mean</th>\n",
       "      <td>0.533630</td>\n",
       "      <td>210.196836</td>\n",
       "      <td>4.054459</td>\n",
       "      <td>0.193331</td>\n",
       "      <td>0.195950</td>\n",
       "      <td>13.373216</td>\n",
       "      <td>3.567597</td>\n",
       "      <td>0.384663</td>\n",
       "      <td>0.410892</td>\n",
       "      <td>3634.016729</td>\n",
       "    </tr>\n",
       "    <tr>\n",
       "      <th>std</th>\n",
       "      <td>0.224595</td>\n",
       "      <td>48.063272</td>\n",
       "      <td>1.141490</td>\n",
       "      <td>0.253211</td>\n",
       "      <td>0.190358</td>\n",
       "      <td>16.205527</td>\n",
       "      <td>1.522860</td>\n",
       "      <td>0.238916</td>\n",
       "      <td>0.228298</td>\n",
       "      <td>1635.377251</td>\n",
       "    </tr>\n",
       "    <tr>\n",
       "      <th>min</th>\n",
       "      <td>0.000000</td>\n",
       "      <td>96.000000</td>\n",
       "      <td>2.000000</td>\n",
       "      <td>0.000000</td>\n",
       "      <td>0.000000</td>\n",
       "      <td>1.000000</td>\n",
       "      <td>2.000000</td>\n",
       "      <td>0.000000</td>\n",
       "      <td>0.000000</td>\n",
       "      <td>1001.000000</td>\n",
       "    </tr>\n",
       "    <tr>\n",
       "      <th>25%</th>\n",
       "      <td>0.341121</td>\n",
       "      <td>169.000000</td>\n",
       "      <td>3.000000</td>\n",
       "      <td>0.046875</td>\n",
       "      <td>0.125000</td>\n",
       "      <td>4.000000</td>\n",
       "      <td>3.000000</td>\n",
       "      <td>0.122498</td>\n",
       "      <td>0.200000</td>\n",
       "      <td>1839.500000</td>\n",
       "    </tr>\n",
       "    <tr>\n",
       "      <th>50%</th>\n",
       "      <td>0.551402</td>\n",
       "      <td>214.000000</td>\n",
       "      <td>4.000000</td>\n",
       "      <td>0.093750</td>\n",
       "      <td>0.125000</td>\n",
       "      <td>7.000000</td>\n",
       "      <td>3.000000</td>\n",
       "      <td>0.459898</td>\n",
       "      <td>0.400000</td>\n",
       "      <td>4149.000000</td>\n",
       "    </tr>\n",
       "    <tr>\n",
       "      <th>75%</th>\n",
       "      <td>0.724299</td>\n",
       "      <td>251.000000</td>\n",
       "      <td>5.000000</td>\n",
       "      <td>0.140625</td>\n",
       "      <td>0.250000</td>\n",
       "      <td>10.000000</td>\n",
       "      <td>4.000000</td>\n",
       "      <td>0.591527</td>\n",
       "      <td>0.600000</td>\n",
       "      <td>5050.000000</td>\n",
       "    </tr>\n",
       "    <tr>\n",
       "      <th>max</th>\n",
       "      <td>1.000000</td>\n",
       "      <td>310.000000</td>\n",
       "      <td>7.000000</td>\n",
       "      <td>1.000000</td>\n",
       "      <td>1.000000</td>\n",
       "      <td>65.000000</td>\n",
       "      <td>10.000000</td>\n",
       "      <td>1.000000</td>\n",
       "      <td>1.000000</td>\n",
       "      <td>7846.000000</td>\n",
       "    </tr>\n",
       "  </tbody>\n",
       "</table>\n",
       "</div>"
      ],
      "text/plain": [
       "       norm_Cost_of_The_Product  Cost_of_The_Product  Customer_Care_Calls  \\\n",
       "count              10999.000000         10999.000000         10999.000000   \n",
       "mean                   0.533630           210.196836             4.054459   \n",
       "std                    0.224595            48.063272             1.141490   \n",
       "min                    0.000000            96.000000             2.000000   \n",
       "25%                    0.341121           169.000000             3.000000   \n",
       "50%                    0.551402           214.000000             4.000000   \n",
       "75%                    0.724299           251.000000             5.000000   \n",
       "max                    1.000000           310.000000             7.000000   \n",
       "\n",
       "       norm_Discount_Offered  norm_Prior_Purchases  Discount_Offered  \\\n",
       "count           10999.000000          10999.000000      10999.000000   \n",
       "mean                0.193331              0.195950         13.373216   \n",
       "std                 0.253211              0.190358         16.205527   \n",
       "min                 0.000000              0.000000          1.000000   \n",
       "25%                 0.046875              0.125000          4.000000   \n",
       "50%                 0.093750              0.125000          7.000000   \n",
       "75%                 0.140625              0.250000         10.000000   \n",
       "max                 1.000000              1.000000         65.000000   \n",
       "\n",
       "       Prior_Purchases  norm_Weight_in_gms  norm_Customer_Care_Calls  \\\n",
       "count     10999.000000        10999.000000              10999.000000   \n",
       "mean          3.567597            0.384663                  0.410892   \n",
       "std           1.522860            0.238916                  0.228298   \n",
       "min           2.000000            0.000000                  0.000000   \n",
       "25%           3.000000            0.122498                  0.200000   \n",
       "50%           3.000000            0.459898                  0.400000   \n",
       "75%           4.000000            0.591527                  0.600000   \n",
       "max          10.000000            1.000000                  1.000000   \n",
       "\n",
       "       Weight_in_gms  \n",
       "count   10999.000000  \n",
       "mean     3634.016729  \n",
       "std      1635.377251  \n",
       "min      1001.000000  \n",
       "25%      1839.500000  \n",
       "50%      4149.000000  \n",
       "75%      5050.000000  \n",
       "max      7846.000000  "
      ]
     },
     "execution_count": 13,
     "metadata": {},
     "output_type": "execute_result"
    }
   ],
   "source": [
    "df_shipping[{'Customer_Care_Calls', 'Cost_of_The_Product', 'Prior_Purchases', 'Discount_Offered', 'Weight_in_gms',\n",
    "             'norm_Customer_Care_Calls', 'norm_Cost_of_The_Product', 'norm_Prior_Purchases', 'norm_Discount_Offered', 'norm_Weight_in_gms'}].describe()"
   ]
  },
  {
   "cell_type": "markdown",
   "id": "c433f203-871c-4a78-99e9-93dc26890564",
   "metadata": {},
   "source": [
    "## Standardization"
   ]
  },
  {
   "cell_type": "code",
   "execution_count": 14,
   "id": "d76a08e1-d966-4de3-9990-85871f88b92c",
   "metadata": {},
   "outputs": [],
   "source": [
    "from sklearn.preprocessing import StandardScaler\n",
    "# semua variabel numerik coba kita standardisasi\n",
    "df_shipping['std_Customer_Care_Calls'] = StandardScaler().fit_transform(df_shipping['Customer_Care_Calls'].values.reshape(len(df_shipping), 1))\n",
    "df_shipping['std_Cost_of_The_Product'] = StandardScaler().fit_transform(df_shipping['Cost_of_The_Product'].values.reshape(len(df_shipping), 1))\n",
    "df_shipping['std_Prior_Purchases'] = StandardScaler().fit_transform(df_shipping['Prior_Purchases'].values.reshape(len(df_shipping), 1))\n",
    "df_shipping['std_Discount_Offered'] = StandardScaler().fit_transform(df_shipping['Discount_Offered'].values.reshape(len(df_shipping), 1))\n",
    "df_shipping['std_Weight_in_gms'] = StandardScaler().fit_transform(df_shipping['Weight_in_gms'].values.reshape(len(df_shipping), 1))"
   ]
  },
  {
   "cell_type": "code",
   "execution_count": 15,
   "id": "d0275543-496e-4808-afd3-9a457467dd68",
   "metadata": {},
   "outputs": [
    {
     "data": {
      "text/html": [
       "<div>\n",
       "<style scoped>\n",
       "    .dataframe tbody tr th:only-of-type {\n",
       "        vertical-align: middle;\n",
       "    }\n",
       "\n",
       "    .dataframe tbody tr th {\n",
       "        vertical-align: top;\n",
       "    }\n",
       "\n",
       "    .dataframe thead th {\n",
       "        text-align: right;\n",
       "    }\n",
       "</style>\n",
       "<table border=\"1\" class=\"dataframe\">\n",
       "  <thead>\n",
       "    <tr style=\"text-align: right;\">\n",
       "      <th></th>\n",
       "      <th>Cost_of_The_Product</th>\n",
       "      <th>std_Customer_Care_Calls</th>\n",
       "      <th>Customer_Care_Calls</th>\n",
       "      <th>std_Weight_in_gms</th>\n",
       "      <th>std_Discount_Offered</th>\n",
       "      <th>Discount_Offered</th>\n",
       "      <th>std_Prior_Purchases</th>\n",
       "      <th>Prior_Purchases</th>\n",
       "      <th>std_Cost_of_The_Product</th>\n",
       "      <th>Weight_in_gms</th>\n",
       "    </tr>\n",
       "  </thead>\n",
       "  <tbody>\n",
       "    <tr>\n",
       "      <th>count</th>\n",
       "      <td>10999.000000</td>\n",
       "      <td>1.099900e+04</td>\n",
       "      <td>10999.000000</td>\n",
       "      <td>1.099900e+04</td>\n",
       "      <td>1.099900e+04</td>\n",
       "      <td>10999.000000</td>\n",
       "      <td>1.099900e+04</td>\n",
       "      <td>10999.000000</td>\n",
       "      <td>1.099900e+04</td>\n",
       "      <td>10999.000000</td>\n",
       "    </tr>\n",
       "    <tr>\n",
       "      <th>mean</th>\n",
       "      <td>210.196836</td>\n",
       "      <td>1.128796e-15</td>\n",
       "      <td>4.054459</td>\n",
       "      <td>-4.676483e-16</td>\n",
       "      <td>-1.286048e-14</td>\n",
       "      <td>13.373216</td>\n",
       "      <td>-2.054180e-15</td>\n",
       "      <td>3.567597</td>\n",
       "      <td>-2.113653e-16</td>\n",
       "      <td>3634.016729</td>\n",
       "    </tr>\n",
       "    <tr>\n",
       "      <th>std</th>\n",
       "      <td>48.063272</td>\n",
       "      <td>1.000045e+00</td>\n",
       "      <td>1.141490</td>\n",
       "      <td>1.000045e+00</td>\n",
       "      <td>1.000045e+00</td>\n",
       "      <td>16.205527</td>\n",
       "      <td>1.000045e+00</td>\n",
       "      <td>1.522860</td>\n",
       "      <td>1.000045e+00</td>\n",
       "      <td>1635.377251</td>\n",
       "    </tr>\n",
       "    <tr>\n",
       "      <th>min</th>\n",
       "      <td>96.000000</td>\n",
       "      <td>-1.799887e+00</td>\n",
       "      <td>2.000000</td>\n",
       "      <td>-1.610109e+00</td>\n",
       "      <td>-7.635530e-01</td>\n",
       "      <td>1.000000</td>\n",
       "      <td>-1.029424e+00</td>\n",
       "      <td>2.000000</td>\n",
       "      <td>-2.376077e+00</td>\n",
       "      <td>1001.000000</td>\n",
       "    </tr>\n",
       "    <tr>\n",
       "      <th>25%</th>\n",
       "      <td>169.000000</td>\n",
       "      <td>-9.237994e-01</td>\n",
       "      <td>3.000000</td>\n",
       "      <td>-1.097360e+00</td>\n",
       "      <td>-5.784225e-01</td>\n",
       "      <td>4.000000</td>\n",
       "      <td>-3.727348e-01</td>\n",
       "      <td>3.000000</td>\n",
       "      <td>-8.571765e-01</td>\n",
       "      <td>1839.500000</td>\n",
       "    </tr>\n",
       "    <tr>\n",
       "      <th>50%</th>\n",
       "      <td>214.000000</td>\n",
       "      <td>-4.771132e-02</td>\n",
       "      <td>4.000000</td>\n",
       "      <td>3.149161e-01</td>\n",
       "      <td>-3.932921e-01</td>\n",
       "      <td>7.000000</td>\n",
       "      <td>-3.727348e-01</td>\n",
       "      <td>3.000000</td>\n",
       "      <td>7.913188e-02</td>\n",
       "      <td>4149.000000</td>\n",
       "    </tr>\n",
       "    <tr>\n",
       "      <th>75%</th>\n",
       "      <td>251.000000</td>\n",
       "      <td>8.283768e-01</td>\n",
       "      <td>5.000000</td>\n",
       "      <td>8.658844e-01</td>\n",
       "      <td>-2.081616e-01</td>\n",
       "      <td>10.000000</td>\n",
       "      <td>2.839543e-01</td>\n",
       "      <td>4.000000</td>\n",
       "      <td>8.489855e-01</td>\n",
       "      <td>5050.000000</td>\n",
       "    </tr>\n",
       "    <tr>\n",
       "      <th>max</th>\n",
       "      <td>310.000000</td>\n",
       "      <td>2.580553e+00</td>\n",
       "      <td>7.000000</td>\n",
       "      <td>2.575659e+00</td>\n",
       "      <td>3.185896e+00</td>\n",
       "      <td>65.000000</td>\n",
       "      <td>4.224088e+00</td>\n",
       "      <td>10.000000</td>\n",
       "      <td>2.076590e+00</td>\n",
       "      <td>7846.000000</td>\n",
       "    </tr>\n",
       "  </tbody>\n",
       "</table>\n",
       "</div>"
      ],
      "text/plain": [
       "       Cost_of_The_Product  std_Customer_Care_Calls  Customer_Care_Calls  \\\n",
       "count         10999.000000             1.099900e+04         10999.000000   \n",
       "mean            210.196836             1.128796e-15             4.054459   \n",
       "std              48.063272             1.000045e+00             1.141490   \n",
       "min              96.000000            -1.799887e+00             2.000000   \n",
       "25%             169.000000            -9.237994e-01             3.000000   \n",
       "50%             214.000000            -4.771132e-02             4.000000   \n",
       "75%             251.000000             8.283768e-01             5.000000   \n",
       "max             310.000000             2.580553e+00             7.000000   \n",
       "\n",
       "       std_Weight_in_gms  std_Discount_Offered  Discount_Offered  \\\n",
       "count       1.099900e+04          1.099900e+04      10999.000000   \n",
       "mean       -4.676483e-16         -1.286048e-14         13.373216   \n",
       "std         1.000045e+00          1.000045e+00         16.205527   \n",
       "min        -1.610109e+00         -7.635530e-01          1.000000   \n",
       "25%        -1.097360e+00         -5.784225e-01          4.000000   \n",
       "50%         3.149161e-01         -3.932921e-01          7.000000   \n",
       "75%         8.658844e-01         -2.081616e-01         10.000000   \n",
       "max         2.575659e+00          3.185896e+00         65.000000   \n",
       "\n",
       "       std_Prior_Purchases  Prior_Purchases  std_Cost_of_The_Product  \\\n",
       "count         1.099900e+04     10999.000000             1.099900e+04   \n",
       "mean         -2.054180e-15         3.567597            -2.113653e-16   \n",
       "std           1.000045e+00         1.522860             1.000045e+00   \n",
       "min          -1.029424e+00         2.000000            -2.376077e+00   \n",
       "25%          -3.727348e-01         3.000000            -8.571765e-01   \n",
       "50%          -3.727348e-01         3.000000             7.913188e-02   \n",
       "75%           2.839543e-01         4.000000             8.489855e-01   \n",
       "max           4.224088e+00        10.000000             2.076590e+00   \n",
       "\n",
       "       Weight_in_gms  \n",
       "count   10999.000000  \n",
       "mean     3634.016729  \n",
       "std      1635.377251  \n",
       "min      1001.000000  \n",
       "25%      1839.500000  \n",
       "50%      4149.000000  \n",
       "75%      5050.000000  \n",
       "max      7846.000000  "
      ]
     },
     "execution_count": 15,
     "metadata": {},
     "output_type": "execute_result"
    }
   ],
   "source": [
    "df_shipping[{'Customer_Care_Calls', 'Cost_of_The_Product', 'Prior_Purchases', 'Discount_Offered', 'Weight_in_gms',\n",
    "             'std_Customer_Care_Calls', 'std_Cost_of_The_Product', 'std_Prior_Purchases', 'std_Discount_Offered', 'std_Weight_in_gms'}].describe()"
   ]
  },
  {
   "cell_type": "markdown",
   "id": "8924cc1a",
   "metadata": {},
   "source": [
    "## Log/Exp Transformation"
   ]
  },
  {
   "cell_type": "code",
   "execution_count": 16,
   "id": "33dc4845",
   "metadata": {},
   "outputs": [
    {
     "data": {
      "text/plain": [
       "<AxesSubplot:xlabel='Discount_Offered', ylabel='Density'>"
      ]
     },
     "execution_count": 16,
     "metadata": {},
     "output_type": "execute_result"
    },
    {
     "data": {
      "image/png": "[encoded data removed]",
      "text/plain": [
       "<Figure size 432x288 with 1 Axes>"
      ]
     },
     "metadata": {
      "needs_background": "light"
     },
     "output_type": "display_data"
    }
   ],
   "source": [
    "#distribusi Discount_Offered (nilai asli)\n",
    "sns.kdeplot(df_shipping['Discount_Offered'])"
   ]
  },
  {
   "cell_type": "code",
   "execution_count": 20,
   "id": "5c3873c8",
   "metadata": {},
   "outputs": [
    {
     "data": {
      "text/plain": [
       "<AxesSubplot:xlabel='Prior_Purchases', ylabel='Density'>"
      ]
     },
     "execution_count": 20,
     "metadata": {},
     "output_type": "execute_result"
    },
    {
     "data": {
      "image/png": "[encoded data removed]",
      "text/plain": [
       "<Figure size 432x288 with 1 Axes>"
      ]
     },
     "metadata": {
      "needs_background": "light"
     },
     "output_type": "display_data"
    }
   ],
   "source": [
    "#distribusi Prior_Purchases (nilai asli)\n",
    "sns.kdeplot(df_shipping['Prior_Purchases'])"
   ]
  },
  {
   "cell_type": "code",
   "execution_count": 21,
   "id": "7ce05017",
   "metadata": {},
   "outputs": [
    {
     "data": {
      "text/plain": [
       "<AxesSubplot:xlabel='Discount_Offered', ylabel='Density'>"
      ]
     },
     "execution_count": 21,
     "metadata": {},
     "output_type": "execute_result"
    },
    {
     "data": {
      "image/png": "[encoded data removed]",
      "text/plain": [
       "<Figure size 432x288 with 1 Axes>"
      ]
     },
     "metadata": {
      "needs_background": "light"
     },
     "output_type": "display_data"
    }
   ],
   "source": [
    "#distribusi Discount_Offered (setelah log transformation)\n",
    "sns.kdeplot(np.log(df_shipping['Discount_Offered']))"
   ]
  },
  {
   "cell_type": "code",
   "execution_count": 22,
   "id": "6ff868d4",
   "metadata": {},
   "outputs": [
    {
     "data": {
      "text/plain": [
       "<AxesSubplot:xlabel='Prior_Purchases', ylabel='Density'>"
      ]
     },
     "execution_count": 22,
     "metadata": {},
     "output_type": "execute_result"
    },
    {
     "data": {
      "image/png": "[encoded data removed]",
      "text/plain": [
       "<Figure size 432x288 with 1 Axes>"
      ]
     },
     "metadata": {
      "needs_background": "light"
     },
     "output_type": "display_data"
    }
   ],
   "source": [
    "#distribusi Prior_Purchases (setelah log transformation)\n",
    "sns.kdeplot(np.log(df_shipping['Prior_Purchases']))"
   ]
  },
  {
   "cell_type": "code",
   "execution_count": 17,
   "id": "51f96f22",
   "metadata": {},
   "outputs": [],
   "source": [
    "#tranformasi log\n",
    "df_shipping['log_Discount_Offered'] = np.log(df_shipping['Discount_Offered'])\n",
    "df_shipping['log_Prior_Purchases'] = np.log(df_shipping['Prior_Purchases'])"
   ]
  },
  {
   "cell_type": "code",
   "execution_count": 18,
   "id": "78cce052",
   "metadata": {},
   "outputs": [
    {
     "data": {
      "text/html": [
       "<div>\n",
       "<style scoped>\n",
       "    .dataframe tbody tr th:only-of-type {\n",
       "        vertical-align: middle;\n",
       "    }\n",
       "\n",
       "    .dataframe tbody tr th {\n",
       "        vertical-align: top;\n",
       "    }\n",
       "\n",
       "    .dataframe thead th {\n",
       "        text-align: right;\n",
       "    }\n",
       "</style>\n",
       "<table border=\"1\" class=\"dataframe\">\n",
       "  <thead>\n",
       "    <tr style=\"text-align: right;\">\n",
       "      <th></th>\n",
       "      <th>Prior_Purchases</th>\n",
       "      <th>log_Discount_Offered</th>\n",
       "      <th>log_Prior_Purchases</th>\n",
       "      <th>Discount_Offered</th>\n",
       "    </tr>\n",
       "  </thead>\n",
       "  <tbody>\n",
       "    <tr>\n",
       "      <th>count</th>\n",
       "      <td>10999.000000</td>\n",
       "      <td>10999.000000</td>\n",
       "      <td>10999.000000</td>\n",
       "      <td>10999.000000</td>\n",
       "    </tr>\n",
       "    <tr>\n",
       "      <th>mean</th>\n",
       "      <td>3.567597</td>\n",
       "      <td>1.998420</td>\n",
       "      <td>1.195669</td>\n",
       "      <td>13.373216</td>\n",
       "    </tr>\n",
       "    <tr>\n",
       "      <th>std</th>\n",
       "      <td>1.522860</td>\n",
       "      <td>1.083692</td>\n",
       "      <td>0.379769</td>\n",
       "      <td>16.205527</td>\n",
       "    </tr>\n",
       "    <tr>\n",
       "      <th>min</th>\n",
       "      <td>2.000000</td>\n",
       "      <td>0.000000</td>\n",
       "      <td>0.693147</td>\n",
       "      <td>1.000000</td>\n",
       "    </tr>\n",
       "    <tr>\n",
       "      <th>25%</th>\n",
       "      <td>3.000000</td>\n",
       "      <td>1.386294</td>\n",
       "      <td>1.098612</td>\n",
       "      <td>4.000000</td>\n",
       "    </tr>\n",
       "    <tr>\n",
       "      <th>50%</th>\n",
       "      <td>3.000000</td>\n",
       "      <td>1.945910</td>\n",
       "      <td>1.098612</td>\n",
       "      <td>7.000000</td>\n",
       "    </tr>\n",
       "    <tr>\n",
       "      <th>75%</th>\n",
       "      <td>4.000000</td>\n",
       "      <td>2.302585</td>\n",
       "      <td>1.386294</td>\n",
       "      <td>10.000000</td>\n",
       "    </tr>\n",
       "    <tr>\n",
       "      <th>max</th>\n",
       "      <td>10.000000</td>\n",
       "      <td>4.174387</td>\n",
       "      <td>2.302585</td>\n",
       "      <td>65.000000</td>\n",
       "    </tr>\n",
       "  </tbody>\n",
       "</table>\n",
       "</div>"
      ],
      "text/plain": [
       "       Prior_Purchases  log_Discount_Offered  log_Prior_Purchases  \\\n",
       "count     10999.000000          10999.000000         10999.000000   \n",
       "mean          3.567597              1.998420             1.195669   \n",
       "std           1.522860              1.083692             0.379769   \n",
       "min           2.000000              0.000000             0.693147   \n",
       "25%           3.000000              1.386294             1.098612   \n",
       "50%           3.000000              1.945910             1.098612   \n",
       "75%           4.000000              2.302585             1.386294   \n",
       "max          10.000000              4.174387             2.302585   \n",
       "\n",
       "       Discount_Offered  \n",
       "count      10999.000000  \n",
       "mean          13.373216  \n",
       "std           16.205527  \n",
       "min            1.000000  \n",
       "25%            4.000000  \n",
       "50%            7.000000  \n",
       "75%           10.000000  \n",
       "max           65.000000  "
      ]
     },
     "execution_count": 18,
     "metadata": {},
     "output_type": "execute_result"
    }
   ],
   "source": [
    "df_shipping[{'Discount_Offered', 'log_Discount_Offered', 'Prior_Purchases', 'log_Prior_Purchases'}].describe()"
   ]
  },
  {
   "cell_type": "markdown",
   "id": "101b6b10",
   "metadata": {},
   "source": [
    "## Standardization"
   ]
  },
  {
   "cell_type": "code",
   "execution_count": 25,
   "id": "5e889c3f",
   "metadata": {},
   "outputs": [
    {
     "data": {
      "text/plain": [
       "<AxesSubplot:xlabel='Weight_in_gms', ylabel='Density'>"
      ]
     },
     "execution_count": 25,
     "metadata": {},
     "output_type": "execute_result"
    },
    {
     "data": {
      "image/png": "[encoded data removed]",
      "text/plain": [
       "<Figure size 432x288 with 1 Axes>"
      ]
     },
     "metadata": {
      "needs_background": "light"
     },
     "output_type": "display_data"
    }
   ],
   "source": [
    "#distribusi Discount_Offered (nilai asli)\n",
    "sns.kdeplot(df_shipping['Weight_in_gms'])"
   ]
  },
  {
   "cell_type": "code",
   "execution_count": 29,
   "id": "f2774b78",
   "metadata": {},
   "outputs": [],
   "source": [
    "from sklearn.preprocessing import MinMaxScaler, StandardScaler\n",
    "\n",
    "# standardisasi Weight_in_gms\n",
    "df_shipping['std_Weight_in_gms'] = StandardScaler().fit_transform(df_shipping['Weight_in_gms'].values.reshape(len(df_shipping), 1))"
   ]
  },
  {
   "cell_type": "code",
   "execution_count": 30,
   "id": "73d96177",
   "metadata": {},
   "outputs": [
    {
     "data": {
      "text/html": [
       "<div>\n",
       "<style scoped>\n",
       "    .dataframe tbody tr th:only-of-type {\n",
       "        vertical-align: middle;\n",
       "    }\n",
       "\n",
       "    .dataframe tbody tr th {\n",
       "        vertical-align: top;\n",
       "    }\n",
       "\n",
       "    .dataframe thead th {\n",
       "        text-align: right;\n",
       "    }\n",
       "</style>\n",
       "<table border=\"1\" class=\"dataframe\">\n",
       "  <thead>\n",
       "    <tr style=\"text-align: right;\">\n",
       "      <th></th>\n",
       "      <th>std_Weight_in_gms</th>\n",
       "      <th>Weight_in_gms</th>\n",
       "    </tr>\n",
       "  </thead>\n",
       "  <tbody>\n",
       "    <tr>\n",
       "      <th>count</th>\n",
       "      <td>1.099900e+04</td>\n",
       "      <td>10999.000000</td>\n",
       "    </tr>\n",
       "    <tr>\n",
       "      <th>mean</th>\n",
       "      <td>-4.676483e-16</td>\n",
       "      <td>3634.016729</td>\n",
       "    </tr>\n",
       "    <tr>\n",
       "      <th>std</th>\n",
       "      <td>1.000045e+00</td>\n",
       "      <td>1635.377251</td>\n",
       "    </tr>\n",
       "    <tr>\n",
       "      <th>min</th>\n",
       "      <td>-1.610109e+00</td>\n",
       "      <td>1001.000000</td>\n",
       "    </tr>\n",
       "    <tr>\n",
       "      <th>25%</th>\n",
       "      <td>-1.097360e+00</td>\n",
       "      <td>1839.500000</td>\n",
       "    </tr>\n",
       "    <tr>\n",
       "      <th>50%</th>\n",
       "      <td>3.149161e-01</td>\n",
       "      <td>4149.000000</td>\n",
       "    </tr>\n",
       "    <tr>\n",
       "      <th>75%</th>\n",
       "      <td>8.658844e-01</td>\n",
       "      <td>5050.000000</td>\n",
       "    </tr>\n",
       "    <tr>\n",
       "      <th>max</th>\n",
       "      <td>2.575659e+00</td>\n",
       "      <td>7846.000000</td>\n",
       "    </tr>\n",
       "  </tbody>\n",
       "</table>\n",
       "</div>"
      ],
      "text/plain": [
       "       std_Weight_in_gms  Weight_in_gms\n",
       "count       1.099900e+04   10999.000000\n",
       "mean       -4.676483e-16    3634.016729\n",
       "std         1.000045e+00    1635.377251\n",
       "min        -1.610109e+00    1001.000000\n",
       "25%        -1.097360e+00    1839.500000\n",
       "50%         3.149161e-01    4149.000000\n",
       "75%         8.658844e-01    5050.000000\n",
       "max         2.575659e+00    7846.000000"
      ]
     },
     "execution_count": 30,
     "metadata": {},
     "output_type": "execute_result"
    }
   ],
   "source": [
    "df_shipping[{'Weight_in_gms', 'std_Weight_in_gms'}].describe()"
   ]
  },
  {
   "cell_type": "code",
   "execution_count": 31,
   "id": "ec495984",
   "metadata": {},
   "outputs": [
    {
     "data": {
      "text/plain": [
       "<AxesSubplot:xlabel='std_Weight_in_gms', ylabel='Density'>"
      ]
     },
     "execution_count": 31,
     "metadata": {},
     "output_type": "execute_result"
    },
    {
     "data": {
      "image/png": "[encoded data removed]",
      "text/plain": [
       "<Figure size 432x288 with 1 Axes>"
      ]
     },
     "metadata": {
      "needs_background": "light"
     },
     "output_type": "display_data"
    }
   ],
   "source": [
    "sns.kdeplot(df_shipping['std_Weight_in_gms'])"
   ]
  },
  {
   "cell_type": "code",
   "execution_count": 32,
   "id": "f2678413",
   "metadata": {},
   "outputs": [
    {
     "data": {
      "text/plain": [
       "<AxesSubplot:xlabel='Weight_in_gms', ylabel='Density'>"
      ]
     },
     "execution_count": 32,
     "metadata": {},
     "output_type": "execute_result"
    },
    {
     "data": {
      "image/png": "[encoded data removed]",
      "text/plain": [
       "<Figure size 432x288 with 1 Axes>"
      ]
     },
     "metadata": {
      "needs_background": "light"
     },
     "output_type": "display_data"
    }
   ],
   "source": [
    "#coba log transformation Weight_in_gms\n",
    "sns.kdeplot(np.log(df_shipping['Weight_in_gms']))"
   ]
  },
  {
   "cell_type": "code",
   "execution_count": 19,
   "id": "f081cbf8",
   "metadata": {},
   "outputs": [],
   "source": [
    "#coba root square Weight_in_gms\n",
    "df_shipping['rts_Weight_in_gms'] = np.sqrt(df_shipping['Weight_in_gms'])"
   ]
  },
  {
   "cell_type": "code",
   "execution_count": 20,
   "id": "f50d913f",
   "metadata": {},
   "outputs": [
    {
     "data": {
      "text/plain": [
       "<AxesSubplot:xlabel='rts_Weight_in_gms', ylabel='Density'>"
      ]
     },
     "execution_count": 20,
     "metadata": {},
     "output_type": "execute_result"
    },
    {
     "data": {
      "image/png": "[encoded data removed]",
      "text/plain": [
       "<Figure size 432x288 with 1 Axes>"
      ]
     },
     "metadata": {
      "needs_background": "light"
     },
     "output_type": "display_data"
    }
   ],
   "source": [
    "sns.kdeplot(df_shipping['rts_Weight_in_gms'])"
   ]
  },
  {
   "cell_type": "markdown",
   "id": "8585009e",
   "metadata": {},
   "source": [
    "## Pengelompokkan kolom pada Data base"
   ]
  },
  {
   "cell_type": "code",
   "execution_count": 21,
   "id": "f8855c74-2152-420a-bb4c-edc17fa49949",
   "metadata": {},
   "outputs": [
    {
     "name": "stdout",
     "output_type": "stream",
     "text": [
      "<class 'pandas.core.frame.DataFrame'>\n",
      "RangeIndex: 10999 entries, 0 to 10998\n",
      "Data columns (total 37 columns):\n",
      " #   Column                    Non-Null Count  Dtype  \n",
      "---  ------                    --------------  -----  \n",
      " 0   ID                        10999 non-null  int64  \n",
      " 1   Warehouse_Block           10999 non-null  object \n",
      " 2   Mode_of_Shipment          10999 non-null  object \n",
      " 3   Customer_Care_Calls       10999 non-null  int64  \n",
      " 4   Customer_Rating(num)      10999 non-null  int64  \n",
      " 5   Cost_of_The_Product       10999 non-null  int64  \n",
      " 6   Prior_Purchases           10999 non-null  int64  \n",
      " 7   Product_Importance        10999 non-null  object \n",
      " 8   Gender                    10999 non-null  object \n",
      " 9   Discount_Offered          10999 non-null  int64  \n",
      " 10  Weight_in_gms             10999 non-null  int64  \n",
      " 11  Late_Shipment(num)        10999 non-null  int64  \n",
      " 12  Customer_Rating(cat)      10999 non-null  object \n",
      " 13  Late_Shipment(cat)        10999 non-null  object \n",
      " 14  Gender(num)               10999 non-null  int64  \n",
      " 15  Product_Importance(num)   10999 non-null  int64  \n",
      " 16  Warehouse_Block_A         10999 non-null  uint8  \n",
      " 17  Warehouse_Block_B         10999 non-null  uint8  \n",
      " 18  Warehouse_Block_C         10999 non-null  uint8  \n",
      " 19  Warehouse_Block_D         10999 non-null  uint8  \n",
      " 20  Warehouse_Block_F         10999 non-null  uint8  \n",
      " 21  Mode_of_Shipment_Flight   10999 non-null  uint8  \n",
      " 22  Mode_of_Shipment_Road     10999 non-null  uint8  \n",
      " 23  Mode_of_Shipment_Ship     10999 non-null  uint8  \n",
      " 24  norm_Customer_Care_Calls  10999 non-null  float64\n",
      " 25  norm_Cost_of_The_Product  10999 non-null  float64\n",
      " 26  norm_Prior_Purchases      10999 non-null  float64\n",
      " 27  norm_Discount_Offered     10999 non-null  float64\n",
      " 28  norm_Weight_in_gms        10999 non-null  float64\n",
      " 29  std_Customer_Care_Calls   10999 non-null  float64\n",
      " 30  std_Cost_of_The_Product   10999 non-null  float64\n",
      " 31  std_Prior_Purchases       10999 non-null  float64\n",
      " 32  std_Discount_Offered      10999 non-null  float64\n",
      " 33  std_Weight_in_gms         10999 non-null  float64\n",
      " 34  log_Discount_Offered      10999 non-null  float64\n",
      " 35  log_Prior_Purchases       10999 non-null  float64\n",
      " 36  rts_Weight_in_gms         10999 non-null  float64\n",
      "dtypes: float64(13), int64(10), object(6), uint8(8)\n",
      "memory usage: 2.5+ MB\n"
     ]
    }
   ],
   "source": [
    "df_shipping.info()"
   ]
  },
  {
   "cell_type": "code",
   "execution_count": 22,
   "id": "7b2da403-3ce2-413b-b457-dc176b86fceb",
   "metadata": {},
   "outputs": [],
   "source": [
    "#Pengelompokan kolom berdasarkan jenisnya\n",
    "integer = ['Customer_Care_Calls', 'Cost_of_The_Product', 'Prior_Purchases', 'Discount_Offered', 'Weight_in_gms']\n",
    "category = ['Warehouse_Block', 'Mode_of_Shipment', 'Product_Importance', 'Gender', 'Customer_Rating(cat)', 'Late_Shipment(cat)']\n",
    "normalization = ['norm_Customer_Care_Calls', 'norm_Cost_of_The_Product', 'norm_Prior_Purchases', 'norm_Discount_Offered', 'norm_Weight_in_gms']\n",
    "standardization = ['std_Customer_Care_Calls', 'std_Cost_of_The_Product', 'std_Prior_Purchases', 'std_Discount_Offered', 'std_Weight_in_gms']\n",
    "log = ['log_Discount_Offered', 'log_Prior_Purchases']\n",
    "rts = ['rts_Weight_in_gms']\n",
    "binary = ['Late_Shipment(num)', 'Gender(num)', 'Warehouse_Block_A', 'Warehouse_Block_B', 'Warehouse_Block_C', 'Warehouse_Block_D', 'Warehouse_Block_F',\n",
    "          'Mode_of_Shipment_Flight', 'Mode_of_Shipment_Road', 'Mode_of_Shipment_Ship']\n",
    "ordinal = ['Customer_Rating(num)', 'Product_Importance(num)']"
   ]
  },
  {
   "cell_type": "markdown",
   "id": "75ab9c5b",
   "metadata": {},
   "source": [
    "## Outliers Handling"
   ]
  },
  {
   "cell_type": "code",
   "execution_count": 12,
   "id": "6f5e860d",
   "metadata": {},
   "outputs": [
    {
     "name": "stdout",
     "output_type": "stream",
     "text": [
      "<class 'pandas.core.frame.DataFrame'>\n",
      "RangeIndex: 10999 entries, 0 to 10998\n",
      "Data columns (total 27 columns):\n",
      " #   Column                   Non-Null Count  Dtype  \n",
      "---  ------                   --------------  -----  \n",
      " 0   ID                       10999 non-null  int64  \n",
      " 1   Warehouse_Block          10999 non-null  object \n",
      " 2   Mode_of_Shipment         10999 non-null  object \n",
      " 3   Customer_Care_Calls      10999 non-null  int64  \n",
      " 4   Customer_Rating(num)     10999 non-null  int64  \n",
      " 5   Cost_of_The_Product      10999 non-null  int64  \n",
      " 6   Prior_Purchases          10999 non-null  int64  \n",
      " 7   Product_Importance       10999 non-null  object \n",
      " 8   Gender                   10999 non-null  object \n",
      " 9   Discount_Offered         10999 non-null  int64  \n",
      " 10  Weight_in_gms            10999 non-null  int64  \n",
      " 11  Late_Shipment(num)       10999 non-null  int64  \n",
      " 12  Customer_Rating(cat)     10999 non-null  object \n",
      " 13  Late_Shipment(cat)       10999 non-null  object \n",
      " 14  Gender(num)              10999 non-null  int64  \n",
      " 15  Product_Importance(num)  10999 non-null  int64  \n",
      " 16  Warehouse_Block_A        10999 non-null  uint8  \n",
      " 17  Warehouse_Block_B        10999 non-null  uint8  \n",
      " 18  Warehouse_Block_C        10999 non-null  uint8  \n",
      " 19  Warehouse_Block_D        10999 non-null  uint8  \n",
      " 20  Warehouse_Block_F        10999 non-null  uint8  \n",
      " 21  Mode_of_Shipment_Flight  10999 non-null  uint8  \n",
      " 22  Mode_of_Shipment_Road    10999 non-null  uint8  \n",
      " 23  Mode_of_Shipment_Ship    10999 non-null  uint8  \n",
      " 24  log_Discount_Offered     10999 non-null  float64\n",
      " 25  log_Prior_Purchases      10999 non-null  float64\n",
      " 26  rts_Weight_in_gms        10999 non-null  float64\n",
      "dtypes: float64(3), int64(10), object(6), uint8(8)\n",
      "memory usage: 1.7+ MB\n"
     ]
    }
   ],
   "source": [
    "#Info dataset setelah feature encoding dan enginering\n",
    "df_shipping.info()"
   ]
  },
  {
   "cell_type": "code",
   "execution_count": 57,
   "id": "6918a1d5",
   "metadata": {},
   "outputs": [],
   "source": [
    "#Pengelompokan kolom berdasarkan jenisnya\n",
    "number = ['Customer_Care_Calls', 'Cost_of_The_Product', 'Prior_Purchases', 'Discount_Offered', 'Weight_in_gms', \n",
    "          'Customer_Rating(num)', 'Late_Shipment(num)', 'log_Discount_Offered', 'log_Prior_Purchases']\n",
    "category = ['Warehouse_Block', 'Mode_of_Shipment', 'Product_Importance', 'Gender', 'Customer_Rating(cat)', 'Late_Shipment(cat)']"
   ]
  },
  {
   "cell_type": "code",
   "execution_count": 35,
   "id": "fb033d7b",
   "metadata": {},
   "outputs": [],
   "source": [
    "#menghilangkan outliers menggunakan z-score\n",
    "from scipy import stats"
   ]
  },
  {
   "cell_type": "code",
   "execution_count": 36,
   "id": "01495c4f",
   "metadata": {},
   "outputs": [
    {
     "name": "stdout",
     "output_type": "stream",
     "text": [
      "Jumlah baris sebelum outlier dihilangkan: 10999\n",
      "Jumlah baris setelah memfilter outlier: 10642\n"
     ]
    }
   ],
   "source": [
    "print(f'Jumlah baris sebelum outlier dihilangkan: {len(df_shipping)}')\n",
    "\n",
    "filtered_entries = np.array([True] * len(df_shipping))\n",
    "\n",
    "for column in number:\n",
    "    zscore = abs(stats.zscore(df_shipping[column])) # hitung absolute z-scorenya\n",
    "    filtered_entries = (zscore < 3) & filtered_entries # keep yang kurang dari 3 absolute z-scorenya\n",
    "    \n",
    "df_outlierhandling = df_shipping[filtered_entries] # filter, cuma ambil yang z-scorenya dibawah 3\n",
    "\n",
    "print(f'Jumlah baris setelah memfilter outlier: {len(df_outlierhandling)}')"
   ]
  },
  {
   "cell_type": "code",
   "execution_count": 37,
   "id": "a4d893d1",
   "metadata": {},
   "outputs": [
    {
     "name": "stdout",
     "output_type": "stream",
     "text": [
      "<class 'pandas.core.frame.DataFrame'>\n",
      "Int64Index: 10642 entries, 0 to 10998\n",
      "Data columns (total 27 columns):\n",
      " #   Column                   Non-Null Count  Dtype  \n",
      "---  ------                   --------------  -----  \n",
      " 0   ID                       10642 non-null  int64  \n",
      " 1   Warehouse_Block          10642 non-null  object \n",
      " 2   Mode_of_Shipment         10642 non-null  object \n",
      " 3   Customer_Care_Calls      10642 non-null  int64  \n",
      " 4   Customer_Rating(num)     10642 non-null  int64  \n",
      " 5   Cost_of_The_Product      10642 non-null  int64  \n",
      " 6   Prior_Purchases          10642 non-null  int64  \n",
      " 7   Product_Importance       10642 non-null  object \n",
      " 8   Gender                   10642 non-null  object \n",
      " 9   Discount_Offered         10642 non-null  int64  \n",
      " 10  Weight_in_gms            10642 non-null  int64  \n",
      " 11  Late_Shipment(num)       10642 non-null  int64  \n",
      " 12  Customer_Rating(cat)     10642 non-null  object \n",
      " 13  Late_Shipment(cat)       10642 non-null  object \n",
      " 14  Gender(num)              10642 non-null  int64  \n",
      " 15  Product_Importance(num)  10642 non-null  int64  \n",
      " 16  Warehouse_Block_A        10642 non-null  uint8  \n",
      " 17  Warehouse_Block_B        10642 non-null  uint8  \n",
      " 18  Warehouse_Block_C        10642 non-null  uint8  \n",
      " 19  Warehouse_Block_D        10642 non-null  uint8  \n",
      " 20  Warehouse_Block_F        10642 non-null  uint8  \n",
      " 21  Mode_of_Shipment_Flight  10642 non-null  uint8  \n",
      " 22  Mode_of_Shipment_Road    10642 non-null  uint8  \n",
      " 23  Mode_of_Shipment_Ship    10642 non-null  uint8  \n",
      " 24  log_Discount_Offered     10642 non-null  float64\n",
      " 25  log_Prior_Purchases      10642 non-null  float64\n",
      " 26  std_Weight_in_gms        10642 non-null  float64\n",
      "dtypes: float64(3), int64(10), object(6), uint8(8)\n",
      "memory usage: 1.7+ MB\n"
     ]
    }
   ],
   "source": [
    "df_outlierhandling.info()"
   ]
  },
  {
   "cell_type": "code",
   "execution_count": 38,
   "id": "4a104689",
   "metadata": {},
   "outputs": [
    {
     "data": {
      "image/png": "[encoded data removed]",
      "text/plain": [
       "<Figure size 720x360 with 9 Axes>"
      ]
     },
     "metadata": {
      "needs_background": "light"
     },
     "output_type": "display_data"
    }
   ],
   "source": [
    "#boxplot\n",
    "features = number\n",
    "plt.figure(figsize=(10,5))\n",
    "for i in range(0, len(features)):\n",
    "  plt.subplot(1, len(features), i+1)\n",
    "  sns.boxplot(y=df_outlierhandling[features[i]], color='green', orient='v')\n",
    "  plt.tight_layout()"
   ]
  },
  {
   "cell_type": "code",
   "execution_count": 45,
   "id": "370b13c0",
   "metadata": {},
   "outputs": [],
   "source": [
    "#menghilangkan outliers pada log_Prior_Purchases menggunakan batas atas dan bawah IQR\n",
    "Q1 = df_outlierhandling['log_Prior_Purchases'].quantile(0.25)\n",
    "Q3 = df_outlierhandling['log_Prior_Purchases'].quantile(0.75)\n",
    "IQR = Q3-Q1\n",
    "low_limit = Q1 - (1.5*IQR)\n",
    "high_limit = Q3 + (1.5*IQR)\n",
    "filtered_entries = ((df_outlierhandling['log_Prior_Purchases'] >= low_limit) \n",
    "                        & (df_outlierhandling['log_Prior_Purchases'] <= high_limit))\n",
    "df_outlierhandling = df_outlierhandling[filtered_entries]"
   ]
  },
  {
   "cell_type": "code",
   "execution_count": 46,
   "id": "09cf294f",
   "metadata": {},
   "outputs": [
    {
     "name": "stdout",
     "output_type": "stream",
     "text": [
      "<class 'pandas.core.frame.DataFrame'>\n",
      "Int64Index: 10386 entries, 0 to 10998\n",
      "Data columns (total 27 columns):\n",
      " #   Column                   Non-Null Count  Dtype  \n",
      "---  ------                   --------------  -----  \n",
      " 0   ID                       10386 non-null  int64  \n",
      " 1   Warehouse_Block          10386 non-null  object \n",
      " 2   Mode_of_Shipment         10386 non-null  object \n",
      " 3   Customer_Care_Calls      10386 non-null  int64  \n",
      " 4   Customer_Rating(num)     10386 non-null  int64  \n",
      " 5   Cost_of_The_Product      10386 non-null  int64  \n",
      " 6   Prior_Purchases          10386 non-null  int64  \n",
      " 7   Product_Importance       10386 non-null  object \n",
      " 8   Gender                   10386 non-null  object \n",
      " 9   Discount_Offered         10386 non-null  int64  \n",
      " 10  Weight_in_gms            10386 non-null  int64  \n",
      " 11  Late_Shipment(num)       10386 non-null  int64  \n",
      " 12  Customer_Rating(cat)     10386 non-null  object \n",
      " 13  Late_Shipment(cat)       10386 non-null  object \n",
      " 14  Gender(num)              10386 non-null  int64  \n",
      " 15  Product_Importance(num)  10386 non-null  int64  \n",
      " 16  Warehouse_Block_A        10386 non-null  uint8  \n",
      " 17  Warehouse_Block_B        10386 non-null  uint8  \n",
      " 18  Warehouse_Block_C        10386 non-null  uint8  \n",
      " 19  Warehouse_Block_D        10386 non-null  uint8  \n",
      " 20  Warehouse_Block_F        10386 non-null  uint8  \n",
      " 21  Mode_of_Shipment_Flight  10386 non-null  uint8  \n",
      " 22  Mode_of_Shipment_Road    10386 non-null  uint8  \n",
      " 23  Mode_of_Shipment_Ship    10386 non-null  uint8  \n",
      " 24  log_Discount_Offered     10386 non-null  float64\n",
      " 25  log_Prior_Purchases      10386 non-null  float64\n",
      " 26  std_Weight_in_gms        10386 non-null  float64\n",
      "dtypes: float64(3), int64(10), object(6), uint8(8)\n",
      "memory usage: 1.7+ MB\n"
     ]
    }
   ],
   "source": [
    "df_outlierhandling.info()"
   ]
  },
  {
   "cell_type": "code",
   "execution_count": 47,
   "id": "06982173",
   "metadata": {},
   "outputs": [
    {
     "data": {
      "image/png": "[encoded data removed]",
      "text/plain": [
       "<Figure size 720x360 with 9 Axes>"
      ]
     },
     "metadata": {
      "needs_background": "light"
     },
     "output_type": "display_data"
    }
   ],
   "source": [
    "#boxplot\n",
    "features = number\n",
    "plt.figure(figsize=(10,5))\n",
    "for i in range(0, len(features)):\n",
    "  plt.subplot(1, len(features), i+1)\n",
    "  sns.boxplot(y=df_outlierhandling[features[i]], color='green', orient='v')\n",
    "  plt.tight_layout()"
   ]
  },
  {
   "cell_type": "code",
   "execution_count": 48,
   "id": "f7262b0f",
   "metadata": {},
   "outputs": [],
   "source": [
    "#menghilangkan outliers pada log_Discount_Offered menggunakan batas atas dan bawah IQR\n",
    "Q11 = df_outlierhandling['log_Discount_Offered'].quantile(0.25)\n",
    "Q31 = df_outlierhandling['log_Discount_Offered'].quantile(0.75)\n",
    "IQR1 = Q31-Q11\n",
    "low_limit1 = Q11 - (1.5*IQR1)\n",
    "high_limit1 = Q31 + (1.5*IQR1)\n",
    "filtered_entries = ((df_outlierhandling['log_Discount_Offered'] >= low_limit) \n",
    "                        & (df_outlierhandling['log_Discount_Offered'] <= high_limit))\n",
    "df_outlierhandling = df_outlierhandling[filtered_entries]"
   ]
  },
  {
   "cell_type": "code",
   "execution_count": 49,
   "id": "54df641e",
   "metadata": {},
   "outputs": [
    {
     "name": "stdout",
     "output_type": "stream",
     "text": [
      "<class 'pandas.core.frame.DataFrame'>\n",
      "Int64Index: 4033 entries, 6 to 10998\n",
      "Data columns (total 27 columns):\n",
      " #   Column                   Non-Null Count  Dtype  \n",
      "---  ------                   --------------  -----  \n",
      " 0   ID                       4033 non-null   int64  \n",
      " 1   Warehouse_Block          4033 non-null   object \n",
      " 2   Mode_of_Shipment         4033 non-null   object \n",
      " 3   Customer_Care_Calls      4033 non-null   int64  \n",
      " 4   Customer_Rating(num)     4033 non-null   int64  \n",
      " 5   Cost_of_The_Product      4033 non-null   int64  \n",
      " 6   Prior_Purchases          4033 non-null   int64  \n",
      " 7   Product_Importance       4033 non-null   object \n",
      " 8   Gender                   4033 non-null   object \n",
      " 9   Discount_Offered         4033 non-null   int64  \n",
      " 10  Weight_in_gms            4033 non-null   int64  \n",
      " 11  Late_Shipment(num)       4033 non-null   int64  \n",
      " 12  Customer_Rating(cat)     4033 non-null   object \n",
      " 13  Late_Shipment(cat)       4033 non-null   object \n",
      " 14  Gender(num)              4033 non-null   int64  \n",
      " 15  Product_Importance(num)  4033 non-null   int64  \n",
      " 16  Warehouse_Block_A        4033 non-null   uint8  \n",
      " 17  Warehouse_Block_B        4033 non-null   uint8  \n",
      " 18  Warehouse_Block_C        4033 non-null   uint8  \n",
      " 19  Warehouse_Block_D        4033 non-null   uint8  \n",
      " 20  Warehouse_Block_F        4033 non-null   uint8  \n",
      " 21  Mode_of_Shipment_Flight  4033 non-null   uint8  \n",
      " 22  Mode_of_Shipment_Road    4033 non-null   uint8  \n",
      " 23  Mode_of_Shipment_Ship    4033 non-null   uint8  \n",
      " 24  log_Discount_Offered     4033 non-null   float64\n",
      " 25  log_Prior_Purchases      4033 non-null   float64\n",
      " 26  std_Weight_in_gms        4033 non-null   float64\n",
      "dtypes: float64(3), int64(10), object(6), uint8(8)\n",
      "memory usage: 661.7+ KB\n"
     ]
    }
   ],
   "source": [
    "df_outlierhandling.info()"
   ]
  },
  {
   "cell_type": "code",
   "execution_count": 50,
   "id": "830be13d",
   "metadata": {},
   "outputs": [
    {
     "data": {
      "image/png": "[encoded data removed]",
      "text/plain": [
       "<Figure size 720x360 with 9 Axes>"
      ]
     },
     "metadata": {
      "needs_background": "light"
     },
     "output_type": "display_data"
    }
   ],
   "source": [
    "#boxplot\n",
    "features = number\n",
    "plt.figure(figsize=(10,5))\n",
    "for i in range(0, len(features)):\n",
    "  plt.subplot(1, len(features), i+1)\n",
    "  sns.boxplot(y=df_outlierhandling[features[i]], color='green', orient='v')\n",
    "  plt.tight_layout()"
   ]
  }
 ],
 "metadata": {
  "kernelspec": {
   "display_name": "Python 3",
   "language": "python",
   "name": "python3"
  },
  "language_info": {
   "codemirror_mode": {
    "name": "ipython",
    "version": 3
   },
   "file_extension": ".py",
   "mimetype": "text/x-python",
   "name": "python",
   "nbconvert_exporter": "python",
   "pygments_lexer": "ipython3",
   "version": "3.8.8"
  }
 },
 "nbformat": 4,
 "nbformat_minor": 5
}
